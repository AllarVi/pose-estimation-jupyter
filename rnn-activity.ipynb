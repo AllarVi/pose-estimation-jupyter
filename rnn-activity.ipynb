{
 "cells": [
  {
   "cell_type": "code",
   "execution_count": 1,
   "metadata": {},
   "outputs": [
    {
     "name": "stderr",
     "output_type": "stream",
     "text": [
      "Using TensorFlow backend.\n"
     ]
    }
   ],
   "source": [
    "import pandas as pd\n",
    "import numpy as np\n",
    "import matplotlib.pyplot as plt\n",
    "\n",
    "\n",
    "import os\n",
    "from glob import glob\n",
    "\n",
    "from path import Path\n",
    "\n",
    "from numpy import mean\n",
    "from numpy import std\n",
    "\n",
    "from keras.models import Sequential\n",
    "from keras.layers import Dense\n",
    "from keras.layers import Flatten\n",
    "from keras.layers import Dropout\n",
    "from keras.layers import LSTM\n",
    "from keras.layers import Bidirectional\n",
    "\n",
    "from keras.optimizers import Adam\n",
    "\n",
    "import random\n",
    "\n",
    "from keras.utils import to_categorical\n"
   ]
  },
  {
   "cell_type": "markdown",
   "metadata": {},
   "source": [
    "## Load Data"
   ]
  },
  {
   "cell_type": "code",
   "execution_count": 2,
   "metadata": {},
   "outputs": [],
   "source": [
    "def filter_active_keypoints(frame_df):\n",
    "    #active_keypoints = [0, 1, 8, 2, 3, 4, 5, 6, 7] # trunk\n",
    "    \n",
    "    active_keypoints = [0, 1, 8, 2, 3, 4, 5, 6, 7, 9, 10, 11, 12, 13, 14]\n",
    "    \n",
    "    #filtered_df  = frame_df[frame_df.index.isin(active_keypoints)]\n",
    "    filtered_df = frame_df\n",
    "\n",
    "    return filtered_df\n",
    "\n",
    "def get_frame_data(filepath):\n",
    "    frame_data = pd.read_csv(filepath)\n",
    "    \n",
    "    x_data = filter_active_keypoints(frame_data.iloc[:, 0])\n",
    "    y_data = filter_active_keypoints(frame_data.iloc[:, 1])\n",
    "    \n",
    "    #print(f\"x_data shape: {x_data.shape}\")\n",
    "    #print(f\"y_data shape: {y_data.shape}\")\n",
    "        \n",
    "    h_stacked = np.hstack((x_data, y_data))\n",
    "    #h_stacked = np.hstack((y_data))\n",
    "    \n",
    "    return h_stacked\n",
    "\n",
    "def get_frame_file_path(frame_file_path_template, frame_idx):\n",
    "    frame_file_path = frame_file_path_template.replace(\"[frame_idx]\", str(frame_idx))\n",
    "    return frame_file_path\n",
    "\n",
    "def get_label(sample_dir_name):\n",
    "    return 0 if sample_dir_name[0] == 'b' else 1\n",
    "\n",
    "def get_y_labels(sample_dir_names):\n",
    "    return [get_label(l) for l in sample_dir_names]\n",
    "\n",
    "def get_frames_count(root_path, sample_dir_name):\n",
    "    return len([Path(f).abspath() for f in glob(f\"{root_path}/{sample_dir_name}\" + '/*')])\n",
    "\n",
    "def get_frames(root_path, sample_dir_name):\n",
    "    frames = []\n",
    "    for frame_idx in range(0, get_frames_count(root_path, sample_dir_name)):\n",
    "        frame_file_path_template = f\"{root_path}/{sample_dir_name}/{sample_dir_name}.mov-[frame_idx]-0.csv\"\n",
    "        frame_file_path = get_frame_file_path(frame_file_path_template, frame_idx)\n",
    "        frame_data = get_frame_data(frame_file_path)\n",
    "        \n",
    "        frames.append(frame_data)\n",
    "        \n",
    "    return np.dstack(frames)\n",
    "\n",
    "def get_sample_idx_by_frames_count(frames_count, samples):\n",
    "    sample_idx = 0\n",
    "    \n",
    "    for sample in samples:\n",
    "        if len(sample) == frames_count:\n",
    "            return sample_idx\n",
    "        sample_idx = sample_idx + 1\n",
    "\n",
    "def get_sample_name_by_frames_count(frames_count, samples, sample_dir_names):\n",
    "    sample_idx = get_sample_idx_by_frames_count(frames_count, samples)\n",
    "    return sample_dir_names[sample_idx]"
   ]
  },
  {
   "cell_type": "code",
   "execution_count": 3,
   "metadata": {},
   "outputs": [],
   "source": [
    "root_path = \"/Users/allarviinamae/EduWorkspace/openpose-jupyter-data-exploration/centered-keypoints\"\n",
    "\n",
    "sample_dir_names = [n for n in os.listdir(root_path) if os.path.isdir(f\"{root_path}/{n}\")]\n",
    "\n",
    "# ['backflip-40-margus',\n",
    "# 'flack-31-rasmus',\n",
    "# 'flack-19-rasmus',"
   ]
  },
  {
   "cell_type": "code",
   "execution_count": 4,
   "metadata": {},
   "outputs": [],
   "source": [
    "y_labels = get_y_labels(sample_dir_names) # classifier labels, where 0 = backflip and 1 = flack\n",
    "\n",
    "# [0,\n",
    "# 1,\n",
    "# 1,"
   ]
  },
  {
   "cell_type": "code",
   "execution_count": 5,
   "metadata": {},
   "outputs": [],
   "source": [
    "samples = []\n",
    "for sample_dir_name in sample_dir_names:\n",
    "    frames = get_frames(root_path, sample_dir_name)\n",
    "    squeezed = np.squeeze(frames)\n",
    "    axes_swapped = np.swapaxes(squeezed, 0, 1)\n",
    "    samples.append(axes_swapped)"
   ]
  },
  {
   "cell_type": "code",
   "execution_count": 6,
   "metadata": {},
   "outputs": [
    {
     "name": "stdout",
     "output_type": "stream",
     "text": [
      "Shortest samples 77, longest sample 110\n",
      "113 (96, 50) 113\n"
     ]
    }
   ],
   "source": [
    "shortest_sample = min([len(sample) for sample in samples])\n",
    "longest_sample = max([len(sample) for sample in samples])\n",
    "\n",
    "print(f\"Shortest samples {shortest_sample}, longest sample {longest_sample}\")\n",
    "\n",
    "print(len(samples), samples[1].shape, len(y_labels))"
   ]
  },
  {
   "cell_type": "code",
   "execution_count": 7,
   "metadata": {},
   "outputs": [
    {
     "data": {
      "text/plain": [
       "Text(0, 0.5, 'Samples')"
      ]
     },
     "execution_count": 7,
     "metadata": {},
     "output_type": "execute_result"
    },
    {
     "data": {
      "image/png": "[encoded data removed]",
      "text/plain": [
       "<Figure size 432x288 with 1 Axes>"
      ]
     },
     "metadata": {
      "needs_background": "light"
     },
     "output_type": "display_data"
    }
   ],
   "source": [
    "plt.hist([len(sample) for sample in samples], color = 'blue', edgecolor = 'black', bins = int(180/5))\n",
    "\n",
    "# Add labels\n",
    "plt.title('Histogram of Frames per Sample')\n",
    "plt.xlabel('Frames')\n",
    "plt.ylabel('Samples')"
   ]
  },
  {
   "cell_type": "code",
   "execution_count": 8,
   "metadata": {},
   "outputs": [
    {
     "data": {
      "text/plain": [
       "'backflip-50-joosep'"
      ]
     },
     "execution_count": 8,
     "metadata": {},
     "output_type": "execute_result"
    }
   ],
   "source": [
    "get_sample_name_by_frames_count(110, samples, sample_dir_names)"
   ]
  },
  {
   "cell_type": "markdown",
   "metadata": {},
   "source": [
    "## Fit and Evaluate Model"
   ]
  },
  {
   "cell_type": "code",
   "execution_count": 9,
   "metadata": {},
   "outputs": [
    {
     "name": "stdout",
     "output_type": "stream",
     "text": [
      "All labels shape (113, 2)\n",
      "y_label_squeezed categorical: [1. 0.]\n",
      "y_label_squeezed categorical: [0. 1.]\n",
      "y_label_squeezed categorical: [0. 1.]\n",
      "y_label_squeezed categorical: [0. 1.]\n",
      "y_label_squeezed categorical: [1. 0.]\n"
     ]
    }
   ],
   "source": [
    "y_labels_stacked = np.dstack(y_labels)\n",
    "y_labels_categorical = to_categorical(y_labels_stacked) \n",
    "y_labels_squeezed = np.squeeze(y_labels_categorical)\n",
    "print(f\"All labels shape {y_labels_squeezed.shape}\")\n",
    "\n",
    "for idx, y_label_squeezed in enumerate(y_labels_squeezed):\n",
    "    if idx == 5:\n",
    "        break\n",
    "    print(f\"y_label_squeezed categorical: {y_label_squeezed}\")"
   ]
  },
  {
   "cell_type": "code",
   "execution_count": 10,
   "metadata": {},
   "outputs": [
    {
     "name": "stdout",
     "output_type": "stream",
     "text": [
      "X_train len 90, y_train len 90\n",
      "X_test len 23, y_test len 23\n"
     ]
    }
   ],
   "source": [
    "from sklearn.model_selection import train_test_split\n",
    "\n",
    "X_train, X_test, y_train, y_test = train_test_split(samples, y_labels_squeezed, test_size=0.2)\n",
    "\n",
    "print(f\"X_train len {len(X_train)}, y_train len {len(y_train)}\")\n",
    "print(f\"X_test len {len(X_test)}, y_test len {len(y_test)}\")"
   ]
  },
  {
   "cell_type": "code",
   "execution_count": 11,
   "metadata": {},
   "outputs": [],
   "source": [
    "def train_generator(samples, y_labels):\n",
    "    while True:\n",
    "        random.shuffle(samples)\n",
    "\n",
    "        for idx, sample in enumerate(samples):\n",
    "            (frames, features) = sample.shape\n",
    "        \n",
    "            sequence_length = frames\n",
    "            x_train = sample\n",
    "            y_train = y_labels[idx]\n",
    "        \n",
    "            x_train = x_train.reshape(1, frames, features)\n",
    "            y_train = y_train.reshape(1, 2)            \n",
    "        \n",
    "            yield x_train, y_train"
   ]
  },
  {
   "cell_type": "code",
   "execution_count": 12,
   "metadata": {},
   "outputs": [],
   "source": [
    "def evaluate_model(trainX, trainy, testX, testy):\n",
    "    verbose, epochs = 1, 10\n",
    "    \n",
    "    n_features = 50\n",
    "    n_outputs = 2\n",
    "    n_steps_per_epoch = len(trainX)\n",
    "    n_steps_per_epoch = 360\n",
    "    \n",
    "    lstm_units = 100\n",
    "    \n",
    "    optimizer = Adam(lr=0.001)\n",
    "        \n",
    "    model = Sequential()\n",
    "    model.add(LSTM(lstm_units, input_shape=(None, n_features)))\n",
    "    model.add(Dropout(0.5))\n",
    "    model.add(Dense(lstm_units, activation='relu'))\n",
    "    model.add(Dense(n_outputs, activation='softmax'))\n",
    "    model.compile(loss='categorical_crossentropy',\n",
    "                  optimizer=optimizer,\n",
    "                  metrics=['accuracy'])\n",
    "    \n",
    "    print(model.summary())\n",
    "    # fit network\n",
    "    model.fit_generator(train_generator(trainX, trainy), steps_per_epoch=n_steps_per_epoch, epochs=epochs, verbose=verbose)\n",
    "    # evaluate model\n",
    "    _, accuracy = model.evaluate_generator(train_generator(testX, testy), steps=len(testX), verbose=0)\n",
    "    \n",
    "    return accuracy"
   ]
  },
  {
   "cell_type": "code",
   "execution_count": 13,
   "metadata": {},
   "outputs": [],
   "source": [
    "def summarize_results(scores):\n",
    "    print(scores)\n",
    "    m, s = mean(scores), std(scores)\n",
    "    print('Accuracy: %.3f%% (+/-%.3f)' % (m, s))"
   ]
  },
  {
   "cell_type": "code",
   "execution_count": 14,
   "metadata": {},
   "outputs": [],
   "source": [
    "# run an experiment\n",
    "def run_experiment(repeats=5):\n",
    "    # repeat experiment\n",
    "    scores = list()\n",
    "    for r in range(repeats):\n",
    "        score = evaluate_model(X_train, y_train, X_test, y_test)\n",
    "        score = score * 100.0\n",
    "        print('>#%d validation accuracy: %.3f' % (r+1, score))\n",
    "        scores.append(score)\n",
    "    # summarize results\n",
    "    summarize_results(scores)"
   ]
  },
  {
   "cell_type": "code",
   "execution_count": null,
   "metadata": {},
   "outputs": [
    {
     "name": "stdout",
     "output_type": "stream",
     "text": [
      "Model: \"sequential_1\"\n",
      "_________________________________________________________________\n",
      "Layer (type)                 Output Shape              Param #   \n",
      "=================================================================\n",
      "lstm_1 (LSTM)                (None, 100)               60400     \n",
      "_________________________________________________________________\n",
      "dropout_1 (Dropout)          (None, 100)               0         \n",
      "_________________________________________________________________\n",
      "dense_1 (Dense)              (None, 100)               10100     \n",
      "_________________________________________________________________\n",
      "dense_2 (Dense)              (None, 2)                 202       \n",
      "=================================================================\n",
      "Total params: 70,702\n",
      "Trainable params: 70,702\n",
      "Non-trainable params: 0\n",
      "_________________________________________________________________\n",
      "None\n",
      "Epoch 1/10\n",
      "360/360 [==============================] - 16s 46ms/step - loss: 0.7807 - accuracy: 0.4833\n",
      "Epoch 2/10\n",
      "360/360 [==============================] - 16s 44ms/step - loss: 0.7677 - accuracy: 0.4806\n",
      "Epoch 3/10\n",
      "360/360 [==============================] - 18s 50ms/step - loss: 0.7361 - accuracy: 0.5139\n",
      "Epoch 4/10\n",
      "360/360 [==============================] - 16s 46ms/step - loss: 0.7309 - accuracy: 0.4667\n",
      "Epoch 5/10\n",
      "360/360 [==============================] - 17s 48ms/step - loss: 0.7391 - accuracy: 0.4500\n",
      "Epoch 6/10\n",
      "360/360 [==============================] - 19s 52ms/step - loss: 0.7417 - accuracy: 0.4000\n",
      "Epoch 7/10\n",
      "360/360 [==============================] - 21s 60ms/step - loss: 0.7005 - accuracy: 0.5194\n",
      "Epoch 8/10\n",
      "360/360 [==============================] - 20s 56ms/step - loss: 0.7234 - accuracy: 0.4639\n",
      "Epoch 9/10\n",
      " 88/360 [======>.......................] - ETA: 14s - loss: 0.7054 - accuracy: 0.4205"
     ]
    }
   ],
   "source": [
    "run_experiment()"
   ]
  },
  {
   "cell_type": "code",
   "execution_count": null,
   "metadata": {},
   "outputs": [],
   "source": []
  }
 ],
 "metadata": {
  "kernelspec": {
   "display_name": "openpose-jupyter-data-exploration",
   "language": "python",
   "name": "openpose-jupyter-data-exploration"
  },
  "language_info": {
   "codemirror_mode": {
    "name": "ipython",
    "version": 3
   },
   "file_extension": ".py",
   "mimetype": "text/x-python",
   "name": "python",
   "nbconvert_exporter": "python",
   "pygments_lexer": "ipython3",
   "version": "3.7.2"
  }
 },
 "nbformat": 4,
 "nbformat_minor": 2
}
