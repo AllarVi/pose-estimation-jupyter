{
 "cells": [
  {
   "cell_type": "markdown",
   "metadata": {},
   "source": [
    "# OpenPose Jupyter Data Exploration\n",
    "## Imports and dependencies"
   ]
  },
  {
   "cell_type": "code",
   "execution_count": null,
   "metadata": {},
   "outputs": [],
   "source": [
    "import pandas as pd\n",
    "from pandas import DataFrame\n",
    "\n",
    "import plotly.express as px\n",
    "import plotly.graph_objects as go\n",
    "from glob import glob\n",
    "\n",
    "from path import Path"
   ]
  },
  {
   "cell_type": "markdown",
   "metadata": {},
   "source": [
    "Mandatory input:\n",
    "* frame data path\n",
    "* frame files count\n",
    "* persons in frame count"
   ]
  },
  {
   "cell_type": "markdown",
   "metadata": {},
   "source": [
    "## Import data"
   ]
  },
  {
   "cell_type": "code",
   "execution_count": 2,
   "metadata": {},
   "outputs": [],
   "source": [
    "def get_frame_data(frame_file):\n",
    "    try:\n",
    "        frame_data = pd.read_csv(frame_file)\n",
    "        \n",
    "        return frame_data\n",
    "    except FileNotFoundError:\n",
    "        print(f\"Frame data not found for frame {frame_idx}\")  \n",
    "        return pd.DataFrame()"
   ]
  },
  {
   "cell_type": "code",
   "execution_count": 3,
   "metadata": {},
   "outputs": [],
   "source": [
    "def get_person_files(input_files, frame_data_path):\n",
    "    all_persons_files = {}\n",
    "    max_persons = 10\n",
    "    \n",
    "    for input_file_idx in range(len(input_files)):\n",
    "        for person_idx in range(max_persons):\n",
    "            expected_file = frame_data_path.replace(\"[frame_idx]\", str(input_file_idx))\n",
    "            expected_file = expected_file.replace(\"[person_idx]\", str(person_idx))\n",
    "            \n",
    "            if expected_file in input_files:\n",
    "                person_files = []\n",
    "                \n",
    "                if person_idx in all_persons_files:\n",
    "                    person_files = all_persons_files[person_idx]\n",
    "                \n",
    "                person_files.append(expected_file)\n",
    "                \n",
    "                all_persons_files[person_idx] = person_files\n",
    "                \n",
    "    persons_indeces = all_persons_files.keys()\n",
    "    print(f\"Found {len(persons_indeces)} persons\")\n",
    "    for person_idx in persons_indeces:\n",
    "        print(f\"Person {person_idx} has {len(all_persons_files[person_idx])} frame files\")\n",
    "    \n",
    "    return all_persons_files      "
   ]
  },
  {
   "cell_type": "code",
   "execution_count": 4,
   "metadata": {},
   "outputs": [
    {
     "name": "stdout",
     "output_type": "stream",
     "text": [
      "Frame data path=/Users/allarviinamae/EduWorkspace/master-thesis-training-videos/output/backflip-1-allar/backflip-1-allar.mov-[frame_idx]-[person_idx].csv\n",
      "Root path includes 87 files\n",
      "Found 3 persons\n",
      "Person 0 has 83 frame files\n",
      "Person 1 has 3 frame files\n",
      "Person 2 has 1 frame files\n",
      "Imported data for 83 frames\n"
     ]
    }
   ],
   "source": [
    "frames_root_path = \"/Users/allarviinamae/EduWorkspace/master-thesis-training-videos/output/backflip-1-allar\"\n",
    "frame_data_path = f\"{frames_root_path}/backflip-1-allar.mov-[frame_idx]-[person_idx].csv\"\n",
    "\n",
    "print(f\"Frame data path={frame_data_path}\")\n",
    "        \n",
    "input_files = [Path(f).abspath() for f in glob(frames_root_path + '/*')]\n",
    "\n",
    "input_files_count = len(input_files)\n",
    "print(f\"Root path includes {input_files_count} files\")\n",
    "\n",
    "all_persons_files = get_person_files(input_files, frame_data_path)\n",
    "\n",
    "# Collecting frame data for the person with index 0\n",
    "person_idx_to_collect = 0\n",
    "person_frame_files = all_persons_files[person_idx_to_collect]\n",
    "\n",
    "frame_data = [get_frame_data(frame_file) for frame_file in person_frame_files]\n",
    " \n",
    "frame_count = len(frame_data)\n",
    "print(f\"Imported data for {frame_count} frames\")"
   ]
  },
  {
   "cell_type": "markdown",
   "metadata": {},
   "source": [
    "## Define some functions"
   ]
  },
  {
   "cell_type": "code",
   "execution_count": 5,
   "metadata": {},
   "outputs": [],
   "source": [
    "def get_min_recognized_coord(df):\n",
    "    min_recognized = 9999\n",
    "    \n",
    "    for coord in df.iloc[:, 0]:\n",
    "        if coord < min_recognized and coord != 0:\n",
    "            min_recognized = coord\n",
    "            \n",
    "    return min_recognized\n",
    "\n",
    "def get_xmin_xmax(df):\n",
    "    x_min = get_min_recognized_coord(df)\n",
    "    x_max = max(df.iloc[:, 0])\n",
    "    \n",
    "    return (x_min, x_max)\n",
    "\n",
    "def get_minmax_avg(minmax):\n",
    "    return (minmax[0] + minmax[1]) / 2"
   ]
  },
  {
   "cell_type": "code",
   "execution_count": 35,
   "metadata": {},
   "outputs": [],
   "source": [
    "def get_body_part(body_connection, df_orig):\n",
    "    frm = body_connection[0]\n",
    "    to = body_connection[1]\n",
    "    \n",
    "    df = df_orig.copy()\n",
    "    # df['y'] *= -1\n",
    "    \n",
    "    if df.iloc[to, 0] == 0 or df.iloc[to, 1] == 0:\n",
    "        return\n",
    "    if df.iloc[frm, 0] == 0 or df.iloc[frm, 1] == 0:\n",
    "        return\n",
    "    \n",
    "    x0 = df.iloc[frm, 0]\n",
    "    y0 = df.iloc[frm, 1]\n",
    "    \n",
    "    x1 = df.iloc[to, 0]\n",
    "    y1 = df.iloc[to, 1]\n",
    "    \n",
    "    return go.Scatter(x=[x0, x1], y=[y0, y1], name=body_connection[2])\n",
    "\n",
    "def get_all_body_parts(df):\n",
    "    body_connections = [(0, 1, 'Neck'),\n",
    "                        (15, 0, 'REye'),\n",
    "                        (16, 0, 'LEye'),\n",
    "                        (1, 8, 'Spine'),\n",
    "                        (1, 2, 'RShoulder'),\n",
    "                        (2, 3, 'RArm'),\n",
    "                        (3, 4, 'RForearm'),\n",
    "                        (1, 5, 'LShoulder'),\n",
    "                        (5, 6, 'LArm'),\n",
    "                        (6, 7, 'LForearm'),\n",
    "                        (8, 9, 'RHip'),\n",
    "                        (9, 10, 'RThigh'),\n",
    "                        (10, 11, 'RCalf'),\n",
    "                        (11, 22, 'RFoot'),\n",
    "                        (8, 12, 'LHip'),\n",
    "                        (12, 13, 'LThigh'),\n",
    "                        (13, 14, 'LCalf'),\n",
    "                        (14, 19, 'LFoot')]\n",
    "    \n",
    "    return [get_body_part(body_connection, df) for body_connection in body_connections if get_body_part(body_connection, df) != None]  \n",
    "\n",
    "def get_frames(df):\n",
    "    return [go.Frame(data=get_all_body_parts(df[i])) for i in range(1, frame_count)]\n",
    "\n",
    "def add_body_part(frm, to, df, fig):\n",
    "    if df.iloc[to, 0] == 0 or df.iloc[to, 1] == 0:\n",
    "        return\n",
    "    if df.iloc[frm, 0] == 0 or df.iloc[frm, 1] == 0:\n",
    "        return\n",
    "    \n",
    "    fig.add_shape(\n",
    "        go.layout.Shape(\n",
    "            type=\"line\",\n",
    "            x0=df.iloc[frm, 0],\n",
    "            y0=df.iloc[frm, 1],\n",
    "            x1=df.iloc[to, 0],\n",
    "            y1=df.iloc[to, 1],\n",
    "            line=dict(\n",
    "                color=\"RoyalBlue\",\n",
    "            ),\n",
    "        ))\n",
    "    \n",
    "# Body Parts\n",
    "def add_body_parts(df_orig, fig):\n",
    "    df = df_orig.copy()\n",
    "    #df['y'] *= -1\n",
    "    \n",
    "    add_body_part(0, 1, df, fig)\n",
    "    add_body_part(1, 8, df, fig)\n",
    "\n",
    "    add_body_part(1, 2, df, fig)\n",
    "    add_body_part(2, 3, df, fig)\n",
    "    add_body_part(3, 4, df, fig)\n",
    "\n",
    "    add_body_part(1, 5, df, fig)\n",
    "    add_body_part(5, 6, df, fig)\n",
    "    add_body_part(6, 7, df, fig)\n",
    "\n",
    "    add_body_part(8, 9, df, fig)\n",
    "    add_body_part(9, 10, df, fig)\n",
    "    add_body_part(10, 11, df, fig)\n",
    "\n",
    "    add_body_part(8, 12, df, fig)\n",
    "    add_body_part(12, 13, df, fig)\n",
    "    add_body_part(13, 14, df, fig)\n",
    "    \n",
    "def add_all_body_parts():\n",
    "    skips = 5\n",
    "    skip = skips\n",
    "    \n",
    "    for i, frame in enumerate(frame_data):\n",
    "        if skip > 0 and i != 1 and i != 60:\n",
    "            skip = skip - 1\n",
    "            continue\n",
    "        else:\n",
    "            skip = skips\n",
    "    \n",
    "        print(f\"Adding frame {i}\")\n",
    "        \n",
    "        add_body_parts(frame, fig)"
   ]
  },
  {
   "cell_type": "code",
   "execution_count": 44,
   "metadata": {},
   "outputs": [
    {
     "data": {
      "application/vnd.plotly.v1+json": {
       "config": {
        "plotlyServerURL": "https://plot.ly"
       },
       "data": [],
       "layout": {
        "shapes": [
         {
          "line": {
           "color": "RoyalBlue"
          },
          "type": "line",
          "x0": 1007.168701171875,
          "x1": 1048.4222412109377,
          "y0": 383.1523742675781,
          "y1": 439.1155700683594
         },
         {
          "line": {
           "color": "RoyalBlue"
          },
          "type": "line",
          "x0": 1048.4222412109377,
          "x1": 1077.8013916015623,
          "y0": 439.1155700683594,
          "y1": 603.8176879882814
         },
         {
          "line": {
           "color": "RoyalBlue"
          },
          "type": "line",
          "x0": 1048.4222412109377,
          "x1": 1012.9616088867188,
          "y0": 439.1155700683594,
          "y1": 447.88577270507807
         },
         {
          "line": {
           "color": "RoyalBlue"
          },
          "type": "line",
          "x0": 1012.9616088867188,
          "x1": 971.6794433593751,
          "y0": 447.88577270507807,
          "y1": 521.4581298828125
         },
         {
          "line": {
           "color": "RoyalBlue"
          },
          "type": "line",
          "x0": 971.6794433593751,
          "x1": 930.4712524414062,
          "y0": 521.4581298828125,
          "y1": 600.8497924804688
         },
         {
          "line": {
           "color": "RoyalBlue"
          },
          "type": "line",
          "x0": 1048.4222412109377,
          "x1": 1092.361083984375,
          "y0": 439.1155700683594,
          "y1": 436.1707153320313
         },
         {
          "line": {
           "color": "RoyalBlue"
          },
          "type": "line",
          "x0": 1092.361083984375,
          "x1": 1080.7075195312498,
          "y0": 436.1707153320313,
          "y1": 527.2837524414064
         },
         {
          "line": {
           "color": "RoyalBlue"
          },
          "type": "line",
          "x0": 1080.7075195312498,
          "x1": 1039.520751953125,
          "y0": 527.2837524414064,
          "y1": 618.630126953125
         },
         {
          "line": {
           "color": "RoyalBlue"
          },
          "type": "line",
          "x0": 1077.8013916015623,
          "x1": 1051.2406005859377,
          "y0": 603.8176879882814,
          "y1": 603.8235473632812
         },
         {
          "line": {
           "color": "RoyalBlue"
          },
          "type": "line",
          "x0": 1051.2406005859377,
          "x1": 1048.2684326171875,
          "y0": 603.8235473632812,
          "y1": 733.4186401367188
         },
         {
          "line": {
           "color": "RoyalBlue"
          },
          "type": "line",
          "x0": 1048.2684326171875,
          "x1": 1065.8580322265623,
          "y0": 733.4186401367188,
          "y1": 874.6739501953125
         },
         {
          "line": {
           "color": "RoyalBlue"
          },
          "type": "line",
          "x0": 1077.8013916015623,
          "x1": 1110.1058349609377,
          "y0": 603.8176879882814,
          "y1": 603.82080078125
         },
         {
          "line": {
           "color": "RoyalBlue"
          },
          "type": "line",
          "x0": 1110.1058349609377,
          "x1": 1092.4520263671875,
          "y0": 603.82080078125,
          "y1": 739.34912109375
         },
         {
          "line": {
           "color": "RoyalBlue"
          },
          "type": "line",
          "x0": 1092.4520263671875,
          "x1": 1095.4427490234377,
          "y0": 739.34912109375,
          "y1": 886.43017578125
         }
        ],
        "template": {
         "data": {
          "bar": [
           {
            "error_x": {
             "color": "#2a3f5f"
            },
            "error_y": {
             "color": "#2a3f5f"
            },
            "marker": {
             "line": {
              "color": "#E5ECF6",
              "width": 0.5
             }
            },
            "type": "bar"
           }
          ],
          "barpolar": [
           {
            "marker": {
             "line": {
              "color": "#E5ECF6",
              "width": 0.5
             }
            },
            "type": "barpolar"
           }
          ],
          "carpet": [
           {
            "aaxis": {
             "endlinecolor": "#2a3f5f",
             "gridcolor": "white",
             "linecolor": "white",
             "minorgridcolor": "white",
             "startlinecolor": "#2a3f5f"
            },
            "baxis": {
             "endlinecolor": "#2a3f5f",
             "gridcolor": "white",
             "linecolor": "white",
             "minorgridcolor": "white",
             "startlinecolor": "#2a3f5f"
            },
            "type": "carpet"
           }
          ],
          "choropleth": [
           {
            "colorbar": {
             "outlinewidth": 0,
             "ticks": ""
            },
            "type": "choropleth"
           }
          ],
          "contour": [
           {
            "colorbar": {
             "outlinewidth": 0,
             "ticks": ""
            },
            "colorscale": [
             [
              0,
              "#0d0887"
             ],
             [
              0.1111111111111111,
              "#46039f"
             ],
             [
              0.2222222222222222,
              "#7201a8"
             ],
             [
              0.3333333333333333,
              "#9c179e"
             ],
             [
              0.4444444444444444,
              "#bd3786"
             ],
             [
              0.5555555555555556,
              "#d8576b"
             ],
             [
              0.6666666666666666,
              "#ed7953"
             ],
             [
              0.7777777777777778,
              "#fb9f3a"
             ],
             [
              0.8888888888888888,
              "#fdca26"
             ],
             [
              1,
              "#f0f921"
             ]
            ],
            "type": "contour"
           }
          ],
          "contourcarpet": [
           {
            "colorbar": {
             "outlinewidth": 0,
             "ticks": ""
            },
            "type": "contourcarpet"
           }
          ],
          "heatmap": [
           {
            "colorbar": {
             "outlinewidth": 0,
             "ticks": ""
            },
            "colorscale": [
             [
              0,
              "#0d0887"
             ],
             [
              0.1111111111111111,
              "#46039f"
             ],
             [
              0.2222222222222222,
              "#7201a8"
             ],
             [
              0.3333333333333333,
              "#9c179e"
             ],
             [
              0.4444444444444444,
              "#bd3786"
             ],
             [
              0.5555555555555556,
              "#d8576b"
             ],
             [
              0.6666666666666666,
              "#ed7953"
             ],
             [
              0.7777777777777778,
              "#fb9f3a"
             ],
             [
              0.8888888888888888,
              "#fdca26"
             ],
             [
              1,
              "#f0f921"
             ]
            ],
            "type": "heatmap"
           }
          ],
          "heatmapgl": [
           {
            "colorbar": {
             "outlinewidth": 0,
             "ticks": ""
            },
            "colorscale": [
             [
              0,
              "#0d0887"
             ],
             [
              0.1111111111111111,
              "#46039f"
             ],
             [
              0.2222222222222222,
              "#7201a8"
             ],
             [
              0.3333333333333333,
              "#9c179e"
             ],
             [
              0.4444444444444444,
              "#bd3786"
             ],
             [
              0.5555555555555556,
              "#d8576b"
             ],
             [
              0.6666666666666666,
              "#ed7953"
             ],
             [
              0.7777777777777778,
              "#fb9f3a"
             ],
             [
              0.8888888888888888,
              "#fdca26"
             ],
             [
              1,
              "#f0f921"
             ]
            ],
            "type": "heatmapgl"
           }
          ],
          "histogram": [
           {
            "marker": {
             "colorbar": {
              "outlinewidth": 0,
              "ticks": ""
             }
            },
            "type": "histogram"
           }
          ],
          "histogram2d": [
           {
            "colorbar": {
             "outlinewidth": 0,
             "ticks": ""
            },
            "colorscale": [
             [
              0,
              "#0d0887"
             ],
             [
              0.1111111111111111,
              "#46039f"
             ],
             [
              0.2222222222222222,
              "#7201a8"
             ],
             [
              0.3333333333333333,
              "#9c179e"
             ],
             [
              0.4444444444444444,
              "#bd3786"
             ],
             [
              0.5555555555555556,
              "#d8576b"
             ],
             [
              0.6666666666666666,
              "#ed7953"
             ],
             [
              0.7777777777777778,
              "#fb9f3a"
             ],
             [
              0.8888888888888888,
              "#fdca26"
             ],
             [
              1,
              "#f0f921"
             ]
            ],
            "type": "histogram2d"
           }
          ],
          "histogram2dcontour": [
           {
            "colorbar": {
             "outlinewidth": 0,
             "ticks": ""
            },
            "colorscale": [
             [
              0,
              "#0d0887"
             ],
             [
              0.1111111111111111,
              "#46039f"
             ],
             [
              0.2222222222222222,
              "#7201a8"
             ],
             [
              0.3333333333333333,
              "#9c179e"
             ],
             [
              0.4444444444444444,
              "#bd3786"
             ],
             [
              0.5555555555555556,
              "#d8576b"
             ],
             [
              0.6666666666666666,
              "#ed7953"
             ],
             [
              0.7777777777777778,
              "#fb9f3a"
             ],
             [
              0.8888888888888888,
              "#fdca26"
             ],
             [
              1,
              "#f0f921"
             ]
            ],
            "type": "histogram2dcontour"
           }
          ],
          "mesh3d": [
           {
            "colorbar": {
             "outlinewidth": 0,
             "ticks": ""
            },
            "type": "mesh3d"
           }
          ],
          "parcoords": [
           {
            "line": {
             "colorbar": {
              "outlinewidth": 0,
              "ticks": ""
             }
            },
            "type": "parcoords"
           }
          ],
          "pie": [
           {
            "automargin": true,
            "type": "pie"
           }
          ],
          "scatter": [
           {
            "marker": {
             "colorbar": {
              "outlinewidth": 0,
              "ticks": ""
             }
            },
            "type": "scatter"
           }
          ],
          "scatter3d": [
           {
            "line": {
             "colorbar": {
              "outlinewidth": 0,
              "ticks": ""
             }
            },
            "marker": {
             "colorbar": {
              "outlinewidth": 0,
              "ticks": ""
             }
            },
            "type": "scatter3d"
           }
          ],
          "scattercarpet": [
           {
            "marker": {
             "colorbar": {
              "outlinewidth": 0,
              "ticks": ""
             }
            },
            "type": "scattercarpet"
           }
          ],
          "scattergeo": [
           {
            "marker": {
             "colorbar": {
              "outlinewidth": 0,
              "ticks": ""
             }
            },
            "type": "scattergeo"
           }
          ],
          "scattergl": [
           {
            "marker": {
             "colorbar": {
              "outlinewidth": 0,
              "ticks": ""
             }
            },
            "type": "scattergl"
           }
          ],
          "scattermapbox": [
           {
            "marker": {
             "colorbar": {
              "outlinewidth": 0,
              "ticks": ""
             }
            },
            "type": "scattermapbox"
           }
          ],
          "scatterpolar": [
           {
            "marker": {
             "colorbar": {
              "outlinewidth": 0,
              "ticks": ""
             }
            },
            "type": "scatterpolar"
           }
          ],
          "scatterpolargl": [
           {
            "marker": {
             "colorbar": {
              "outlinewidth": 0,
              "ticks": ""
             }
            },
            "type": "scatterpolargl"
           }
          ],
          "scatterternary": [
           {
            "marker": {
             "colorbar": {
              "outlinewidth": 0,
              "ticks": ""
             }
            },
            "type": "scatterternary"
           }
          ],
          "surface": [
           {
            "colorbar": {
             "outlinewidth": 0,
             "ticks": ""
            },
            "colorscale": [
             [
              0,
              "#0d0887"
             ],
             [
              0.1111111111111111,
              "#46039f"
             ],
             [
              0.2222222222222222,
              "#7201a8"
             ],
             [
              0.3333333333333333,
              "#9c179e"
             ],
             [
              0.4444444444444444,
              "#bd3786"
             ],
             [
              0.5555555555555556,
              "#d8576b"
             ],
             [
              0.6666666666666666,
              "#ed7953"
             ],
             [
              0.7777777777777778,
              "#fb9f3a"
             ],
             [
              0.8888888888888888,
              "#fdca26"
             ],
             [
              1,
              "#f0f921"
             ]
            ],
            "type": "surface"
           }
          ],
          "table": [
           {
            "cells": {
             "fill": {
              "color": "#EBF0F8"
             },
             "line": {
              "color": "white"
             }
            },
            "header": {
             "fill": {
              "color": "#C8D4E3"
             },
             "line": {
              "color": "white"
             }
            },
            "type": "table"
           }
          ]
         },
         "layout": {
          "annotationdefaults": {
           "arrowcolor": "#2a3f5f",
           "arrowhead": 0,
           "arrowwidth": 1
          },
          "coloraxis": {
           "colorbar": {
            "outlinewidth": 0,
            "ticks": ""
           }
          },
          "colorscale": {
           "diverging": [
            [
             0,
             "#8e0152"
            ],
            [
             0.1,
             "#c51b7d"
            ],
            [
             0.2,
             "#de77ae"
            ],
            [
             0.3,
             "#f1b6da"
            ],
            [
             0.4,
             "#fde0ef"
            ],
            [
             0.5,
             "#f7f7f7"
            ],
            [
             0.6,
             "#e6f5d0"
            ],
            [
             0.7,
             "#b8e186"
            ],
            [
             0.8,
             "#7fbc41"
            ],
            [
             0.9,
             "#4d9221"
            ],
            [
             1,
             "#276419"
            ]
           ],
           "sequential": [
            [
             0,
             "#0d0887"
            ],
            [
             0.1111111111111111,
             "#46039f"
            ],
            [
             0.2222222222222222,
             "#7201a8"
            ],
            [
             0.3333333333333333,
             "#9c179e"
            ],
            [
             0.4444444444444444,
             "#bd3786"
            ],
            [
             0.5555555555555556,
             "#d8576b"
            ],
            [
             0.6666666666666666,
             "#ed7953"
            ],
            [
             0.7777777777777778,
             "#fb9f3a"
            ],
            [
             0.8888888888888888,
             "#fdca26"
            ],
            [
             1,
             "#f0f921"
            ]
           ],
           "sequentialminus": [
            [
             0,
             "#0d0887"
            ],
            [
             0.1111111111111111,
             "#46039f"
            ],
            [
             0.2222222222222222,
             "#7201a8"
            ],
            [
             0.3333333333333333,
             "#9c179e"
            ],
            [
             0.4444444444444444,
             "#bd3786"
            ],
            [
             0.5555555555555556,
             "#d8576b"
            ],
            [
             0.6666666666666666,
             "#ed7953"
            ],
            [
             0.7777777777777778,
             "#fb9f3a"
            ],
            [
             0.8888888888888888,
             "#fdca26"
            ],
            [
             1,
             "#f0f921"
            ]
           ]
          },
          "colorway": [
           "#636efa",
           "#EF553B",
           "#00cc96",
           "#ab63fa",
           "#FFA15A",
           "#19d3f3",
           "#FF6692",
           "#B6E880",
           "#FF97FF",
           "#FECB52"
          ],
          "font": {
           "color": "#2a3f5f"
          },
          "geo": {
           "bgcolor": "white",
           "lakecolor": "white",
           "landcolor": "#E5ECF6",
           "showlakes": true,
           "showland": true,
           "subunitcolor": "white"
          },
          "hoverlabel": {
           "align": "left"
          },
          "hovermode": "closest",
          "mapbox": {
           "style": "light"
          },
          "paper_bgcolor": "white",
          "plot_bgcolor": "#E5ECF6",
          "polar": {
           "angularaxis": {
            "gridcolor": "white",
            "linecolor": "white",
            "ticks": ""
           },
           "bgcolor": "#E5ECF6",
           "radialaxis": {
            "gridcolor": "white",
            "linecolor": "white",
            "ticks": ""
           }
          },
          "scene": {
           "xaxis": {
            "backgroundcolor": "#E5ECF6",
            "gridcolor": "white",
            "gridwidth": 2,
            "linecolor": "white",
            "showbackground": true,
            "ticks": "",
            "zerolinecolor": "white"
           },
           "yaxis": {
            "backgroundcolor": "#E5ECF6",
            "gridcolor": "white",
            "gridwidth": 2,
            "linecolor": "white",
            "showbackground": true,
            "ticks": "",
            "zerolinecolor": "white"
           },
           "zaxis": {
            "backgroundcolor": "#E5ECF6",
            "gridcolor": "white",
            "gridwidth": 2,
            "linecolor": "white",
            "showbackground": true,
            "ticks": "",
            "zerolinecolor": "white"
           }
          },
          "shapedefaults": {
           "line": {
            "color": "#2a3f5f"
           }
          },
          "ternary": {
           "aaxis": {
            "gridcolor": "white",
            "linecolor": "white",
            "ticks": ""
           },
           "baxis": {
            "gridcolor": "white",
            "linecolor": "white",
            "ticks": ""
           },
           "bgcolor": "#E5ECF6",
           "caxis": {
            "gridcolor": "white",
            "linecolor": "white",
            "ticks": ""
           }
          },
          "title": {
           "x": 0.05
          },
          "xaxis": {
           "automargin": true,
           "gridcolor": "white",
           "linecolor": "white",
           "ticks": "",
           "title": {
            "standoff": 15
           },
           "zerolinecolor": "white",
           "zerolinewidth": 2
          },
          "yaxis": {
           "automargin": true,
           "gridcolor": "white",
           "linecolor": "white",
           "ticks": "",
           "title": {
            "standoff": 15
           },
           "zerolinecolor": "white",
           "zerolinewidth": 2
          }
         }
        },
        "xaxis": {
         "range": [
          -1500,
          2500
         ]
        },
        "yaxis": {
         "autorange": "reversed",
         "range": [
          -1500,
          1500
         ]
        }
       }
      },
      "text/html": [
       "<div>\n",
       "        \n",
       "        \n",
       "            <div id=\"73e40577-ed78-4f8d-912f-41009085faf3\" class=\"plotly-graph-div\" style=\"height:525px; width:100%;\"></div>\n",
       "            <script type=\"text/javascript\">\n",
       "                require([\"plotly\"], function(Plotly) {\n",
       "                    window.PLOTLYENV=window.PLOTLYENV || {};\n",
       "                    \n",
       "                if (document.getElementById(\"73e40577-ed78-4f8d-912f-41009085faf3\")) {\n",
       "                    Plotly.newPlot(\n",
       "                        '73e40577-ed78-4f8d-912f-41009085faf3',\n",
       "                        [],\n",
       "                        {\"shapes\": [{\"line\": {\"color\": \"RoyalBlue\"}, \"type\": \"line\", \"x0\": 1007.168701171875, \"x1\": 1048.4222412109377, \"y0\": 383.1523742675781, \"y1\": 439.1155700683594}, {\"line\": {\"color\": \"RoyalBlue\"}, \"type\": \"line\", \"x0\": 1048.4222412109377, \"x1\": 1077.8013916015623, \"y0\": 439.1155700683594, \"y1\": 603.8176879882814}, {\"line\": {\"color\": \"RoyalBlue\"}, \"type\": \"line\", \"x0\": 1048.4222412109377, \"x1\": 1012.9616088867188, \"y0\": 439.1155700683594, \"y1\": 447.88577270507807}, {\"line\": {\"color\": \"RoyalBlue\"}, \"type\": \"line\", \"x0\": 1012.9616088867188, \"x1\": 971.6794433593751, \"y0\": 447.88577270507807, \"y1\": 521.4581298828125}, {\"line\": {\"color\": \"RoyalBlue\"}, \"type\": \"line\", \"x0\": 971.6794433593751, \"x1\": 930.4712524414062, \"y0\": 521.4581298828125, \"y1\": 600.8497924804688}, {\"line\": {\"color\": \"RoyalBlue\"}, \"type\": \"line\", \"x0\": 1048.4222412109377, \"x1\": 1092.361083984375, \"y0\": 439.1155700683594, \"y1\": 436.1707153320313}, {\"line\": {\"color\": \"RoyalBlue\"}, \"type\": \"line\", \"x0\": 1092.361083984375, \"x1\": 1080.7075195312498, \"y0\": 436.1707153320313, \"y1\": 527.2837524414064}, {\"line\": {\"color\": \"RoyalBlue\"}, \"type\": \"line\", \"x0\": 1080.7075195312498, \"x1\": 1039.520751953125, \"y0\": 527.2837524414064, \"y1\": 618.630126953125}, {\"line\": {\"color\": \"RoyalBlue\"}, \"type\": \"line\", \"x0\": 1077.8013916015623, \"x1\": 1051.2406005859377, \"y0\": 603.8176879882814, \"y1\": 603.8235473632812}, {\"line\": {\"color\": \"RoyalBlue\"}, \"type\": \"line\", \"x0\": 1051.2406005859377, \"x1\": 1048.2684326171875, \"y0\": 603.8235473632812, \"y1\": 733.4186401367188}, {\"line\": {\"color\": \"RoyalBlue\"}, \"type\": \"line\", \"x0\": 1048.2684326171875, \"x1\": 1065.8580322265623, \"y0\": 733.4186401367188, \"y1\": 874.6739501953125}, {\"line\": {\"color\": \"RoyalBlue\"}, \"type\": \"line\", \"x0\": 1077.8013916015623, \"x1\": 1110.1058349609377, \"y0\": 603.8176879882814, \"y1\": 603.82080078125}, {\"line\": {\"color\": \"RoyalBlue\"}, \"type\": \"line\", \"x0\": 1110.1058349609377, \"x1\": 1092.4520263671875, \"y0\": 603.82080078125, \"y1\": 739.34912109375}, {\"line\": {\"color\": \"RoyalBlue\"}, \"type\": \"line\", \"x0\": 1092.4520263671875, \"x1\": 1095.4427490234377, \"y0\": 739.34912109375, \"y1\": 886.43017578125}], \"template\": {\"data\": {\"bar\": [{\"error_x\": {\"color\": \"#2a3f5f\"}, \"error_y\": {\"color\": \"#2a3f5f\"}, \"marker\": {\"line\": {\"color\": \"#E5ECF6\", \"width\": 0.5}}, \"type\": \"bar\"}], \"barpolar\": [{\"marker\": {\"line\": {\"color\": \"#E5ECF6\", \"width\": 0.5}}, \"type\": \"barpolar\"}], \"carpet\": [{\"aaxis\": {\"endlinecolor\": \"#2a3f5f\", \"gridcolor\": \"white\", \"linecolor\": \"white\", \"minorgridcolor\": \"white\", \"startlinecolor\": \"#2a3f5f\"}, \"baxis\": {\"endlinecolor\": \"#2a3f5f\", \"gridcolor\": \"white\", \"linecolor\": \"white\", \"minorgridcolor\": \"white\", \"startlinecolor\": \"#2a3f5f\"}, \"type\": \"carpet\"}], \"choropleth\": [{\"colorbar\": {\"outlinewidth\": 0, \"ticks\": \"\"}, \"type\": \"choropleth\"}], \"contour\": [{\"colorbar\": {\"outlinewidth\": 0, \"ticks\": \"\"}, \"colorscale\": [[0.0, \"#0d0887\"], [0.1111111111111111, \"#46039f\"], [0.2222222222222222, \"#7201a8\"], [0.3333333333333333, \"#9c179e\"], [0.4444444444444444, \"#bd3786\"], [0.5555555555555556, \"#d8576b\"], [0.6666666666666666, \"#ed7953\"], [0.7777777777777778, \"#fb9f3a\"], [0.8888888888888888, \"#fdca26\"], [1.0, \"#f0f921\"]], \"type\": \"contour\"}], \"contourcarpet\": [{\"colorbar\": {\"outlinewidth\": 0, \"ticks\": \"\"}, \"type\": \"contourcarpet\"}], \"heatmap\": [{\"colorbar\": {\"outlinewidth\": 0, \"ticks\": \"\"}, \"colorscale\": [[0.0, \"#0d0887\"], [0.1111111111111111, \"#46039f\"], [0.2222222222222222, \"#7201a8\"], [0.3333333333333333, \"#9c179e\"], [0.4444444444444444, \"#bd3786\"], [0.5555555555555556, \"#d8576b\"], [0.6666666666666666, \"#ed7953\"], [0.7777777777777778, \"#fb9f3a\"], [0.8888888888888888, \"#fdca26\"], [1.0, \"#f0f921\"]], \"type\": \"heatmap\"}], \"heatmapgl\": [{\"colorbar\": {\"outlinewidth\": 0, \"ticks\": \"\"}, \"colorscale\": [[0.0, \"#0d0887\"], [0.1111111111111111, \"#46039f\"], [0.2222222222222222, \"#7201a8\"], [0.3333333333333333, \"#9c179e\"], [0.4444444444444444, \"#bd3786\"], [0.5555555555555556, \"#d8576b\"], [0.6666666666666666, \"#ed7953\"], [0.7777777777777778, \"#fb9f3a\"], [0.8888888888888888, \"#fdca26\"], [1.0, \"#f0f921\"]], \"type\": \"heatmapgl\"}], \"histogram\": [{\"marker\": {\"colorbar\": {\"outlinewidth\": 0, \"ticks\": \"\"}}, \"type\": \"histogram\"}], \"histogram2d\": [{\"colorbar\": {\"outlinewidth\": 0, \"ticks\": \"\"}, \"colorscale\": [[0.0, \"#0d0887\"], [0.1111111111111111, \"#46039f\"], [0.2222222222222222, \"#7201a8\"], [0.3333333333333333, \"#9c179e\"], [0.4444444444444444, \"#bd3786\"], [0.5555555555555556, \"#d8576b\"], [0.6666666666666666, \"#ed7953\"], [0.7777777777777778, \"#fb9f3a\"], [0.8888888888888888, \"#fdca26\"], [1.0, \"#f0f921\"]], \"type\": \"histogram2d\"}], \"histogram2dcontour\": [{\"colorbar\": {\"outlinewidth\": 0, \"ticks\": \"\"}, \"colorscale\": [[0.0, \"#0d0887\"], [0.1111111111111111, \"#46039f\"], [0.2222222222222222, \"#7201a8\"], [0.3333333333333333, \"#9c179e\"], [0.4444444444444444, \"#bd3786\"], [0.5555555555555556, \"#d8576b\"], [0.6666666666666666, \"#ed7953\"], [0.7777777777777778, \"#fb9f3a\"], [0.8888888888888888, \"#fdca26\"], [1.0, \"#f0f921\"]], \"type\": \"histogram2dcontour\"}], \"mesh3d\": [{\"colorbar\": {\"outlinewidth\": 0, \"ticks\": \"\"}, \"type\": \"mesh3d\"}], \"parcoords\": [{\"line\": {\"colorbar\": {\"outlinewidth\": 0, \"ticks\": \"\"}}, \"type\": \"parcoords\"}], \"pie\": [{\"automargin\": true, \"type\": \"pie\"}], \"scatter\": [{\"marker\": {\"colorbar\": {\"outlinewidth\": 0, \"ticks\": \"\"}}, \"type\": \"scatter\"}], \"scatter3d\": [{\"line\": {\"colorbar\": {\"outlinewidth\": 0, \"ticks\": \"\"}}, \"marker\": {\"colorbar\": {\"outlinewidth\": 0, \"ticks\": \"\"}}, \"type\": \"scatter3d\"}], \"scattercarpet\": [{\"marker\": {\"colorbar\": {\"outlinewidth\": 0, \"ticks\": \"\"}}, \"type\": \"scattercarpet\"}], \"scattergeo\": [{\"marker\": {\"colorbar\": {\"outlinewidth\": 0, \"ticks\": \"\"}}, \"type\": \"scattergeo\"}], \"scattergl\": [{\"marker\": {\"colorbar\": {\"outlinewidth\": 0, \"ticks\": \"\"}}, \"type\": \"scattergl\"}], \"scattermapbox\": [{\"marker\": {\"colorbar\": {\"outlinewidth\": 0, \"ticks\": \"\"}}, \"type\": \"scattermapbox\"}], \"scatterpolar\": [{\"marker\": {\"colorbar\": {\"outlinewidth\": 0, \"ticks\": \"\"}}, \"type\": \"scatterpolar\"}], \"scatterpolargl\": [{\"marker\": {\"colorbar\": {\"outlinewidth\": 0, \"ticks\": \"\"}}, \"type\": \"scatterpolargl\"}], \"scatterternary\": [{\"marker\": {\"colorbar\": {\"outlinewidth\": 0, \"ticks\": \"\"}}, \"type\": \"scatterternary\"}], \"surface\": [{\"colorbar\": {\"outlinewidth\": 0, \"ticks\": \"\"}, \"colorscale\": [[0.0, \"#0d0887\"], [0.1111111111111111, \"#46039f\"], [0.2222222222222222, \"#7201a8\"], [0.3333333333333333, \"#9c179e\"], [0.4444444444444444, \"#bd3786\"], [0.5555555555555556, \"#d8576b\"], [0.6666666666666666, \"#ed7953\"], [0.7777777777777778, \"#fb9f3a\"], [0.8888888888888888, \"#fdca26\"], [1.0, \"#f0f921\"]], \"type\": \"surface\"}], \"table\": [{\"cells\": {\"fill\": {\"color\": \"#EBF0F8\"}, \"line\": {\"color\": \"white\"}}, \"header\": {\"fill\": {\"color\": \"#C8D4E3\"}, \"line\": {\"color\": \"white\"}}, \"type\": \"table\"}]}, \"layout\": {\"annotationdefaults\": {\"arrowcolor\": \"#2a3f5f\", \"arrowhead\": 0, \"arrowwidth\": 1}, \"coloraxis\": {\"colorbar\": {\"outlinewidth\": 0, \"ticks\": \"\"}}, \"colorscale\": {\"diverging\": [[0, \"#8e0152\"], [0.1, \"#c51b7d\"], [0.2, \"#de77ae\"], [0.3, \"#f1b6da\"], [0.4, \"#fde0ef\"], [0.5, \"#f7f7f7\"], [0.6, \"#e6f5d0\"], [0.7, \"#b8e186\"], [0.8, \"#7fbc41\"], [0.9, \"#4d9221\"], [1, \"#276419\"]], \"sequential\": [[0.0, \"#0d0887\"], [0.1111111111111111, \"#46039f\"], [0.2222222222222222, \"#7201a8\"], [0.3333333333333333, \"#9c179e\"], [0.4444444444444444, \"#bd3786\"], [0.5555555555555556, \"#d8576b\"], [0.6666666666666666, \"#ed7953\"], [0.7777777777777778, \"#fb9f3a\"], [0.8888888888888888, \"#fdca26\"], [1.0, \"#f0f921\"]], \"sequentialminus\": [[0.0, \"#0d0887\"], [0.1111111111111111, \"#46039f\"], [0.2222222222222222, \"#7201a8\"], [0.3333333333333333, \"#9c179e\"], [0.4444444444444444, \"#bd3786\"], [0.5555555555555556, \"#d8576b\"], [0.6666666666666666, \"#ed7953\"], [0.7777777777777778, \"#fb9f3a\"], [0.8888888888888888, \"#fdca26\"], [1.0, \"#f0f921\"]]}, \"colorway\": [\"#636efa\", \"#EF553B\", \"#00cc96\", \"#ab63fa\", \"#FFA15A\", \"#19d3f3\", \"#FF6692\", \"#B6E880\", \"#FF97FF\", \"#FECB52\"], \"font\": {\"color\": \"#2a3f5f\"}, \"geo\": {\"bgcolor\": \"white\", \"lakecolor\": \"white\", \"landcolor\": \"#E5ECF6\", \"showlakes\": true, \"showland\": true, \"subunitcolor\": \"white\"}, \"hoverlabel\": {\"align\": \"left\"}, \"hovermode\": \"closest\", \"mapbox\": {\"style\": \"light\"}, \"paper_bgcolor\": \"white\", \"plot_bgcolor\": \"#E5ECF6\", \"polar\": {\"angularaxis\": {\"gridcolor\": \"white\", \"linecolor\": \"white\", \"ticks\": \"\"}, \"bgcolor\": \"#E5ECF6\", \"radialaxis\": {\"gridcolor\": \"white\", \"linecolor\": \"white\", \"ticks\": \"\"}}, \"scene\": {\"xaxis\": {\"backgroundcolor\": \"#E5ECF6\", \"gridcolor\": \"white\", \"gridwidth\": 2, \"linecolor\": \"white\", \"showbackground\": true, \"ticks\": \"\", \"zerolinecolor\": \"white\"}, \"yaxis\": {\"backgroundcolor\": \"#E5ECF6\", \"gridcolor\": \"white\", \"gridwidth\": 2, \"linecolor\": \"white\", \"showbackground\": true, \"ticks\": \"\", \"zerolinecolor\": \"white\"}, \"zaxis\": {\"backgroundcolor\": \"#E5ECF6\", \"gridcolor\": \"white\", \"gridwidth\": 2, \"linecolor\": \"white\", \"showbackground\": true, \"ticks\": \"\", \"zerolinecolor\": \"white\"}}, \"shapedefaults\": {\"line\": {\"color\": \"#2a3f5f\"}}, \"ternary\": {\"aaxis\": {\"gridcolor\": \"white\", \"linecolor\": \"white\", \"ticks\": \"\"}, \"baxis\": {\"gridcolor\": \"white\", \"linecolor\": \"white\", \"ticks\": \"\"}, \"bgcolor\": \"#E5ECF6\", \"caxis\": {\"gridcolor\": \"white\", \"linecolor\": \"white\", \"ticks\": \"\"}}, \"title\": {\"x\": 0.05}, \"xaxis\": {\"automargin\": true, \"gridcolor\": \"white\", \"linecolor\": \"white\", \"ticks\": \"\", \"title\": {\"standoff\": 15}, \"zerolinecolor\": \"white\", \"zerolinewidth\": 2}, \"yaxis\": {\"automargin\": true, \"gridcolor\": \"white\", \"linecolor\": \"white\", \"ticks\": \"\", \"title\": {\"standoff\": 15}, \"zerolinecolor\": \"white\", \"zerolinewidth\": 2}}}, \"xaxis\": {\"range\": [-1500, 2500]}, \"yaxis\": {\"autorange\": \"reversed\", \"range\": [-1500, 1500]}},\n",
       "                        {\"responsive\": true}\n",
       "                    ).then(function(){\n",
       "                            \n",
       "var gd = document.getElementById('73e40577-ed78-4f8d-912f-41009085faf3');\n",
       "var x = new MutationObserver(function (mutations, observer) {{\n",
       "        var display = window.getComputedStyle(gd).display;\n",
       "        if (!display || display === 'none') {{\n",
       "            console.log([gd, 'removed!']);\n",
       "            Plotly.purge(gd);\n",
       "            observer.disconnect();\n",
       "        }}\n",
       "}});\n",
       "\n",
       "// Listen for the removal of the full notebook cells\n",
       "var notebookContainer = gd.closest('#notebook-container');\n",
       "if (notebookContainer) {{\n",
       "    x.observe(notebookContainer, {childList: true});\n",
       "}}\n",
       "\n",
       "// Listen for the clearing of the current output cell\n",
       "var outputEl = gd.closest('.output');\n",
       "if (outputEl) {{\n",
       "    x.observe(outputEl, {childList: true});\n",
       "}}\n",
       "\n",
       "                        })\n",
       "                };\n",
       "                });\n",
       "            </script>\n",
       "        </div>"
      ]
     },
     "metadata": {},
     "output_type": "display_data"
    }
   ],
   "source": [
    "def render_frame(frame):\n",
    "    fig = go.Figure()\n",
    "    fig.update_xaxes(range=[-1500, 2500])\n",
    "    fig.update_yaxes(range=[-1500, 1500])\n",
    "    fig.update_yaxes(autorange=\"reversed\")\n",
    "        \n",
    "    add_body_parts(frame, fig)\n",
    "\n",
    "    fig.show()\n",
    "        \n",
    "render_frame(frame_data[5])"
   ]
  },
  {
   "cell_type": "code",
   "execution_count": 45,
   "metadata": {},
   "outputs": [
    {
     "name": "stdout",
     "output_type": "stream",
     "text": [
      "x max=1298.431640625, x min=854.0137329101561, y max=971.708740234375, y min=854.0137329101561\n"
     ]
    }
   ],
   "source": [
    "def get_frame_wo_x_zeros(frame):\n",
    "    return frame[frame['x'] != 0]\n",
    "\n",
    "def get_frame_wo_y_zeros(frame):\n",
    "    return frame[frame['y'] != 0]\n",
    "\n",
    "def get_max_x_coord(frame_data):\n",
    "    return max([max(frame.iloc[:, 0]) for frame in frame_data])\n",
    "\n",
    "def get_min_x_coord(frame_data):    \n",
    "    return min([min(get_frame_wo_x_zeros(frame).iloc[:, 0]) for frame in frame_data])\n",
    "\n",
    "def get_max_y_coord(frame_data):\n",
    "    return max([max(frame.iloc[:, 1]) for frame in frame_data])\n",
    "\n",
    "def get_min_y_coord(frame_data):    \n",
    "    return min([min(get_frame_wo_y_zeros(frame).iloc[:, 0]) for frame in frame_data])\n",
    "\n",
    "max_x_coord = get_max_x_coord(frame_data)\n",
    "min_x_coord = get_min_x_coord(frame_data)\n",
    "\n",
    "max_y_coord = get_max_y_coord(frame_data)\n",
    "min_y_coord = get_min_y_coord(frame_data)\n",
    "\n",
    "print(f\"x max={max_x_coord}, x min={min_x_coord}, y max={max_y_coord}, y min={min_y_coord}\")"
   ]
  },
  {
   "cell_type": "code",
   "execution_count": 49,
   "metadata": {},
   "outputs": [
    {
     "data": {
      "application/vnd.plotly.v1+json": {
       "config": {
        "plotlyServerURL": "https://plot.ly"
       },
       "data": [
        {
         "name": "Neck",
         "type": "scatter",
         "x": [
          1027.771728515625,
          1068.8178710937502
         ],
         "y": [
          382.9988403320313,
          433.0218811035156
         ]
        },
        {
         "name": "REye",
         "type": "scatter",
         "x": [
          1027.7314453125,
          1027.771728515625
         ],
         "y": [
          365.5891723632813,
          382.9988403320313
         ]
        },
        {
         "name": "LEye",
         "type": "scatter",
         "x": [
          1045.3306884765623,
          1027.771728515625
         ],
         "y": [
          365.57348632812494,
          382.9988403320313
         ]
        },
        {
         "name": "Spine",
         "type": "scatter",
         "x": [
          1068.8178710937502,
          1074.7918701171875
         ],
         "y": [
          433.0218811035156,
          603.8844604492188
         ]
        },
        {
         "name": "RShoulder",
         "type": "scatter",
         "x": [
          1068.8178710937502,
          1027.6505126953123
         ],
         "y": [
          433.0218811035156,
          433.0853576660156
         ]
        },
        {
         "name": "RArm",
         "type": "scatter",
         "x": [
          1027.6505126953123,
          954.1491088867186
         ],
         "y": [
          433.0853576660156,
          433.1887512207031
         ]
        },
        {
         "name": "RForearm",
         "type": "scatter",
         "x": [
          954.1491088867186,
          877.5587158203125
         ],
         "y": [
          433.1887512207031,
          436.0546875
         ]
        },
        {
         "name": "LShoulder",
         "type": "scatter",
         "x": [
          1068.8178710937502,
          1098.4100341796877
         ],
         "y": [
          433.0218811035156,
          430.12710571289057
         ]
        },
        {
         "name": "LArm",
         "type": "scatter",
         "x": [
          1098.4100341796877,
          1045.3663330078125
         ],
         "y": [
          430.12710571289057,
          433.06695556640636
         ]
        },
        {
         "name": "LForearm",
         "type": "scatter",
         "x": [
          1045.3663330078125,
          880.5125732421876
         ],
         "y": [
          433.06695556640636,
          436.23257446289057
         ]
        },
        {
         "name": "RHip",
         "type": "scatter",
         "x": [
          1074.7918701171875,
          1048.4140625
         ],
         "y": [
          603.8844604492188,
          603.9331054687499
         ]
        },
        {
         "name": "RThigh",
         "type": "scatter",
         "x": [
          1048.4140625,
          1051.2818603515623
         ],
         "y": [
          603.9331054687499,
          739.1134033203124
         ]
        },
        {
         "name": "RCalf",
         "type": "scatter",
         "x": [
          1051.2818603515623,
          1080.6949462890623
         ],
         "y": [
          739.1134033203124,
          868.8168334960938
         ]
        },
        {
         "name": "RFoot",
         "type": "scatter",
         "x": [
          1080.6949462890623,
          1065.9375
         ],
         "y": [
          868.8168334960938,
          927.5068969726562
         ]
        },
        {
         "name": "LHip",
         "type": "scatter",
         "x": [
          1074.7918701171875,
          1101.263671875
         ],
         "y": [
          603.8844604492188,
          603.8485107421875
         ]
        },
        {
         "name": "LThigh",
         "type": "scatter",
         "x": [
          1101.263671875,
          1095.3507080078125
         ],
         "y": [
          603.8485107421875,
          742.2551879882814
         ]
        },
        {
         "name": "LCalf",
         "type": "scatter",
         "x": [
          1095.3507080078125,
          1115.928955078125
         ],
         "y": [
          742.2551879882814,
          880.6378173828125
         ]
        },
        {
         "name": "LFoot",
         "type": "scatter",
         "x": [
          1115.928955078125,
          1092.3720703125
         ],
         "y": [
          880.6378173828125,
          930.703369140625
         ]
        }
       ],
       "frames": [
        {
         "data": [
          {
           "name": "Neck",
           "type": "scatter",
           "x": [
            1024.8677978515623,
            1068.7691650390623
           ],
           "y": [
            380.16903686523443,
            430.2613525390625
           ]
          },
          {
           "name": "REye",
           "type": "scatter",
           "x": [
            1024.8299560546877,
            1024.8677978515623
           ],
           "y": [
            365.5021362304688,
            380.16903686523443
           ]
          },
          {
           "name": "LEye",
           "type": "scatter",
           "x": [
            1045.2003173828125,
            1024.8677978515623
           ],
           "y": [
            365.4921875,
            380.16903686523443
           ]
          },
          {
           "name": "Spine",
           "type": "scatter",
           "x": [
            1068.7691650390623,
            1074.8812255859377
           ],
           "y": [
            430.2613525390625,
            601.0540771484375
           ]
          },
          {
           "name": "RShoulder",
           "type": "scatter",
           "x": [
            1068.7691650390623,
            1027.6937255859377
           ],
           "y": [
            430.2613525390625,
            433.2719116210938
           ]
          },
          {
           "name": "RArm",
           "type": "scatter",
           "x": [
            1027.6937255859377,
            957.1539306640626
           ],
           "y": [
            433.2719116210938,
            459.54925537109375
           ]
          },
          {
           "name": "RForearm",
           "type": "scatter",
           "x": [
            957.1539306640626,
            880.4491577148436
           ],
           "y": [
            459.54925537109375,
            474.38870239257807
           ]
          },
          {
           "name": "LShoulder",
           "type": "scatter",
           "x": [
            1068.7691650390623,
            1098.3687744140623
           ],
           "y": [
            430.2613525390625,
            424.2957458496093
           ]
          },
          {
           "name": "LArm",
           "type": "scatter",
           "x": [
            1098.3687744140623,
            1048.3043212890623
           ],
           "y": [
            424.2957458496093,
            456.56961059570307
           ]
          },
          {
           "name": "LForearm",
           "type": "scatter",
           "x": [
            1048.3043212890623,
            962.986633300781
           ],
           "y": [
            456.56961059570307,
            462.56695556640636
           ]
          },
          {
           "name": "RHip",
           "type": "scatter",
           "x": [
            1074.8812255859377,
            1051.1925048828125
           ],
           "y": [
            601.0540771484375,
            603.8734741210938
           ]
          },
          {
           "name": "RThigh",
           "type": "scatter",
           "x": [
            1051.1925048828125,
            1048.4327392578125
           ],
           "y": [
            603.8734741210938,
            736.1974487304685
           ]
          },
          {
           "name": "RCalf",
           "type": "scatter",
           "x": [
            1048.4327392578125,
            1077.705810546875
           ],
           "y": [
            736.1974487304685,
            865.8524780273436
           ]
          },
          {
           "name": "RFoot",
           "type": "scatter",
           "x": [
            1077.705810546875,
            1062.9536132812498
           ],
           "y": [
            865.8524780273436,
            924.6813354492189
           ]
          },
          {
           "name": "LHip",
           "type": "scatter",
           "x": [
            1074.8812255859377,
            1104.2125244140623
           ],
           "y": [
            601.0540771484375,
            600.9931030273438
           ]
          },
          {
           "name": "LThigh",
           "type": "scatter",
           "x": [
            1104.2125244140623,
            1092.5487060546877
           ],
           "y": [
            600.9931030273438,
            739.2994995117188
           ]
          },
          {
           "name": "LCalf",
           "type": "scatter",
           "x": [
            1092.5487060546877,
            1115.850341796875
           ],
           "y": [
            739.2994995117188,
            880.5611572265626
           ]
          },
          {
           "name": "LFoot",
           "type": "scatter",
           "x": [
            1115.850341796875,
            1089.4197998046877
           ],
           "y": [
            880.5611572265626,
            930.7266235351562
           ]
          }
         ]
        },
        {
         "data": [
          {
           "name": "Neck",
           "type": "scatter",
           "x": [
            1024.6590576171875,
            1062.956787109375
           ],
           "y": [
            380.1050415039063,
            433.0430908203125
           ]
          },
          {
           "name": "REye",
           "type": "scatter",
           "x": [
            1024.65625,
            1024.6590576171875
           ],
           "y": [
            365.4372253417969,
            380.1050415039063
           ]
          },
          {
           "name": "LEye",
           "type": "scatter",
           "x": [
            1039.454345703125,
            1024.6590576171875
           ],
           "y": [
            365.4927368164063,
            380.1050415039063
           ]
          },
          {
           "name": "Spine",
           "type": "scatter",
           "x": [
            1062.956787109375,
            1077.7802734375
           ],
           "y": [
            433.0430908203125,
            603.9141845703125
           ]
          },
          {
           "name": "RShoulder",
           "type": "scatter",
           "x": [
            1062.956787109375,
            1021.9220581054688
           ],
           "y": [
            433.0430908203125,
            433.27383422851557
           ]
          },
          {
           "name": "RArm",
           "type": "scatter",
           "x": [
            1021.9220581054688,
            954.2180786132811
           ],
           "y": [
            433.27383422851557,
            474.30157470703125
           ]
          },
          {
           "name": "RForearm",
           "type": "scatter",
           "x": [
            954.2180786132811,
            883.4501953124999
           ],
           "y": [
            474.30157470703125,
            506.69555664062494
           ]
          },
          {
           "name": "LShoulder",
           "type": "scatter",
           "x": [
            1062.956787109375,
            1095.4897460937502
           ],
           "y": [
            433.0430908203125,
            427.2452087402343
           ]
          },
          {
           "name": "LArm",
           "type": "scatter",
           "x": [
            1095.4897460937502,
            1048.443115234375
           ],
           "y": [
            427.2452087402343,
            471.4651184082032
           ]
          },
          {
           "name": "LForearm",
           "type": "scatter",
           "x": [
            1048.443115234375,
            974.7488403320311
           ],
           "y": [
            471.4651184082032,
            503.8768920898438
           ]
          },
          {
           "name": "RHip",
           "type": "scatter",
           "x": [
            1077.7802734375,
            1051.3372802734377
           ],
           "y": [
            603.9141845703125,
            606.7731933593751
           ]
          },
          {
           "name": "RThigh",
           "type": "scatter",
           "x": [
            1051.3372802734377,
            1048.3388671875
           ],
           "y": [
            606.7731933593751,
            733.3886718750001
           ]
          },
          {
           "name": "RCalf",
           "type": "scatter",
           "x": [
            1048.3388671875,
            1074.8204345703123
           ],
           "y": [
            733.3886718750001,
            865.8436889648436
           ]
          },
          {
           "name": "RFoot",
           "type": "scatter",
           "x": [
            1074.8204345703123,
            1051.274169921875
           ],
           "y": [
            865.8436889648436,
            924.6018066406249
           ]
          },
          {
           "name": "LHip",
           "type": "scatter",
           "x": [
            1077.7802734375,
            1107.166748046875
           ],
           "y": [
            603.9141845703125,
            603.8523559570314
           ]
          },
          {
           "name": "LThigh",
           "type": "scatter",
           "x": [
            1107.166748046875,
            1092.4916992187502
           ],
           "y": [
            603.8523559570314,
            739.2820434570311
           ]
          },
          {
           "name": "LCalf",
           "type": "scatter",
           "x": [
            1092.4916992187502,
            1112.993896484375
           ],
           "y": [
            739.2820434570311,
            880.5003662109375
           ]
          },
          {
           "name": "LFoot",
           "type": "scatter",
           "x": [
            1112.993896484375,
            1077.7618408203123
           ],
           "y": [
            880.5003662109375,
            933.4889526367188
           ]
          }
         ]
        },
        {
         "data": [
          {
           "name": "Neck",
           "type": "scatter",
           "x": [
            1021.7625122070312,
            1057.0828857421875
           ],
           "y": [
            380.13162231445307,
            433.2411804199219
           ]
          },
          {
           "name": "REye",
           "type": "scatter",
           "x": [
            1021.7573242187501,
            1021.7625122070312
           ],
           "y": [
            365.472412109375,
            380.13162231445307
           ]
          },
          {
           "name": "LEye",
           "type": "scatter",
           "x": [
            1030.6104736328125,
            1021.7625122070312
           ],
           "y": [
            365.5051879882813,
            380.13162231445307
           ]
          },
          {
           "name": "Spine",
           "type": "scatter",
           "x": [
            1057.0828857421875,
            1080.695068359375
           ],
           "y": [
            433.2411804199219,
            603.9473266601564
           ]
          },
          {
           "name": "RShoulder",
           "type": "scatter",
           "x": [
            1057.0828857421875,
            1021.8002319335936
           ],
           "y": [
            433.2411804199219,
            436.12780761718756
           ]
          },
          {
           "name": "RArm",
           "type": "scatter",
           "x": [
            1021.8002319335936,
            953.989990234375
           ],
           "y": [
            436.12780761718756,
            486.1667785644532
           ]
          },
          {
           "name": "RForearm",
           "type": "scatter",
           "x": [
            953.989990234375,
            895.3002319335938
           ],
           "y": [
            486.1667785644532,
            544.9921875
           ]
          },
          {
           "name": "LShoulder",
           "type": "scatter",
           "x": [
            1057.0828857421875,
            1092.553955078125
           ],
           "y": [
            433.2411804199219,
            430.2369079589844
           ]
          },
          {
           "name": "LArm",
           "type": "scatter",
           "x": [
            1092.553955078125,
            1057.179931640625
           ],
           "y": [
            430.2369079589844,
            489.05496215820307
           ]
          },
          {
           "name": "LForearm",
           "type": "scatter",
           "x": [
            1057.179931640625,
            992.3306274414061
           ],
           "y": [
            489.05496215820307,
            547.9075927734375
           ]
          },
          {
           "name": "RHip",
           "type": "scatter",
           "x": [
            1080.695068359375,
            1054.1893310546877
           ],
           "y": [
            603.9473266601564,
            603.9654541015625
           ]
          },
          {
           "name": "RThigh",
           "type": "scatter",
           "x": [
            1054.1893310546877,
            1048.293701171875
           ],
           "y": [
            603.9654541015625,
            733.3327636718751
           ]
          },
          {
           "name": "RCalf",
           "type": "scatter",
           "x": [
            1048.293701171875,
            1071.867431640625
           ],
           "y": [
            733.3327636718751,
            868.7094726562499
           ]
          },
          {
           "name": "RFoot",
           "type": "scatter",
           "x": [
            1071.867431640625,
            1045.250732421875
           ],
           "y": [
            868.7094726562499,
            921.6738281249999
           ]
          },
          {
           "name": "LHip",
           "type": "scatter",
           "x": [
            1080.695068359375,
            1110.1492919921875
           ],
           "y": [
            603.9473266601564,
            603.9378051757812
           ]
          },
          {
           "name": "LThigh",
           "type": "scatter",
           "x": [
            1110.1492919921875,
            1092.4281005859377
           ],
           "y": [
            603.9378051757812,
            739.2514038085939
           ]
          },
          {
           "name": "LCalf",
           "type": "scatter",
           "x": [
            1092.4281005859377,
            1107.1424560546877
           ],
           "y": [
            739.2514038085939,
            883.3909912109375
           ]
          },
          {
           "name": "LFoot",
           "type": "scatter",
           "x": [
            1107.1424560546877,
            1071.969482421875
           ],
           "y": [
            883.3909912109375,
            933.6123657226561
           ]
          }
         ]
        },
        {
         "data": [
          {
           "name": "Neck",
           "type": "scatter",
           "x": [
            1018.8753051757811,
            1051.3090820312498
           ],
           "y": [
            380.1937255859375,
            436.1882324218751
           ]
          },
          {
           "name": "REye",
           "type": "scatter",
           "x": [
            1018.8065185546876,
            1018.8753051757811
           ],
           "y": [
            365.5845947265625,
            380.1937255859375
           ]
          },
          {
           "name": "LEye",
           "type": "scatter",
           "x": [
            1027.6605224609377,
            1018.8753051757811
           ],
           "y": [
            365.5924682617188,
            380.1937255859375
           ]
          },
          {
           "name": "Spine",
           "type": "scatter",
           "x": [
            1051.3090820312498,
            1077.6888427734377
           ],
           "y": [
            436.1882324218751,
            606.7997436523439
           ]
          },
          {
           "name": "RShoulder",
           "type": "scatter",
           "x": [
            1051.3090820312498,
            1018.8676147460936
           ],
           "y": [
            436.1882324218751,
            439.0583190917969
           ]
          },
          {
           "name": "RArm",
           "type": "scatter",
           "x": [
            1018.8676147460936,
            957.1787109375001
           ],
           "y": [
            439.0583190917969,
            503.8519592285155
           ]
          },
          {
           "name": "RForearm",
           "type": "scatter",
           "x": [
            957.1787109375001,
            907.0802612304689
           ],
           "y": [
            503.8519592285155,
            574.5001831054689
           ]
          },
          {
           "name": "LShoulder",
           "type": "scatter",
           "x": [
            1051.3090820312498,
            1092.452880859375
           ],
           "y": [
            436.1882324218751,
            436.013427734375
           ]
          },
          {
           "name": "LArm",
           "type": "scatter",
           "x": [
            1092.452880859375,
            1068.9317626953123
           ],
           "y": [
            436.013427734375,
            509.7375793457031
           ]
          },
          {
           "name": "LForearm",
           "type": "scatter",
           "x": [
            1068.9317626953123,
            1009.9862060546876
           ],
           "y": [
            509.7375793457031,
            589.1036376953125
           ]
          },
          {
           "name": "RHip",
           "type": "scatter",
           "x": [
            1077.6888427734377,
            1051.2294921875
           ],
           "y": [
            606.7997436523439,
            603.96826171875
           ]
          },
          {
           "name": "RThigh",
           "type": "scatter",
           "x": [
            1051.2294921875,
            1048.2729492187502
           ],
           "y": [
            603.96826171875,
            730.4204101562499
           ]
          },
          {
           "name": "RCalf",
           "type": "scatter",
           "x": [
            1048.2729492187502,
            1068.9715576171875
           ],
           "y": [
            730.4204101562499,
            865.8683471679686
           ]
          },
          {
           "name": "RFoot",
           "type": "scatter",
           "x": [
            1068.9715576171875,
            1036.540283203125
           ],
           "y": [
            865.8683471679686,
            915.8650512695311
           ]
          },
          {
           "name": "LHip",
           "type": "scatter",
           "x": [
            1077.6888427734377,
            1107.1727294921875
           ],
           "y": [
            606.7997436523439,
            606.8305053710939
           ]
          },
          {
           "name": "LThigh",
           "type": "scatter",
           "x": [
            1107.1727294921875,
            1092.4321289062498
           ],
           "y": [
            606.8305053710939,
            739.2661743164062
           ]
          },
          {
           "name": "LCalf",
           "type": "scatter",
           "x": [
            1092.4321289062498,
            1098.3875732421875
           ],
           "y": [
            739.2661743164062,
            883.5078735351562
           ]
          },
          {
           "name": "LFoot",
           "type": "scatter",
           "x": [
            1098.3875732421875,
            1071.7608642578125
           ],
           "y": [
            883.5078735351562,
            936.4813232421876
           ]
          }
         ]
        },
        {
         "data": [
          {
           "name": "Neck",
           "type": "scatter",
           "x": [
            1007.168701171875,
            1048.4222412109377
           ],
           "y": [
            383.1523742675781,
            439.1155700683594
           ]
          },
          {
           "name": "REye",
           "type": "scatter",
           "x": [
            1007.128662109375,
            1007.168701171875
           ],
           "y": [
            368.4278259277344,
            383.1523742675781
           ]
          },
          {
           "name": "LEye",
           "type": "scatter",
           "x": [
            1021.9454345703124,
            1007.168701171875
           ],
           "y": [
            368.4522399902344,
            383.1523742675781
           ]
          },
          {
           "name": "Spine",
           "type": "scatter",
           "x": [
            1048.4222412109377,
            1077.8013916015623
           ],
           "y": [
            439.1155700683594,
            603.8176879882814
           ]
          },
          {
           "name": "RShoulder",
           "type": "scatter",
           "x": [
            1048.4222412109377,
            1012.9616088867188
           ],
           "y": [
            439.1155700683594,
            447.88577270507807
           ]
          },
          {
           "name": "RArm",
           "type": "scatter",
           "x": [
            1012.9616088867188,
            971.6794433593751
           ],
           "y": [
            447.88577270507807,
            521.4581298828125
           ]
          },
          {
           "name": "RForearm",
           "type": "scatter",
           "x": [
            971.6794433593751,
            930.4712524414062
           ],
           "y": [
            521.4581298828125,
            600.8497924804688
           ]
          },
          {
           "name": "LShoulder",
           "type": "scatter",
           "x": [
            1048.4222412109377,
            1092.361083984375
           ],
           "y": [
            439.1155700683594,
            436.1707153320313
           ]
          },
          {
           "name": "LArm",
           "type": "scatter",
           "x": [
            1092.361083984375,
            1080.7075195312498
           ],
           "y": [
            436.1707153320313,
            527.2837524414064
           ]
          },
          {
           "name": "LForearm",
           "type": "scatter",
           "x": [
            1080.7075195312498,
            1039.520751953125
           ],
           "y": [
            527.2837524414064,
            618.630126953125
           ]
          },
          {
           "name": "RHip",
           "type": "scatter",
           "x": [
            1077.8013916015623,
            1051.2406005859377
           ],
           "y": [
            603.8176879882814,
            603.8235473632812
           ]
          },
          {
           "name": "RThigh",
           "type": "scatter",
           "x": [
            1051.2406005859377,
            1048.2684326171875
           ],
           "y": [
            603.8235473632812,
            733.4186401367188
           ]
          },
          {
           "name": "RCalf",
           "type": "scatter",
           "x": [
            1048.2684326171875,
            1065.8580322265623
           ],
           "y": [
            733.4186401367188,
            874.6739501953125
           ]
          },
          {
           "name": "RFoot",
           "type": "scatter",
           "x": [
            1065.8580322265623,
            1024.830322265625
           ],
           "y": [
            874.6739501953125,
            915.9186401367188
           ]
          },
          {
           "name": "LHip",
           "type": "scatter",
           "x": [
            1077.8013916015623,
            1110.1058349609377
           ],
           "y": [
            603.8176879882814,
            603.82080078125
           ]
          },
          {
           "name": "LThigh",
           "type": "scatter",
           "x": [
            1110.1058349609377,
            1092.4520263671875
           ],
           "y": [
            603.82080078125,
            739.34912109375
           ]
          },
          {
           "name": "LCalf",
           "type": "scatter",
           "x": [
            1092.4520263671875,
            1095.4427490234377
           ],
           "y": [
            739.34912109375,
            886.43017578125
           ]
          },
          {
           "name": "LFoot",
           "type": "scatter",
           "x": [
            1095.4427490234377,
            1068.8826904296877
           ],
           "y": [
            886.43017578125,
            939.4197387695311
           ]
          }
         ]
        },
        {
         "data": [
          {
           "name": "Neck",
           "type": "scatter",
           "x": [
            1001.3807983398434,
            1048.2349853515623
           ],
           "y": [
            388.8705749511719,
            450.8630676269531
           ]
          },
          {
           "name": "REye",
           "type": "scatter",
           "x": [
            1001.2828369140624,
            1001.3807983398434
           ],
           "y": [
            377.25677490234375,
            388.8705749511719
           ]
          },
          {
           "name": "LEye",
           "type": "scatter",
           "x": [
            1021.6783447265624,
            1001.3807983398434
           ],
           "y": [
            377.2853393554688,
            388.8705749511719
           ]
          },
          {
           "name": "Spine",
           "type": "scatter",
           "x": [
            1048.2349853515623,
            1089.4760742187502
           ],
           "y": [
            450.8630676269531,
            609.7084960937501
           ]
          },
          {
           "name": "RShoulder",
           "type": "scatter",
           "x": [
            1048.2349853515623,
            1007.1385498046876
           ],
           "y": [
            450.8630676269531,
            456.63299560546875
           ]
          },
          {
           "name": "RArm",
           "type": "scatter",
           "x": [
            1007.1385498046876,
            974.8179931640625
           ],
           "y": [
            456.63299560546875,
            530.44970703125
           ]
          },
          {
           "name": "RForearm",
           "type": "scatter",
           "x": [
            974.8179931640625,
            951.1047973632812
           ],
           "y": [
            530.44970703125,
            621.3959960937501
           ]
          },
          {
           "name": "LShoulder",
           "type": "scatter",
           "x": [
            1048.2349853515623,
            1089.476318359375
           ],
           "y": [
            450.8630676269531,
            447.84356689453125
           ]
          },
          {
           "name": "LArm",
           "type": "scatter",
           "x": [
            1089.476318359375,
            1092.5263671875
           ],
           "y": [
            447.84356689453125,
            542.0855712890625
           ]
          },
          {
           "name": "LForearm",
           "type": "scatter",
           "x": [
            1092.5263671875,
            1068.7899169921875
           ],
           "y": [
            542.0855712890625,
            636.2974243164062
           ]
          },
          {
           "name": "RHip",
           "type": "scatter",
           "x": [
            1089.4760742187502,
            1065.9415283203123
           ],
           "y": [
            609.7084960937501,
            606.7933959960936
           ]
          },
          {
           "name": "RThigh",
           "type": "scatter",
           "x": [
            1065.9415283203123,
            1048.205322265625
           ],
           "y": [
            606.7933959960936,
            736.216796875
           ]
          },
          {
           "name": "RCalf",
           "type": "scatter",
           "x": [
            1048.205322265625,
            1054.203369140625
           ],
           "y": [
            736.216796875,
            877.509521484375
           ]
          },
          {
           "name": "RFoot",
           "type": "scatter",
           "x": [
            1054.203369140625,
            1018.901123046875
           ],
           "y": [
            877.509521484375,
            918.7979736328125
           ]
          },
          {
           "name": "LHip",
           "type": "scatter",
           "x": [
            1089.4760742187502,
            1112.9964599609377
           ],
           "y": [
            609.7084960937501,
            609.7399291992188
           ]
          },
          {
           "name": "LThigh",
           "type": "scatter",
           "x": [
            1112.9964599609377,
            1092.4073486328125
           ],
           "y": [
            609.7399291992188,
            742.2497558593751
           ]
          },
          {
           "name": "LCalf",
           "type": "scatter",
           "x": [
            1092.4073486328125,
            1095.2622070312498
           ],
           "y": [
            742.2497558593751,
            889.4316406249999
           ]
          },
          {
           "name": "LFoot",
           "type": "scatter",
           "x": [
            1095.2622070312498,
            1063.009521484375
           ],
           "y": [
            889.4316406249999,
            945.2219238281249
           ]
          }
         ]
        },
        {
         "data": [
          {
           "name": "Neck",
           "type": "scatter",
           "x": [
            998.3489990234376,
            1045.4364013671875
           ],
           "y": [
            392.0622253417969,
            459.5248107910156
           ]
          },
          {
           "name": "REye",
           "type": "scatter",
           "x": [
            998.334716796875,
            998.3489990234376
           ],
           "y": [
            386.07080078125,
            392.0622253417969
           ]
          },
          {
           "name": "LEye",
           "type": "scatter",
           "x": [
            1010.0633544921875,
            998.3489990234376
           ],
           "y": [
            386.1334533691406,
            392.0622253417969
           ]
          },
          {
           "name": "Spine",
           "type": "scatter",
           "x": [
            1045.4364013671875,
            1083.583984375
           ],
           "y": [
            459.5248107910156,
            621.4892578125
           ]
          },
          {
           "name": "RShoulder",
           "type": "scatter",
           "x": [
            1045.4364013671875,
            1007.0374755859376
           ],
           "y": [
            459.5248107910156,
            459.77780151367193
           ]
          },
          {
           "name": "RArm",
           "type": "scatter",
           "x": [
            1007.0374755859376,
            980.5565795898434
           ],
           "y": [
            459.77780151367193,
            550.7332153320312
           ]
          },
          {
           "name": "RForearm",
           "type": "scatter",
           "x": [
            980.5565795898434,
            974.700866699219
           ],
           "y": [
            550.7332153320312,
            627.5023803710938
           ]
          },
          {
           "name": "LShoulder",
           "type": "scatter",
           "x": [
            1045.4364013671875,
            1086.5867919921875
           ],
           "y": [
            459.5248107910156,
            456.66397094726557
           ]
          },
          {
           "name": "LArm",
           "type": "scatter",
           "x": [
            1086.5867919921875,
            1101.302490234375
           ],
           "y": [
            456.66397094726557,
            550.9953002929689
           ]
          },
          {
           "name": "LForearm",
           "type": "scatter",
           "x": [
            1101.302490234375,
            1095.266845703125
           ],
           "y": [
            550.9953002929689,
            648.1185913085938
           ]
          },
          {
           "name": "RHip",
           "type": "scatter",
           "x": [
            1083.583984375,
            1054.2410888671875
           ],
           "y": [
            621.4892578125,
            621.4343872070312
           ]
          },
          {
           "name": "RThigh",
           "type": "scatter",
           "x": [
            1054.2410888671875,
            1045.478759765625
           ],
           "y": [
            621.4343872070312,
            739.0984497070311
           ]
          },
          {
           "name": "RCalf",
           "type": "scatter",
           "x": [
            1045.478759765625,
            1048.419677734375
           ],
           "y": [
            739.0984497070311,
            880.3727416992186
           ]
          },
          {
           "name": "RFoot",
           "type": "scatter",
           "x": [
            1048.419677734375,
            1007.1527099609376
           ],
           "y": [
            880.3727416992186,
            921.7002563476561
           ]
          },
          {
           "name": "LHip",
           "type": "scatter",
           "x": [
            1083.583984375,
            1110.1136474609377
           ],
           "y": [
            621.4892578125,
            621.5238647460938
           ]
          },
          {
           "name": "LThigh",
           "type": "scatter",
           "x": [
            1110.1136474609377,
            1092.448486328125
           ],
           "y": [
            621.5238647460938,
            745.1041870117186
           ]
          },
          {
           "name": "LCalf",
           "type": "scatter",
           "x": [
            1092.448486328125,
            1092.4276123046877
           ],
           "y": [
            745.1041870117186,
            901.0586547851561
           ]
          },
          {
           "name": "LFoot",
           "type": "scatter",
           "x": [
            1092.4276123046877,
            1051.3233642578125
           ],
           "y": [
            901.0586547851561,
            951.070068359375
           ]
          }
         ]
        },
        {
         "data": [
          {
           "name": "Neck",
           "type": "scatter",
           "x": [
            995.2512817382811,
            1045.2164306640623
           ],
           "y": [
            406.55572509765625,
            468.4962158203125
           ]
          },
          {
           "name": "REye",
           "type": "scatter",
           "x": [
            995.3322143554688,
            995.2512817382811
           ],
           "y": [
            389.09811401367193,
            406.55572509765625
           ]
          },
          {
           "name": "LEye",
           "type": "scatter",
           "x": [
            1001.380615234375,
            995.2512817382811
           ],
           "y": [
            389.1777038574218,
            406.55572509765625
           ]
          },
          {
           "name": "Spine",
           "type": "scatter",
           "x": [
            1045.2164306640623,
            1071.8128662109377
           ],
           "y": [
            468.4962158203125,
            624.4295043945314
           ]
          },
          {
           "name": "RShoulder",
           "type": "scatter",
           "x": [
            1045.2164306640623,
            1001.1616821289062
           ],
           "y": [
            468.4962158203125,
            477.21307373046875
           ]
          },
          {
           "name": "RArm",
           "type": "scatter",
           "x": [
            1001.1616821289062,
            998.1080932617188
           ],
           "y": [
            477.21307373046875,
            559.7235717773436
           ]
          },
          {
           "name": "RForearm",
           "type": "scatter",
           "x": [
            998.1080932617188,
            998.1694335937499
           ],
           "y": [
            559.7235717773436,
            642.1140747070312
           ]
          },
          {
           "name": "LShoulder",
           "type": "scatter",
           "x": [
            1045.2164306640623,
            1080.6441650390623
           ],
           "y": [
            468.4962158203125,
            462.6515808105469
           ]
          },
          {
           "name": "LArm",
           "type": "scatter",
           "x": [
            1080.6441650390623,
            1116.0267333984377
           ],
           "y": [
            462.6515808105469,
            559.70654296875
           ]
          },
          {
           "name": "LForearm",
           "type": "scatter",
           "x": [
            1116.0267333984377,
            1118.8900146484377
           ],
           "y": [
            559.70654296875,
            665.64404296875
           ]
          },
          {
           "name": "RHip",
           "type": "scatter",
           "x": [
            1071.8128662109377,
            1045.4063720703123
           ],
           "y": [
            624.4295043945314,
            624.5323486328125
           ]
          },
          {
           "name": "RThigh",
           "type": "scatter",
           "x": [
            1045.4063720703123,
            1045.342529296875
           ],
           "y": [
            624.5323486328125,
            742.0897827148436
           ]
          },
          {
           "name": "RCalf",
           "type": "scatter",
           "x": [
            1045.342529296875,
            1048.1673583984377
           ],
           "y": [
            742.0897827148436,
            883.35693359375
           ]
          },
          {
           "name": "RFoot",
           "type": "scatter",
           "x": [
            1048.1673583984377,
            1004.1567993164062
           ],
           "y": [
            883.35693359375,
            927.5008544921875
           ]
          },
          {
           "name": "LHip",
           "type": "scatter",
           "x": [
            1071.8128662109377,
            1098.2846679687502
           ],
           "y": [
            624.4295043945314,
            621.6287231445314
           ]
          },
          {
           "name": "LThigh",
           "type": "scatter",
           "x": [
            1098.2846679687502,
            1092.3920898437502
           ],
           "y": [
            621.6287231445314,
            753.9788208007811
           ]
          },
          {
           "name": "LCalf",
           "type": "scatter",
           "x": [
            1092.3920898437502,
            1089.514892578125
           ],
           "y": [
            753.9788208007811,
            904.1295776367188
           ]
          },
          {
           "name": "LFoot",
           "type": "scatter",
           "x": [
            1089.514892578125,
            1048.2647705078125
           ],
           "y": [
            904.1295776367188,
            951.2197265625
           ]
          }
         ]
        },
        {
         "data": [
          {
           "name": "Neck",
           "type": "scatter",
           "x": [
            986.5435791015625,
            1039.3989257812498
           ],
           "y": [
            412.6163330078125,
            480.232666015625
           ]
          },
          {
           "name": "REye",
           "type": "scatter",
           "x": [
            986.5219116210936,
            986.5435791015625
           ],
           "y": [
            406.6796569824218,
            412.6163330078125
           ]
          },
          {
           "name": "LEye",
           "type": "scatter",
           "x": [
            1001.1173095703124,
            986.5435791015625
           ],
           "y": [
            406.717529296875,
            412.6163330078125
           ]
          },
          {
           "name": "Spine",
           "type": "scatter",
           "x": [
            1039.3989257812498,
            1083.5537109375
           ],
           "y": [
            480.232666015625,
            624.6092529296875
           ]
          },
          {
           "name": "RShoulder",
           "type": "scatter",
           "x": [
            1039.3989257812498,
            998.3217163085936
           ],
           "y": [
            480.232666015625,
            483.1632080078125
           ]
          },
          {
           "name": "RArm",
           "type": "scatter",
           "x": [
            998.3217163085936,
            1001.0947265625
           ],
           "y": [
            483.1632080078125,
            571.5247192382814
           ]
          },
          {
           "name": "RForearm",
           "type": "scatter",
           "x": [
            1001.0947265625,
            1012.928466796875
           ],
           "y": [
            571.5247192382814,
            644.9487915039062
           ]
          },
          {
           "name": "LShoulder",
           "type": "scatter",
           "x": [
            1039.3989257812498,
            1074.7758789062498
           ],
           "y": [
            480.232666015625,
            474.41006469726557
           ]
          },
          {
           "name": "LArm",
           "type": "scatter",
           "x": [
            1074.7758789062498,
            1124.78125
           ],
           "y": [
            474.41006469726557,
            571.4553833007812
           ]
          },
          {
           "name": "LForearm",
           "type": "scatter",
           "x": [
            1124.78125,
            1142.58935546875
           ],
           "y": [
            571.4553833007812,
            668.6278076171876
           ]
          },
          {
           "name": "RHip",
           "type": "scatter",
           "x": [
            1083.5537109375,
            1054.22265625
           ],
           "y": [
            624.6092529296875,
            627.4354248046875
           ]
          },
          {
           "name": "RThigh",
           "type": "scatter",
           "x": [
            1054.22265625,
            1045.2236328125
           ],
           "y": [
            627.4354248046875,
            742.2714233398436
           ]
          },
          {
           "name": "RCalf",
           "type": "scatter",
           "x": [
            1045.2236328125,
            1045.373291015625
           ],
           "y": [
            742.2714233398436,
            883.62939453125
           ]
          },
          {
           "name": "RFoot",
           "type": "scatter",
           "x": [
            1045.373291015625,
            1001.2221679687501
           ],
           "y": [
            883.62939453125,
            930.4873046875001
           ]
          },
          {
           "name": "LHip",
           "type": "scatter",
           "x": [
            1083.5537109375,
            1110.0941162109377
           ],
           "y": [
            624.6092529296875,
            624.57177734375
           ]
          },
          {
           "name": "LThigh",
           "type": "scatter",
           "x": [
            1110.0941162109377,
            1092.3074951171875
           ],
           "y": [
            624.57177734375,
            759.747314453125
           ]
          },
          {
           "name": "LCalf",
           "type": "scatter",
           "x": [
            1092.3074951171875,
            1089.541015625
           ],
           "y": [
            759.747314453125,
            907.0354614257811
           ]
          },
          {
           "name": "LFoot",
           "type": "scatter",
           "x": [
            1089.541015625,
            1048.3354492187502
           ],
           "y": [
            907.0354614257811,
            954.2052612304689
           ]
          }
         ]
        },
        {
         "data": [
          {
           "name": "Neck",
           "type": "scatter",
           "x": [
            980.5720825195314,
            1036.469970703125
           ],
           "y": [
            427.24978637695307,
            489.1044616699219
           ]
          },
          {
           "name": "REye",
           "type": "scatter",
           "x": [
            980.5819091796877,
            980.5720825195314
           ],
           "y": [
            412.6212768554688,
            427.24978637695307
           ]
          },
          {
           "name": "LEye",
           "type": "scatter",
           "x": [
            998.2095947265624,
            980.5720825195314
           ],
           "y": [
            412.6554870605469,
            427.24978637695307
           ]
          },
          {
           "name": "Spine",
           "type": "scatter",
           "x": [
            1036.469970703125,
            1086.5341796875
           ],
           "y": [
            489.1044616699219,
            633.3380737304689
           ]
          },
          {
           "name": "RShoulder",
           "type": "scatter",
           "x": [
            1036.469970703125,
            998.1973876953125
           ],
           "y": [
            489.1044616699219,
            497.8875427246093
           ]
          },
          {
           "name": "RArm",
           "type": "scatter",
           "x": [
            998.1973876953125,
            1012.9458007812499
           ],
           "y": [
            497.8875427246093,
            574.3027954101562
           ]
          },
          {
           "name": "RForearm",
           "type": "scatter",
           "x": [
            1012.9458007812499,
            1024.9085693359377
           ],
           "y": [
            574.3027954101562,
            636.2430419921875
           ]
          },
          {
           "name": "LShoulder",
           "type": "scatter",
           "x": [
            1036.469970703125,
            1071.9835205078125
           ],
           "y": [
            489.1044616699219,
            486.0972595214844
           ]
          },
          {
           "name": "LArm",
           "type": "scatter",
           "x": [
            1071.9835205078125,
            1136.5400390625
           ],
           "y": [
            486.0972595214844,
            574.4728393554688
           ]
          },
          {
           "name": "LForearm",
           "type": "scatter",
           "x": [
            1136.5400390625,
            1165.891357421875
           ],
           "y": [
            574.4728393554688,
            662.7573852539064
           ]
          },
          {
           "name": "RHip",
           "type": "scatter",
           "x": [
            1086.5341796875,
            1057.1401367187502
           ],
           "y": [
            633.3380737304689,
            636.2570190429688
           ]
          },
          {
           "name": "RThigh",
           "type": "scatter",
           "x": [
            1057.1401367187502,
            1039.4125976562498
           ],
           "y": [
            636.2570190429688,
            750.9782104492186
           ]
          },
          {
           "name": "RCalf",
           "type": "scatter",
           "x": [
            1039.4125976562498,
            1045.298583984375
           ],
           "y": [
            750.9782104492186,
            889.3922119140626
           ]
          },
          {
           "name": "RFoot",
           "type": "scatter",
           "x": [
            1045.298583984375,
            1001.2628784179688
           ],
           "y": [
            889.3922119140626,
            933.5718994140623
           ]
          },
          {
           "name": "LHip",
           "type": "scatter",
           "x": [
            1086.5341796875,
            1113.0684814453123
           ],
           "y": [
            633.3380737304689,
            633.3196411132814
           ]
          },
          {
           "name": "LThigh",
           "type": "scatter",
           "x": [
            1113.0684814453123,
            1089.5102539062498
           ],
           "y": [
            633.3196411132814,
            762.7675170898438
           ]
          },
          {
           "name": "LCalf",
           "type": "scatter",
           "x": [
            1089.5102539062498,
            1092.318603515625
           ],
           "y": [
            762.7675170898438,
            912.9363403320311
           ]
          },
          {
           "name": "LFoot",
           "type": "scatter",
           "x": [
            1092.318603515625,
            1048.1922607421875
           ],
           "y": [
            912.9363403320311,
            957.1734008789061
           ]
          }
         ]
        },
        {
         "data": [
          {
           "name": "Neck",
           "type": "scatter",
           "x": [
            974.8317260742189,
            1030.6147460937502
           ],
           "y": [
            439.14736938476557,
            503.8494567871094
           ]
          },
          {
           "name": "REye",
           "type": "scatter",
           "x": [
            977.5228881835935,
            974.8317260742189
           ],
           "y": [
            433.1276245117188,
            439.14736938476557
           ]
          },
          {
           "name": "LEye",
           "type": "scatter",
           "x": [
            989.4738769531251,
            974.8317260742189
           ],
           "y": [
            433.21667480468744,
            439.14736938476557
           ]
          },
          {
           "name": "Spine",
           "type": "scatter",
           "x": [
            1030.6147460937502,
            1089.3995361328125
           ],
           "y": [
            503.8494567871094,
            642.1179809570314
           ]
          },
          {
           "name": "RShoulder",
           "type": "scatter",
           "x": [
            1030.6147460937502,
            995.2113647460935
           ],
           "y": [
            503.8494567871094,
            506.6977233886719
           ]
          },
          {
           "name": "RArm",
           "type": "scatter",
           "x": [
            995.2113647460935,
            1015.8906860351561
           ],
           "y": [
            506.6977233886719,
            568.5223388671875
           ]
          },
          {
           "name": "RForearm",
           "type": "scatter",
           "x": [
            1015.8906860351561,
            1036.5385742187502
           ],
           "y": [
            568.5223388671875,
            621.4413452148438
           ]
          },
          {
           "name": "LShoulder",
           "type": "scatter",
           "x": [
            1030.6147460937502,
            1071.9105224609377
           ],
           "y": [
            503.8494567871094,
            503.69122314453125
           ]
          },
          {
           "name": "LArm",
           "type": "scatter",
           "x": [
            1071.9105224609377,
            1142.4813232421875
           ],
           "y": [
            503.69122314453125,
            577.40478515625
           ]
          },
          {
           "name": "LForearm",
           "type": "scatter",
           "x": [
            1142.4813232421875,
            1186.4703369140625
           ],
           "y": [
            577.40478515625,
            651.0585327148438
           ]
          },
          {
           "name": "RHip",
           "type": "scatter",
           "x": [
            1089.3995361328125,
            1060.093017578125
           ],
           "y": [
            642.1179809570314,
            642.1282348632812
           ]
          },
          {
           "name": "RThigh",
           "type": "scatter",
           "x": [
            1060.093017578125,
            1033.541259765625
           ],
           "y": [
            642.1282348632812,
            759.757568359375
           ]
          },
          {
           "name": "RCalf",
           "type": "scatter",
           "x": [
            1033.541259765625,
            1045.33203125
           ],
           "y": [
            759.757568359375,
            895.2852783203124
           ]
          },
          {
           "name": "RFoot",
           "type": "scatter",
           "x": [
            1045.33203125,
            1001.3529663085936
           ],
           "y": [
            895.2852783203124,
            933.5792236328124
           ]
          },
          {
           "name": "LHip",
           "type": "scatter",
           "x": [
            1089.3995361328125,
            1115.8629150390623
           ],
           "y": [
            642.1179809570314,
            642.1270751953125
           ]
          },
          {
           "name": "LThigh",
           "type": "scatter",
           "x": [
            1115.8629150390623,
            1077.7884521484377
           ],
           "y": [
            642.1270751953125,
            765.7788696289062
           ]
          },
          {
           "name": "LCalf",
           "type": "scatter",
           "x": [
            1077.7884521484377,
            1092.4609375
           ],
           "y": [
            765.7788696289062,
            921.6937866210936
           ]
          },
          {
           "name": "LFoot",
           "type": "scatter",
           "x": [
            1092.4609375,
            1048.3267822265623
           ],
           "y": [
            921.6937866210936,
            959.9985961914062
           ]
          }
         ]
        },
        {
         "data": [
          {
           "name": "Neck",
           "type": "scatter",
           "x": [
            974.570007324219,
            1027.7396240234377
           ],
           "y": [
            456.73730468750006,
            512.6290283203124
           ]
          },
          {
           "name": "REye",
           "type": "scatter",
           "x": [
            974.5654296875,
            974.570007324219
           ],
           "y": [
            444.9156799316406,
            456.73730468750006
           ]
          },
          {
           "name": "LEye",
           "type": "scatter",
           "x": [
            980.65673828125,
            974.570007324219
           ],
           "y": [
            444.9588317871094,
            456.73730468750006
           ]
          },
          {
           "name": "Spine",
           "type": "scatter",
           "x": [
            1027.7396240234377,
            1089.4246826171875
           ],
           "y": [
            512.6290283203124,
            647.9287109375001
           ]
          },
          {
           "name": "RShoulder",
           "type": "scatter",
           "x": [
            1027.7396240234377,
            992.3507690429688
           ],
           "y": [
            512.6290283203124,
            521.4247436523438
           ]
          },
          {
           "name": "RArm",
           "type": "scatter",
           "x": [
            992.3507690429688,
            1030.638427734375
           ],
           "y": [
            521.4247436523438,
            577.3523559570314
           ]
          },
          {
           "name": "RForearm",
           "type": "scatter",
           "x": [
            1030.638427734375,
            1027.7542724609377
           ],
           "y": [
            577.3523559570314,
            642.0435180664062
           ]
          },
          {
           "name": "LShoulder",
           "type": "scatter",
           "x": [
            1027.7396240234377,
            1071.765380859375
           ],
           "y": [
            512.6290283203124,
            509.6841430664063
           ]
          },
          {
           "name": "LArm",
           "type": "scatter",
           "x": [
            1071.765380859375,
            1145.5294189453123
           ],
           "y": [
            509.6841430664063,
            577.3644409179688
           ]
          },
          {
           "name": "LForearm",
           "type": "scatter",
           "x": [
            1145.5294189453123,
            1198.3789062499998
           ],
           "y": [
            577.3644409179688,
            645.1793212890625
           ]
          },
          {
           "name": "RHip",
           "type": "scatter",
           "x": [
            1089.4246826171875,
            1060.0528564453123
           ],
           "y": [
            647.9287109375001,
            647.9129028320312
           ]
          },
          {
           "name": "RThigh",
           "type": "scatter",
           "x": [
            1060.0528564453123,
            1027.6939697265623
           ],
           "y": [
            647.9129028320312,
            762.8191528320312
           ]
          },
          {
           "name": "RCalf",
           "type": "scatter",
           "x": [
            1027.6939697265623,
            1045.3831787109377
           ],
           "y": [
            762.8191528320312,
            901.1184692382812
           ]
          },
          {
           "name": "RFoot",
           "type": "scatter",
           "x": [
            1045.3831787109377,
            1001.3216552734376
           ],
           "y": [
            901.1184692382812,
            933.5673828125
           ]
          },
          {
           "name": "LHip",
           "type": "scatter",
           "x": [
            1089.4246826171875,
            1115.943603515625
           ],
           "y": [
            647.9287109375001,
            647.9680175781249
           ]
          },
          {
           "name": "LThigh",
           "type": "scatter",
           "x": [
            1115.943603515625,
            1072.0112304687502
           ],
           "y": [
            647.9680175781249,
            774.6378784179686
           ]
          },
          {
           "name": "LCalf",
           "type": "scatter",
           "x": [
            1072.0112304687502,
            1095.291015625
           ],
           "y": [
            774.6378784179686,
            927.4996948242189
           ]
          },
          {
           "name": "LFoot",
           "type": "scatter",
           "x": [
            1095.291015625,
            1048.2548828125
           ],
           "y": [
            927.4996948242189,
            957.1515502929689
           ]
          }
         ]
        },
        {
         "data": [
          {
           "name": "Neck",
           "type": "scatter",
           "x": [
            968.81005859375,
            1024.6875
           ],
           "y": [
            477.18792724609375,
            527.3638305664064
           ]
          },
          {
           "name": "REye",
           "type": "scatter",
           "x": [
            968.8160400390623,
            968.81005859375
           ],
           "y": [
            459.7361755371094,
            477.18792724609375
           ]
          },
          {
           "name": "LEye",
           "type": "scatter",
           "x": [
            977.6802368164064,
            968.81005859375
           ],
           "y": [
            462.53454589843756,
            477.18792724609375
           ]
          },
          {
           "name": "Spine",
           "type": "scatter",
           "x": [
            1024.6875,
            1089.3980712890623
           ],
           "y": [
            527.3638305664064,
            651.0137939453125
           ]
          },
          {
           "name": "RShoulder",
           "type": "scatter",
           "x": [
            1024.6875,
            986.4766845703123
           ],
           "y": [
            527.3638305664064,
            530.2456665039062
           ]
          },
          {
           "name": "RArm",
           "type": "scatter",
           "x": [
            986.4766845703123,
            1027.6534423828125
           ],
           "y": [
            530.2456665039062,
            586.2236938476562
           ]
          },
          {
           "name": "RForearm",
           "type": "scatter",
           "x": [
            1027.6534423828125,
            1024.6939697265623
           ],
           "y": [
            586.2236938476562,
            645.1012573242188
           ]
          },
          {
           "name": "LShoulder",
           "type": "scatter",
           "x": [
            1024.6875,
            1065.84765625
           ],
           "y": [
            527.3638305664064,
            527.23388671875
           ]
          },
          {
           "name": "LArm",
           "type": "scatter",
           "x": [
            1065.84765625,
            1145.42431640625
           ],
           "y": [
            527.23388671875,
            574.3008422851562
           ]
          },
          {
           "name": "LForearm",
           "type": "scatter",
           "x": [
            1145.42431640625,
            1201.4023437500002
           ],
           "y": [
            574.3008422851562,
            624.5814819335938
           ]
          },
          {
           "name": "RHip",
           "type": "scatter",
           "x": [
            1089.3980712890623,
            1060.027099609375
           ],
           "y": [
            651.0137939453125,
            651.0194091796875
           ]
          },
          {
           "name": "RThigh",
           "type": "scatter",
           "x": [
            1060.027099609375,
            1024.7554931640623
           ],
           "y": [
            651.0194091796875,
            765.8617553710939
           ]
          },
          {
           "name": "RCalf",
           "type": "scatter",
           "x": [
            1024.7554931640623,
            1045.4466552734377
           ],
           "y": [
            765.8617553710939,
            904.0095825195314
           ]
          },
          {
           "name": "RFoot",
           "type": "scatter",
           "x": [
            1045.4466552734377,
            1001.3549804687501
           ],
           "y": [
            904.0095825195314,
            933.5593872070312
           ]
          },
          {
           "name": "LHip",
           "type": "scatter",
           "x": [
            1089.3980712890623,
            1115.8979492187502
           ],
           "y": [
            651.0137939453125,
            651.0566406249999
           ]
          },
          {
           "name": "LThigh",
           "type": "scatter",
           "x": [
            1115.8979492187502,
            1071.826904296875
           ],
           "y": [
            651.0566406249999,
            783.374084472656
           ]
          },
          {
           "name": "LCalf",
           "type": "scatter",
           "x": [
            1071.826904296875,
            1095.295166015625
           ],
           "y": [
            783.374084472656,
            927.6238403320311
           ]
          },
          {
           "name": "LFoot",
           "type": "scatter",
           "x": [
            1095.295166015625,
            1048.2646484375
           ],
           "y": [
            927.6238403320311,
            957.1219482421875
           ]
          }
         ]
        },
        {
         "data": [
          {
           "name": "Neck",
           "type": "scatter",
           "x": [
            962.9345703125,
            1021.9122924804688
           ],
           "y": [
            489.0708618164063,
            544.9916381835938
           ]
          },
          {
           "name": "REye",
           "type": "scatter",
           "x": [
            962.9672241210938,
            962.9345703125
           ],
           "y": [
            480.28085327148443,
            489.0708618164063
           ]
          },
          {
           "name": "LEye",
           "type": "scatter",
           "x": [
            974.8352661132812,
            962.9345703125
           ],
           "y": [
            483.0568542480468,
            489.0708618164063
           ]
          },
          {
           "name": "Spine",
           "type": "scatter",
           "x": [
            1021.9122924804688,
            1089.4649658203123
           ],
           "y": [
            544.9916381835938,
            665.6271362304689
           ]
          },
          {
           "name": "RShoulder",
           "type": "scatter",
           "x": [
            1021.9122924804688,
            983.6180419921875
           ],
           "y": [
            544.9916381835938,
            547.9660034179688
           ]
          },
          {
           "name": "RArm",
           "type": "scatter",
           "x": [
            983.6180419921875,
            1027.6583251953123
           ],
           "y": [
            547.9660034179688,
            598.0709228515625
           ]
          },
          {
           "name": "RForearm",
           "type": "scatter",
           "x": [
            1027.6583251953123,
            1021.7462158203124
           ],
           "y": [
            598.0709228515625,
            642.1415405273438
           ]
          },
          {
           "name": "LShoulder",
           "type": "scatter",
           "x": [
            1021.9122924804688,
            1060.0360107421875
           ],
           "y": [
            544.9916381835938,
            539.091064453125
           ]
          },
          {
           "name": "LArm",
           "type": "scatter",
           "x": [
            1060.0360107421875,
            1145.501953125
           ],
           "y": [
            539.091064453125,
            574.3786621093751
           ]
          },
          {
           "name": "LForearm",
           "type": "scatter",
           "x": [
            1145.501953125,
            1207.146484375
           ],
           "y": [
            574.3786621093751,
            618.516845703125
           ]
          },
          {
           "name": "RHip",
           "type": "scatter",
           "x": [
            1089.4649658203123,
            1062.950927734375
           ],
           "y": [
            665.6271362304689,
            665.5996704101562
           ]
          },
          {
           "name": "RThigh",
           "type": "scatter",
           "x": [
            1062.950927734375,
            1021.8450927734376
           ],
           "y": [
            665.5996704101562,
            774.6313476562499
           ]
          },
          {
           "name": "RCalf",
           "type": "scatter",
           "x": [
            1021.8450927734376,
            1045.483642578125
           ],
           "y": [
            774.6313476562499,
            906.9749755859376
           ]
          },
          {
           "name": "RFoot",
           "type": "scatter",
           "x": [
            1045.483642578125,
            1001.268798828125
           ],
           "y": [
            906.9749755859376,
            933.5415039062499
           ]
          },
          {
           "name": "LHip",
           "type": "scatter",
           "x": [
            1089.4649658203123,
            1115.896484375
           ],
           "y": [
            665.6271362304689,
            665.6810302734376
           ]
          },
          {
           "name": "LThigh",
           "type": "scatter",
           "x": [
            1115.896484375,
            1068.8992919921875
           ],
           "y": [
            665.6810302734376,
            786.3414916992186
           ]
          },
          {
           "name": "LCalf",
           "type": "scatter",
           "x": [
            1068.8992919921875,
            1095.263671875
           ],
           "y": [
            786.3414916992186,
            927.7318725585936
           ]
          },
          {
           "name": "LFoot",
           "type": "scatter",
           "x": [
            1095.263671875,
            1048.2032470703123
           ],
           "y": [
            927.7318725585936,
            957.1520385742189
           ]
          }
         ]
        },
        {
         "data": [
          {
           "name": "Neck",
           "type": "scatter",
           "x": [
            959.9989013671875,
            1021.757568359375
           ],
           "y": [
            506.6941833496094,
            553.7529907226562
           ]
          },
          {
           "name": "REye",
           "type": "scatter",
           "x": [
            957.1697387695311,
            959.9989013671875
           ],
           "y": [
            497.9044494628906,
            506.6941833496094
           ]
          },
          {
           "name": "LEye",
           "type": "scatter",
           "x": [
            974.7090454101561,
            959.9989013671875
           ],
           "y": [
            497.9582824707031,
            506.6941833496094
           ]
          },
          {
           "name": "Spine",
           "type": "scatter",
           "x": [
            1021.757568359375,
            1092.3121337890623
           ],
           "y": [
            553.7529907226562,
            671.4536743164062
           ]
          },
          {
           "name": "RShoulder",
           "type": "scatter",
           "x": [
            1021.757568359375,
            980.65966796875
           ],
           "y": [
            553.7529907226562,
            553.9685668945312
           ]
          },
          {
           "name": "RArm",
           "type": "scatter",
           "x": [
            980.65966796875,
            1024.8211669921875
           ],
           "y": [
            553.9685668945312,
            615.6669311523439
           ]
          },
          {
           "name": "RForearm",
           "type": "scatter",
           "x": [
            1024.8211669921875,
            1018.8160400390624
           ],
           "y": [
            615.6669311523439,
            645.0297241210938
           ]
          },
          {
           "name": "LShoulder",
           "type": "scatter",
           "x": [
            1021.757568359375,
            1054.1729736328125
           ],
           "y": [
            553.7529907226562,
            550.9024658203125
           ]
          },
          {
           "name": "LArm",
           "type": "scatter",
           "x": [
            1054.1729736328125,
            1130.7236328125
           ],
           "y": [
            550.9024658203125,
            571.3778686523438
           ]
          },
          {
           "name": "LForearm",
           "type": "scatter",
           "x": [
            1130.7236328125,
            1207.2382812499998
           ],
           "y": [
            571.3778686523438,
            600.8444824218751
           ]
          },
          {
           "name": "RHip",
           "type": "scatter",
           "x": [
            1092.3121337890623,
            1065.8629150390623
           ],
           "y": [
            671.4536743164062,
            671.4803466796876
           ]
          },
          {
           "name": "RThigh",
           "type": "scatter",
           "x": [
            1065.8629150390623,
            1015.9646606445312
           ],
           "y": [
            671.4803466796876,
            783.3363647460938
           ]
          },
          {
           "name": "RCalf",
           "type": "scatter",
           "x": [
            1015.9646606445312,
            1048.1811523437502
           ],
           "y": [
            783.3363647460938,
            906.9772338867188
           ]
          },
          {
           "name": "RFoot",
           "type": "scatter",
           "x": [
            1048.1811523437502,
            1001.2535400390624
           ],
           "y": [
            906.9772338867188,
            933.5656127929688
           ]
          },
          {
           "name": "LHip",
           "type": "scatter",
           "x": [
            1092.3121337890623,
            1116.0050048828125
           ],
           "y": [
            671.4536743164062,
            671.4815673828125
           ]
          },
          {
           "name": "LThigh",
           "type": "scatter",
           "x": [
            1116.0050048828125,
            1065.9790039062498
           ],
           "y": [
            671.4815673828125,
            789.2595825195314
           ]
          },
          {
           "name": "LCalf",
           "type": "scatter",
           "x": [
            1065.9790039062498,
            1092.5770263671875
           ],
           "y": [
            789.2595825195314,
            930.4570922851561
           ]
          },
          {
           "name": "LFoot",
           "type": "scatter",
           "x": [
            1092.5770263671875,
            1048.2252197265623
           ],
           "y": [
            930.4570922851561,
            959.9625854492189
           ]
          }
         ]
        },
        {
         "data": [
          {
           "name": "Neck",
           "type": "scatter",
           "x": [
            959.9664916992189,
            1021.7365112304688
           ],
           "y": [
            524.4343872070312,
            571.3919677734375
           ]
          },
          {
           "name": "REye",
           "type": "scatter",
           "x": [
            957.1793823242189,
            959.9664916992189
           ],
           "y": [
            509.6754760742188,
            524.4343872070312
           ]
          },
          {
           "name": "LEye",
           "type": "scatter",
           "x": [
            974.6897583007809,
            959.9664916992189
           ],
           "y": [
            509.66845703125,
            524.4343872070312
           ]
          },
          {
           "name": "Spine",
           "type": "scatter",
           "x": [
            1021.7365112304688,
            1092.333740234375
           ],
           "y": [
            571.3919677734375,
            674.616455078125
           ]
          },
          {
           "name": "RShoulder",
           "type": "scatter",
           "x": [
            1021.7365112304688,
            980.6847534179689
           ],
           "y": [
            571.3919677734375,
            571.5300903320312
           ]
          },
          {
           "name": "RArm",
           "type": "scatter",
           "x": [
            980.6847534179689,
            1042.3228759765623
           ],
           "y": [
            571.5300903320312,
            618.5449829101562
           ]
          },
          {
           "name": "RForearm",
           "type": "scatter",
           "x": [
            1042.3228759765623,
            1018.8359985351561
           ],
           "y": [
            618.5449829101562,
            645.1347045898436
           ]
          },
          {
           "name": "LShoulder",
           "type": "scatter",
           "x": [
            1021.7365112304688,
            1051.2626953125
           ],
           "y": [
            571.3919677734375,
            562.6979370117188
           ]
          },
          {
           "name": "LArm",
           "type": "scatter",
           "x": [
            1051.2626953125,
            1139.41357421875
           ],
           "y": [
            562.6979370117188,
            574.3291625976562
           ]
          },
          {
           "name": "LForearm",
           "type": "scatter",
           "x": [
            1139.41357421875,
            1210.1767578125
           ],
           "y": [
            574.3291625976562,
            595.0499877929688
           ]
          },
          {
           "name": "RHip",
           "type": "scatter",
           "x": [
            1092.333740234375,
            1065.9315185546877
           ],
           "y": [
            674.616455078125,
            677.4030151367189
           ]
          },
          {
           "name": "RThigh",
           "type": "scatter",
           "x": [
            1065.9315185546877,
            1010.0787353515624
           ],
           "y": [
            677.4030151367189,
            783.459228515625
           ]
          },
          {
           "name": "RCalf",
           "type": "scatter",
           "x": [
            1010.0787353515624,
            1048.174560546875
           ],
           "y": [
            783.459228515625,
            907.00732421875
           ]
          },
          {
           "name": "RFoot",
           "type": "scatter",
           "x": [
            1048.174560546875,
            1001.2879638671875
           ],
           "y": [
            907.00732421875,
            936.4301757812499
           ]
          },
          {
           "name": "LHip",
           "type": "scatter",
           "x": [
            1092.333740234375,
            1116.0064697265623
           ],
           "y": [
            674.616455078125,
            677.427001953125
           ]
          },
          {
           "name": "LThigh",
           "type": "scatter",
           "x": [
            1116.0064697265623,
            1060.0814208984377
           ],
           "y": [
            677.427001953125,
            792.3591918945311
           ]
          },
          {
           "name": "LCalf",
           "type": "scatter",
           "x": [
            1060.0814208984377,
            1092.5766601562498
           ],
           "y": [
            792.3591918945311,
            930.5152587890625
           ]
          },
          {
           "name": "LFoot",
           "type": "scatter",
           "x": [
            1092.5766601562498,
            1045.4581298828125
           ],
           "y": [
            930.5152587890625,
            959.9686889648435
           ]
          }
         ]
        },
        {
         "data": [
          {
           "name": "Neck",
           "type": "scatter",
           "x": [
            959.9606323242189,
            1018.8941040039062
           ],
           "y": [
            536.1233520507812,
            577.5028076171876
           ]
          },
          {
           "name": "REye",
           "type": "scatter",
           "x": [
            957.1644287109376,
            959.9606323242189
           ],
           "y": [
            527.3267822265625,
            536.1233520507812
           ]
          },
          {
           "name": "LEye",
           "type": "scatter",
           "x": [
            974.7080688476561,
            959.9606323242189
           ],
           "y": [
            527.4194946289062,
            536.1233520507812
           ]
          },
          {
           "name": "Spine",
           "type": "scatter",
           "x": [
            1018.8941040039062,
            1092.5262451171875
           ],
           "y": [
            577.5028076171876,
            686.2830200195312
           ]
          },
          {
           "name": "RShoulder",
           "type": "scatter",
           "x": [
            1018.8941040039062,
            980.5762939453123
           ],
           "y": [
            577.5028076171876,
            580.2828979492189
           ]
          },
          {
           "name": "RArm",
           "type": "scatter",
           "x": [
            980.5762939453123,
            1004.2112426757811
           ],
           "y": [
            580.2828979492189,
            624.4955444335938
           ]
          },
          {
           "name": "RForearm",
           "type": "scatter",
           "x": [
            1004.2112426757811,
            998.1862792968749
           ],
           "y": [
            624.4955444335938,
            627.4459228515625
           ]
          },
          {
           "name": "LShoulder",
           "type": "scatter",
           "x": [
            1018.8941040039062,
            1051.3018798828125
           ],
           "y": [
            577.5028076171876,
            577.4703369140624
           ]
          },
          {
           "name": "LArm",
           "type": "scatter",
           "x": [
            1051.3018798828125,
            1139.5225830078125
           ],
           "y": [
            577.4703369140624,
            577.2831420898438
           ]
          },
          {
           "name": "LForearm",
           "type": "scatter",
           "x": [
            1139.5225830078125,
            1219.0321044921877
           ],
           "y": [
            577.2831420898438,
            577.5134887695312
           ]
          },
          {
           "name": "RHip",
           "type": "scatter",
           "x": [
            1092.5262451171875,
            1068.819091796875
           ],
           "y": [
            686.2830200195312,
            686.2694091796875
           ]
          },
          {
           "name": "RThigh",
           "type": "scatter",
           "x": [
            1068.819091796875,
            1004.2042236328125
           ],
           "y": [
            686.2694091796875,
            786.3173217773436
           ]
          },
          {
           "name": "RCalf",
           "type": "scatter",
           "x": [
            1004.2042236328125,
            1045.4833984375
           ],
           "y": [
            786.3173217773436,
            907.0474243164062
           ]
          },
          {
           "name": "RFoot",
           "type": "scatter",
           "x": [
            1045.4833984375,
            1001.2111206054688
           ],
           "y": [
            907.0474243164062,
            936.4091186523438
           ]
          },
          {
           "name": "LHip",
           "type": "scatter",
           "x": [
            1092.5262451171875,
            1118.917724609375
           ],
           "y": [
            686.2830200195312,
            689.1571044921875
           ]
          },
          {
           "name": "LThigh",
           "type": "scatter",
           "x": [
            1118.917724609375,
            1051.274658203125
           ],
           "y": [
            689.1571044921875,
            798.1724243164062
           ]
          },
          {
           "name": "LCalf",
           "type": "scatter",
           "x": [
            1051.274658203125,
            1092.554931640625
           ],
           "y": [
            798.1724243164062,
            930.6165771484377
           ]
          },
          {
           "name": "LFoot",
           "type": "scatter",
           "x": [
            1092.554931640625,
            1045.4046630859377
           ],
           "y": [
            930.6165771484377,
            960.0166625976561
           ]
          }
         ]
        },
        {
         "data": [
          {
           "name": "Neck",
           "type": "scatter",
           "x": [
            957.1636962890625,
            1021.7460327148434
           ],
           "y": [
            550.8551635742189,
            594.9678955078125
           ]
          },
          {
           "name": "REye",
           "type": "scatter",
           "x": [
            957.0787963867188,
            957.1636962890625
           ],
           "y": [
            539.0780029296875,
            550.8551635742189
           ]
          },
          {
           "name": "LEye",
           "type": "scatter",
           "x": [
            974.6644897460936,
            957.1636962890625
           ],
           "y": [
            536.2023925781249,
            550.8551635742189
           ]
          },
          {
           "name": "Spine",
           "type": "scatter",
           "x": [
            1021.7460327148434,
            1095.2686767578125
           ],
           "y": [
            594.9678955078125,
            694.9891967773438
           ]
          },
          {
           "name": "RShoulder",
           "type": "scatter",
           "x": [
            1021.7460327148434,
            980.69189453125
           ],
           "y": [
            594.9678955078125,
            595.0885620117188
           ]
          },
          {
           "name": "LShoulder",
           "type": "scatter",
           "x": [
            1021.7460327148434,
            1051.253662109375
           ],
           "y": [
            594.9678955078125,
            592.0260620117188
           ]
          },
          {
           "name": "LArm",
           "type": "scatter",
           "x": [
            1051.253662109375,
            1136.5428466796877
           ],
           "y": [
            592.0260620117188,
            577.4287109375001
           ]
          },
          {
           "name": "LForearm",
           "type": "scatter",
           "x": [
            1136.5428466796877,
            1213.0910644531248
           ],
           "y": [
            577.4287109375001,
            574.5580444335938
           ]
          },
          {
           "name": "RHip",
           "type": "scatter",
           "x": [
            1095.2686767578125,
            1068.859619140625
           ],
           "y": [
            694.9891967773438,
            692.2434082031249
           ]
          },
          {
           "name": "RThigh",
           "type": "scatter",
           "x": [
            1068.859619140625,
            1001.3319702148434
           ],
           "y": [
            692.2434082031249,
            786.4371337890625
           ]
          },
          {
           "name": "RCalf",
           "type": "scatter",
           "x": [
            1001.3319702148434,
            1045.442626953125
           ],
           "y": [
            786.4371337890625,
            907.0369873046876
           ]
          },
          {
           "name": "RFoot",
           "type": "scatter",
           "x": [
            1045.442626953125,
            1001.2741088867188
           ],
           "y": [
            907.0369873046876,
            936.413818359375
           ]
          },
          {
           "name": "LHip",
           "type": "scatter",
           "x": [
            1095.2686767578125,
            1118.9581298828125
           ],
           "y": [
            694.9891967773438,
            695.1226806640625
           ]
          },
          {
           "name": "LThigh",
           "type": "scatter",
           "x": [
            1118.9581298828125,
            1048.417724609375
           ],
           "y": [
            695.1226806640625,
            804.0050048828124
           ]
          },
          {
           "name": "LCalf",
           "type": "scatter",
           "x": [
            1048.417724609375,
            1092.5740966796877
           ],
           "y": [
            804.0050048828124,
            930.6419067382812
           ]
          },
          {
           "name": "LFoot",
           "type": "scatter",
           "x": [
            1092.5740966796877,
            1045.4552001953123
           ],
           "y": [
            930.6419067382812,
            959.9627685546877
           ]
          }
         ]
        },
        {
         "data": [
          {
           "name": "Neck",
           "type": "scatter",
           "x": [
            957.1797485351564,
            1021.790283203125
           ],
           "y": [
            559.7152099609376,
            598.0837402343751
           ]
          },
          {
           "name": "REye",
           "type": "scatter",
           "x": [
            957.1313476562498,
            957.1797485351564
           ],
           "y": [
            550.900146484375,
            559.7152099609376
           ]
          },
          {
           "name": "LEye",
           "type": "scatter",
           "x": [
            974.6768188476561,
            957.1797485351564
           ],
           "y": [
            550.9909057617188,
            559.7152099609376
           ]
          },
          {
           "name": "Spine",
           "type": "scatter",
           "x": [
            1021.790283203125,
            1095.380615234375
           ],
           "y": [
            598.0837402343751,
            698.0507202148438
           ]
          },
          {
           "name": "RShoulder",
           "type": "scatter",
           "x": [
            1021.790283203125,
            983.5243530273435
           ],
           "y": [
            598.0837402343751,
            600.9878540039064
           ]
          },
          {
           "name": "LShoulder",
           "type": "scatter",
           "x": [
            1021.790283203125,
            1054.166015625
           ],
           "y": [
            598.0837402343751,
            597.9444580078125
           ]
          },
          {
           "name": "LArm",
           "type": "scatter",
           "x": [
            1054.166015625,
            1142.3902587890625
           ],
           "y": [
            597.9444580078125,
            577.4967651367189
           ]
          },
          {
           "name": "LForearm",
           "type": "scatter",
           "x": [
            1142.3902587890625,
            1210.2689208984375
           ],
           "y": [
            577.4967651367189,
            577.260498046875
           ]
          },
          {
           "name": "RHip",
           "type": "scatter",
           "x": [
            1095.380615234375,
            1068.9838867187502
           ],
           "y": [
            698.0507202148438,
            695.2567138671874
           ]
          },
          {
           "name": "RThigh",
           "type": "scatter",
           "x": [
            1068.9838867187502,
            1001.1863403320312
           ],
           "y": [
            695.2567138671874,
            789.1847534179686
           ]
          },
          {
           "name": "RCalf",
           "type": "scatter",
           "x": [
            1001.1863403320312,
            1045.4503173828125
           ],
           "y": [
            789.1847534179686,
            907.0276489257811
           ]
          },
          {
           "name": "RFoot",
           "type": "scatter",
           "x": [
            1045.4503173828125,
            1001.2973632812499
           ],
           "y": [
            907.0276489257811,
            936.4210205078125
           ]
          },
          {
           "name": "LHip",
           "type": "scatter",
           "x": [
            1095.380615234375,
            1119.0660400390623
           ],
           "y": [
            698.0507202148438,
            700.9695434570312
           ]
          },
          {
           "name": "LThigh",
           "type": "scatter",
           "x": [
            1119.0660400390623,
            1048.235595703125
           ],
           "y": [
            700.9695434570312,
            806.9119873046875
           ]
          },
          {
           "name": "LCalf",
           "type": "scatter",
           "x": [
            1048.235595703125,
            1092.5723876953123
           ],
           "y": [
            806.9119873046875,
            930.6817016601561
           ]
          },
          {
           "name": "LFoot",
           "type": "scatter",
           "x": [
            1092.5723876953123,
            1048.1954345703123
           ],
           "y": [
            930.6817016601561,
            960.0496215820312
           ]
          }
         ]
        },
        {
         "data": [
          {
           "name": "Neck",
           "type": "scatter",
           "x": [
            960.0548706054689,
            1021.741455078125
           ],
           "y": [
            571.512939453125,
            609.7092895507814
           ]
          },
          {
           "name": "REye",
           "type": "scatter",
           "x": [
            957.1649780273436,
            960.0548706054689
           ],
           "y": [
            556.7766723632812,
            571.512939453125
           ]
          },
          {
           "name": "LEye",
           "type": "scatter",
           "x": [
            974.7341918945312,
            960.0548706054689
           ],
           "y": [
            556.7683715820312,
            571.512939453125
           ]
          },
          {
           "name": "Spine",
           "type": "scatter",
           "x": [
            1021.741455078125,
            1095.337646484375
           ],
           "y": [
            609.7092895507814,
            706.9243774414064
           ]
          },
          {
           "name": "RShoulder",
           "type": "scatter",
           "x": [
            1021.741455078125,
            983.5643310546878
           ],
           "y": [
            609.7092895507814,
            615.5764770507812
           ]
          },
          {
           "name": "LShoulder",
           "type": "scatter",
           "x": [
            1021.741455078125,
            1051.2864990234377
           ],
           "y": [
            609.7092895507814,
            603.9188842773438
           ]
          },
          {
           "name": "LArm",
           "type": "scatter",
           "x": [
            1051.2864990234377,
            1142.5936279296877
           ],
           "y": [
            603.9188842773438,
            594.9899902343751
           ]
          },
          {
           "name": "LForearm",
           "type": "scatter",
           "x": [
            1142.5936279296877,
            1213.1251220703125
           ],
           "y": [
            594.9899902343751,
            577.4108886718751
           ]
          },
          {
           "name": "RHip",
           "type": "scatter",
           "x": [
            1095.337646484375,
            1068.9239501953123
           ],
           "y": [
            706.9243774414064,
            706.8553466796876
           ]
          },
          {
           "name": "RThigh",
           "type": "scatter",
           "x": [
            1068.9239501953123,
            1001.1224975585936
           ],
           "y": [
            706.8553466796876,
            789.2546997070311
           ]
          },
          {
           "name": "RCalf",
           "type": "scatter",
           "x": [
            1001.1224975585936,
            1045.4830322265623
           ],
           "y": [
            789.2546997070311,
            907.0175781249999
           ]
          },
          {
           "name": "RFoot",
           "type": "scatter",
           "x": [
            1045.4830322265623,
            1001.3162231445312
           ],
           "y": [
            907.0175781249999,
            936.4279174804686
           ]
          },
          {
           "name": "LHip",
           "type": "scatter",
           "x": [
            1095.337646484375,
            1119.031982421875
           ],
           "y": [
            706.9243774414064,
            709.8703613281249
           ]
          },
          {
           "name": "LThigh",
           "type": "scatter",
           "x": [
            1119.031982421875,
            1045.3940429687502
           ],
           "y": [
            709.8703613281249,
            806.9963989257811
           ]
          },
          {
           "name": "LCalf",
           "type": "scatter",
           "x": [
            1045.3940429687502,
            1092.562255859375
           ],
           "y": [
            806.9963989257811,
            930.6971435546878
           ]
          },
          {
           "name": "LFoot",
           "type": "scatter",
           "x": [
            1092.562255859375,
            1048.192626953125
           ],
           "y": [
            930.6971435546878,
            960.0568237304689
           ]
          }
         ]
        },
        {
         "data": [
          {
           "name": "Neck",
           "type": "scatter",
           "x": [
            960.0084838867188,
            1018.8471069335936
           ],
           "y": [
            577.25341796875,
            621.351318359375
           ]
          },
          {
           "name": "REye",
           "type": "scatter",
           "x": [
            957.1343994140623,
            960.0084838867188
           ],
           "y": [
            568.4779663085938,
            577.25341796875
           ]
          },
          {
           "name": "LEye",
           "type": "scatter",
           "x": [
            974.6961669921876,
            960.0084838867188
           ],
           "y": [
            568.5577392578125,
            577.25341796875
           ]
          },
          {
           "name": "Spine",
           "type": "scatter",
           "x": [
            1018.8471069335936,
            1095.3675537109377
           ],
           "y": [
            621.351318359375,
            712.737060546875
           ]
          },
          {
           "name": "RShoulder",
           "type": "scatter",
           "x": [
            1018.8471069335936,
            977.5831298828124
           ],
           "y": [
            621.351318359375,
            621.4287719726562
           ]
          },
          {
           "name": "RArm",
           "type": "scatter",
           "x": [
            977.5831298828124,
            909.9447631835935
           ],
           "y": [
            621.4287719726562,
            648.0246582031249
           ]
          },
          {
           "name": "LShoulder",
           "type": "scatter",
           "x": [
            1018.8471069335936,
            1051.248779296875
           ],
           "y": [
            621.351318359375,
            618.4635620117188
           ]
          },
          {
           "name": "LArm",
           "type": "scatter",
           "x": [
            1051.248779296875,
            1136.5164794921875
           ],
           "y": [
            618.4635620117188,
            600.9840087890625
           ]
          },
          {
           "name": "LForearm",
           "type": "scatter",
           "x": [
            1136.5164794921875,
            1204.3328857421875
           ],
           "y": [
            600.9840087890625,
            598.0458374023439
           ]
          },
          {
           "name": "RHip",
           "type": "scatter",
           "x": [
            1095.3675537109377,
            1068.958740234375
           ],
           "y": [
            712.737060546875,
            712.727294921875
           ]
          },
          {
           "name": "RThigh",
           "type": "scatter",
           "x": [
            1068.958740234375,
            1001.0899047851561
           ],
           "y": [
            712.727294921875,
            792.1876220703125
           ]
          },
          {
           "name": "RCalf",
           "type": "scatter",
           "x": [
            1001.0899047851561,
            1048.1749267578125
           ],
           "y": [
            792.1876220703125,
            907.03857421875
           ]
          },
          {
           "name": "RFoot",
           "type": "scatter",
           "x": [
            1048.1749267578125,
            1001.3400268554688
           ],
           "y": [
            907.03857421875,
            936.4532470703123
           ]
          },
          {
           "name": "LHip",
           "type": "scatter",
           "x": [
            1095.3675537109377,
            1119.0211181640623
           ],
           "y": [
            712.737060546875,
            712.8123779296875
           ]
          },
          {
           "name": "LThigh",
           "type": "scatter",
           "x": [
            1119.0211181640623,
            1045.267822265625
           ],
           "y": [
            712.8123779296875,
            809.8660888671875
           ]
          },
          {
           "name": "LCalf",
           "type": "scatter",
           "x": [
            1045.267822265625,
            1092.5355224609377
           ],
           "y": [
            809.8660888671875,
            930.6868286132814
           ]
          },
          {
           "name": "LFoot",
           "type": "scatter",
           "x": [
            1092.5355224609377,
            1048.1967773437502
           ],
           "y": [
            930.6868286132814,
            960.0465087890625
           ]
          }
         ]
        },
        {
         "data": [
          {
           "name": "Neck",
           "type": "scatter",
           "x": [
            962.8948974609375,
            1021.7510375976561
           ],
           "y": [
            580.3235473632812,
            621.54345703125
           ]
          },
          {
           "name": "REye",
           "type": "scatter",
           "x": [
            960.0223388671875,
            962.8948974609375
           ],
           "y": [
            574.3257446289062,
            580.3235473632812
           ]
          },
          {
           "name": "LEye",
           "type": "scatter",
           "x": [
            974.7615966796877,
            962.8948974609375
           ],
           "y": [
            574.453125,
            580.3235473632812
           ]
          },
          {
           "name": "Spine",
           "type": "scatter",
           "x": [
            1021.7510375976561,
            1095.4149169921875
           ],
           "y": [
            621.54345703125,
            718.5847778320312
           ]
          },
          {
           "name": "RShoulder",
           "type": "scatter",
           "x": [
            1021.7510375976561,
            980.6055908203123
           ],
           "y": [
            621.54345703125,
            624.4038696289064
           ]
          },
          {
           "name": "LShoulder",
           "type": "scatter",
           "x": [
            1021.7510375976561,
            1054.180419921875
           ],
           "y": [
            621.54345703125,
            621.4512329101562
           ]
          },
          {
           "name": "LArm",
           "type": "scatter",
           "x": [
            1054.180419921875,
            1139.6024169921875
           ],
           "y": [
            621.4512329101562,
            612.68505859375
           ]
          },
          {
           "name": "LForearm",
           "type": "scatter",
           "x": [
            1139.6024169921875,
            1213.1253662109375
           ],
           "y": [
            612.68505859375,
            603.9227294921875
           ]
          },
          {
           "name": "RHip",
           "type": "scatter",
           "x": [
            1095.4149169921875,
            1068.9844970703123
           ],
           "y": [
            718.5847778320312,
            715.825927734375
           ]
          },
          {
           "name": "RThigh",
           "type": "scatter",
           "x": [
            1068.9844970703123,
            998.2173461914062
           ],
           "y": [
            715.825927734375,
            795.1386108398438
           ]
          },
          {
           "name": "RCalf",
           "type": "scatter",
           "x": [
            998.2173461914062,
            1045.435791015625
           ],
           "y": [
            795.1386108398438,
            907.0429077148435
           ]
          },
          {
           "name": "RFoot",
           "type": "scatter",
           "x": [
            1045.435791015625,
            1001.3323974609376
           ],
           "y": [
            907.0429077148435,
            936.4110107421876
           ]
          },
          {
           "name": "LHip",
           "type": "scatter",
           "x": [
            1095.4149169921875,
            1121.8232421875
           ],
           "y": [
            718.5847778320312,
            718.7138061523438
           ]
          },
          {
           "name": "LThigh",
           "type": "scatter",
           "x": [
            1121.8232421875,
            1042.4251708984377
           ],
           "y": [
            718.7138061523438,
            810.0037841796875
           ]
          },
          {
           "name": "LCalf",
           "type": "scatter",
           "x": [
            1042.4251708984377,
            1092.5366210937502
           ],
           "y": [
            810.0037841796875,
            933.4698486328125
           ]
          },
          {
           "name": "LFoot",
           "type": "scatter",
           "x": [
            1092.5366210937502,
            1045.4581298828125
           ],
           "y": [
            933.4698486328125,
            960.0628662109376
           ]
          }
         ]
        },
        {
         "data": [
          {
           "name": "Neck",
           "type": "scatter",
           "x": [
            962.9776000976562,
            1021.8471679687501
           ],
           "y": [
            583.3461303710938,
            624.4677734375
           ]
          },
          {
           "name": "REye",
           "type": "scatter",
           "x": [
            962.9015502929689,
            962.9776000976562
           ],
           "y": [
            574.5287475585938,
            583.3461303710938
           ]
          },
          {
           "name": "LEye",
           "type": "scatter",
           "x": [
            974.8187866210936,
            962.9776000976562
           ],
           "y": [
            577.2975463867189,
            583.3461303710938
           ]
          },
          {
           "name": "Spine",
           "type": "scatter",
           "x": [
            1021.8471679687501,
            1095.462158203125
           ],
           "y": [
            624.4677734375,
            718.7700805664062
           ]
          },
          {
           "name": "RShoulder",
           "type": "scatter",
           "x": [
            1021.8471679687501,
            983.5485229492188
           ],
           "y": [
            624.4677734375,
            624.4782104492188
           ]
          },
          {
           "name": "LShoulder",
           "type": "scatter",
           "x": [
            1021.8471679687501,
            1057.184814453125
           ],
           "y": [
            624.4677734375,
            624.5835571289064
           ]
          },
          {
           "name": "LArm",
           "type": "scatter",
           "x": [
            1057.184814453125,
            1142.519775390625
           ],
           "y": [
            624.5835571289064,
            621.5889892578125
           ]
          },
          {
           "name": "LForearm",
           "type": "scatter",
           "x": [
            1142.519775390625,
            1213.246826171875
           ],
           "y": [
            621.5889892578125,
            624.5320434570312
           ]
          },
          {
           "name": "RHip",
           "type": "scatter",
           "x": [
            1095.462158203125,
            1071.7475585937502
           ],
           "y": [
            718.7700805664062,
            718.7059936523439
           ]
          },
          {
           "name": "RThigh",
           "type": "scatter",
           "x": [
            1071.7475585937502,
            998.1574096679689
           ],
           "y": [
            718.7059936523439,
            795.21630859375
           ]
          },
          {
           "name": "RCalf",
           "type": "scatter",
           "x": [
            998.1574096679689,
            1045.3687744140623
           ],
           "y": [
            795.21630859375,
            907.079833984375
           ]
          },
          {
           "name": "RFoot",
           "type": "scatter",
           "x": [
            1045.3687744140623,
            1001.2843627929688
           ],
           "y": [
            907.079833984375,
            936.4426269531251
           ]
          },
          {
           "name": "LHip",
           "type": "scatter",
           "x": [
            1095.462158203125,
            1121.8829345703123
           ],
           "y": [
            718.7700805664062,
            721.6242065429686
           ]
          },
          {
           "name": "LThigh",
           "type": "scatter",
           "x": [
            1121.8829345703123,
            1039.512939453125
           ],
           "y": [
            721.6242065429686,
            812.7041625976561
           ]
          },
          {
           "name": "LCalf",
           "type": "scatter",
           "x": [
            1039.512939453125,
            1092.533935546875
           ],
           "y": [
            812.7041625976561,
            930.728698730469
           ]
          },
          {
           "name": "LFoot",
           "type": "scatter",
           "x": [
            1092.533935546875,
            1048.2075195312498
           ],
           "y": [
            930.728698730469,
            960.0640258789062
           ]
          }
         ]
        },
        {
         "data": [
          {
           "name": "Neck",
           "type": "scatter",
           "x": [
            965.8834838867188,
            1021.6986083984376
           ],
           "y": [
            589.1851806640625,
            627.4897460937501
           ]
          },
          {
           "name": "REye",
           "type": "scatter",
           "x": [
            965.8212890624999,
            965.8834838867188
           ],
           "y": [
            577.3321533203124,
            589.1851806640625
           ]
          },
          {
           "name": "LEye",
           "type": "scatter",
           "x": [
            977.521240234375,
            965.8834838867188
           ],
           "y": [
            577.4179077148438,
            589.1851806640625
           ]
          },
          {
           "name": "Spine",
           "type": "scatter",
           "x": [
            1021.6986083984376,
            1095.2847900390623
           ],
           "y": [
            627.4897460937501,
            724.5475463867188
           ]
          },
          {
           "name": "RShoulder",
           "type": "scatter",
           "x": [
            1021.6986083984376,
            980.6674804687501
           ],
           "y": [
            627.4897460937501,
            627.4985961914062
           ]
          },
          {
           "name": "LShoulder",
           "type": "scatter",
           "x": [
            1021.6986083984376,
            1051.2260742187502
           ],
           "y": [
            627.4897460937501,
            627.4963989257812
           ]
          },
          {
           "name": "LArm",
           "type": "scatter",
           "x": [
            1051.2260742187502,
            1142.5450439453123
           ],
           "y": [
            627.4963989257812,
            642.1322021484375
           ]
          },
          {
           "name": "LForearm",
           "type": "scatter",
           "x": [
            1142.5450439453123,
            1233.6058349609375
           ],
           "y": [
            642.1322021484375,
            644.9362182617189
           ]
          },
          {
           "name": "RHip",
           "type": "scatter",
           "x": [
            1095.2847900390623,
            1068.8372802734377
           ],
           "y": [
            724.5475463867188,
            721.6524658203125
           ]
          },
          {
           "name": "RThigh",
           "type": "scatter",
           "x": [
            1068.8372802734377,
            995.3296508789061
           ],
           "y": [
            721.6524658203125,
            798.1579589843751
           ]
          },
          {
           "name": "RCalf",
           "type": "scatter",
           "x": [
            995.3296508789061,
            1045.3428955078125
           ],
           "y": [
            798.1579589843751,
            907.0922851562498
           ]
          },
          {
           "name": "RFoot",
           "type": "scatter",
           "x": [
            1045.3428955078125,
            1001.2965698242189
           ],
           "y": [
            907.0922851562498,
            936.4747314453123
           ]
          },
          {
           "name": "LHip",
           "type": "scatter",
           "x": [
            1095.2847900390623,
            1119.0145263671875
           ],
           "y": [
            724.5475463867188,
            727.5347290039062
           ]
          },
          {
           "name": "LThigh",
           "type": "scatter",
           "x": [
            1119.0145263671875,
            1039.4339599609377
           ],
           "y": [
            727.5347290039062,
            812.78125
           ]
          },
          {
           "name": "LCalf",
           "type": "scatter",
           "x": [
            1039.4339599609377,
            1092.5356445312498
           ],
           "y": [
            812.78125,
            933.4797363281248
           ]
          },
          {
           "name": "LFoot",
           "type": "scatter",
           "x": [
            1092.5356445312498,
            1048.2137451171875
           ],
           "y": [
            933.4797363281248,
            960.0610351562498
           ]
          }
         ]
        },
        {
         "data": [
          {
           "name": "Neck",
           "type": "scatter",
           "x": [
            968.8302001953124,
            1018.9202270507811
           ],
           "y": [
            589.1920166015625,
            633.2437744140625
           ]
          },
          {
           "name": "REye",
           "type": "scatter",
           "x": [
            968.8256835937501,
            968.8302001953124
           ],
           "y": [
            577.3325195312501,
            589.1920166015625
           ]
          },
          {
           "name": "LEye",
           "type": "scatter",
           "x": [
            977.6342163085936,
            968.8302001953124
           ],
           "y": [
            577.4451293945314,
            589.1920166015625
           ]
          },
          {
           "name": "Spine",
           "type": "scatter",
           "x": [
            1018.9202270507811,
            1095.3255615234377
           ],
           "y": [
            633.2437744140625,
            721.6997680664062
           ]
          },
          {
           "name": "RShoulder",
           "type": "scatter",
           "x": [
            1018.9202270507811,
            977.7120361328126
           ],
           "y": [
            633.2437744140625,
            630.43896484375
           ]
          },
          {
           "name": "RArm",
           "type": "scatter",
           "x": [
            977.7120361328126,
            907.061584472656
           ],
           "y": [
            630.43896484375,
            647.9114379882814
           ]
          },
          {
           "name": "RForearm",
           "type": "scatter",
           "x": [
            907.061584472656,
            862.8462524414062
           ],
           "y": [
            647.9114379882814,
            648.0940551757812
           ]
          },
          {
           "name": "LShoulder",
           "type": "scatter",
           "x": [
            1018.9202270507811,
            1051.2493896484377
           ],
           "y": [
            633.2437744140625,
            630.356201171875
           ]
          },
          {
           "name": "LArm",
           "type": "scatter",
           "x": [
            1051.2493896484377,
            1151.3074951171875
           ],
           "y": [
            630.356201171875,
            648.183837890625
           ]
          },
          {
           "name": "LForearm",
           "type": "scatter",
           "x": [
            1151.3074951171875,
            1213.2288818359375
           ],
           "y": [
            648.183837890625,
            671.6053466796876
           ]
          },
          {
           "name": "RHip",
           "type": "scatter",
           "x": [
            1095.3255615234377,
            1068.8905029296877
           ],
           "y": [
            721.6997680664062,
            721.6275024414062
           ]
          },
          {
           "name": "RThigh",
           "type": "scatter",
           "x": [
            1068.8905029296877,
            995.2794799804686
           ],
           "y": [
            721.6275024414062,
            801.0816040039064
           ]
          },
          {
           "name": "RCalf",
           "type": "scatter",
           "x": [
            995.2794799804686,
            1045.3116455078125
           ],
           "y": [
            801.0816040039064,
            907.0676879882814
           ]
          },
          {
           "name": "RFoot",
           "type": "scatter",
           "x": [
            1045.3116455078125,
            1001.2903442382812
           ],
           "y": [
            907.0676879882814,
            936.4884643554689
           ]
          },
          {
           "name": "LHip",
           "type": "scatter",
           "x": [
            1095.3255615234377,
            1119.0311279296877
           ],
           "y": [
            721.6997680664062,
            724.5911865234375
           ]
          },
          {
           "name": "LThigh",
           "type": "scatter",
           "x": [
            1119.0311279296877,
            1036.4814453125
           ],
           "y": [
            724.5911865234375,
            812.7747192382812
           ]
          },
          {
           "name": "LCalf",
           "type": "scatter",
           "x": [
            1036.4814453125,
            1092.5133056640623
           ],
           "y": [
            812.7747192382812,
            933.4881591796877
           ]
          },
          {
           "name": "LFoot",
           "type": "scatter",
           "x": [
            1092.5133056640623,
            1048.2457275390623
           ],
           "y": [
            933.4881591796877,
            962.9144897460936
           ]
          }
         ]
        },
        {
         "data": [
          {
           "name": "Neck",
           "type": "scatter",
           "x": [
            971.762451171875,
            1024.627197265625
           ],
           "y": [
            586.178466796875,
            633.3142700195312
           ]
          },
          {
           "name": "REye",
           "type": "scatter",
           "x": [
            971.7770996093749,
            971.762451171875
           ],
           "y": [
            574.5576171875,
            586.178466796875
           ]
          },
          {
           "name": "LEye",
           "type": "scatter",
           "x": [
            977.8156738281249,
            971.762451171875
           ],
           "y": [
            577.3307495117189,
            586.178466796875
           ]
          },
          {
           "name": "Spine",
           "type": "scatter",
           "x": [
            1024.627197265625,
            1095.3226318359377
           ],
           "y": [
            633.3142700195312,
            730.4274291992186
           ]
          },
          {
           "name": "RShoulder",
           "type": "scatter",
           "x": [
            1024.627197265625,
            992.3399658203124
           ],
           "y": [
            633.3142700195312,
            636.2212524414064
           ]
          },
          {
           "name": "LShoulder",
           "type": "scatter",
           "x": [
            1024.627197265625,
            1057.1810302734377
           ],
           "y": [
            633.3142700195312,
            633.3355712890625
           ]
          },
          {
           "name": "LArm",
           "type": "scatter",
           "x": [
            1057.1810302734377,
            1139.612060546875
           ],
           "y": [
            633.3355712890625,
            662.7684936523439
           ]
          },
          {
           "name": "LForearm",
           "type": "scatter",
           "x": [
            1139.612060546875,
            1210.0460205078123
           ],
           "y": [
            662.7684936523439,
            695.0626220703125
           ]
          },
          {
           "name": "RHip",
           "type": "scatter",
           "x": [
            1095.3226318359377,
            1068.8817138671875
           ],
           "y": [
            730.4274291992186,
            724.6138305664062
           ]
          },
          {
           "name": "RThigh",
           "type": "scatter",
           "x": [
            1068.8817138671875,
            995.2610473632812
           ],
           "y": [
            724.6138305664062,
            801.1126098632812
           ]
          },
          {
           "name": "RCalf",
           "type": "scatter",
           "x": [
            995.2610473632812,
            1045.3309326171875
           ],
           "y": [
            801.1126098632812,
            907.1072998046876
           ]
          },
          {
           "name": "RFoot",
           "type": "scatter",
           "x": [
            1045.3309326171875,
            1001.3070068359376
           ],
           "y": [
            907.1072998046876,
            939.3551025390625
           ]
          },
          {
           "name": "LHip",
           "type": "scatter",
           "x": [
            1095.3226318359377,
            1119.0177001953123
           ],
           "y": [
            730.4274291992186,
            736.2091674804686
           ]
          },
          {
           "name": "LThigh",
           "type": "scatter",
           "x": [
            1119.0177001953123,
            1033.5592041015623
           ],
           "y": [
            736.2091674804686,
            812.8695678710938
           ]
          },
          {
           "name": "LCalf",
           "type": "scatter",
           "x": [
            1033.5592041015623,
            1092.5190429687502
           ],
           "y": [
            812.8695678710938,
            933.4746704101562
           ]
          },
          {
           "name": "LFoot",
           "type": "scatter",
           "x": [
            1092.5190429687502,
            1048.249755859375
           ],
           "y": [
            933.4746704101562,
            960.0654296875
           ]
          }
         ]
        },
        {
         "data": [
          {
           "name": "Neck",
           "type": "scatter",
           "x": [
            974.6334838867188,
            1024.812255859375
           ],
           "y": [
            580.3797607421875,
            630.3911132812501
           ]
          },
          {
           "name": "REye",
           "type": "scatter",
           "x": [
            974.6995849609376,
            974.6334838867188
           ],
           "y": [
            574.3786621093751,
            580.3797607421875
           ]
          },
          {
           "name": "LEye",
           "type": "scatter",
           "x": [
            983.5266723632812,
            974.6334838867188
           ],
           "y": [
            574.5128173828125,
            580.3797607421875
           ]
          },
          {
           "name": "Spine",
           "type": "scatter",
           "x": [
            1024.812255859375,
            1095.308349609375
           ],
           "y": [
            630.3911132812501,
            733.3499755859374
           ]
          },
          {
           "name": "RShoulder",
           "type": "scatter",
           "x": [
            1024.812255859375,
            995.2390747070312
           ],
           "y": [
            630.3911132812501,
            630.3587036132812
           ]
          },
          {
           "name": "RArm",
           "type": "scatter",
           "x": [
            995.2390747070312,
            1024.8009033203123
           ],
           "y": [
            630.3587036132812,
            692.0547485351562
           ]
          },
          {
           "name": "LShoulder",
           "type": "scatter",
           "x": [
            1024.812255859375,
            1065.9300537109377
           ],
           "y": [
            630.3911132812501,
            639.1220703125
           ]
          },
          {
           "name": "LArm",
           "type": "scatter",
           "x": [
            1065.9300537109377,
            1151.2738037109375
           ],
           "y": [
            639.1220703125,
            686.2389526367189
           ]
          },
          {
           "name": "LForearm",
           "type": "scatter",
           "x": [
            1151.2738037109375,
            1210.1011962890625
           ],
           "y": [
            686.2389526367189,
            727.4985351562498
           ]
          },
          {
           "name": "RHip",
           "type": "scatter",
           "x": [
            1095.308349609375,
            1068.828369140625
           ],
           "y": [
            733.3499755859374,
            727.482666015625
           ]
          },
          {
           "name": "RThigh",
           "type": "scatter",
           "x": [
            1068.828369140625,
            995.203369140625
           ],
           "y": [
            727.482666015625,
            804.0046386718751
           ]
          },
          {
           "name": "RCalf",
           "type": "scatter",
           "x": [
            995.203369140625,
            1045.2901611328125
           ],
           "y": [
            804.0046386718751,
            907.1183471679688
           ]
          },
          {
           "name": "RFoot",
           "type": "scatter",
           "x": [
            1045.2901611328125,
            1001.2720336914062
           ],
           "y": [
            907.1183471679688,
            936.5225830078124
           ]
          },
          {
           "name": "LHip",
           "type": "scatter",
           "x": [
            1095.308349609375,
            1119.060302734375
           ],
           "y": [
            733.3499755859374,
            736.3582153320312
           ]
          },
          {
           "name": "LThigh",
           "type": "scatter",
           "x": [
            1119.060302734375,
            1030.5987548828125
           ],
           "y": [
            736.3582153320312,
            812.9711303710938
           ]
          },
          {
           "name": "LCalf",
           "type": "scatter",
           "x": [
            1030.5987548828125,
            1092.4874267578125
           ],
           "y": [
            812.9711303710938,
            930.6925659179688
           ]
          },
          {
           "name": "LFoot",
           "type": "scatter",
           "x": [
            1092.4874267578125,
            1048.266845703125
           ],
           "y": [
            930.6925659179688,
            960.0661621093749
           ]
          }
         ]
        },
        {
         "data": [
          {
           "name": "Neck",
           "type": "scatter",
           "x": [
            977.6025390624999,
            1030.683349609375
           ],
           "y": [
            577.2807006835938,
            630.3129272460939
           ]
          },
          {
           "name": "REye",
           "type": "scatter",
           "x": [
            977.6527709960935,
            977.6025390624999
           ],
           "y": [
            565.6370849609376,
            577.2807006835938
           ]
          },
          {
           "name": "LEye",
           "type": "scatter",
           "x": [
            995.2086791992189,
            977.6025390624999
           ],
           "y": [
            571.4158935546875,
            577.2807006835938
           ]
          },
          {
           "name": "Spine",
           "type": "scatter",
           "x": [
            1030.683349609375,
            1095.2841796875
           ],
           "y": [
            630.3129272460939,
            736.3179931640626
           ]
          },
          {
           "name": "RShoulder",
           "type": "scatter",
           "x": [
            1030.683349609375,
            998.2146606445312
           ],
           "y": [
            630.3129272460939,
            627.3707275390626
           ]
          },
          {
           "name": "LShoulder",
           "type": "scatter",
           "x": [
            1030.683349609375,
            1071.8951416015623
           ],
           "y": [
            630.3129272460939,
            639.1582641601562
           ]
          },
          {
           "name": "LArm",
           "type": "scatter",
           "x": [
            1071.8951416015623,
            1148.3798828125
           ],
           "y": [
            639.1582641601562,
            703.9981689453126
           ]
          },
          {
           "name": "LForearm",
           "type": "scatter",
           "x": [
            1148.3798828125,
            1204.30029296875
           ],
           "y": [
            703.9981689453126,
            762.8447875976561
           ]
          },
          {
           "name": "RHip",
           "type": "scatter",
           "x": [
            1095.2841796875,
            1068.812255859375
           ],
           "y": [
            736.3179931640626,
            730.4352416992186
           ]
          },
          {
           "name": "RThigh",
           "type": "scatter",
           "x": [
            1068.812255859375,
            992.3792114257811
           ],
           "y": [
            730.4352416992186,
            806.8274536132812
           ]
          },
          {
           "name": "RCalf",
           "type": "scatter",
           "x": [
            992.3792114257811,
            1045.3099365234377
           ],
           "y": [
            806.8274536132812,
            907.1729736328125
           ]
          },
          {
           "name": "RFoot",
           "type": "scatter",
           "x": [
            1045.3099365234377,
            1001.3211059570312
           ],
           "y": [
            907.1729736328125,
            939.3499755859376
           ]
          },
          {
           "name": "LHip",
           "type": "scatter",
           "x": [
            1095.2841796875,
            1119.0250244140623
           ],
           "y": [
            736.3179931640626,
            739.3173828125
           ]
          },
          {
           "name": "LThigh",
           "type": "scatter",
           "x": [
            1119.0250244140623,
            1027.803955078125
           ],
           "y": [
            739.3173828125,
            815.7318725585939
           ]
          },
          {
           "name": "LCalf",
           "type": "scatter",
           "x": [
            1027.803955078125,
            1092.4774169921875
           ],
           "y": [
            815.7318725585939,
            933.4784545898434
           ]
          },
          {
           "name": "LFoot",
           "type": "scatter",
           "x": [
            1092.4774169921875,
            1048.2557373046877
           ],
           "y": [
            933.4784545898434,
            960.0625
           ]
          }
         ]
        },
        {
         "data": [
          {
           "name": "Neck",
           "type": "scatter",
           "x": [
            980.6312866210936,
            1033.5965576171875
           ],
           "y": [
            571.48779296875,
            624.5556030273438
           ]
          },
          {
           "name": "REye",
           "type": "scatter",
           "x": [
            980.6402587890625,
            980.6312866210936
           ],
           "y": [
            554.0016479492189,
            571.48779296875
           ]
          },
          {
           "name": "LEye",
           "type": "scatter",
           "x": [
            998.2453613281249,
            980.6312866210936
           ],
           "y": [
            556.8409423828125,
            571.48779296875
           ]
          },
          {
           "name": "Spine",
           "type": "scatter",
           "x": [
            1033.5965576171875,
            1092.475341796875
           ],
           "y": [
            624.5556030273438,
            736.322998046875
           ]
          },
          {
           "name": "RShoulder",
           "type": "scatter",
           "x": [
            1033.5965576171875,
            998.1876831054689
           ],
           "y": [
            624.5556030273438,
            621.5239868164064
           ]
          },
          {
           "name": "RArm",
           "type": "scatter",
           "x": [
            998.1876831054689,
            924.700866699219
           ],
           "y": [
            621.5239868164064,
            645.1541748046875
           ]
          },
          {
           "name": "RForearm",
           "type": "scatter",
           "x": [
            924.700866699219,
            880.6060791015627
           ],
           "y": [
            645.1541748046875,
            645.1282348632812
           ]
          },
          {
           "name": "LShoulder",
           "type": "scatter",
           "x": [
            1033.5965576171875,
            1071.9935302734377
           ],
           "y": [
            624.5556030273438,
            633.2864379882814
           ]
          },
          {
           "name": "LArm",
           "type": "scatter",
           "x": [
            1071.9935302734377,
            1142.3798828125
           ],
           "y": [
            633.2864379882814,
            715.7536010742188
           ]
          },
          {
           "name": "LForearm",
           "type": "scatter",
           "x": [
            1142.3798828125,
            1183.7354736328125
           ],
           "y": [
            715.7536010742188,
            792.204345703125
           ]
          },
          {
           "name": "RHip",
           "type": "scatter",
           "x": [
            1092.475341796875,
            1068.7742919921875
           ],
           "y": [
            736.322998046875,
            727.4763793945312
           ]
          },
          {
           "name": "RThigh",
           "type": "scatter",
           "x": [
            1068.7742919921875,
            992.3372192382812
           ],
           "y": [
            727.4763793945312,
            806.8651733398436
           ]
          },
          {
           "name": "RCalf",
           "type": "scatter",
           "x": [
            992.3372192382812,
            1045.3221435546877
           ],
           "y": [
            806.8651733398436,
            907.1480712890624
           ]
          },
          {
           "name": "RFoot",
           "type": "scatter",
           "x": [
            1045.3221435546877,
            1001.3435668945312
           ],
           "y": [
            907.1480712890624,
            936.4313964843749
           ]
          },
          {
           "name": "LHip",
           "type": "scatter",
           "x": [
            1092.475341796875,
            1118.8583984375
           ],
           "y": [
            736.322998046875,
            742.1153564453125
           ]
          },
          {
           "name": "LThigh",
           "type": "scatter",
           "x": [
            1118.8583984375,
            1027.6976318359377
           ],
           "y": [
            742.1153564453125,
            815.8709106445312
           ]
          },
          {
           "name": "LCalf",
           "type": "scatter",
           "x": [
            1027.6976318359377,
            1092.5122070312498
           ],
           "y": [
            815.8709106445312,
            933.4929809570312
           ]
          },
          {
           "name": "LFoot",
           "type": "scatter",
           "x": [
            1092.5122070312498,
            1048.3387451171875
           ],
           "y": [
            933.4929809570312,
            962.9586791992189
           ]
          }
         ]
        },
        {
         "data": [
          {
           "name": "Neck",
           "type": "scatter",
           "x": [
            992.3770141601562,
            1045.3842773437502
           ],
           "y": [
            556.859619140625,
            624.5081176757812
           ]
          },
          {
           "name": "REye",
           "type": "scatter",
           "x": [
            995.2647094726561,
            992.3770141601562
           ],
           "y": [
            550.8671264648438,
            556.859619140625
           ]
          },
          {
           "name": "LEye",
           "type": "scatter",
           "x": [
            1001.2738647460936,
            992.3770141601562
           ],
           "y": [
            551.008056640625,
            556.859619140625
           ]
          },
          {
           "name": "Spine",
           "type": "scatter",
           "x": [
            1045.3842773437502,
            1092.435546875
           ],
           "y": [
            624.5081176757812,
            736.331298828125
           ]
          },
          {
           "name": "RShoulder",
           "type": "scatter",
           "x": [
            1045.3842773437502,
            1004.2711791992189
           ],
           "y": [
            624.5081176757812,
            621.625
           ]
          },
          {
           "name": "RArm",
           "type": "scatter",
           "x": [
            1004.2711791992189,
            1024.8099365234377
           ],
           "y": [
            621.625,
            695.1011962890625
           ]
          },
          {
           "name": "RForearm",
           "type": "scatter",
           "x": [
            1024.8099365234377,
            1030.6264648437502
           ],
           "y": [
            695.1011962890625,
            751.0198364257811
           ]
          },
          {
           "name": "LShoulder",
           "type": "scatter",
           "x": [
            1045.3842773437502,
            1083.6508789062498
           ],
           "y": [
            624.5081176757812,
            627.439453125
           ]
          },
          {
           "name": "LArm",
           "type": "scatter",
           "x": [
            1083.6508789062498,
            1124.8380126953123
           ],
           "y": [
            627.439453125,
            721.6202392578125
           ]
          },
          {
           "name": "LForearm",
           "type": "scatter",
           "x": [
            1124.8380126953123,
            1160.0272216796877
           ],
           "y": [
            721.6202392578125,
            815.8853759765626
           ]
          },
          {
           "name": "RHip",
           "type": "scatter",
           "x": [
            1092.435546875,
            1068.8121337890623
           ],
           "y": [
            736.331298828125,
            733.2991943359374
           ]
          },
          {
           "name": "RThigh",
           "type": "scatter",
           "x": [
            1068.8121337890623,
            992.3037719726561
           ],
           "y": [
            733.2991943359374,
            806.8721313476561
           ]
          },
          {
           "name": "RCalf",
           "type": "scatter",
           "x": [
            992.3037719726561,
            1045.3204345703123
           ],
           "y": [
            806.8721313476561,
            907.1719970703124
           ]
          },
          {
           "name": "RFoot",
           "type": "scatter",
           "x": [
            1045.3204345703123,
            1004.1144409179688
           ],
           "y": [
            907.1719970703124,
            936.4675903320311
           ]
          },
          {
           "name": "LHip",
           "type": "scatter",
           "x": [
            1092.435546875,
            1116.072509765625
           ],
           "y": [
            736.331298828125,
            739.34814453125
           ]
          },
          {
           "name": "LThigh",
           "type": "scatter",
           "x": [
            1116.072509765625,
            1027.6871337890623
           ],
           "y": [
            739.34814453125,
            815.8486328125
           ]
          },
          {
           "name": "LCalf",
           "type": "scatter",
           "x": [
            1027.6871337890623,
            1092.487548828125
           ],
           "y": [
            815.8486328125,
            933.4552001953124
           ]
          },
          {
           "name": "LFoot",
           "type": "scatter",
           "x": [
            1092.487548828125,
            1048.3800048828125
           ],
           "y": [
            933.4552001953124,
            962.9120483398435
           ]
          }
         ]
        },
        {
         "data": [
          {
           "name": "Neck",
           "type": "scatter",
           "x": [
            998.2986450195312,
            1048.201904296875
           ],
           "y": [
            550.8058471679688,
            621.4139404296876
           ]
          },
          {
           "name": "REye",
           "type": "scatter",
           "x": [
            1001.0963745117188,
            998.2986450195312
           ],
           "y": [
            536.1624145507814,
            550.8058471679688
           ]
          },
          {
           "name": "LEye",
           "type": "scatter",
           "x": [
            1012.9397583007811,
            998.2986450195312
           ],
           "y": [
            539.1423950195312,
            550.8058471679688
           ]
          },
          {
           "name": "Spine",
           "type": "scatter",
           "x": [
            1048.201904296875,
            1095.2877197265623
           ],
           "y": [
            621.4139404296876,
            739.1669311523436
           ]
          },
          {
           "name": "RShoulder",
           "type": "scatter",
           "x": [
            1048.201904296875,
            1010.0787353515624
           ],
           "y": [
            621.4139404296876,
            621.3800659179688
           ]
          },
          {
           "name": "RArm",
           "type": "scatter",
           "x": [
            1010.0787353515624,
            1007.138427734375
           ],
           "y": [
            621.3800659179688,
            695.0693359375001
           ]
          },
          {
           "name": "RForearm",
           "type": "scatter",
           "x": [
            1007.138427734375,
            1001.2737426757811
           ],
           "y": [
            695.0693359375001,
            762.8363037109375
           ]
          },
          {
           "name": "LShoulder",
           "type": "scatter",
           "x": [
            1048.201904296875,
            1089.4145507812498
           ],
           "y": [
            621.4139404296876,
            621.4490356445312
           ]
          },
          {
           "name": "LArm",
           "type": "scatter",
           "x": [
            1089.4145507812498,
            1115.8876953125
           ],
           "y": [
            621.4490356445312,
            724.5296630859375
           ]
          },
          {
           "name": "LForearm",
           "type": "scatter",
           "x": [
            1115.8876953125,
            1115.976318359375
           ],
           "y": [
            724.5296630859375,
            821.7084350585938
           ]
          },
          {
           "name": "RHip",
           "type": "scatter",
           "x": [
            1095.2877197265623,
            1068.896728515625
           ],
           "y": [
            739.1669311523436,
            730.441467285156
           ]
          },
          {
           "name": "RThigh",
           "type": "scatter",
           "x": [
            1068.896728515625,
            992.3045043945312
           ],
           "y": [
            730.441467285156,
            804.0145263671875
           ]
          },
          {
           "name": "RCalf",
           "type": "scatter",
           "x": [
            992.3045043945312,
            1045.355224609375
           ],
           "y": [
            804.0145263671875,
            909.9853515625
           ]
          },
          {
           "name": "RFoot",
           "type": "scatter",
           "x": [
            1045.355224609375,
            1004.1856689453124
           ],
           "y": [
            909.9853515625,
            939.3755493164062
           ]
          },
          {
           "name": "LHip",
           "type": "scatter",
           "x": [
            1095.2877197265623,
            1118.9697265625
           ],
           "y": [
            739.1669311523436,
            742.2056274414061
           ]
          },
          {
           "name": "LThigh",
           "type": "scatter",
           "x": [
            1118.9697265625,
            1024.8833007812498
           ],
           "y": [
            742.2056274414061,
            815.8684692382812
           ]
          },
          {
           "name": "LCalf",
           "type": "scatter",
           "x": [
            1024.8833007812498,
            1092.478515625
           ],
           "y": [
            815.8684692382812,
            933.4644165039062
           ]
          },
          {
           "name": "LFoot",
           "type": "scatter",
           "x": [
            1092.478515625,
            1048.422607421875
           ],
           "y": [
            933.4644165039062,
            960.0448608398436
           ]
          }
         ]
        },
        {
         "data": [
          {
           "name": "Neck",
           "type": "scatter",
           "x": [
            1004.237060546875,
            1051.208984375
           ],
           "y": [
            544.96044921875,
            615.6357421875
           ]
          },
          {
           "name": "REye",
           "type": "scatter",
           "x": [
            1004.2525634765624,
            1004.237060546875
           ],
           "y": [
            530.3506469726562,
            544.96044921875
           ]
          },
          {
           "name": "LEye",
           "type": "scatter",
           "x": [
            1021.8563842773436,
            1004.237060546875
           ],
           "y": [
            530.367919921875,
            544.96044921875
           ]
          },
          {
           "name": "Spine",
           "type": "scatter",
           "x": [
            1051.208984375,
            1095.2880859375
           ],
           "y": [
            615.6357421875,
            733.3647460937501
           ]
          },
          {
           "name": "RShoulder",
           "type": "scatter",
           "x": [
            1051.208984375,
            1018.7571411132812
           ],
           "y": [
            615.6357421875,
            618.5622558593751
           ]
          },
          {
           "name": "RArm",
           "type": "scatter",
           "x": [
            1018.7571411132812,
            998.1459960937501
           ],
           "y": [
            618.5622558593751,
            695.2380981445314
           ]
          },
          {
           "name": "RForearm",
           "type": "scatter",
           "x": [
            998.1459960937501,
            971.8226318359376
           ],
           "y": [
            695.2380981445314,
            777.5029907226561
           ]
          },
          {
           "name": "LShoulder",
           "type": "scatter",
           "x": [
            1051.208984375,
            1092.4696044921875
           ],
           "y": [
            615.6357421875,
            615.5790405273438
           ]
          },
          {
           "name": "LArm",
           "type": "scatter",
           "x": [
            1092.4696044921875,
            1095.4228515625
           ],
           "y": [
            615.5790405273438,
            718.5631103515625
           ]
          },
          {
           "name": "LForearm",
           "type": "scatter",
           "x": [
            1095.4228515625,
            1086.489013671875
           ],
           "y": [
            718.5631103515625,
            789.1865234375
           ]
          },
          {
           "name": "RHip",
           "type": "scatter",
           "x": [
            1095.2880859375,
            1068.7742919921875
           ],
           "y": [
            733.3647460937501,
            721.6877441406249
           ]
          },
          {
           "name": "RThigh",
           "type": "scatter",
           "x": [
            1068.7742919921875,
            986.5262451171877
           ],
           "y": [
            721.6877441406249,
            806.8579101562499
           ]
          },
          {
           "name": "RCalf",
           "type": "scatter",
           "x": [
            986.5262451171877,
            1045.3336181640623
           ],
           "y": [
            806.8579101562499,
            909.9189453124999
           ]
          },
          {
           "name": "RFoot",
           "type": "scatter",
           "x": [
            1045.3336181640623,
            1004.1735229492189
           ],
           "y": [
            909.9189453124999,
            939.4223632812499
           ]
          },
          {
           "name": "LHip",
           "type": "scatter",
           "x": [
            1095.2880859375,
            1121.8282470703123
           ],
           "y": [
            733.3647460937501,
            739.1937866210938
           ]
          },
          {
           "name": "LThigh",
           "type": "scatter",
           "x": [
            1121.8282470703123,
            1033.5972900390623
           ],
           "y": [
            739.1937866210938,
            812.9197387695311
           ]
          },
          {
           "name": "LCalf",
           "type": "scatter",
           "x": [
            1033.5972900390623,
            1092.5122070312498
           ],
           "y": [
            812.9197387695311,
            930.7329711914061
           ]
          },
          {
           "name": "LFoot",
           "type": "scatter",
           "x": [
            1092.5122070312498,
            1048.392822265625
           ],
           "y": [
            930.7329711914061,
            962.9274291992189
           ]
          }
         ]
        },
        {
         "data": [
          {
           "name": "Neck",
           "type": "scatter",
           "x": [
            1021.692626953125,
            1057.1407470703123
           ],
           "y": [
            530.4325561523438,
            601.0777587890625
           ]
          },
          {
           "name": "REye",
           "type": "scatter",
           "x": [
            1021.8109741210936,
            1021.692626953125
           ],
           "y": [
            527.2589111328125,
            530.4325561523438
           ]
          },
          {
           "name": "LEye",
           "type": "scatter",
           "x": [
            1027.8081054687502,
            1021.692626953125
           ],
           "y": [
            527.3206787109375,
            530.4325561523438
           ]
          },
          {
           "name": "Spine",
           "type": "scatter",
           "x": [
            1057.1407470703123,
            1095.4869384765623
           ],
           "y": [
            601.0777587890625,
            733.3004150390625
           ]
          },
          {
           "name": "RShoulder",
           "type": "scatter",
           "x": [
            1057.1407470703123,
            1021.7960205078125
           ],
           "y": [
            601.0777587890625,
            603.8838500976562
           ]
          },
          {
           "name": "RArm",
           "type": "scatter",
           "x": [
            1021.7960205078125,
            980.6397094726561
           ],
           "y": [
            603.8838500976562,
            686.2145385742188
           ]
          },
          {
           "name": "RForearm",
           "type": "scatter",
           "x": [
            980.6397094726561,
            939.3811035156251
           ],
           "y": [
            686.2145385742188,
            756.8647460937501
           ]
          },
          {
           "name": "LShoulder",
           "type": "scatter",
           "x": [
            1057.1407470703123,
            1095.4506835937502
           ],
           "y": [
            601.0777587890625,
            601.0764770507812
           ]
          },
          {
           "name": "LArm",
           "type": "scatter",
           "x": [
            1095.4506835937502,
            1086.5415039062498
           ],
           "y": [
            601.0764770507812,
            706.9083862304689
           ]
          },
          {
           "name": "LForearm",
           "type": "scatter",
           "x": [
            1086.5415039062498,
            1039.4791259765623
           ],
           "y": [
            706.9083862304689,
            768.7565307617188
           ]
          },
          {
           "name": "RHip",
           "type": "scatter",
           "x": [
            1095.4869384765623,
            1071.9056396484377
           ],
           "y": [
            733.3004150390625,
            721.665771484375
           ]
          },
          {
           "name": "RThigh",
           "type": "scatter",
           "x": [
            1071.9056396484377,
            998.1044311523436
           ],
           "y": [
            721.665771484375,
            806.9877929687501
           ]
          },
          {
           "name": "RCalf",
           "type": "scatter",
           "x": [
            998.1044311523436,
            1045.4161376953123
           ],
           "y": [
            806.9877929687501,
            910.013916015625
           ]
          },
          {
           "name": "RFoot",
           "type": "scatter",
           "x": [
            1045.4161376953123,
            1004.2105102539062
           ],
           "y": [
            910.013916015625,
            939.4461669921876
           ]
          },
          {
           "name": "LHip",
           "type": "scatter",
           "x": [
            1095.4869384765623,
            1119.079345703125
           ],
           "y": [
            733.3004150390625,
            739.1218872070312
           ]
          },
          {
           "name": "LThigh",
           "type": "scatter",
           "x": [
            1119.079345703125,
            1021.8533325195312
           ],
           "y": [
            739.1218872070312,
            812.9823608398438
           ]
          },
          {
           "name": "LCalf",
           "type": "scatter",
           "x": [
            1021.8533325195312,
            1092.4498291015623
           ],
           "y": [
            812.9823608398438,
            933.4622192382812
           ]
          },
          {
           "name": "LFoot",
           "type": "scatter",
           "x": [
            1092.4498291015623,
            1048.3392333984377
           ],
           "y": [
            933.4622192382812,
            962.919616699219
           ]
          }
         ]
        },
        {
         "data": [
          {
           "name": "Neck",
           "type": "scatter",
           "x": [
            1027.6724853515623,
            1066.0064697265623
           ],
           "y": [
            527.1669311523438,
            597.95166015625
           ]
          },
          {
           "name": "REye",
           "type": "scatter",
           "x": [
            1027.789794921875,
            1027.6724853515623
           ],
           "y": [
            509.7591857910156,
            527.1669311523438
           ]
          },
          {
           "name": "LEye",
           "type": "scatter",
           "x": [
            1045.3588867187502,
            1027.6724853515623
           ],
           "y": [
            512.6771240234375,
            527.1669311523438
           ]
          },
          {
           "name": "Spine",
           "type": "scatter",
           "x": [
            1066.0064697265623,
            1095.3909912109377
           ],
           "y": [
            597.95166015625,
            721.6602783203124
           ]
          },
          {
           "name": "RShoulder",
           "type": "scatter",
           "x": [
            1066.0064697265623,
            1024.8055419921875
           ],
           "y": [
            597.95166015625,
            597.9332275390626
           ]
          },
          {
           "name": "RArm",
           "type": "scatter",
           "x": [
            1024.8055419921875,
            974.6623535156249
           ],
           "y": [
            597.9332275390626,
            651.0797729492189
           ]
          },
          {
           "name": "RForearm",
           "type": "scatter",
           "x": [
            974.6623535156249,
            912.86767578125
           ],
           "y": [
            651.0797729492189,
            712.7701416015625
           ]
          },
          {
           "name": "LShoulder",
           "type": "scatter",
           "x": [
            1066.0064697265623,
            1098.4007568359377
           ],
           "y": [
            597.95166015625,
            598.0404052734376
           ]
          },
          {
           "name": "LArm",
           "type": "scatter",
           "x": [
            1098.4007568359377,
            1068.8032226562498
           ],
           "y": [
            598.0404052734376,
            689.1171875
           ]
          },
          {
           "name": "LForearm",
           "type": "scatter",
           "x": [
            1068.8032226562498,
            992.4075927734376
           ],
           "y": [
            689.1171875,
            721.6383056640626
           ]
          },
          {
           "name": "RHip",
           "type": "scatter",
           "x": [
            1095.3909912109377,
            1071.8494873046877
           ],
           "y": [
            721.6602783203124,
            718.6575317382811
           ]
          },
          {
           "name": "RThigh",
           "type": "scatter",
           "x": [
            1071.8494873046877,
            992.365478515625
           ],
           "y": [
            718.6575317382811,
            806.9735107421875
           ]
          },
          {
           "name": "RCalf",
           "type": "scatter",
           "x": [
            992.365478515625,
            1045.3841552734377
           ],
           "y": [
            806.9735107421875,
            909.9269409179688
           ]
          },
          {
           "name": "RFoot",
           "type": "scatter",
           "x": [
            1045.3841552734377,
            1004.2554321289062
           ],
           "y": [
            909.9269409179688,
            936.507568359375
           ]
          },
          {
           "name": "LHip",
           "type": "scatter",
           "x": [
            1095.3909912109377,
            1118.9813232421875
           ],
           "y": [
            721.6602783203124,
            733.3424072265626
           ]
          },
          {
           "name": "LThigh",
           "type": "scatter",
           "x": [
            1118.9813232421875,
            1024.8548583984377
           ],
           "y": [
            733.3424072265626,
            818.6768188476561
           ]
          },
          {
           "name": "LCalf",
           "type": "scatter",
           "x": [
            1024.8548583984377,
            1092.4593505859377
           ],
           "y": [
            818.6768188476561,
            933.4610595703124
           ]
          },
          {
           "name": "LFoot",
           "type": "scatter",
           "x": [
            1092.4593505859377,
            1048.4154052734377
           ],
           "y": [
            933.4610595703124,
            962.9366455078125
           ]
          }
         ]
        },
        {
         "data": [
          {
           "name": "Neck",
           "type": "scatter",
           "x": [
            1042.3541259765623,
            1068.8211669921875
           ],
           "y": [
            512.6159057617188,
            586.2556152343751
           ]
          },
          {
           "name": "REye",
           "type": "scatter",
           "x": [
            1042.4591064453123,
            1042.3541259765623
           ],
           "y": [
            506.60571289062494,
            512.6159057617188
           ]
          },
          {
           "name": "LEye",
           "type": "scatter",
           "x": [
            1051.2418212890623,
            1042.3541259765623
           ],
           "y": [
            506.71594238281244,
            512.6159057617188
           ]
          },
          {
           "name": "Spine",
           "type": "scatter",
           "x": [
            1068.8211669921875,
            1095.433349609375
           ],
           "y": [
            586.2556152343751,
            724.4929809570312
           ]
          },
          {
           "name": "RShoulder",
           "type": "scatter",
           "x": [
            1068.8211669921875,
            1024.843994140625
           ],
           "y": [
            586.2556152343751,
            592.086669921875
           ]
          },
          {
           "name": "RArm",
           "type": "scatter",
           "x": [
            1024.843994140625,
            957.1301269531251
           ],
           "y": [
            592.086669921875,
            633.25732421875
           ]
          },
          {
           "name": "RForearm",
           "type": "scatter",
           "x": [
            957.1301269531251,
            889.3337402343751
           ],
           "y": [
            633.25732421875,
            659.7847900390625
           ]
          },
          {
           "name": "LShoulder",
           "type": "scatter",
           "x": [
            1068.8211669921875,
            1101.3182373046877
           ],
           "y": [
            586.2556152343751,
            586.1929931640625
           ]
          },
          {
           "name": "LArm",
           "type": "scatter",
           "x": [
            1101.3182373046877,
            1060.1046142578125
           ],
           "y": [
            586.1929931640625,
            650.95556640625
           ]
          },
          {
           "name": "LForearm",
           "type": "scatter",
           "x": [
            1060.1046142578125,
            974.7540283203123
           ],
           "y": [
            650.95556640625,
            665.73046875
           ]
          },
          {
           "name": "RHip",
           "type": "scatter",
           "x": [
            1095.433349609375,
            1071.8399658203123
           ],
           "y": [
            724.4929809570312,
            718.6300659179688
           ]
          },
          {
           "name": "RThigh",
           "type": "scatter",
           "x": [
            1071.8399658203123,
            989.4608764648435
           ],
           "y": [
            718.6300659179688,
            809.7901000976562
           ]
          },
          {
           "name": "RCalf",
           "type": "scatter",
           "x": [
            989.4608764648435,
            1045.4013671875
           ],
           "y": [
            809.7901000976562,
            909.9719848632812
           ]
          },
          {
           "name": "RFoot",
           "type": "scatter",
           "x": [
            1045.4013671875,
            1007.0587768554688
           ],
           "y": [
            909.9719848632812,
            936.533264160156
           ]
          },
          {
           "name": "LHip",
           "type": "scatter",
           "x": [
            1095.433349609375,
            1119.0316162109377
           ],
           "y": [
            724.4929809570312,
            736.200927734375
           ]
          },
          {
           "name": "LThigh",
           "type": "scatter",
           "x": [
            1119.0316162109377,
            1024.8291015625
           ],
           "y": [
            736.200927734375,
            818.7294311523436
           ]
          },
          {
           "name": "LCalf",
           "type": "scatter",
           "x": [
            1024.8291015625,
            1092.4344482421875
           ],
           "y": [
            818.7294311523436,
            930.7329101562499
           ]
          },
          {
           "name": "LFoot",
           "type": "scatter",
           "x": [
            1092.4344482421875,
            1051.239990234375
           ],
           "y": [
            930.7329101562499,
            965.8600463867188
           ]
          }
         ]
        },
        {
         "data": [
          {
           "name": "Neck",
           "type": "scatter",
           "x": [
            1048.3104248046877,
            1071.919677734375
           ],
           "y": [
            506.7068786621094,
            574.4456176757812
           ]
          },
          {
           "name": "REye",
           "type": "scatter",
           "x": [
            1048.3983154296877,
            1048.3104248046877
           ],
           "y": [
            500.78854370117193,
            506.7068786621094
           ]
          },
          {
           "name": "LEye",
           "type": "scatter",
           "x": [
            1065.977294921875,
            1048.3104248046877
           ],
           "y": [
            503.7392883300781,
            506.7068786621094
           ]
          },
          {
           "name": "Spine",
           "type": "scatter",
           "x": [
            1071.919677734375,
            1095.3955078125
           ],
           "y": [
            574.4456176757812,
            721.6941528320312
           ]
          },
          {
           "name": "RShoulder",
           "type": "scatter",
           "x": [
            1071.919677734375,
            1042.3994140625
           ],
           "y": [
            574.4456176757812,
            574.42138671875
           ]
          },
          {
           "name": "RArm",
           "type": "scatter",
           "x": [
            1042.3994140625,
            977.7229614257811
           ],
           "y": [
            574.42138671875,
            589.1933593750001
           ]
          },
          {
           "name": "RForearm",
           "type": "scatter",
           "x": [
            977.7229614257811,
            892.3219604492186
           ],
           "y": [
            589.1933593750001,
            598.0948486328125
           ]
          },
          {
           "name": "LShoulder",
           "type": "scatter",
           "x": [
            1071.919677734375,
            1110.0501708984377
           ],
           "y": [
            574.4456176757812,
            574.4762573242188
           ]
          },
          {
           "name": "LArm",
           "type": "scatter",
           "x": [
            1110.0501708984377,
            1063.0394287109377
           ],
           "y": [
            574.4762573242188,
            618.4960327148438
           ]
          },
          {
           "name": "LForearm",
           "type": "scatter",
           "x": [
            1063.0394287109377,
            962.9500732421876
           ],
           "y": [
            618.4960327148438,
            597.8493041992188
           ]
          },
          {
           "name": "RHip",
           "type": "scatter",
           "x": [
            1095.3955078125,
            1071.8387451171875
           ],
           "y": [
            721.6941528320312,
            718.6798095703124
           ]
          },
          {
           "name": "RThigh",
           "type": "scatter",
           "x": [
            1071.8387451171875,
            989.4690551757811
           ],
           "y": [
            718.6798095703124,
            809.828125
           ]
          },
          {
           "name": "RCalf",
           "type": "scatter",
           "x": [
            989.4690551757811,
            1045.3609619140623
           ],
           "y": [
            809.828125,
            909.948974609375
           ]
          },
          {
           "name": "RFoot",
           "type": "scatter",
           "x": [
            1045.3609619140623,
            1007.0474243164062
           ],
           "y": [
            909.948974609375,
            939.3472900390623
           ]
          },
          {
           "name": "LHip",
           "type": "scatter",
           "x": [
            1095.3955078125,
            1118.9617919921875
           ],
           "y": [
            721.6941528320312,
            733.356201171875
           ]
          },
          {
           "name": "LThigh",
           "type": "scatter",
           "x": [
            1118.9617919921875,
            1024.806396484375
           ],
           "y": [
            733.356201171875,
            818.7095336914062
           ]
          },
          {
           "name": "LCalf",
           "type": "scatter",
           "x": [
            1024.806396484375,
            1092.374755859375
           ],
           "y": [
            818.7095336914062,
            933.4659423828124
           ]
          },
          {
           "name": "LFoot",
           "type": "scatter",
           "x": [
            1092.374755859375,
            1048.323974609375
           ],
           "y": [
            933.4659423828124,
            965.8705444335935
           ]
          }
         ]
        },
        {
         "data": [
          {
           "name": "Neck",
           "type": "scatter",
           "x": [
            1062.984375,
            1074.8387451171875
           ],
           "y": [
            497.9384460449219,
            556.7826538085939
           ]
          },
          {
           "name": "REye",
           "type": "scatter",
           "x": [
            1065.895263671875,
            1062.984375
           ],
           "y": [
            486.1021118164063,
            497.9384460449219
           ]
          },
          {
           "name": "LEye",
           "type": "scatter",
           "x": [
            1071.9744873046877,
            1062.984375
           ],
           "y": [
            489.05535888671875,
            497.9384460449219
           ]
          },
          {
           "name": "Spine",
           "type": "scatter",
           "x": [
            1074.8387451171875,
            1095.2774658203123
           ],
           "y": [
            556.7826538085939,
            718.6723022460939
           ]
          },
          {
           "name": "RShoulder",
           "type": "scatter",
           "x": [
            1074.8387451171875,
            1042.373046875
           ],
           "y": [
            556.7826538085939,
            553.7594604492188
           ]
          },
          {
           "name": "RArm",
           "type": "scatter",
           "x": [
            1042.373046875,
            965.8392944335935
           ],
           "y": [
            553.7594604492188,
            553.9658203125
           ]
          },
          {
           "name": "RForearm",
           "type": "scatter",
           "x": [
            965.8392944335935,
            898.1607055664062
           ],
           "y": [
            553.9658203125,
            533.3333740234375
           ]
          },
          {
           "name": "LShoulder",
           "type": "scatter",
           "x": [
            1074.8387451171875,
            1115.9854736328125
           ],
           "y": [
            556.7826538085939,
            559.750244140625
           ]
          },
          {
           "name": "LArm",
           "type": "scatter",
           "x": [
            1115.9854736328125,
            1077.7630615234377
           ],
           "y": [
            559.750244140625,
            580.3655395507814
           ]
          },
          {
           "name": "LForearm",
           "type": "scatter",
           "x": [
            1077.7630615234377,
            974.6126708984377
           ],
           "y": [
            580.3655395507814,
            515.5608520507812
           ]
          },
          {
           "name": "RHip",
           "type": "scatter",
           "x": [
            1095.2774658203123,
            1071.7338867187502
           ],
           "y": [
            718.6723022460939,
            715.7125244140625
           ]
          },
          {
           "name": "RThigh",
           "type": "scatter",
           "x": [
            1071.7338867187502,
            989.4432373046876
           ],
           "y": [
            715.7125244140625,
            809.7418823242188
           ]
          },
          {
           "name": "RCalf",
           "type": "scatter",
           "x": [
            989.4432373046876,
            1045.389404296875
           ],
           "y": [
            809.7418823242188,
            910.0214843750001
           ]
          },
          {
           "name": "RFoot",
           "type": "scatter",
           "x": [
            1045.389404296875,
            1004.2561645507811
           ],
           "y": [
            910.0214843750001,
            936.5147705078125
           ]
          },
          {
           "name": "LHip",
           "type": "scatter",
           "x": [
            1095.2774658203123,
            1118.8316650390623
           ],
           "y": [
            718.6723022460939,
            724.557373046875
           ]
          },
          {
           "name": "LThigh",
           "type": "scatter",
           "x": [
            1118.8316650390623,
            1024.8193359375
           ],
           "y": [
            724.557373046875,
            818.7068481445312
           ]
          },
          {
           "name": "LCalf",
           "type": "scatter",
           "x": [
            1024.8193359375,
            1092.4285888671875
           ],
           "y": [
            818.7068481445312,
            933.4627685546877
           ]
          },
          {
           "name": "LFoot",
           "type": "scatter",
           "x": [
            1092.4285888671875,
            1048.393798828125
           ],
           "y": [
            933.4627685546877,
            963.0008544921875
           ]
          }
         ]
        },
        {
         "data": [
          {
           "name": "Neck",
           "type": "scatter",
           "x": [
            1068.953125,
            1074.7979736328125
           ],
           "y": [
            483.29919433593756,
            550.7388305664064
           ]
          },
          {
           "name": "REye",
           "type": "scatter",
           "x": [
            1071.780029296875,
            1068.953125
           ],
           "y": [
            480.22781372070307,
            483.29919433593756
           ]
          },
          {
           "name": "LEye",
           "type": "scatter",
           "x": [
            1083.6534423828125,
            1068.953125
           ],
           "y": [
            483.1177673339844,
            483.29919433593756
           ]
          },
          {
           "name": "Spine",
           "type": "scatter",
           "x": [
            1074.7979736328125,
            1092.447265625
           ],
           "y": [
            550.7388305664064,
            715.6314697265624
           ]
          },
          {
           "name": "RShoulder",
           "type": "scatter",
           "x": [
            1074.7979736328125,
            1042.343505859375
           ],
           "y": [
            550.7388305664064,
            545.0266113281249
           ]
          },
          {
           "name": "RArm",
           "type": "scatter",
           "x": [
            1042.343505859375,
            971.7801513671875
           ],
           "y": [
            545.0266113281249,
            527.174560546875
           ]
          },
          {
           "name": "RForearm",
           "type": "scatter",
           "x": [
            971.7801513671875,
            909.9672851562498
           ],
           "y": [
            527.174560546875,
            477.3360900878905
           ]
          },
          {
           "name": "LShoulder",
           "type": "scatter",
           "x": [
            1074.7979736328125,
            1115.9731445312498
           ],
           "y": [
            550.7388305664064,
            553.7222290039062
           ]
          },
          {
           "name": "LArm",
           "type": "scatter",
           "x": [
            1115.9731445312498,
            1071.7567138671875
           ],
           "y": [
            553.7222290039062,
            530.4065551757812
           ]
          },
          {
           "name": "LForearm",
           "type": "scatter",
           "x": [
            1071.7567138671875,
            995.3684692382812
           ],
           "y": [
            530.4065551757812,
            456.5981750488281
           ]
          },
          {
           "name": "RHip",
           "type": "scatter",
           "x": [
            1092.447265625,
            1068.8793945312498
           ],
           "y": [
            715.6314697265624,
            709.7628173828125
           ]
          },
          {
           "name": "RThigh",
           "type": "scatter",
           "x": [
            1068.8793945312498,
            989.4155273437501
           ],
           "y": [
            709.7628173828125,
            809.7818603515625
           ]
          },
          {
           "name": "RCalf",
           "type": "scatter",
           "x": [
            989.4155273437501,
            1045.344970703125
           ],
           "y": [
            809.7818603515625,
            910.0202636718751
           ]
          },
          {
           "name": "RFoot",
           "type": "scatter",
           "x": [
            1045.344970703125,
            1004.2588500976561
           ],
           "y": [
            910.0202636718751,
            939.3978271484377
           ]
          },
          {
           "name": "LHip",
           "type": "scatter",
           "x": [
            1092.447265625,
            1116.003173828125
           ],
           "y": [
            715.6314697265624,
            718.71142578125
           ]
          },
          {
           "name": "LThigh",
           "type": "scatter",
           "x": [
            1116.003173828125,
            1024.8056640625
           ],
           "y": [
            718.71142578125,
            815.8348999023436
           ]
          },
          {
           "name": "LCalf",
           "type": "scatter",
           "x": [
            1024.8056640625,
            1092.3699951171875
           ],
           "y": [
            815.8348999023436,
            930.7295532226562
           ]
          },
          {
           "name": "LFoot",
           "type": "scatter",
           "x": [
            1092.3699951171875,
            1048.392578125
           ],
           "y": [
            930.7295532226562,
            962.9472656249999
           ]
          }
         ]
        },
        {
         "data": [
          {
           "name": "Neck",
           "type": "scatter",
           "x": [
            1077.7758789062498,
            1083.6016845703123
           ],
           "y": [
            480.13183593750006,
            536.1770629882812
           ]
          },
          {
           "name": "LEye",
           "type": "scatter",
           "x": [
            1095.282958984375,
            1077.7758789062498
           ],
           "y": [
            474.3542785644532,
            480.13183593750006
           ]
          },
          {
           "name": "Spine",
           "type": "scatter",
           "x": [
            1083.6016845703123,
            1089.418701171875
           ],
           "y": [
            536.1770629882812,
            712.7095947265624
           ]
          },
          {
           "name": "RShoulder",
           "type": "scatter",
           "x": [
            1083.6016845703123,
            1048.2056884765623
           ],
           "y": [
            536.1770629882812,
            530.3623657226562
           ]
          },
          {
           "name": "RArm",
           "type": "scatter",
           "x": [
            1048.2056884765623,
            977.6162719726561
           ],
           "y": [
            530.3623657226562,
            486.1489868164063
           ]
          },
          {
           "name": "RForearm",
           "type": "scatter",
           "x": [
            977.6162719726561,
            930.6782226562499
           ],
           "y": [
            486.1489868164063,
            412.5862121582031
           ]
          },
          {
           "name": "LShoulder",
           "type": "scatter",
           "x": [
            1083.6016845703123,
            1116.0590820312498
           ],
           "y": [
            536.1770629882812,
            545.01123046875
           ]
          },
          {
           "name": "LArm",
           "type": "scatter",
           "x": [
            1116.0590820312498,
            1077.6982421875
           ],
           "y": [
            545.01123046875,
            480.2587585449218
           ]
          },
          {
           "name": "LForearm",
           "type": "scatter",
           "x": [
            1077.6982421875,
            1024.7553710937502
           ],
           "y": [
            480.2587585449218,
            394.85260009765625
           ]
          },
          {
           "name": "RHip",
           "type": "scatter",
           "x": [
            1089.418701171875,
            1063.009033203125
           ],
           "y": [
            712.7095947265624,
            701.0309448242188
           ]
          },
          {
           "name": "RThigh",
           "type": "scatter",
           "x": [
            1063.009033203125,
            986.5376586914062
           ],
           "y": [
            701.0309448242188,
            809.7294921875
           ]
          },
          {
           "name": "RCalf",
           "type": "scatter",
           "x": [
            986.5376586914062,
            1045.3334960937502
           ],
           "y": [
            809.7294921875,
            910.0105590820312
           ]
          },
          {
           "name": "RFoot",
           "type": "scatter",
           "x": [
            1045.3334960937502,
            1004.19921875
           ],
           "y": [
            910.0105590820312,
            939.4008178710935
           ]
          },
          {
           "name": "LHip",
           "type": "scatter",
           "x": [
            1089.418701171875,
            1113.0483398437502
           ],
           "y": [
            712.7095947265624,
            715.7969970703125
           ]
          },
          {
           "name": "LThigh",
           "type": "scatter",
           "x": [
            1113.0483398437502,
            1024.7874755859377
           ],
           "y": [
            715.7969970703125,
            815.759521484375
           ]
          },
          {
           "name": "LCalf",
           "type": "scatter",
           "x": [
            1024.7874755859377,
            1092.381591796875
           ],
           "y": [
            815.759521484375,
            930.7205810546876
           ]
          },
          {
           "name": "LFoot",
           "type": "scatter",
           "x": [
            1092.381591796875,
            1048.4334716796877
           ],
           "y": [
            930.7205810546876,
            965.865478515625
           ]
          }
         ]
        },
        {
         "data": [
          {
           "name": "Neck",
           "type": "scatter",
           "x": [
            1086.527587890625,
            1092.3177490234377
           ],
           "y": [
            462.57415771484375,
            527.24951171875
           ]
          },
          {
           "name": "REye",
           "type": "scatter",
           "x": [
            1092.2690429687502,
            1086.527587890625
           ],
           "y": [
            459.64819335937506,
            462.57415771484375
           ]
          },
          {
           "name": "LEye",
           "type": "scatter",
           "x": [
            1095.4674072265623,
            1086.527587890625
           ],
           "y": [
            459.5814819335937,
            462.57415771484375
           ]
          },
          {
           "name": "Spine",
           "type": "scatter",
           "x": [
            1092.3177490234377,
            1083.6221923828125
           ],
           "y": [
            527.24951171875,
            698.046875
           ]
          },
          {
           "name": "RShoulder",
           "type": "scatter",
           "x": [
            1092.3177490234377,
            1054.1837158203123
           ],
           "y": [
            527.24951171875,
            524.3323364257812
           ]
          },
          {
           "name": "RArm",
           "type": "scatter",
           "x": [
            1054.1837158203123,
            998.1608276367188
           ],
           "y": [
            524.3323364257812,
            456.658935546875
           ]
          },
          {
           "name": "RForearm",
           "type": "scatter",
           "x": [
            998.1608276367188,
            971.7584838867188
           ],
           "y": [
            456.658935546875,
            383.09140014648443
           ]
          },
          {
           "name": "LShoulder",
           "type": "scatter",
           "x": [
            1092.3177490234377,
            1118.8912353515623
           ],
           "y": [
            527.24951171875,
            527.4034423828125
           ]
          },
          {
           "name": "LArm",
           "type": "scatter",
           "x": [
            1118.8912353515623,
            1095.5142822265623
           ],
           "y": [
            527.4034423828125,
            433.0657653808594
           ]
          },
          {
           "name": "LForearm",
           "type": "scatter",
           "x": [
            1095.5142822265623,
            1054.1612548828125
           ],
           "y": [
            433.0657653808594,
            356.5765075683594
           ]
          },
          {
           "name": "RHip",
           "type": "scatter",
           "x": [
            1083.6221923828125,
            1057.1593017578125
           ],
           "y": [
            698.046875,
            695.1071166992189
           ]
          },
          {
           "name": "RThigh",
           "type": "scatter",
           "x": [
            1057.1593017578125,
            983.6074829101561
           ],
           "y": [
            695.1071166992189,
            804.025695800781
           ]
          },
          {
           "name": "RCalf",
           "type": "scatter",
           "x": [
            983.6074829101561,
            1045.2861328125
           ],
           "y": [
            804.025695800781,
            907.1402587890625
           ]
          },
          {
           "name": "RFoot",
           "type": "scatter",
           "x": [
            1045.2861328125,
            1004.1719970703124
           ],
           "y": [
            907.1402587890625,
            939.419677734375
           ]
          },
          {
           "name": "LHip",
           "type": "scatter",
           "x": [
            1083.6221923828125,
            1110.0927734375
           ],
           "y": [
            698.046875,
            703.9935913085938
           ]
          },
          {
           "name": "LThigh",
           "type": "scatter",
           "x": [
            1110.0927734375,
            1024.8175048828125
           ],
           "y": [
            703.9935913085938,
            812.9393310546874
           ]
          },
          {
           "name": "LCalf",
           "type": "scatter",
           "x": [
            1024.8175048828125,
            1092.3597412109377
           ],
           "y": [
            812.9393310546874,
            930.685546875
           ]
          },
          {
           "name": "LFoot",
           "type": "scatter",
           "x": [
            1092.3597412109377,
            1048.341796875
           ],
           "y": [
            930.685546875,
            965.8862915039064
           ]
          }
         ]
        },
        {
         "data": [
          {
           "name": "Neck",
           "type": "scatter",
           "x": [
            1092.518798828125,
            1095.2802734375
           ],
           "y": [
            450.85952758789057,
            503.90576171875
           ]
          },
          {
           "name": "REye",
           "type": "scatter",
           "x": [
            1092.4544677734377,
            1092.518798828125
           ],
           "y": [
            447.87786865234375,
            450.85952758789057
           ]
          },
          {
           "name": "LEye",
           "type": "scatter",
           "x": [
            1107.1544189453123,
            1092.518798828125
           ],
           "y": [
            442.0529479980468,
            450.85952758789057
           ]
          },
          {
           "name": "Spine",
           "type": "scatter",
           "x": [
            1095.2802734375,
            1074.8060302734377
           ],
           "y": [
            503.90576171875,
            692.0960693359375
           ]
          },
          {
           "name": "RShoulder",
           "type": "scatter",
           "x": [
            1095.2802734375,
            1063.033203125
           ],
           "y": [
            503.90576171875,
            503.6833190917969
           ]
          },
          {
           "name": "RArm",
           "type": "scatter",
           "x": [
            1063.033203125,
            1015.8583984375
           ],
           "y": [
            503.6833190917969,
            421.3815002441406
           ]
          },
          {
           "name": "RForearm",
           "type": "scatter",
           "x": [
            1015.8583984375,
            998.3654174804686
           ],
           "y": [
            421.3815002441406,
            341.97161865234375
           ]
          },
          {
           "name": "LShoulder",
           "type": "scatter",
           "x": [
            1095.2802734375,
            1124.8380126953123
           ],
           "y": [
            503.90576171875,
            506.8528442382813
           ]
          },
          {
           "name": "LArm",
           "type": "scatter",
           "x": [
            1124.8380126953123,
            1121.924560546875
           ],
           "y": [
            506.8528442382813,
            412.6282043457031
           ]
          },
          {
           "name": "LForearm",
           "type": "scatter",
           "x": [
            1121.924560546875,
            1092.4844970703123
           ],
           "y": [
            412.6282043457031,
            321.40954589843756
           ]
          },
          {
           "name": "RHip",
           "type": "scatter",
           "x": [
            1074.8060302734377,
            1051.205078125
           ],
           "y": [
            692.0960693359375,
            689.1304931640625
           ]
          },
          {
           "name": "RThigh",
           "type": "scatter",
           "x": [
            1051.205078125,
            983.498046875
           ],
           "y": [
            689.1304931640625,
            798.1050415039062
           ]
          },
          {
           "name": "RCalf",
           "type": "scatter",
           "x": [
            983.498046875,
            1045.180419921875
           ],
           "y": [
            798.1050415039062,
            906.94482421875
           ]
          },
          {
           "name": "RFoot",
           "type": "scatter",
           "x": [
            1045.180419921875,
            1001.3526000976561
           ],
           "y": [
            906.94482421875,
            939.4185791015625
           ]
          },
          {
           "name": "LHip",
           "type": "scatter",
           "x": [
            1074.8060302734377,
            1098.3961181640623
           ],
           "y": [
            692.0960693359375,
            695.0711059570314
           ]
          },
          {
           "name": "LThigh",
           "type": "scatter",
           "x": [
            1098.3961181640623,
            1024.7423095703123
           ],
           "y": [
            695.0711059570314,
            812.7473754882814
           ]
          },
          {
           "name": "LCalf",
           "type": "scatter",
           "x": [
            1024.7423095703123,
            1092.3374023437502
           ],
           "y": [
            812.7473754882814,
            930.5974731445311
           ]
          },
          {
           "name": "LFoot",
           "type": "scatter",
           "x": [
            1092.3374023437502,
            1048.4428710937502
           ],
           "y": [
            930.5974731445311,
            968.8068847656249
           ]
          }
         ]
        },
        {
         "data": [
          {
           "name": "Neck",
           "type": "scatter",
           "x": [
            1107.2091064453123,
            1101.3233642578125
           ],
           "y": [
            436.2345581054688,
            486.08880615234375
           ]
          },
          {
           "name": "REye",
           "type": "scatter",
           "x": [
            1107.1173095703123,
            1107.2091064453123
           ],
           "y": [
            433.2524719238281,
            436.2345581054688
           ]
          },
          {
           "name": "LEye",
           "type": "scatter",
           "x": [
            1118.8422851562498,
            1107.2091064453123
           ],
           "y": [
            436.0500793457031,
            436.2345581054688
           ]
          },
          {
           "name": "Spine",
           "type": "scatter",
           "x": [
            1101.3233642578125,
            1071.7205810546877
           ],
           "y": [
            486.08880615234375,
            671.5408935546875
           ]
          },
          {
           "name": "RShoulder",
           "type": "scatter",
           "x": [
            1101.3233642578125,
            1069.01171875
           ],
           "y": [
            486.08880615234375,
            480.2774047851562
           ]
          },
          {
           "name": "RArm",
           "type": "scatter",
           "x": [
            1069.01171875,
            1039.4244384765623
           ],
           "y": [
            480.2774047851562,
            409.6419982910156
           ]
          },
          {
           "name": "RForearm",
           "type": "scatter",
           "x": [
            1039.4244384765623,
            1024.8134765625
           ],
           "y": [
            409.6419982910156,
            321.376953125
           ]
          },
          {
           "name": "LShoulder",
           "type": "scatter",
           "x": [
            1101.3233642578125,
            1139.442626953125
           ],
           "y": [
            486.08880615234375,
            494.96682739257807
           ]
          },
          {
           "name": "LArm",
           "type": "scatter",
           "x": [
            1139.442626953125,
            1145.40966796875
           ],
           "y": [
            494.96682739257807,
            391.98425292968756
           ]
          },
          {
           "name": "LForearm",
           "type": "scatter",
           "x": [
            1145.40966796875,
            1121.875244140625
           ],
           "y": [
            391.98425292968756,
            309.51797485351557
           ]
          },
          {
           "name": "RHip",
           "type": "scatter",
           "x": [
            1071.7205810546877,
            1045.4295654296877
           ],
           "y": [
            671.5408935546875,
            668.6103515625
           ]
          },
          {
           "name": "RThigh",
           "type": "scatter",
           "x": [
            1045.4295654296877,
            980.6867065429689
           ],
           "y": [
            668.6103515625,
            789.1831665039062
           ]
          },
          {
           "name": "RCalf",
           "type": "scatter",
           "x": [
            980.6867065429689,
            1045.197021484375
           ],
           "y": [
            789.1831665039062,
            904.0560913085936
           ]
          },
          {
           "name": "RFoot",
           "type": "scatter",
           "x": [
            1045.197021484375,
            1001.3489990234376
           ],
           "y": [
            904.0560913085936,
            939.3856811523436
           ]
          },
          {
           "name": "LHip",
           "type": "scatter",
           "x": [
            1071.7205810546877,
            1095.350830078125
           ],
           "y": [
            671.5408935546875,
            674.5846557617188
           ]
          },
          {
           "name": "LThigh",
           "type": "scatter",
           "x": [
            1095.350830078125,
            1024.900390625
           ],
           "y": [
            674.5846557617188,
            806.9797973632812
           ]
          },
          {
           "name": "LCalf",
           "type": "scatter",
           "x": [
            1024.900390625,
            1089.5225830078125
           ],
           "y": [
            806.9797973632812,
            927.7039794921875
           ]
          },
          {
           "name": "LFoot",
           "type": "scatter",
           "x": [
            1089.5225830078125,
            1051.2606201171875
           ],
           "y": [
            927.7039794921875,
            968.8162231445311
           ]
          }
         ]
        },
        {
         "data": [
          {
           "name": "Neck",
           "type": "scatter",
           "x": [
            1116.0390625,
            1116.0115966796877
           ],
           "y": [
            427.28787231445307,
            468.50372314453125
           ]
          },
          {
           "name": "REye",
           "type": "scatter",
           "x": [
            1113.0648193359377,
            1116.0390625
           ],
           "y": [
            415.5841979980468,
            427.28787231445307
           ]
          },
          {
           "name": "LEye",
           "type": "scatter",
           "x": [
            1133.59228515625,
            1116.0390625
           ],
           "y": [
            421.35897827148443,
            427.28787231445307
           ]
          },
          {
           "name": "Spine",
           "type": "scatter",
           "x": [
            1116.0115966796877,
            1068.7725830078125
           ],
           "y": [
            468.50372314453125,
            650.9999389648438
           ]
          },
          {
           "name": "RShoulder",
           "type": "scatter",
           "x": [
            1116.0115966796877,
            1080.712890625
           ],
           "y": [
            468.50372314453125,
            459.77883911132807
           ]
          },
          {
           "name": "RArm",
           "type": "scatter",
           "x": [
            1080.712890625,
            1048.4594726562498
           ],
           "y": [
            459.77883911132807,
            397.7887573242188
           ]
          },
          {
           "name": "RForearm",
           "type": "scatter",
           "x": [
            1048.4594726562498,
            1048.394287109375
           ],
           "y": [
            397.7887573242188,
            318.3099365234375
           ]
          },
          {
           "name": "LShoulder",
           "type": "scatter",
           "x": [
            1116.0115966796877,
            1142.634521484375
           ],
           "y": [
            468.50372314453125,
            480.1144714355468
           ]
          },
          {
           "name": "LArm",
           "type": "scatter",
           "x": [
            1142.634521484375,
            1168.9932861328125
           ],
           "y": [
            480.1144714355468,
            368.486572265625
           ]
          },
          {
           "name": "LForearm",
           "type": "scatter",
           "x": [
            1168.9932861328125,
            1157.2227783203123
           ],
           "y": [
            368.486572265625,
            294.74417114257807
           ]
          },
          {
           "name": "RHip",
           "type": "scatter",
           "x": [
            1068.7725830078125,
            1042.3707275390623
           ],
           "y": [
            650.9999389648438,
            647.9549560546875
           ]
          },
          {
           "name": "RThigh",
           "type": "scatter",
           "x": [
            1042.3707275390623,
            983.5711059570311
           ],
           "y": [
            647.9549560546875,
            780.4439086914062
           ]
          },
          {
           "name": "RCalf",
           "type": "scatter",
           "x": [
            983.5711059570311,
            1042.341796875
           ],
           "y": [
            780.4439086914062,
            901.032470703125
           ]
          },
          {
           "name": "RFoot",
           "type": "scatter",
           "x": [
            1042.341796875,
            1007.067626953125
           ],
           "y": [
            901.032470703125,
            942.2960205078125
           ]
          },
          {
           "name": "LHip",
           "type": "scatter",
           "x": [
            1068.7725830078125,
            1092.3797607421875
           ],
           "y": [
            650.9999389648438,
            662.6815185546875
           ]
          },
          {
           "name": "LThigh",
           "type": "scatter",
           "x": [
            1092.3797607421875,
            1027.7926025390623
           ],
           "y": [
            662.6815185546875,
            792.2509765625
           ]
          },
          {
           "name": "LCalf",
           "type": "scatter",
           "x": [
            1027.7926025390623,
            1089.419189453125
           ],
           "y": [
            792.2509765625,
            924.6276855468751
           ]
          },
          {
           "name": "LFoot",
           "type": "scatter",
           "x": [
            1089.419189453125,
            1048.3917236328125
           ],
           "y": [
            924.6276855468751,
            968.8369140625
           ]
          }
         ]
        },
        {
         "data": [
          {
           "name": "Neck",
           "type": "scatter",
           "x": [
            1139.54248046875,
            1124.7886962890623
           ],
           "y": [
            412.5661315917968,
            459.6583862304688
           ]
          },
          {
           "name": "REye",
           "type": "scatter",
           "x": [
            1139.5355224609375,
            1139.54248046875
           ],
           "y": [
            409.56494140625,
            412.5661315917968
           ]
          },
          {
           "name": "LEye",
           "type": "scatter",
           "x": [
            1151.3043212890625,
            1139.54248046875
           ],
           "y": [
            412.5130920410156,
            412.5661315917968
           ]
          },
          {
           "name": "Spine",
           "type": "scatter",
           "x": [
            1124.7886962890623,
            1051.3392333984377
           ],
           "y": [
            459.6583862304688,
            633.3323364257812
           ]
          },
          {
           "name": "RShoulder",
           "type": "scatter",
           "x": [
            1124.7886962890623,
            1095.2730712890623
           ],
           "y": [
            459.6583862304688,
            453.769775390625
           ]
          },
          {
           "name": "RArm",
           "type": "scatter",
           "x": [
            1095.2730712890623,
            1068.8969726562498
           ],
           "y": [
            453.769775390625,
            386.1584167480469
           ]
          },
          {
           "name": "RForearm",
           "type": "scatter",
           "x": [
            1068.8969726562498,
            1071.8125
           ],
           "y": [
            386.1584167480469,
            315.32958984375
           ]
          },
          {
           "name": "LShoulder",
           "type": "scatter",
           "x": [
            1124.7886962890623,
            1160.1435546875
           ],
           "y": [
            459.6583862304688,
            471.39797973632807
           ]
          },
          {
           "name": "LArm",
           "type": "scatter",
           "x": [
            1160.1435546875,
            1192.475341796875
           ],
           "y": [
            471.39797973632807,
            365.4665832519531
           ]
          },
          {
           "name": "LForearm",
           "type": "scatter",
           "x": [
            1192.475341796875,
            1186.4853515625002
           ],
           "y": [
            365.4665832519531,
            291.9963073730469
           ]
          },
          {
           "name": "RHip",
           "type": "scatter",
           "x": [
            1051.3392333984377,
            1027.713134765625
           ],
           "y": [
            633.3323364257812,
            624.5477905273438
           ]
          },
          {
           "name": "RThigh",
           "type": "scatter",
           "x": [
            1027.713134765625,
            983.6236572265624
           ],
           "y": [
            624.5477905273438,
            762.8802490234374
           ]
          },
          {
           "name": "RCalf",
           "type": "scatter",
           "x": [
            983.6236572265624,
            1030.6987304687502
           ],
           "y": [
            762.8802490234374,
            886.4027709960938
           ]
          },
          {
           "name": "RFoot",
           "type": "scatter",
           "x": [
            1030.6987304687502,
            1007.0521850585936
           ],
           "y": [
            886.4027709960938,
            939.39794921875
           ]
          },
          {
           "name": "LHip",
           "type": "scatter",
           "x": [
            1051.3392333984377,
            1077.7646484375
           ],
           "y": [
            633.3323364257812,
            644.97509765625
           ]
          },
          {
           "name": "LThigh",
           "type": "scatter",
           "x": [
            1077.7646484375,
            1033.5389404296877
           ],
           "y": [
            644.97509765625,
            777.5283203125
           ]
          },
          {
           "name": "LCalf",
           "type": "scatter",
           "x": [
            1033.5389404296877,
            1077.7347412109377
           ],
           "y": [
            777.5283203125,
            907.069580078125
           ]
          },
          {
           "name": "LFoot",
           "type": "scatter",
           "x": [
            1077.7347412109377,
            1051.2540283203123
           ],
           "y": [
            907.069580078125,
            960.0372314453123
           ]
          }
         ]
        },
        {
         "data": [
          {
           "name": "Neck",
           "type": "scatter",
           "x": [
            1154.24072265625,
            1136.6175537109375
           ],
           "y": [
            409.47216796875006,
            456.61834716796875
           ]
          },
          {
           "name": "REye",
           "type": "scatter",
           "x": [
            1154.2607421875,
            1154.24072265625
           ],
           "y": [
            400.7573852539063,
            409.47216796875006
           ]
          },
          {
           "name": "LEye",
           "type": "scatter",
           "x": [
            1166.0125732421875,
            1154.24072265625
           ],
           "y": [
            409.48828125,
            409.47216796875006
           ]
          },
          {
           "name": "Spine",
           "type": "scatter",
           "x": [
            1136.6175537109375,
            1048.3992919921875
           ],
           "y": [
            456.61834716796875,
            612.6487426757812
           ]
          },
          {
           "name": "RShoulder",
           "type": "scatter",
           "x": [
            1136.6175537109375,
            1098.334716796875
           ],
           "y": [
            456.61834716796875,
            439.0623474121094
           ]
          },
          {
           "name": "RArm",
           "type": "scatter",
           "x": [
            1098.334716796875,
            1077.6968994140623
           ],
           "y": [
            439.0623474121094,
            383.0926513671875
           ]
          },
          {
           "name": "RForearm",
           "type": "scatter",
           "x": [
            1077.6968994140623,
            1089.5430908203123
           ],
           "y": [
            383.0926513671875,
            309.52569580078125
           ]
          },
          {
           "name": "LShoulder",
           "type": "scatter",
           "x": [
            1136.6175537109375,
            1166.1065673828125
           ],
           "y": [
            456.61834716796875,
            462.59960937499994
           ]
          },
          {
           "name": "LArm",
           "type": "scatter",
           "x": [
            1166.1065673828125,
            1213.0681152343752
           ],
           "y": [
            462.59960937499994,
            362.607421875
           ]
          },
          {
           "name": "LForearm",
           "type": "scatter",
           "x": [
            1213.0681152343752,
            1210.021728515625
           ],
           "y": [
            362.607421875,
            294.783935546875
           ]
          },
          {
           "name": "RHip",
           "type": "scatter",
           "x": [
            1048.3992919921875,
            1024.8800048828125
           ],
           "y": [
            612.6487426757812,
            601.0372314453125
           ]
          },
          {
           "name": "RThigh",
           "type": "scatter",
           "x": [
            1024.8800048828125,
            980.6733398437501
           ],
           "y": [
            601.0372314453125,
            745.2371215820312
           ]
          },
          {
           "name": "RCalf",
           "type": "scatter",
           "x": [
            980.6733398437501,
            1024.7495117187502
           ],
           "y": [
            745.2371215820312,
            880.5094604492186
           ]
          },
          {
           "name": "RFoot",
           "type": "scatter",
           "x": [
            1024.7495117187502,
            1004.2036132812499
           ],
           "y": [
            880.5094604492186,
            939.4044189453124
           ]
          },
          {
           "name": "LHip",
           "type": "scatter",
           "x": [
            1048.3992919921875,
            1071.968017578125
           ],
           "y": [
            612.6487426757812,
            621.4624633789064
           ]
          },
          {
           "name": "LThigh",
           "type": "scatter",
           "x": [
            1071.968017578125,
            1027.6827392578125
           ],
           "y": [
            621.4624633789064,
            759.7669677734374
           ]
          },
          {
           "name": "LCalf",
           "type": "scatter",
           "x": [
            1027.6827392578125,
            1071.734619140625
           ],
           "y": [
            759.7669677734374,
            898.2365112304686
           ]
          },
          {
           "name": "LFoot",
           "type": "scatter",
           "x": [
            1071.734619140625,
            1048.296630859375
           ],
           "y": [
            898.2365112304686,
            957.0162963867188
           ]
          }
         ]
        },
        {
         "data": [
          {
           "name": "Neck",
           "type": "scatter",
           "x": [
            1163.08447265625,
            1139.5587158203123
           ],
           "y": [
            406.68807983398443,
            450.7921447753906
           ]
          },
          {
           "name": "REye",
           "type": "scatter",
           "x": [
            1163.028076171875,
            1163.08447265625
           ],
           "y": [
            394.95333862304693,
            406.68807983398443
           ]
          },
          {
           "name": "LEye",
           "type": "scatter",
           "x": [
            1174.894287109375,
            1163.08447265625
           ],
           "y": [
            406.69772338867193,
            406.68807983398443
           ]
          },
          {
           "name": "Spine",
           "type": "scatter",
           "x": [
            1139.5587158203123,
            1048.219482421875
           ],
           "y": [
            450.7921447753906,
            592.0664672851562
           ]
          },
          {
           "name": "RShoulder",
           "type": "scatter",
           "x": [
            1139.5587158203123,
            1101.2977294921875
           ],
           "y": [
            450.7921447753906,
            436.13827514648443
           ]
          },
          {
           "name": "RArm",
           "type": "scatter",
           "x": [
            1101.2977294921875,
            1089.430908203125
           ],
           "y": [
            436.13827514648443,
            380.1357116699218
           ]
          },
          {
           "name": "RForearm",
           "type": "scatter",
           "x": [
            1089.430908203125,
            1095.5289306640623
           ],
           "y": [
            380.1357116699218,
            309.54275512695307
           ]
          },
          {
           "name": "LShoulder",
           "type": "scatter",
           "x": [
            1139.5587158203123,
            1171.8887939453123
           ],
           "y": [
            450.7921447753906,
            459.6266174316406
           ]
          },
          {
           "name": "LArm",
           "type": "scatter",
           "x": [
            1171.8887939453123,
            1230.6695556640625
           ],
           "y": [
            459.6266174316406,
            362.42041015625
           ]
          },
          {
           "name": "LForearm",
           "type": "scatter",
           "x": [
            1230.6695556640625,
            1230.6632080078127
           ],
           "y": [
            362.42041015625,
            294.8039245605469
           ]
          },
          {
           "name": "RHip",
           "type": "scatter",
           "x": [
            1048.219482421875,
            1024.783935546875
           ],
           "y": [
            592.0664672851562,
            580.4093017578125
           ]
          },
          {
           "name": "RThigh",
           "type": "scatter",
           "x": [
            1024.783935546875,
            977.7810058593751
           ],
           "y": [
            580.4093017578125,
            727.431396484375
           ]
          },
          {
           "name": "RCalf",
           "type": "scatter",
           "x": [
            977.7810058593751,
            1018.8963623046876
           ],
           "y": [
            727.431396484375,
            859.9522094726561
           ]
          },
          {
           "name": "RFoot",
           "type": "scatter",
           "x": [
            1018.8963623046876,
            1007.0955200195312
           ],
           "y": [
            859.9522094726561,
            924.6864013671875
           ]
          },
          {
           "name": "LHip",
           "type": "scatter",
           "x": [
            1048.219482421875,
            1071.7403564453123
           ],
           "y": [
            592.0664672851562,
            598.0066528320312
           ]
          },
          {
           "name": "LThigh",
           "type": "scatter",
           "x": [
            1071.7403564453123,
            1021.8546142578125
           ],
           "y": [
            598.0066528320312,
            736.2764892578125
           ]
          },
          {
           "name": "LCalf",
           "type": "scatter",
           "x": [
            1021.8546142578125,
            1065.9975585937502
           ],
           "y": [
            736.2764892578125,
            877.6400146484375
           ]
          },
          {
           "name": "LFoot",
           "type": "scatter",
           "x": [
            1065.9975585937502,
            1045.4013671875
           ],
           "y": [
            877.6400146484375,
            933.5194091796877
           ]
          }
         ]
        },
        {
         "data": [
          {
           "name": "Neck",
           "type": "scatter",
           "x": [
            1168.9530029296875,
            1151.2945556640625
           ],
           "y": [
            400.7989196777344,
            436.2638549804688
           ]
          },
          {
           "name": "REye",
           "type": "scatter",
           "x": [
            1163.0130615234375,
            1168.9530029296875
           ],
           "y": [
            389.08020019531256,
            400.7989196777344
           ]
          },
          {
           "name": "LEye",
           "type": "scatter",
           "x": [
            1186.5111083984375,
            1168.9530029296875
           ],
           "y": [
            394.8943176269531,
            400.7989196777344
           ]
          },
          {
           "name": "Spine",
           "type": "scatter",
           "x": [
            1151.2945556640625,
            1048.2210693359377
           ],
           "y": [
            436.2638549804688,
            574.4755249023438
           ]
          },
          {
           "name": "RShoulder",
           "type": "scatter",
           "x": [
            1151.2945556640625,
            1115.9068603515623
           ],
           "y": [
            436.2638549804688,
            433.2187805175781
           ]
          },
          {
           "name": "RArm",
           "type": "scatter",
           "x": [
            1115.9068603515623,
            1092.322021484375
           ],
           "y": [
            433.2187805175781,
            380.0964660644531
           ]
          },
          {
           "name": "RForearm",
           "type": "scatter",
           "x": [
            1092.322021484375,
            1107.114990234375
           ],
           "y": [
            380.0964660644531,
            309.4617919921875
           ]
          },
          {
           "name": "LShoulder",
           "type": "scatter",
           "x": [
            1151.2945556640625,
            1189.5145263671875
           ],
           "y": [
            436.2638549804688,
            450.76678466796875
           ]
          },
          {
           "name": "LArm",
           "type": "scatter",
           "x": [
            1189.5145263671875,
            1236.679931640625
           ],
           "y": [
            450.76678466796875,
            362.4504699707031
           ]
          },
          {
           "name": "LForearm",
           "type": "scatter",
           "x": [
            1236.679931640625,
            1242.589599609375
           ],
           "y": [
            362.4504699707031,
            294.79913330078125
           ]
          },
          {
           "name": "RHip",
           "type": "scatter",
           "x": [
            1048.2210693359377,
            1024.793212890625
           ],
           "y": [
            574.4755249023438,
            571.3914184570312
           ]
          },
          {
           "name": "RThigh",
           "type": "scatter",
           "x": [
            1024.793212890625,
            971.7527465820311
           ],
           "y": [
            571.3914184570312,
            706.88134765625
           ]
          },
          {
           "name": "RCalf",
           "type": "scatter",
           "x": [
            971.7527465820311,
            1015.9505615234376
           ],
           "y": [
            706.88134765625,
            836.3017578125
           ]
          },
          {
           "name": "RFoot",
           "type": "scatter",
           "x": [
            1015.9505615234376,
            1007.0604858398434
           ],
           "y": [
            836.3017578125,
            901.066162109375
           ]
          },
          {
           "name": "LHip",
           "type": "scatter",
           "x": [
            1048.2210693359377,
            1068.9576416015623
           ],
           "y": [
            574.4755249023438,
            580.3466186523439
           ]
          },
          {
           "name": "LThigh",
           "type": "scatter",
           "x": [
            1068.9576416015623,
            1004.1577148437501
           ],
           "y": [
            580.3466186523439,
            712.6803588867189
           ]
          },
          {
           "name": "LCalf",
           "type": "scatter",
           "x": [
            1004.1577148437501,
            1051.2821044921875
           ],
           "y": [
            712.6803588867189,
            851.141845703125
           ]
          },
          {
           "name": "LFoot",
           "type": "scatter",
           "x": [
            1051.2821044921875,
            1036.5589599609377
           ],
           "y": [
            851.141845703125,
            907.0838623046876
           ]
          }
         ]
        },
        {
         "data": [
          {
           "name": "Neck",
           "type": "scatter",
           "x": [
            1174.9012451171875,
            1154.2115478515625
           ],
           "y": [
            403.7304382324218,
            436.27841186523443
           ]
          },
          {
           "name": "REye",
           "type": "scatter",
           "x": [
            1169.02490234375,
            1174.9012451171875
           ],
           "y": [
            400.733917236328,
            403.7304382324218
           ]
          },
          {
           "name": "LEye",
           "type": "scatter",
           "x": [
            1186.6796875,
            1174.9012451171875
           ],
           "y": [
            403.7315979003905,
            403.7304382324218
           ]
          },
          {
           "name": "Spine",
           "type": "scatter",
           "x": [
            1154.2115478515625,
            1045.4483642578125
           ],
           "y": [
            436.27841186523443,
            562.6871948242189
           ]
          },
          {
           "name": "RShoulder",
           "type": "scatter",
           "x": [
            1154.2115478515625,
            1116.1196289062498
           ],
           "y": [
            436.27841186523443,
            433.11108398437506
           ]
          },
          {
           "name": "RArm",
           "type": "scatter",
           "x": [
            1116.1196289062498,
            1092.4144287109377
           ],
           "y": [
            433.11108398437506,
            380.19772338867193
           ]
          },
          {
           "name": "RForearm",
           "type": "scatter",
           "x": [
            1092.4144287109377,
            1107.1206054687502
           ],
           "y": [
            380.19772338867193,
            306.6311340332031
           ]
          },
          {
           "name": "LShoulder",
           "type": "scatter",
           "x": [
            1154.2115478515625,
            1189.5417480468752
           ],
           "y": [
            436.27841186523443,
            453.6701965332031
           ]
          },
          {
           "name": "LArm",
           "type": "scatter",
           "x": [
            1189.5417480468752,
            1248.4691162109375
           ],
           "y": [
            453.6701965332031,
            359.5971069335937
           ]
          },
          {
           "name": "LForearm",
           "type": "scatter",
           "x": [
            1248.4691162109375,
            1257.2027587890625
           ],
           "y": [
            359.5971069335937,
            294.91778564453125
           ]
          },
          {
           "name": "RHip",
           "type": "scatter",
           "x": [
            1045.4483642578125,
            1024.8358154296877
           ],
           "y": [
            562.6871948242189,
            553.9287719726562
           ]
          },
          {
           "name": "RThigh",
           "type": "scatter",
           "x": [
            1024.8358154296877,
            954.2304077148434
           ],
           "y": [
            553.9287719726562,
            683.2942504882812
           ]
          },
          {
           "name": "RCalf",
           "type": "scatter",
           "x": [
            954.2304077148434,
            1010.0321655273436
           ],
           "y": [
            683.2942504882812,
            812.7694702148436
           ]
          },
          {
           "name": "RFoot",
           "type": "scatter",
           "x": [
            1010.0321655273436,
            1004.1302490234376
           ],
           "y": [
            812.7694702148436,
            877.5316162109375
           ]
          },
          {
           "name": "LHip",
           "type": "scatter",
           "x": [
            1045.4483642578125,
            1065.9959716796877
           ],
           "y": [
            562.6871948242189,
            574.3408203125
           ]
          },
          {
           "name": "LThigh",
           "type": "scatter",
           "x": [
            1065.9959716796877,
            992.4035644531249
           ],
           "y": [
            574.3408203125,
            689.1658325195314
           ]
          },
          {
           "name": "LCalf",
           "type": "scatter",
           "x": [
            992.4035644531249,
            1045.3319091796877
           ],
           "y": [
            689.1658325195314,
            821.7133178710938
           ]
          },
          {
           "name": "LFoot",
           "type": "scatter",
           "x": [
            1045.3319091796877,
            1024.8135986328125
           ],
           "y": [
            821.7133178710938,
            880.632568359375
           ]
          }
         ]
        },
        {
         "data": [
          {
           "name": "Neck",
           "type": "scatter",
           "x": [
            1183.7131347656248,
            1162.98095703125
           ],
           "y": [
            409.55969238281244,
            436.20642089843756
           ]
          },
          {
           "name": "REye",
           "type": "scatter",
           "x": [
            1183.6741943359375,
            1183.7131347656248
           ],
           "y": [
            409.68737792968756,
            409.55969238281244
           ]
          },
          {
           "name": "LEye",
           "type": "scatter",
           "x": [
            1192.4918212890625,
            1183.7131347656248
           ],
           "y": [
            409.67922973632807,
            409.55969238281244
           ]
          },
          {
           "name": "Spine",
           "type": "scatter",
           "x": [
            1162.98095703125,
            1048.3870849609377
           ],
           "y": [
            436.20642089843756,
            550.8016967773438
           ]
          },
          {
           "name": "RShoulder",
           "type": "scatter",
           "x": [
            1162.98095703125,
            1121.8334960937502
           ],
           "y": [
            436.20642089843756,
            433.0177612304688
           ]
          },
          {
           "name": "RArm",
           "type": "scatter",
           "x": [
            1121.8334960937502,
            1092.3740234375
           ],
           "y": [
            433.0177612304688,
            383.00744628906244
           ]
          },
          {
           "name": "RForearm",
           "type": "scatter",
           "x": [
            1092.3740234375,
            1098.3520507812498
           ],
           "y": [
            383.00744628906244,
            312.46981811523443
           ]
          },
          {
           "name": "LShoulder",
           "type": "scatter",
           "x": [
            1162.98095703125,
            1195.4798583984375
           ],
           "y": [
            436.20642089843756,
            453.6624755859375
           ]
          },
          {
           "name": "LArm",
           "type": "scatter",
           "x": [
            1195.4798583984375,
            1257.20556640625
           ],
           "y": [
            453.6624755859375,
            359.6072692871094
           ]
          },
          {
           "name": "LForearm",
           "type": "scatter",
           "x": [
            1257.20556640625,
            1260.3006591796877
           ],
           "y": [
            359.6072692871094,
            291.91299438476557
           ]
          },
          {
           "name": "RHip",
           "type": "scatter",
           "x": [
            1048.3870849609377,
            1030.6910400390623
           ],
           "y": [
            550.8016967773438,
            539.0731811523438
           ]
          },
          {
           "name": "RThigh",
           "type": "scatter",
           "x": [
            1030.6910400390623,
            948.2580566406249
           ],
           "y": [
            539.0731811523438,
            659.735595703125
           ]
          },
          {
           "name": "RCalf",
           "type": "scatter",
           "x": [
            948.2580566406249,
            1018.7761840820312
           ],
           "y": [
            659.735595703125,
            786.4107055664062
           ]
          },
          {
           "name": "RFoot",
           "type": "scatter",
           "x": [
            1018.7761840820312,
            1004.1414794921875
           ],
           "y": [
            786.4107055664062,
            839.3975830078125
           ]
          },
          {
           "name": "LHip",
           "type": "scatter",
           "x": [
            1048.3870849609377,
            1069.007080078125
           ],
           "y": [
            550.8016967773438,
            553.96728515625
           ]
          },
          {
           "name": "LThigh",
           "type": "scatter",
           "x": [
            1069.007080078125,
            974.80712890625
           ],
           "y": [
            553.96728515625,
            656.8963623046875
           ]
          },
          {
           "name": "LCalf",
           "type": "scatter",
           "x": [
            974.80712890625,
            1024.8138427734377
           ],
           "y": [
            656.8963623046875,
            795.1973876953125
           ]
          },
          {
           "name": "LFoot",
           "type": "scatter",
           "x": [
            1024.8138427734377,
            1004.1419067382812
           ],
           "y": [
            795.1973876953125,
            854.0042114257811
           ]
          }
         ]
        },
        {
         "data": [
          {
           "name": "Spine",
           "type": "scatter",
           "x": [
            1166.1429443359375,
            1057.1102294921875
           ],
           "y": [
            433.29055786132807,
            530.3536987304688
           ]
          },
          {
           "name": "RShoulder",
           "type": "scatter",
           "x": [
            1166.1429443359375,
            1124.8022460937502
           ],
           "y": [
            433.29055786132807,
            430.14501953124994
           ]
          },
          {
           "name": "RArm",
           "type": "scatter",
           "x": [
            1124.8022460937502,
            1089.476318359375
           ],
           "y": [
            430.14501953124994,
            380.1443176269531
           ]
          },
          {
           "name": "RForearm",
           "type": "scatter",
           "x": [
            1089.476318359375,
            1095.271484375
           ],
           "y": [
            380.1443176269531,
            303.6901245117188
           ]
          },
          {
           "name": "LShoulder",
           "type": "scatter",
           "x": [
            1166.1429443359375,
            1210.1158447265623
           ],
           "y": [
            433.29055786132807,
            438.99929809570307
           ]
          },
          {
           "name": "LArm",
           "type": "scatter",
           "x": [
            1210.1158447265623,
            1260.15185546875
           ],
           "y": [
            438.99929809570307,
            356.6784057617188
           ]
          },
          {
           "name": "LForearm",
           "type": "scatter",
           "x": [
            1260.15185546875,
            1266.1092529296875
           ],
           "y": [
            356.6784057617188,
            288.9550170898437
           ]
          },
          {
           "name": "RHip",
           "type": "scatter",
           "x": [
            1057.1102294921875,
            1045.2280273437502
           ],
           "y": [
            530.3536987304688,
            527.2536010742188
           ]
          },
          {
           "name": "RThigh",
           "type": "scatter",
           "x": [
            1045.2280273437502,
            930.6487426757812
           ],
           "y": [
            527.2536010742188,
            621.6172485351562
           ]
          },
          {
           "name": "RCalf",
           "type": "scatter",
           "x": [
            930.6487426757812,
            1004.1163940429688
           ],
           "y": [
            621.6172485351562,
            742.3022460937501
           ]
          },
          {
           "name": "RFoot",
           "type": "scatter",
           "x": [
            1004.1163940429688,
            1010.0062255859376
           ],
           "y": [
            742.3022460937501,
            801.016845703125
           ]
          },
          {
           "name": "LHip",
           "type": "scatter",
           "x": [
            1057.1102294921875,
            1071.8502197265623
           ],
           "y": [
            530.3536987304688,
            542.0489501953125
           ]
          },
          {
           "name": "LThigh",
           "type": "scatter",
           "x": [
            1071.8502197265623,
            962.9808349609376
           ],
           "y": [
            542.0489501953125,
            624.5298461914062
           ]
          },
          {
           "name": "LCalf",
           "type": "scatter",
           "x": [
            962.9808349609376,
            1021.649169921875
           ],
           "y": [
            624.5298461914062,
            759.8558959960936
           ]
          },
          {
           "name": "LFoot",
           "type": "scatter",
           "x": [
            1021.649169921875,
            1001.3377075195312
           ],
           "y": [
            759.8558959960936,
            812.9601440429685
           ]
          }
         ]
        },
        {
         "data": [
          {
           "name": "Neck",
           "type": "scatter",
           "x": [
            1233.5881347656248,
            1183.5985107421875
           ],
           "y": [
            471.4513244628906,
            436.0482788085938
           ]
          },
          {
           "name": "Spine",
           "type": "scatter",
           "x": [
            1183.5985107421875,
            1065.9057617187502
           ],
           "y": [
            436.0482788085938,
            524.3081665039062
           ]
          },
          {
           "name": "RShoulder",
           "type": "scatter",
           "x": [
            1183.5985107421875,
            1139.507080078125
           ],
           "y": [
            436.0482788085938,
            433.15908813476557
           ]
          },
          {
           "name": "RArm",
           "type": "scatter",
           "x": [
            1139.507080078125,
            1083.6551513671875
           ],
           "y": [
            433.15908813476557,
            383.06549072265625
           ]
          },
          {
           "name": "RForearm",
           "type": "scatter",
           "x": [
            1083.6551513671875,
            1086.5303955078125
           ],
           "y": [
            383.06549072265625,
            309.55566406249994
           ]
          },
          {
           "name": "LShoulder",
           "type": "scatter",
           "x": [
            1183.5985107421875,
            1216.037353515625
           ],
           "y": [
            436.0482788085938,
            436.1871948242188
           ]
          },
          {
           "name": "LArm",
           "type": "scatter",
           "x": [
            1216.037353515625,
            1260.1243896484375
           ],
           "y": [
            436.1871948242188,
            362.36819458007807
           ]
          },
          {
           "name": "LForearm",
           "type": "scatter",
           "x": [
            1260.1243896484375,
            1263.27001953125
           ],
           "y": [
            362.36819458007807,
            285.98687744140625
           ]
          },
          {
           "name": "RHip",
           "type": "scatter",
           "x": [
            1065.9057617187502,
            1048.2437744140623
           ],
           "y": [
            524.3081665039062,
            509.71923828125
           ]
          },
          {
           "name": "RThigh",
           "type": "scatter",
           "x": [
            1048.2437744140623,
            927.5897827148435
           ],
           "y": [
            509.71923828125,
            594.91845703125
           ]
          },
          {
           "name": "RCalf",
           "type": "scatter",
           "x": [
            927.5897827148435,
            992.3137817382811
           ],
           "y": [
            594.91845703125,
            712.6920776367188
           ]
          },
          {
           "name": "RFoot",
           "type": "scatter",
           "x": [
            992.3137817382811,
            995.2824096679689
           ],
           "y": [
            712.6920776367188,
            765.6493530273435
           ]
          },
          {
           "name": "LHip",
           "type": "scatter",
           "x": [
            1065.9057617187502,
            1074.8717041015623
           ],
           "y": [
            524.3081665039062,
            530.2363891601562
           ]
          },
          {
           "name": "LThigh",
           "type": "scatter",
           "x": [
            1074.8717041015623,
            954.1391601562499
           ],
           "y": [
            530.2363891601562,
            586.2180175781249
           ]
          },
          {
           "name": "LCalf",
           "type": "scatter",
           "x": [
            954.1391601562499,
            1004.1663208007811
           ],
           "y": [
            586.2180175781249,
            721.6067504882812
           ]
          },
          {
           "name": "LFoot",
           "type": "scatter",
           "x": [
            1004.1663208007811,
            992.3703613281249
           ],
           "y": [
            721.6067504882812,
            777.5625610351562
           ]
          }
         ]
        },
        {
         "data": [
          {
           "name": "Neck",
           "type": "scatter",
           "x": [
            1218.9683837890625,
            1183.6671142578125
           ],
           "y": [
            486.2469787597656,
            442.01116943359375
           ]
          },
          {
           "name": "REye",
           "type": "scatter",
           "x": [
            1230.7399902343752,
            1218.9683837890625
           ],
           "y": [
            483.25463867187506,
            486.2469787597656
           ]
          },
          {
           "name": "Spine",
           "type": "scatter",
           "x": [
            1183.6671142578125,
            1068.8833007812498
           ],
           "y": [
            442.01116943359375,
            527.2905883789064
           ]
          },
          {
           "name": "RShoulder",
           "type": "scatter",
           "x": [
            1183.6671142578125,
            1204.22900390625
           ],
           "y": [
            442.01116943359375,
            450.7928161621094
           ]
          },
          {
           "name": "RArm",
           "type": "scatter",
           "x": [
            1204.22900390625,
            1257.125
           ],
           "y": [
            450.7928161621094,
            359.5296936035156
           ]
          },
          {
           "name": "RForearm",
           "type": "scatter",
           "x": [
            1257.125,
            1260.150146484375
           ],
           "y": [
            359.5296936035156,
            280.11715698242193
           ]
          },
          {
           "name": "RHip",
           "type": "scatter",
           "x": [
            1068.8833007812498,
            1068.8707275390623
           ],
           "y": [
            527.2905883789064,
            530.2477416992189
           ]
          },
          {
           "name": "RThigh",
           "type": "scatter",
           "x": [
            1068.8707275390623,
            921.742431640625
           ],
           "y": [
            530.2477416992189,
            553.7052612304689
           ]
          },
          {
           "name": "RCalf",
           "type": "scatter",
           "x": [
            921.742431640625,
            974.7865600585935
           ],
           "y": [
            553.7052612304689,
            674.5474853515625
           ]
          },
          {
           "name": "RFoot",
           "type": "scatter",
           "x": [
            974.7865600585935,
            959.989013671875
           ],
           "y": [
            674.5474853515625,
            718.6629638671874
           ]
          },
          {
           "name": "LHip",
           "type": "scatter",
           "x": [
            1068.8833007812498,
            1068.8969726562498
           ],
           "y": [
            527.2905883789064,
            524.3226318359376
           ]
          },
          {
           "name": "LThigh",
           "type": "scatter",
           "x": [
            1068.8969726562498,
            945.2177124023438
           ],
           "y": [
            524.3226318359376,
            553.7611694335938
           ]
          },
          {
           "name": "LCalf",
           "type": "scatter",
           "x": [
            945.2177124023438,
            995.299560546875
           ],
           "y": [
            553.7611694335938,
            692.1308593750001
           ]
          },
          {
           "name": "LFoot",
           "type": "scatter",
           "x": [
            995.299560546875,
            965.9283447265624
           ],
           "y": [
            692.1308593750001,
            742.0891113281249
           ]
          }
         ]
        },
        {
         "data": [
          {
           "name": "Neck",
           "type": "scatter",
           "x": [
            1216.1624755859375,
            1180.6947021484375
           ],
           "y": [
            500.79833984375,
            444.9889221191406
           ]
          },
          {
           "name": "REye",
           "type": "scatter",
           "x": [
            1233.617431640625,
            1216.1624755859375
           ],
           "y": [
            491.99951171875,
            500.79833984375
           ]
          },
          {
           "name": "LEye",
           "type": "scatter",
           "x": [
            1233.5989990234375,
            1216.1624755859375
           ],
           "y": [
            500.7750244140625,
            500.79833984375
           ]
          },
          {
           "name": "Spine",
           "type": "scatter",
           "x": [
            1180.6947021484375,
            1068.8385009765623
           ],
           "y": [
            444.9889221191406,
            518.5028686523438
           ]
          },
          {
           "name": "RShoulder",
           "type": "scatter",
           "x": [
            1180.6947021484375,
            1145.430419921875
           ],
           "y": [
            444.9889221191406,
            438.99670410156244
           ]
          },
          {
           "name": "RArm",
           "type": "scatter",
           "x": [
            1145.430419921875,
            1071.9227294921875
           ],
           "y": [
            438.99670410156244,
            388.9310607910156
           ]
          },
          {
           "name": "RForearm",
           "type": "scatter",
           "x": [
            1071.9227294921875,
            1065.981201171875
           ],
           "y": [
            388.9310607910156,
            315.4542541503907
           ]
          },
          {
           "name": "LShoulder",
           "type": "scatter",
           "x": [
            1180.6947021484375,
            1210.1021728515625
           ],
           "y": [
            444.9889221191406,
            442.0502319335937
           ]
          },
          {
           "name": "LArm",
           "type": "scatter",
           "x": [
            1210.1021728515625,
            1248.4787597656248
           ],
           "y": [
            442.0502319335937,
            371.30908203124994
           ]
          },
          {
           "name": "LForearm",
           "type": "scatter",
           "x": [
            1248.4787597656248,
            1251.4195556640625
           ],
           "y": [
            371.30908203124994,
            288.85794067382807
           ]
          },
          {
           "name": "RHip",
           "type": "scatter",
           "x": [
            1068.8385009765623,
            1051.23046875
           ],
           "y": [
            518.5028686523438,
            521.446044921875
           ]
          },
          {
           "name": "RThigh",
           "type": "scatter",
           "x": [
            1051.23046875,
            924.634033203125
           ],
           "y": [
            521.446044921875,
            509.74261474609375
           ]
          },
          {
           "name": "RCalf",
           "type": "scatter",
           "x": [
            924.634033203125,
            977.6939697265625
           ],
           "y": [
            509.74261474609375,
            653.9603881835938
           ]
          },
          {
           "name": "RFoot",
           "type": "scatter",
           "x": [
            977.6939697265625,
            948.2704467773438
           ],
           "y": [
            653.9603881835938,
            692.1917724609374
           ]
          },
          {
           "name": "LHip",
           "type": "scatter",
           "x": [
            1068.8385009765623,
            1077.693115234375
           ],
           "y": [
            518.5028686523438,
            512.6450805664064
           ]
          },
          {
           "name": "LThigh",
           "type": "scatter",
           "x": [
            1077.693115234375,
            968.75830078125
           ],
           "y": [
            512.6450805664064,
            506.76513671875
           ]
          },
          {
           "name": "LCalf",
           "type": "scatter",
           "x": [
            968.75830078125,
            977.6027221679688
           ],
           "y": [
            506.76513671875,
            659.8405761718751
           ]
          },
          {
           "name": "LFoot",
           "type": "scatter",
           "x": [
            977.6027221679688,
            936.5068359375
           ],
           "y": [
            659.8405761718751,
            692.2482299804688
           ]
          }
         ]
        },
        {
         "data": [
          {
           "name": "Neck",
           "type": "scatter",
           "x": [
            1230.718994140625,
            1171.9371337890625
           ],
           "y": [
            503.92962646484375,
            444.9237060546875
           ]
          },
          {
           "name": "REye",
           "type": "scatter",
           "x": [
            1233.7335205078123,
            1230.718994140625
           ],
           "y": [
            500.8637084960938,
            503.92962646484375
           ]
          },
          {
           "name": "LEye",
           "type": "scatter",
           "x": [
            1230.8287353515625,
            1230.718994140625
           ],
           "y": [
            497.92916870117193,
            503.92962646484375
           ]
          },
          {
           "name": "Spine",
           "type": "scatter",
           "x": [
            1171.9371337890625,
            1062.978515625
           ],
           "y": [
            444.9237060546875,
            512.6766357421875
           ]
          },
          {
           "name": "RShoulder",
           "type": "scatter",
           "x": [
            1171.9371337890625,
            1136.600830078125
           ],
           "y": [
            444.9237060546875,
            436.1517639160156
           ]
          },
          {
           "name": "RArm",
           "type": "scatter",
           "x": [
            1136.600830078125,
            1071.7602539062498
           ],
           "y": [
            436.1517639160156,
            389.1209411621094
           ]
          },
          {
           "name": "RForearm",
           "type": "scatter",
           "x": [
            1071.7602539062498,
            1054.1729736328125
           ],
           "y": [
            389.1209411621094,
            318.34445190429693
           ]
          },
          {
           "name": "LShoulder",
           "type": "scatter",
           "x": [
            1171.9371337890625,
            1210.11767578125
           ],
           "y": [
            444.9237060546875,
            453.75085449218756
           ]
          },
          {
           "name": "LArm",
           "type": "scatter",
           "x": [
            1210.11767578125,
            1239.645263671875
           ],
           "y": [
            453.75085449218756,
            371.36373901367193
           ]
          },
          {
           "name": "LForearm",
           "type": "scatter",
           "x": [
            1239.645263671875,
            1236.6439208984375
           ],
           "y": [
            371.36373901367193,
            291.8450317382812
           ]
          },
          {
           "name": "RHip",
           "type": "scatter",
           "x": [
            1062.978515625,
            1042.3995361328125
           ],
           "y": [
            512.6766357421875,
            503.8108825683593
           ]
          },
          {
           "name": "RThigh",
           "type": "scatter",
           "x": [
            1042.3995361328125,
            927.6853637695311
           ],
           "y": [
            503.8108825683593,
            480.09533691406244
           ]
          },
          {
           "name": "RCalf",
           "type": "scatter",
           "x": [
            927.6853637695311,
            965.8701171875
           ],
           "y": [
            480.09533691406244,
            624.54833984375
           ]
          },
          {
           "name": "RFoot",
           "type": "scatter",
           "x": [
            965.8701171875,
            915.8154296875
           ],
           "y": [
            624.54833984375,
            642.1688232421876
           ]
          },
          {
           "name": "LHip",
           "type": "scatter",
           "x": [
            1062.978515625,
            1077.770751953125
           ],
           "y": [
            512.6766357421875,
            527.3365478515625
           ]
          },
          {
           "name": "LThigh",
           "type": "scatter",
           "x": [
            1077.770751953125,
            977.7794799804686
           ],
           "y": [
            527.3365478515625,
            456.82312011718756
           ]
          },
          {
           "name": "LCalf",
           "type": "scatter",
           "x": [
            977.7794799804686,
            951.2415161132812
           ],
           "y": [
            456.82312011718756,
            627.3965454101564
           ]
          },
          {
           "name": "LFoot",
           "type": "scatter",
           "x": [
            951.2415161132812,
            886.382568359375
           ],
           "y": [
            627.3965454101564,
            642.1464233398436
           ]
          }
         ]
        },
        {
         "data": [
          {
           "name": "Neck",
           "type": "scatter",
           "x": [
            1233.796875,
            1186.5364990234375
           ],
           "y": [
            506.78164672851557,
            456.67874145507807
           ]
          },
          {
           "name": "REye",
           "type": "scatter",
           "x": [
            1236.653076171875,
            1233.796875
           ],
           "y": [
            503.8207092285155,
            506.78164672851557
           ]
          },
          {
           "name": "Spine",
           "type": "scatter",
           "x": [
            1186.5364990234375,
            1057.1280517578125
           ],
           "y": [
            456.67874145507807,
            509.6302490234375
           ]
          },
          {
           "name": "RShoulder",
           "type": "scatter",
           "x": [
            1186.5364990234375,
            1148.385498046875
           ],
           "y": [
            456.67874145507807,
            439.12319946289057
           ]
          },
          {
           "name": "RArm",
           "type": "scatter",
           "x": [
            1148.385498046875,
            1071.7177734375
           ],
           "y": [
            439.12319946289057,
            403.72644042968756
           ]
          },
          {
           "name": "RForearm",
           "type": "scatter",
           "x": [
            1071.7177734375,
            1048.4075927734377
           ],
           "y": [
            403.72644042968756,
            324.2745361328125
           ]
          },
          {
           "name": "LShoulder",
           "type": "scatter",
           "x": [
            1186.5364990234375,
            1210.2027587890625
           ],
           "y": [
            456.67874145507807,
            459.7745666503905
           ]
          },
          {
           "name": "LArm",
           "type": "scatter",
           "x": [
            1210.2027587890625,
            1233.782958984375
           ],
           "y": [
            459.7745666503905,
            383.15161132812494
           ]
          },
          {
           "name": "LForearm",
           "type": "scatter",
           "x": [
            1233.782958984375,
            1216.0545654296877
           ],
           "y": [
            383.15161132812494,
            294.8472900390625
           ]
          },
          {
           "name": "RHip",
           "type": "scatter",
           "x": [
            1057.1280517578125,
            1045.3402099609377
           ],
           "y": [
            509.6302490234375,
            494.9677429199219
           ]
          },
          {
           "name": "RThigh",
           "type": "scatter",
           "x": [
            1045.3402099609377,
            936.4856567382812
           ],
           "y": [
            494.9677429199219,
            439.1269226074219
           ]
          },
          {
           "name": "RCalf",
           "type": "scatter",
           "x": [
            936.4856567382812,
            951.296142578125
           ],
           "y": [
            439.1269226074219,
            603.8416748046875
           ]
          },
          {
           "name": "RFoot",
           "type": "scatter",
           "x": [
            951.296142578125,
            904.0537719726561
           ],
           "y": [
            603.8416748046875,
            577.3340454101564
           ]
          },
          {
           "name": "LHip",
           "type": "scatter",
           "x": [
            1057.1280517578125,
            1071.7982177734377
           ],
           "y": [
            509.6302490234375,
            527.3822021484375
           ]
          },
          {
           "name": "LThigh",
           "type": "scatter",
           "x": [
            1071.7982177734377,
            998.1010131835936
           ],
           "y": [
            527.3822021484375,
            427.2468566894531
           ]
          },
          {
           "name": "LCalf",
           "type": "scatter",
           "x": [
            998.1010131835936,
            933.521240234375
           ],
           "y": [
            427.2468566894531,
            600.8875732421876
           ]
          },
          {
           "name": "LFoot",
           "type": "scatter",
           "x": [
            933.521240234375,
            859.9100341796875
           ],
           "y": [
            600.8875732421876,
            645.0477905273438
           ]
          }
         ]
        },
        {
         "data": [
          {
           "name": "Neck",
           "type": "scatter",
           "x": [
            1224.9091796875,
            1195.4591064453123
           ],
           "y": [
            506.7608642578125,
            468.46023559570307
           ]
          },
          {
           "name": "REye",
           "type": "scatter",
           "x": [
            1233.7254638671875,
            1224.9091796875
           ],
           "y": [
            503.82705688476557,
            506.7608642578125
           ]
          },
          {
           "name": "LEye",
           "type": "scatter",
           "x": [
            1230.811767578125,
            1224.9091796875
           ],
           "y": [
            506.73388671875,
            506.7608642578125
           ]
          },
          {
           "name": "Spine",
           "type": "scatter",
           "x": [
            1195.4591064453123,
            1065.917724609375
           ],
           "y": [
            468.46023559570307,
            506.8021545410157
           ]
          },
          {
           "name": "RShoulder",
           "type": "scatter",
           "x": [
            1195.4591064453123,
            1207.1787109374998
           ],
           "y": [
            468.46023559570307,
            456.7427368164063
           ]
          },
          {
           "name": "RArm",
           "type": "scatter",
           "x": [
            1207.1787109374998,
            1227.7744140625002
           ],
           "y": [
            456.7427368164063,
            388.9365844726563
           ]
          },
          {
           "name": "RForearm",
           "type": "scatter",
           "x": [
            1227.7744140625002,
            1204.22705078125
           ],
           "y": [
            388.9365844726563,
            294.9583740234375
           ]
          },
          {
           "name": "RHip",
           "type": "scatter",
           "x": [
            1065.917724609375,
            1051.3155517578125
           ],
           "y": [
            506.8021545410157,
            497.9025573730469
           ]
          },
          {
           "name": "RThigh",
           "type": "scatter",
           "x": [
            1051.3155517578125,
            957.0641479492189
           ],
           "y": [
            497.9025573730469,
            412.48736572265625
           ]
          },
          {
           "name": "RCalf",
           "type": "scatter",
           "x": [
            957.0641479492189,
            927.732177734375
           ],
           "y": [
            412.48736572265625,
            571.4503173828125
           ]
          },
          {
           "name": "RFoot",
           "type": "scatter",
           "x": [
            927.732177734375,
            880.5552368164064
           ],
           "y": [
            571.4503173828125,
            533.2444458007814
           ]
          },
          {
           "name": "LHip",
           "type": "scatter",
           "x": [
            1065.917724609375,
            1071.7586669921875
           ],
           "y": [
            506.8021545410157,
            524.3408813476562
           ]
          },
          {
           "name": "LThigh",
           "type": "scatter",
           "x": [
            1071.7586669921875,
            1018.8212280273436
           ],
           "y": [
            524.3408813476562,
            391.96853637695307
           ]
          },
          {
           "name": "LCalf",
           "type": "scatter",
           "x": [
            1018.8212280273436,
            924.59716796875
           ],
           "y": [
            391.96853637695307,
            553.9619750976562
           ]
          },
          {
           "name": "LFoot",
           "type": "scatter",
           "x": [
            924.59716796875,
            856.8939208984373
           ],
           "y": [
            553.9619750976562,
            550.8897094726562
           ]
          }
         ]
        },
        {
         "data": [
          {
           "name": "Neck",
           "type": "scatter",
           "x": [
            1224.8480224609377,
            1201.3850097656248
           ],
           "y": [
            506.84893798828125,
            480.23400878906244
           ]
          },
          {
           "name": "REye",
           "type": "scatter",
           "x": [
            1233.6707763671875,
            1224.8480224609377
           ],
           "y": [
            503.85452270507807,
            506.84893798828125
           ]
          },
          {
           "name": "LEye",
           "type": "scatter",
           "x": [
            1230.8018798828125,
            1224.8480224609377
           ],
           "y": [
            512.6439819335938,
            506.84893798828125
           ]
          },
          {
           "name": "Spine",
           "type": "scatter",
           "x": [
            1201.3850097656248,
            1065.9501953125
           ],
           "y": [
            480.23400878906244,
            503.8059692382813
           ]
          },
          {
           "name": "RShoulder",
           "type": "scatter",
           "x": [
            1201.3850097656248,
            1213.0772705078123
           ],
           "y": [
            480.23400878906244,
            456.6703186035156
           ]
          },
          {
           "name": "RArm",
           "type": "scatter",
           "x": [
            1213.0772705078123,
            1213.0616455078123
           ],
           "y": [
            456.6703186035156,
            394.9461975097656
           ]
          },
          {
           "name": "RForearm",
           "type": "scatter",
           "x": [
            1213.0616455078123,
            1186.7491455078123
           ],
           "y": [
            394.9461975097656,
            306.57806396484375
           ]
          },
          {
           "name": "LShoulder",
           "type": "scatter",
           "x": [
            1201.3850097656248,
            1189.595703125
           ],
           "y": [
            480.23400878906244,
            500.85083007812494
           ]
          },
          {
           "name": "RHip",
           "type": "scatter",
           "x": [
            1065.9501953125,
            1051.2729492187502
           ],
           "y": [
            503.8059692382813,
            486.1917419433594
           ]
          },
          {
           "name": "RThigh",
           "type": "scatter",
           "x": [
            1051.2729492187502,
            974.7171020507811
           ],
           "y": [
            486.1917419433594,
            386.15155029296886
           ]
          },
          {
           "name": "RCalf",
           "type": "scatter",
           "x": [
            974.7171020507811,
            924.6886596679689
           ],
           "y": [
            386.15155029296886,
            486.2059936523437
           ]
          },
          {
           "name": "RFoot",
           "type": "scatter",
           "x": [
            924.6886596679689,
            883.4550170898438
           ],
           "y": [
            486.2059936523437,
            439.0098876953125
           ]
          },
          {
           "name": "LHip",
           "type": "scatter",
           "x": [
            1065.9501953125,
            1071.857666015625
           ],
           "y": [
            503.8059692382813,
            521.4210815429689
           ]
          },
          {
           "name": "LThigh",
           "type": "scatter",
           "x": [
            1071.857666015625,
            1042.3480224609377
           ],
           "y": [
            521.4210815429689,
            368.4395446777344
           ]
          },
          {
           "name": "LCalf",
           "type": "scatter",
           "x": [
            1042.3480224609377,
            910.0135498046876
           ],
           "y": [
            368.4395446777344,
            509.7201538085938
           ]
          },
          {
           "name": "LFoot",
           "type": "scatter",
           "x": [
            910.0135498046876,
            854.0137329101561
           ],
           "y": [
            509.7201538085938,
            480.22305297851557
           ]
          }
         ]
        },
        {
         "data": [
          {
           "name": "Neck",
           "type": "scatter",
           "x": [
            1216.1253662109375,
            1195.4854736328125
           ],
           "y": [
            518.5037841796875,
            497.8768920898438
           ]
          },
          {
           "name": "REye",
           "type": "scatter",
           "x": [
            1227.815673828125,
            1216.1253662109375
           ],
           "y": [
            515.5220336914064,
            518.5037841796875
           ]
          },
          {
           "name": "LEye",
           "type": "scatter",
           "x": [
            1224.9503173828125,
            1216.1253662109375
           ],
           "y": [
            527.2606811523438,
            518.5037841796875
           ]
          },
          {
           "name": "Spine",
           "type": "scatter",
           "x": [
            1195.4854736328125,
            1068.8560791015623
           ],
           "y": [
            497.8768920898438,
            509.6711120605469
           ]
          },
          {
           "name": "RShoulder",
           "type": "scatter",
           "x": [
            1195.4854736328125,
            1210.243408203125
           ],
           "y": [
            497.8768920898438,
            471.45178222656244
           ]
          },
          {
           "name": "RArm",
           "type": "scatter",
           "x": [
            1210.243408203125,
            1210.206298828125
           ],
           "y": [
            471.45178222656244,
            412.54479980468744
           ]
          },
          {
           "name": "RForearm",
           "type": "scatter",
           "x": [
            1210.206298828125,
            1169.0579833984375
           ],
           "y": [
            412.54479980468744,
            315.5096130371094
           ]
          },
          {
           "name": "LShoulder",
           "type": "scatter",
           "x": [
            1195.4854736328125,
            1189.5723876953123
           ],
           "y": [
            497.8768920898438,
            506.7060852050781
           ]
          },
          {
           "name": "RHip",
           "type": "scatter",
           "x": [
            1068.8560791015623,
            1065.894287109375
           ],
           "y": [
            509.6711120605469,
            500.8302612304688
           ]
          },
          {
           "name": "RThigh",
           "type": "scatter",
           "x": [
            1065.894287109375,
            998.116455078125
           ],
           "y": [
            500.8302612304688,
            365.4771423339844
           ]
          },
          {
           "name": "RCalf",
           "type": "scatter",
           "x": [
            998.116455078125,
            927.5047607421874
           ],
           "y": [
            365.4771423339844,
            430.2080383300781
           ]
          },
          {
           "name": "RFoot",
           "type": "scatter",
           "x": [
            927.5047607421874,
            901.0891113281249
           ],
           "y": [
            430.2080383300781,
            368.4761352539063
           ]
          },
          {
           "name": "LHip",
           "type": "scatter",
           "x": [
            1068.8560791015623,
            1071.852294921875
           ],
           "y": [
            509.6711120605469,
            527.2525634765625
           ]
          },
          {
           "name": "LThigh",
           "type": "scatter",
           "x": [
            1071.852294921875,
            1065.8634033203123
           ],
           "y": [
            527.2525634765625,
            359.5292053222656
           ]
          },
          {
           "name": "LCalf",
           "type": "scatter",
           "x": [
            1065.8634033203123,
            907.0848388671875
           ],
           "y": [
            359.5292053222656,
            459.71981811523443
           ]
          },
          {
           "name": "LFoot",
           "type": "scatter",
           "x": [
            907.0848388671875,
            865.8532104492186
           ],
           "y": [
            459.71981811523443,
            415.50588989257807
           ]
          }
         ]
        },
        {
         "data": [
          {
           "name": "Neck",
           "type": "scatter",
           "x": [
            1221.915283203125,
            1192.6165771484375
           ],
           "y": [
            524.3895874023438,
            503.8321228027344
           ]
          },
          {
           "name": "REye",
           "type": "scatter",
           "x": [
            1227.8162841796877,
            1221.915283203125
           ],
           "y": [
            524.3371582031249,
            524.3895874023438
           ]
          },
          {
           "name": "LEye",
           "type": "scatter",
           "x": [
            1227.814697265625,
            1221.915283203125
           ],
           "y": [
            518.5546875,
            524.3895874023438
           ]
          },
          {
           "name": "Spine",
           "type": "scatter",
           "x": [
            1192.6165771484375,
            1071.788818359375
           ],
           "y": [
            503.8321228027344,
            506.7583923339844
           ]
          },
          {
           "name": "RShoulder",
           "type": "scatter",
           "x": [
            1192.6165771484375,
            1210.0457763671875
           ],
           "y": [
            503.8321228027344,
            483.1591186523437
           ]
          },
          {
           "name": "RArm",
           "type": "scatter",
           "x": [
            1210.0457763671875,
            1198.448486328125
           ],
           "y": [
            483.1591186523437,
            415.5599060058593
           ]
          },
          {
           "name": "RForearm",
           "type": "scatter",
           "x": [
            1198.448486328125,
            1163.1964111328125
           ],
           "y": [
            415.5599060058593,
            333.03692626953125
           ]
          },
          {
           "name": "RHip",
           "type": "scatter",
           "x": [
            1071.788818359375,
            1068.8579101562498
           ],
           "y": [
            506.7583923339844,
            500.8861389160156
           ]
          },
          {
           "name": "RThigh",
           "type": "scatter",
           "x": [
            1068.8579101562498,
            1068.9569091796877
           ],
           "y": [
            500.8861389160156,
            353.63400268554693
           ]
          },
          {
           "name": "RCalf",
           "type": "scatter",
           "x": [
            1068.9569091796877,
            930.5517578125001
           ],
           "y": [
            353.63400268554693,
            400.78134155273443
           ]
          },
          {
           "name": "LHip",
           "type": "scatter",
           "x": [
            1071.788818359375,
            1074.7784423828125
           ],
           "y": [
            506.7583923339844,
            521.4818115234375
           ]
          },
          {
           "name": "LThigh",
           "type": "scatter",
           "x": [
            1074.7784423828125,
            1071.9965820312498
           ],
           "y": [
            521.4818115234375,
            344.93957519531256
           ]
          },
          {
           "name": "LCalf",
           "type": "scatter",
           "x": [
            1071.9965820312498,
            921.7172241210936
           ],
           "y": [
            344.93957519531256,
            406.5680236816406
           ]
          },
          {
           "name": "LFoot",
           "type": "scatter",
           "x": [
            921.7172241210936,
            880.4986572265626
           ],
           "y": [
            406.5680236816406,
            347.7956237792969
           ]
          }
         ]
        },
        {
         "data": [
          {
           "name": "Neck",
           "type": "scatter",
           "x": [
            1224.8804931640625,
            1201.3320312499998
           ],
           "y": [
            539.124755859375,
            524.3373413085938
           ]
          },
          {
           "name": "REye",
           "type": "scatter",
           "x": [
            1230.6937255859375,
            1224.8804931640625
           ],
           "y": [
            536.1444702148438,
            539.124755859375
           ]
          },
          {
           "name": "Spine",
           "type": "scatter",
           "x": [
            1201.3320312499998,
            1065.9552001953123
           ],
           "y": [
            524.3373413085938,
            503.82794189453125
           ]
          },
          {
           "name": "RShoulder",
           "type": "scatter",
           "x": [
            1201.3320312499998,
            1207.169921875
           ],
           "y": [
            524.3373413085938,
            506.67266845703125
           ]
          },
          {
           "name": "RArm",
           "type": "scatter",
           "x": [
            1207.169921875,
            1189.509765625
           ],
           "y": [
            506.67266845703125,
            424.31640625
           ]
          },
          {
           "name": "RForearm",
           "type": "scatter",
           "x": [
            1189.509765625,
            1160.113037109375
           ],
           "y": [
            424.31640625,
            341.9965209960937
           ]
          },
          {
           "name": "LShoulder",
           "type": "scatter",
           "x": [
            1201.3320312499998,
            1210.09716796875
           ],
           "y": [
            524.3373413085938,
            521.4462280273438
           ]
          },
          {
           "name": "LArm",
           "type": "scatter",
           "x": [
            1210.09716796875,
            1189.58447265625
           ],
           "y": [
            521.4462280273438,
            421.4344177246093
           ]
          },
          {
           "name": "LForearm",
           "type": "scatter",
           "x": [
            1189.58447265625,
            1160.0399169921873
           ],
           "y": [
            421.4344177246093,
            341.8612976074219
           ]
          },
          {
           "name": "RHip",
           "type": "scatter",
           "x": [
            1065.9552001953123,
            1068.934814453125
           ],
           "y": [
            503.82794189453125,
            486.1131591796875
           ]
          },
          {
           "name": "RThigh",
           "type": "scatter",
           "x": [
            1068.934814453125,
            1074.797607421875
           ],
           "y": [
            486.1131591796875,
            359.5433044433593
           ]
          },
          {
           "name": "RCalf",
           "type": "scatter",
           "x": [
            1074.797607421875,
            959.97705078125
           ],
           "y": [
            359.5433044433593,
            339.02374267578125
           ]
          },
          {
           "name": "LHip",
           "type": "scatter",
           "x": [
            1065.9552001953123,
            1065.9965820312498
           ],
           "y": [
            503.82794189453125,
            524.4298095703124
           ]
          },
          {
           "name": "LThigh",
           "type": "scatter",
           "x": [
            1065.9965820312498,
            1095.2896728515623
           ],
           "y": [
            524.4298095703124,
            341.93692016601557
           ]
          },
          {
           "name": "LCalf",
           "type": "scatter",
           "x": [
            1095.2896728515623,
            915.8533325195314
           ],
           "y": [
            341.93692016601557,
            365.54754638671875
           ]
          },
          {
           "name": "LFoot",
           "type": "scatter",
           "x": [
            915.8533325195314,
            901.1190185546877
           ],
           "y": [
            365.54754638671875,
            312.4015197753907
           ]
          }
         ]
        },
        {
         "data": [
          {
           "name": "Neck",
           "type": "scatter",
           "x": [
            1210.2071533203123,
            1183.7257080078127
           ],
           "y": [
            547.9646606445312,
            527.2621459960938
           ]
          },
          {
           "name": "REye",
           "type": "scatter",
           "x": [
            1213.2148437500002,
            1210.2071533203123
           ],
           "y": [
            544.99609375,
            547.9646606445312
           ]
          },
          {
           "name": "LEye",
           "type": "scatter",
           "x": [
            1213.044921875,
            1210.2071533203123
           ],
           "y": [
            547.9406127929688,
            547.9646606445312
           ]
          },
          {
           "name": "Spine",
           "type": "scatter",
           "x": [
            1183.7257080078127,
            1063.019775390625
           ],
           "y": [
            527.2621459960938,
            503.720703125
           ]
          },
          {
           "name": "RShoulder",
           "type": "scatter",
           "x": [
            1183.7257080078127,
            1192.6077880859375
           ],
           "y": [
            527.2621459960938,
            503.8446960449219
           ]
          },
          {
           "name": "RArm",
           "type": "scatter",
           "x": [
            1192.6077880859375,
            1186.524658203125
           ],
           "y": [
            503.8446960449219,
            433.1219482421875
           ]
          },
          {
           "name": "RForearm",
           "type": "scatter",
           "x": [
            1186.524658203125,
            1139.619873046875
           ],
           "y": [
            433.1219482421875,
            341.9931335449219
           ]
          },
          {
           "name": "LHip",
           "type": "scatter",
           "x": [
            1063.019775390625,
            1060.1005859375
           ],
           "y": [
            503.720703125,
            521.401123046875
           ]
          },
          {
           "name": "LThigh",
           "type": "scatter",
           "x": [
            1060.1005859375,
            1101.3045654296877
           ],
           "y": [
            521.401123046875,
            344.9132080078125
           ]
          },
          {
           "name": "LCalf",
           "type": "scatter",
           "x": [
            1101.3045654296877,
            939.4402465820311
           ],
           "y": [
            344.9132080078125,
            333.116455078125
           ]
          },
          {
           "name": "LFoot",
           "type": "scatter",
           "x": [
            939.4402465820311,
            912.8794555664062
           ],
           "y": [
            333.116455078125,
            338.9028015136719
           ]
          }
         ]
        },
        {
         "data": [
          {
           "name": "Neck",
           "type": "scatter",
           "x": [
            1207.2606201171875,
            1168.9379882812498
           ],
           "y": [
            571.473876953125,
            530.4220581054689
           ]
          },
          {
           "name": "REye",
           "type": "scatter",
           "x": [
            1210.240234375,
            1207.2606201171875
           ],
           "y": [
            562.7084960937501,
            571.473876953125
           ]
          },
          {
           "name": "LEye",
           "type": "scatter",
           "x": [
            1207.2764892578125,
            1207.2606201171875
           ],
           "y": [
            565.6549682617189,
            571.473876953125
           ]
          },
          {
           "name": "Spine",
           "type": "scatter",
           "x": [
            1168.9379882812498,
            1057.108642578125
           ],
           "y": [
            530.4220581054689,
            497.92105102539057
           ]
          },
          {
           "name": "RShoulder",
           "type": "scatter",
           "x": [
            1168.9379882812498,
            1189.66552734375
           ],
           "y": [
            530.4220581054689,
            506.8341674804688
           ]
          },
          {
           "name": "RArm",
           "type": "scatter",
           "x": [
            1189.66552734375,
            1180.688720703125
           ],
           "y": [
            506.8341674804688,
            447.91128540039057
           ]
          },
          {
           "name": "LShoulder",
           "type": "scatter",
           "x": [
            1168.9379882812498,
            1174.8341064453123
           ],
           "y": [
            530.4220581054689,
            553.8203125
           ]
          },
          {
           "name": "LHip",
           "type": "scatter",
           "x": [
            1057.108642578125,
            1057.1031494140623
           ],
           "y": [
            497.92105102539057,
            521.4552001953125
           ]
          },
          {
           "name": "LThigh",
           "type": "scatter",
           "x": [
            1057.1031494140623,
            1136.6083984375
           ],
           "y": [
            521.4552001953125,
            347.7936401367188
           ]
          },
          {
           "name": "LCalf",
           "type": "scatter",
           "x": [
            1136.6083984375,
            977.6749267578124
           ],
           "y": [
            347.7936401367188,
            312.4703674316406
           ]
          },
          {
           "name": "LFoot",
           "type": "scatter",
           "x": [
            977.6749267578124,
            933.586181640625
           ],
           "y": [
            312.4703674316406,
            291.93008422851557
           ]
          }
         ]
        },
        {
         "data": [
          {
           "name": "Neck",
           "type": "scatter",
           "x": [
            1192.5582275390623,
            1163.1651611328125
           ],
           "y": [
            577.4805297851562,
            533.1956787109375
           ]
          },
          {
           "name": "REye",
           "type": "scatter",
           "x": [
            1198.4526367187502,
            1192.5582275390623
           ],
           "y": [
            577.4421386718751,
            577.4805297851562
           ]
          },
          {
           "name": "LEye",
           "type": "scatter",
           "x": [
            1189.561767578125,
            1192.5582275390623
           ],
           "y": [
            589.1651000976562,
            577.4805297851562
           ]
          },
          {
           "name": "Spine",
           "type": "scatter",
           "x": [
            1163.1651611328125,
            1045.308349609375
           ],
           "y": [
            533.1956787109375,
            477.25634765624994
           ]
          },
          {
           "name": "RShoulder",
           "type": "scatter",
           "x": [
            1163.1651611328125,
            1186.6973876953123
           ],
           "y": [
            533.1956787109375,
            515.5551147460938
           ]
          },
          {
           "name": "RArm",
           "type": "scatter",
           "x": [
            1186.6973876953123,
            1166.124755859375
           ],
           "y": [
            515.5551147460938,
            450.82870483398443
           ]
          },
          {
           "name": "RForearm",
           "type": "scatter",
           "x": [
            1166.124755859375,
            1163.044677734375
           ],
           "y": [
            450.82870483398443,
            368.3543090820313
           ]
          },
          {
           "name": "LShoulder",
           "type": "scatter",
           "x": [
            1163.1651611328125,
            1160.1748046875
           ],
           "y": [
            533.1956787109375,
            559.7098999023438
           ]
          },
          {
           "name": "LHip",
           "type": "scatter",
           "x": [
            1045.308349609375,
            1042.353759765625
           ],
           "y": [
            477.25634765624994,
            500.812042236328
           ]
          },
          {
           "name": "LThigh",
           "type": "scatter",
           "x": [
            1042.353759765625,
            1124.7823486328125
           ],
           "y": [
            500.812042236328,
            368.44815063476557
           ]
          },
          {
           "name": "LCalf",
           "type": "scatter",
           "x": [
            1124.7823486328125,
            998.3055419921875
           ],
           "y": [
            368.44815063476557,
            291.9823303222656
           ]
          },
          {
           "name": "LFoot",
           "type": "scatter",
           "x": [
            998.3055419921875,
            998.3030395507812
           ],
           "y": [
            291.9823303222656,
            227.17900085449216
           ]
          }
         ]
        },
        {
         "data": [
          {
           "name": "Neck",
           "type": "scatter",
           "x": [
            1180.7117919921873,
            1163.0108642578125
           ],
           "y": [
            597.9512939453125,
            547.9140014648438
           ]
          },
          {
           "name": "REye",
           "type": "scatter",
           "x": [
            1186.593994140625,
            1180.7117919921873
           ],
           "y": [
            595.06787109375,
            597.9512939453125
           ]
          },
          {
           "name": "LEye",
           "type": "scatter",
           "x": [
            1166.0887451171875,
            1180.7117919921873
           ],
           "y": [
            606.7776489257812,
            597.9512939453125
           ]
          },
          {
           "name": "Spine",
           "type": "scatter",
           "x": [
            1163.0108642578125,
            1045.273681640625
           ],
           "y": [
            547.9140014648438,
            468.454132080078
           ]
          },
          {
           "name": "RShoulder",
           "type": "scatter",
           "x": [
            1163.0108642578125,
            1186.5030517578125
           ],
           "y": [
            547.9140014648438,
            527.3726806640625
           ]
          },
          {
           "name": "RArm",
           "type": "scatter",
           "x": [
            1186.5030517578125,
            1166.0419921875
           ],
           "y": [
            527.3726806640625,
            456.61218261718756
           ]
          },
          {
           "name": "LShoulder",
           "type": "scatter",
           "x": [
            1163.0108642578125,
            1168.9713134765625
           ],
           "y": [
            547.9140014648438,
            571.4730224609375
           ]
          },
          {
           "name": "RHip",
           "type": "scatter",
           "x": [
            1045.273681640625,
            1062.9898681640623
           ],
           "y": [
            468.454132080078,
            447.86538696289057
           ]
          },
          {
           "name": "RThigh",
           "type": "scatter",
           "x": [
            1062.9898681640623,
            1157.160400390625
           ],
           "y": [
            447.86538696289057,
            368.3965759277344
           ]
          },
          {
           "name": "RCalf",
           "type": "scatter",
           "x": [
            1157.160400390625,
            1074.853759765625
           ],
           "y": [
            368.3965759277344,
            268.36679077148443
           ]
          },
          {
           "name": "RFoot",
           "type": "scatter",
           "x": [
            1074.853759765625,
            1024.7176513671875
           ],
           "y": [
            268.36679077148443,
            230.07984924316412
           ]
          },
          {
           "name": "LHip",
           "type": "scatter",
           "x": [
            1045.273681640625,
            1027.800537109375
           ],
           "y": [
            468.454132080078,
            489.07351684570307
           ]
          },
          {
           "name": "LThigh",
           "type": "scatter",
           "x": [
            1027.800537109375,
            1121.894775390625
           ],
           "y": [
            489.07351684570307,
            380.1353454589844
           ]
          },
          {
           "name": "LCalf",
           "type": "scatter",
           "x": [
            1121.894775390625,
            1071.858154296875
           ],
           "y": [
            380.1353454589844,
            250.650390625
           ]
          }
         ]
        },
        {
         "data": [
          {
           "name": "Neck",
           "type": "scatter",
           "x": [
            1157.1992187500002,
            1145.3985595703123
           ],
           "y": [
            600.9515380859376,
            556.8297119140624
           ]
          },
          {
           "name": "REye",
           "type": "scatter",
           "x": [
            1166.0069580078127,
            1157.1992187500002
           ],
           "y": [
            603.9151611328125,
            600.9515380859376
           ]
          },
          {
           "name": "LEye",
           "type": "scatter",
           "x": [
            1157.203857421875,
            1157.1992187500002
           ],
           "y": [
            624.5087890624999,
            600.9515380859376
           ]
          },
          {
           "name": "Spine",
           "type": "scatter",
           "x": [
            1145.3985595703123,
            1051.276123046875
           ],
           "y": [
            556.8297119140624,
            447.89663696289057
           ]
          },
          {
           "name": "RShoulder",
           "type": "scatter",
           "x": [
            1145.3985595703123,
            1168.9305419921873
           ],
           "y": [
            556.8297119140624,
            542.018798828125
           ]
          },
          {
           "name": "RArm",
           "type": "scatter",
           "x": [
            1168.9305419921873,
            1166.1354980468752
           ],
           "y": [
            542.018798828125,
            453.7553100585938
           ]
          },
          {
           "name": "RForearm",
           "type": "scatter",
           "x": [
            1166.1354980468752,
            1183.7275390625002
           ],
           "y": [
            453.7553100585938,
            389.13513183593756
           ]
          },
          {
           "name": "LShoulder",
           "type": "scatter",
           "x": [
            1145.3985595703123,
            1118.8785400390623
           ],
           "y": [
            556.8297119140624,
            583.2494506835938
           ]
          }
         ]
        },
        {
         "data": [
          {
           "name": "Spine",
           "type": "scatter",
           "x": [
            1154.2867431640625,
            1042.3721923828125
           ],
           "y": [
            436.01544189453125,
            456.68466186523443
           ]
          },
          {
           "name": "RHip",
           "type": "scatter",
           "x": [
            1042.3721923828125,
            1045.3256835937502
           ],
           "y": [
            456.68466186523443,
            436.0748596191406
           ]
          },
          {
           "name": "RThigh",
           "type": "scatter",
           "x": [
            1045.3256835937502,
            1165.9947509765625
           ],
           "y": [
            436.0748596191406,
            397.8360900878905
           ]
          },
          {
           "name": "RCalf",
           "type": "scatter",
           "x": [
            1165.9947509765625,
            1115.9329833984377
           ],
           "y": [
            397.8360900878905,
            271.38513183593756
           ]
          },
          {
           "name": "RFoot",
           "type": "scatter",
           "x": [
            1115.9329833984377,
            1071.895751953125
           ],
           "y": [
            271.38513183593756,
            224.18251037597656
           ]
          },
          {
           "name": "LHip",
           "type": "scatter",
           "x": [
            1042.3721923828125,
            1027.780029296875
           ],
           "y": [
            456.68466186523443,
            483.188995361328
           ]
          }
         ]
        },
        {
         "data": [
          {
           "name": "Spine",
           "type": "scatter",
           "x": [
            1157.2060546875,
            1048.3393554687502
           ],
           "y": [
            550.8209228515625,
            450.80853271484375
           ]
          },
          {
           "name": "RShoulder",
           "type": "scatter",
           "x": [
            1157.2060546875,
            1171.9100341796877
           ],
           "y": [
            550.8209228515625,
            545.0076904296876
           ]
          },
          {
           "name": "RArm",
           "type": "scatter",
           "x": [
            1171.9100341796877,
            1189.642333984375
           ],
           "y": [
            545.0076904296876,
            412.5128479003905
           ]
          },
          {
           "name": "LShoulder",
           "type": "scatter",
           "x": [
            1157.2060546875,
            1139.5084228515625
           ],
           "y": [
            550.8209228515625,
            571.4287109375001
           ]
          },
          {
           "name": "LArm",
           "type": "scatter",
           "x": [
            1139.5084228515625,
            1148.392822265625
           ],
           "y": [
            571.4287109375001,
            627.4109497070314
           ]
          },
          {
           "name": "LForearm",
           "type": "scatter",
           "x": [
            1148.392822265625,
            1145.4461669921875
           ],
           "y": [
            627.4109497070314,
            642.1002197265624
           ]
          },
          {
           "name": "RHip",
           "type": "scatter",
           "x": [
            1048.3393554687502,
            1057.1175537109377
           ],
           "y": [
            450.80853271484375,
            433.13061523437506
           ]
          },
          {
           "name": "RThigh",
           "type": "scatter",
           "x": [
            1057.1175537109377,
            1186.514404296875
           ],
           "y": [
            433.13061523437506,
            412.47729492187506
           ]
          },
          {
           "name": "RCalf",
           "type": "scatter",
           "x": [
            1186.514404296875,
            1154.273681640625
           ],
           "y": [
            412.47729492187506,
            280.08856201171875
           ]
          },
          {
           "name": "RFoot",
           "type": "scatter",
           "x": [
            1154.273681640625,
            1139.495361328125
           ],
           "y": [
            280.08856201171875,
            227.17141723632807
           ]
          },
          {
           "name": "LHip",
           "type": "scatter",
           "x": [
            1048.3393554687502,
            1030.6697998046877
           ],
           "y": [
            450.80853271484375,
            477.279754638672
           ]
          },
          {
           "name": "LThigh",
           "type": "scatter",
           "x": [
            1030.6697998046877,
            1189.539794921875
           ],
           "y": [
            477.279754638672,
            412.46881103515625
           ]
          },
          {
           "name": "LCalf",
           "type": "scatter",
           "x": [
            1189.539794921875,
            1139.5030517578125
           ],
           "y": [
            412.46881103515625,
            283.07470703124994
           ]
          },
          {
           "name": "LFoot",
           "type": "scatter",
           "x": [
            1139.5030517578125,
            1113.024169921875
           ],
           "y": [
            283.07470703124994,
            250.68441772460932
           ]
          }
         ]
        },
        {
         "data": [
          {
           "name": "Neck",
           "type": "scatter",
           "x": [
            1148.364990234375,
            1118.9912109375
           ],
           "y": [
            662.7511596679689,
            597.9309692382812
           ]
          },
          {
           "name": "REye",
           "type": "scatter",
           "x": [
            1151.331298828125,
            1148.364990234375
           ],
           "y": [
            656.8104858398438,
            662.7511596679689
           ]
          },
          {
           "name": "LEye",
           "type": "scatter",
           "x": [
            1139.5765380859375,
            1148.364990234375
           ],
           "y": [
            665.6699218750001,
            662.7511596679689
           ]
          },
          {
           "name": "Spine",
           "type": "scatter",
           "x": [
            1118.9912109375,
            1080.671630859375
           ],
           "y": [
            597.9309692382812,
            450.83023071289057
           ]
          },
          {
           "name": "RShoulder",
           "type": "scatter",
           "x": [
            1118.9912109375,
            1163.0706787109375
           ],
           "y": [
            597.9309692382812,
            574.3755493164064
           ]
          },
          {
           "name": "RArm",
           "type": "scatter",
           "x": [
            1163.0706787109375,
            1163.1907958984375
           ],
           "y": [
            574.3755493164064,
            524.4074096679689
           ]
          },
          {
           "name": "RForearm",
           "type": "scatter",
           "x": [
            1163.1907958984375,
            1171.9013671875
           ],
           "y": [
            524.4074096679689,
            465.55688476562494
           ]
          },
          {
           "name": "LShoulder",
           "type": "scatter",
           "x": [
            1118.9912109375,
            1092.4141845703123
           ],
           "y": [
            597.9309692382812,
            624.49462890625
           ]
          }
         ]
        },
        {
         "data": [
          {
           "name": "RCalf",
           "type": "scatter",
           "x": [
            1186.6290283203123,
            1216.0950927734377
           ],
           "y": [
            477.27297973632807,
            359.54455566406244
           ]
          }
         ]
        },
        {
         "data": [
          {
           "name": "Neck",
           "type": "scatter",
           "x": [
            1101.264404296875,
            1089.502685546875
           ],
           "y": [
            656.8450927734375,
            597.8756713867189
           ]
          },
          {
           "name": "REye",
           "type": "scatter",
           "x": [
            1104.190673828125,
            1101.264404296875
           ],
           "y": [
            665.6640014648438,
            656.8450927734375
           ]
          },
          {
           "name": "LEye",
           "type": "scatter",
           "x": [
            1089.4599609375,
            1101.264404296875
           ],
           "y": [
            668.6730346679688,
            656.8450927734375
           ]
          },
          {
           "name": "Spine",
           "type": "scatter",
           "x": [
            1089.502685546875,
            1071.8348388671875
           ],
           "y": [
            597.8756713867189,
            456.69540405273443
           ]
          },
          {
           "name": "RShoulder",
           "type": "scatter",
           "x": [
            1089.502685546875,
            1119.0816650390623
           ],
           "y": [
            597.8756713867189,
            600.8862304687499
           ]
          },
          {
           "name": "LShoulder",
           "type": "scatter",
           "x": [
            1089.502685546875,
            1116.052001953125
           ],
           "y": [
            597.8756713867189,
            600.892333984375
           ]
          },
          {
           "name": "LArm",
           "type": "scatter",
           "x": [
            1116.052001953125,
            1192.603515625
           ],
           "y": [
            600.892333984375,
            506.61431884765625
           ]
          },
          {
           "name": "LForearm",
           "type": "scatter",
           "x": [
            1192.603515625,
            1189.6412353515625
           ],
           "y": [
            506.61431884765625,
            500.80474853515625
           ]
          }
         ]
        },
        {
         "data": [
          {
           "name": "Neck",
           "type": "scatter",
           "x": [
            1083.5980224609377,
            1074.753662109375
           ],
           "y": [
            668.4956665039062,
            603.8513793945314
           ]
          },
          {
           "name": "REye",
           "type": "scatter",
           "x": [
            1083.5662841796877,
            1083.5980224609377
           ],
           "y": [
            671.6172485351562,
            668.4956665039062
           ]
          },
          {
           "name": "LEye",
           "type": "scatter",
           "x": [
            1068.8653564453123,
            1083.5980224609377
           ],
           "y": [
            671.6138305664062,
            668.4956665039062
           ]
          },
          {
           "name": "Spine",
           "type": "scatter",
           "x": [
            1074.753662109375,
            1115.9669189453123
           ],
           "y": [
            603.8513793945314,
            527.3624267578124
           ]
          },
          {
           "name": "RShoulder",
           "type": "scatter",
           "x": [
            1074.753662109375,
            1095.4217529296877
           ],
           "y": [
            603.8513793945314,
            609.7192993164062
           ]
          },
          {
           "name": "RArm",
           "type": "scatter",
           "x": [
            1095.4217529296877,
            1177.802734375
           ],
           "y": [
            609.7192993164062,
            530.3796997070314
           ]
          },
          {
           "name": "RForearm",
           "type": "scatter",
           "x": [
            1177.802734375,
            1180.706787109375
           ],
           "y": [
            530.3796997070314,
            506.74645996093756
           ]
          },
          {
           "name": "LShoulder",
           "type": "scatter",
           "x": [
            1074.753662109375,
            1089.522216796875
           ],
           "y": [
            603.8513793945314,
            606.7730102539064
           ]
          },
          {
           "name": "LArm",
           "type": "scatter",
           "x": [
            1089.522216796875,
            1186.5758056640625
           ],
           "y": [
            606.7730102539064,
            527.4097900390624
           ]
          },
          {
           "name": "LForearm",
           "type": "scatter",
           "x": [
            1186.5758056640625,
            1189.5291748046877
           ],
           "y": [
            527.4097900390624,
            506.7663574218751
           ]
          },
          {
           "name": "RHip",
           "type": "scatter",
           "x": [
            1115.9669189453123,
            1139.455078125
           ],
           "y": [
            527.3624267578124,
            553.8395385742189
           ]
          },
          {
           "name": "RThigh",
           "type": "scatter",
           "x": [
            1139.455078125,
            1180.70068359375
           ],
           "y": [
            553.8395385742189,
            512.6787109375001
           ]
          },
          {
           "name": "RCalf",
           "type": "scatter",
           "x": [
            1180.70068359375,
            1224.9150390625002
           ],
           "y": [
            512.6787109375001,
            427.20635986328125
           ]
          },
          {
           "name": "RFoot",
           "type": "scatter",
           "x": [
            1224.9150390625002,
            1227.794677734375
           ],
           "y": [
            427.20635986328125,
            362.4618225097656
           ]
          },
          {
           "name": "LHip",
           "type": "scatter",
           "x": [
            1115.9669189453123,
            1063.0078125
           ],
           "y": [
            527.3624267578124,
            477.33300781249994
           ]
          },
          {
           "name": "LThigh",
           "type": "scatter",
           "x": [
            1063.0078125,
            1086.5345458984377
           ],
           "y": [
            477.33300781249994,
            433.0968933105469
           ]
          },
          {
           "name": "LCalf",
           "type": "scatter",
           "x": [
            1086.5345458984377,
            1180.7495117187502
           ],
           "y": [
            433.0968933105469,
            477.2940063476563
           ]
          }
         ]
        },
        {
         "data": [
          {
           "name": "Neck",
           "type": "scatter",
           "x": [
            1071.7891845703123,
            1057.11328125
           ],
           "y": [
            671.4916381835938,
            600.9198608398438
           ]
          },
          {
           "name": "REye",
           "type": "scatter",
           "x": [
            1068.8787841796877,
            1071.7891845703123
           ],
           "y": [
            674.6057739257812,
            671.4916381835938
           ]
          },
          {
           "name": "LEye",
           "type": "scatter",
           "x": [
            1054.2530517578125,
            1071.7891845703123
           ],
           "y": [
            674.5669555664062,
            671.4916381835938
           ]
          },
          {
           "name": "Spine",
           "type": "scatter",
           "x": [
            1057.11328125,
            1086.5716552734377
           ],
           "y": [
            600.9198608398438,
            468.4546813964844
           ]
          },
          {
           "name": "RShoulder",
           "type": "scatter",
           "x": [
            1057.11328125,
            1045.34375
           ],
           "y": [
            600.9198608398438,
            601.0206909179688
           ]
          },
          {
           "name": "LShoulder",
           "type": "scatter",
           "x": [
            1057.11328125,
            1077.7841796875
           ],
           "y": [
            600.9198608398438,
            603.9743652343751
           ]
          },
          {
           "name": "LArm",
           "type": "scatter",
           "x": [
            1077.7841796875,
            1180.773193359375
           ],
           "y": [
            603.9743652343751,
            530.3688354492189
           ]
          },
          {
           "name": "LForearm",
           "type": "scatter",
           "x": [
            1180.773193359375,
            1186.736328125
           ],
           "y": [
            530.3688354492189,
            524.3561401367188
           ]
          },
          {
           "name": "RHip",
           "type": "scatter",
           "x": [
            1086.5716552734377,
            1077.733642578125
           ],
           "y": [
            468.4546813964844,
            465.5673217773437
           ]
          },
          {
           "name": "RThigh",
           "type": "scatter",
           "x": [
            1077.733642578125,
            1186.5107421875
           ],
           "y": [
            465.5673217773437,
            527.4031982421875
           ]
          },
          {
           "name": "RCalf",
           "type": "scatter",
           "x": [
            1186.5107421875,
            1233.648681640625
           ],
           "y": [
            527.4031982421875,
            441.98919677734375
           ]
          },
          {
           "name": "LHip",
           "type": "scatter",
           "x": [
            1086.5716552734377,
            1098.364990234375
           ],
           "y": [
            468.4546813964844,
            456.76269531249994
           ]
          },
          {
           "name": "LThigh",
           "type": "scatter",
           "x": [
            1098.364990234375,
            1192.490478515625
           ],
           "y": [
            456.76269531249994,
            550.7885131835936
           ]
          },
          {
           "name": "LCalf",
           "type": "scatter",
           "x": [
            1192.490478515625,
            1257.2659912109375
           ],
           "y": [
            550.7885131835936,
            471.4030456542969
           ]
          },
          {
           "name": "LFoot",
           "type": "scatter",
           "x": [
            1257.2659912109375,
            1298.431640625
           ],
           "y": [
            471.4030456542969,
            506.6838073730469
           ]
          }
         ]
        },
        {
         "data": [
          {
           "name": "Neck",
           "type": "scatter",
           "x": [
            1068.807861328125,
            1045.4361572265623
           ],
           "y": [
            665.6966552734376,
            598.0510864257812
           ]
          },
          {
           "name": "REye",
           "type": "scatter",
           "x": [
            1060.0552978515623,
            1068.807861328125
           ],
           "y": [
            665.636962890625,
            665.6966552734376
           ]
          },
          {
           "name": "LEye",
           "type": "scatter",
           "x": [
            1048.3994140625,
            1068.807861328125
           ],
           "y": [
            683.26953125,
            665.6966552734376
           ]
          },
          {
           "name": "Spine",
           "type": "scatter",
           "x": [
            1045.4361572265623,
            1095.3753662109377
           ],
           "y": [
            598.0510864257812,
            489.05221557617193
           ]
          },
          {
           "name": "RShoulder",
           "type": "scatter",
           "x": [
            1045.4361572265623,
            1033.5931396484377
           ],
           "y": [
            598.0510864257812,
            600.8997192382812
           ]
          },
          {
           "name": "LShoulder",
           "type": "scatter",
           "x": [
            1045.4361572265623,
            1057.159912109375
           ],
           "y": [
            598.0510864257812,
            603.9154052734376
           ]
          },
          {
           "name": "LArm",
           "type": "scatter",
           "x": [
            1057.159912109375,
            1154.2501220703125
           ],
           "y": [
            603.9154052734376,
            571.4596557617188
           ]
          },
          {
           "name": "LForearm",
           "type": "scatter",
           "x": [
            1154.2501220703125,
            1195.462646484375
           ],
           "y": [
            571.4596557617188,
            536.1552124023438
           ]
          },
          {
           "name": "RHip",
           "type": "scatter",
           "x": [
            1095.3753662109377,
            1113.025146484375
           ],
           "y": [
            489.05221557617193,
            568.5054931640625
           ]
          },
          {
           "name": "LHip",
           "type": "scatter",
           "x": [
            1095.3753662109377,
            1089.460205078125
           ],
           "y": [
            489.05221557617193,
            480.21780395507807
           ]
          },
          {
           "name": "LThigh",
           "type": "scatter",
           "x": [
            1089.460205078125,
            1180.7060546875
           ],
           "y": [
            480.21780395507807,
            527.3425903320312
           ]
          },
          {
           "name": "LCalf",
           "type": "scatter",
           "x": [
            1180.7060546875,
            1201.35400390625
           ],
           "y": [
            527.3425903320312,
            506.7583923339844
           ]
          },
          {
           "name": "LFoot",
           "type": "scatter",
           "x": [
            1201.35400390625,
            1216.080322265625
           ],
           "y": [
            506.7583923339844,
            527.3658447265625
           ]
          }
         ]
        },
        {
         "data": [
          {
           "name": "Neck",
           "type": "scatter",
           "x": [
            1054.211181640625,
            1048.2348632812498
           ],
           "y": [
            674.4787597656249,
            600.95947265625
           ]
          },
          {
           "name": "REye",
           "type": "scatter",
           "x": [
            1051.275634765625,
            1054.211181640625
           ],
           "y": [
            674.5357666015625,
            674.4787597656249
           ]
          },
          {
           "name": "LEye",
           "type": "scatter",
           "x": [
            1042.420166015625,
            1054.211181640625
           ],
           "y": [
            680.4357299804688,
            674.4787597656249
           ]
          },
          {
           "name": "Spine",
           "type": "scatter",
           "x": [
            1048.2348632812498,
            1107.1268310546877
           ],
           "y": [
            600.95947265625,
            483.23388671875
           ]
          },
          {
           "name": "RShoulder",
           "type": "scatter",
           "x": [
            1048.2348632812498,
            1021.7529907226561
           ],
           "y": [
            600.95947265625,
            595.0435791015625
           ]
          },
          {
           "name": "LShoulder",
           "type": "scatter",
           "x": [
            1048.2348632812498,
            1074.8154296875
           ],
           "y": [
            600.95947265625,
            609.7400512695312
           ]
          },
          {
           "name": "LArm",
           "type": "scatter",
           "x": [
            1074.8154296875,
            1183.72216796875
           ],
           "y": [
            609.7400512695312,
            550.7481689453126
           ]
          },
          {
           "name": "LForearm",
           "type": "scatter",
           "x": [
            1183.72216796875,
            1201.3812255859375
           ],
           "y": [
            550.7481689453126,
            580.3348388671875
           ]
          },
          {
           "name": "RHip",
           "type": "scatter",
           "x": [
            1107.1268310546877,
            1110.075439453125
           ],
           "y": [
            483.23388671875,
            477.24139404296886
           ]
          },
          {
           "name": "RThigh",
           "type": "scatter",
           "x": [
            1110.075439453125,
            1186.61865234375
           ],
           "y": [
            477.24139404296886,
            553.86328125
           ]
          },
          {
           "name": "LHip",
           "type": "scatter",
           "x": [
            1107.1268310546877,
            1107.17578125
           ],
           "y": [
            483.23388671875,
            483.22265625
           ]
          },
          {
           "name": "LThigh",
           "type": "scatter",
           "x": [
            1107.17578125,
            1171.95751953125
           ],
           "y": [
            483.22265625,
            547.9744262695312
           ]
          },
          {
           "name": "LCalf",
           "type": "scatter",
           "x": [
            1171.95751953125,
            1274.962890625
           ],
           "y": [
            547.9744262695312,
            556.7961425781249
           ]
          },
          {
           "name": "LFoot",
           "type": "scatter",
           "x": [
            1274.962890625,
            1286.7088623046877
           ],
           "y": [
            556.7961425781249,
            621.3802490234376
           ]
          }
         ]
        },
        {
         "data": [
          {
           "name": "Neck",
           "type": "scatter",
           "x": [
            1045.391357421875,
            1042.4034423828125
           ],
           "y": [
            674.5253906249999,
            603.9299926757812
           ]
          },
          {
           "name": "REye",
           "type": "scatter",
           "x": [
            1042.3701171875,
            1045.391357421875
           ],
           "y": [
            680.3887939453125,
            674.5253906249999
           ]
          },
          {
           "name": "LEye",
           "type": "scatter",
           "x": [
            1027.6821289062498,
            1045.391357421875
           ],
           "y": [
            686.2783813476561,
            674.5253906249999
           ]
          },
          {
           "name": "Spine",
           "type": "scatter",
           "x": [
            1042.4034423828125,
            1113.0020751953123
           ],
           "y": [
            603.9299926757812,
            483.2899475097656
           ]
          },
          {
           "name": "RShoulder",
           "type": "scatter",
           "x": [
            1042.4034423828125,
            998.2819213867189
           ],
           "y": [
            603.9299926757812,
            600.9279174804686
           ]
          },
          {
           "name": "LShoulder",
           "type": "scatter",
           "x": [
            1042.4034423828125,
            1077.768798828125
           ],
           "y": [
            603.9299926757812,
            609.7381591796875
           ]
          },
          {
           "name": "LArm",
           "type": "scatter",
           "x": [
            1077.768798828125,
            1177.84716796875
           ],
           "y": [
            609.7381591796875,
            559.7336425781249
           ]
          },
          {
           "name": "LForearm",
           "type": "scatter",
           "x": [
            1177.84716796875,
            1266.1094970703125
           ],
           "y": [
            559.7336425781249,
            606.8035888671875
           ]
          },
          {
           "name": "RHip",
           "type": "scatter",
           "x": [
            1113.0020751953123,
            1095.3687744140623
           ],
           "y": [
            483.2899475097656,
            483.11724853515625
           ]
          },
          {
           "name": "RThigh",
           "type": "scatter",
           "x": [
            1095.3687744140623,
            1186.689453125
           ],
           "y": [
            483.11724853515625,
            609.7490234375
           ]
          },
          {
           "name": "LHip",
           "type": "scatter",
           "x": [
            1113.0020751953123,
            1130.673583984375
           ],
           "y": [
            483.2899475097656,
            483.2873840332031
           ]
          },
          {
           "name": "LThigh",
           "type": "scatter",
           "x": [
            1130.673583984375,
            1177.7733154296877
           ],
           "y": [
            483.2873840332031,
            603.8548583984375
           ]
          },
          {
           "name": "LCalf",
           "type": "scatter",
           "x": [
            1177.7733154296877,
            1280.7082519531248
           ],
           "y": [
            603.8548583984375,
            595.0216064453125
           ]
          },
          {
           "name": "LFoot",
           "type": "scatter",
           "x": [
            1280.7082519531248,
            1280.8432617187502
           ],
           "y": [
            595.0216064453125,
            662.7424926757812
           ]
          }
         ]
        },
        {
         "data": [
          {
           "name": "Neck",
           "type": "scatter",
           "x": [
            1027.7177734375,
            1042.372802734375
           ],
           "y": [
            689.1818847656249,
            609.7341918945312
           ]
          },
          {
           "name": "LEye",
           "type": "scatter",
           "x": [
            1021.7685546875,
            1027.7177734375
           ],
           "y": [
            689.1209106445312,
            689.1818847656249
           ]
          },
          {
           "name": "Spine",
           "type": "scatter",
           "x": [
            1042.372802734375,
            1110.138671875
           ],
           "y": [
            609.7341918945312,
            503.77563476562494
           ]
          },
          {
           "name": "RShoulder",
           "type": "scatter",
           "x": [
            1042.372802734375,
            995.3299560546877
           ],
           "y": [
            609.7341918945312,
            603.8809814453125
           ]
          },
          {
           "name": "LShoulder",
           "type": "scatter",
           "x": [
            1042.372802734375,
            1077.781494140625
           ],
           "y": [
            609.7341918945312,
            615.5874633789064
           ]
          },
          {
           "name": "LArm",
           "type": "scatter",
           "x": [
            1077.781494140625,
            1183.6601562499998
           ],
           "y": [
            615.5874633789064,
            556.833251953125
           ]
          },
          {
           "name": "LForearm",
           "type": "scatter",
           "x": [
            1183.6601562499998,
            1260.1829833984375
           ],
           "y": [
            556.833251953125,
            648.1147460937501
           ]
          },
          {
           "name": "RHip",
           "type": "scatter",
           "x": [
            1110.138671875,
            1074.7601318359377
           ],
           "y": [
            503.77563476562494,
            500.8937683105468
           ]
          },
          {
           "name": "RThigh",
           "type": "scatter",
           "x": [
            1074.7601318359377,
            1080.6962890625
           ],
           "y": [
            500.8937683105468,
            651.0296630859376
           ]
          },
          {
           "name": "LHip",
           "type": "scatter",
           "x": [
            1110.138671875,
            1142.4564208984375
           ],
           "y": [
            503.77563476562494,
            500.83798217773443
           ]
          },
          {
           "name": "LThigh",
           "type": "scatter",
           "x": [
            1142.4564208984375,
            1160.0898437500002
           ],
           "y": [
            500.83798217773443,
            627.4562377929688
           ]
          },
          {
           "name": "LCalf",
           "type": "scatter",
           "x": [
            1160.0898437500002,
            1263.2171630859375
           ],
           "y": [
            627.4562377929688,
            648.1206665039062
           ]
          },
          {
           "name": "LFoot",
           "type": "scatter",
           "x": [
            1263.2171630859375,
            1260.2236328125
           ],
           "y": [
            648.1206665039062,
            718.6296386718751
           ]
          }
         ]
        },
        {
         "data": [
          {
           "name": "Neck",
           "type": "scatter",
           "x": [
            1021.9067993164062,
            1036.5140380859377
           ],
           "y": [
            680.3652954101564,
            612.7327270507812
           ]
          },
          {
           "name": "REye",
           "type": "scatter",
           "x": [
            1018.8987426757811,
            1021.9067993164062
           ],
           "y": [
            674.6315307617188,
            680.3652954101564
           ]
          },
          {
           "name": "LEye",
           "type": "scatter",
           "x": [
            1013.006591796875,
            1021.9067993164062
           ],
           "y": [
            677.4172973632812,
            680.3652954101564
           ]
          },
          {
           "name": "Spine",
           "type": "scatter",
           "x": [
            1036.5140380859377,
            1118.9312744140623
           ],
           "y": [
            612.7327270507812,
            524.3557128906249
           ]
          },
          {
           "name": "RShoulder",
           "type": "scatter",
           "x": [
            1036.5140380859377,
            995.2896118164062
           ],
           "y": [
            612.7327270507812,
            603.9622192382812
           ]
          },
          {
           "name": "LShoulder",
           "type": "scatter",
           "x": [
            1036.5140380859377,
            1074.8006591796877
           ],
           "y": [
            612.7327270507812,
            615.6057739257812
           ]
          },
          {
           "name": "LArm",
           "type": "scatter",
           "x": [
            1074.8006591796877,
            1186.4912109374998
           ],
           "y": [
            615.6057739257812,
            574.3475341796875
           ]
          },
          {
           "name": "LForearm",
           "type": "scatter",
           "x": [
            1186.4912109374998,
            1195.4481201171875
           ],
           "y": [
            574.3475341796875,
            645.1037597656249
           ]
          },
          {
           "name": "RHip",
           "type": "scatter",
           "x": [
            1118.9312744140623,
            1089.5224609375
           ],
           "y": [
            524.3557128906249,
            524.3578491210938
           ]
          },
          {
           "name": "RThigh",
           "type": "scatter",
           "x": [
            1089.5224609375,
            1139.4605712890625
           ],
           "y": [
            524.3578491210938,
            662.7598876953125
           ]
          },
          {
           "name": "RCalf",
           "type": "scatter",
           "x": [
            1139.4605712890625,
            1210.2681884765625
           ],
           "y": [
            662.7598876953125,
            668.6315917968751
           ]
          },
          {
           "name": "RFoot",
           "type": "scatter",
           "x": [
            1210.2681884765625,
            1213.062255859375
           ],
           "y": [
            668.6315917968751,
            718.5843505859375
           ]
          },
          {
           "name": "LHip",
           "type": "scatter",
           "x": [
            1118.9312744140623,
            1148.40380859375
           ],
           "y": [
            524.3557128906249,
            518.4822998046875
           ]
          },
          {
           "name": "LThigh",
           "type": "scatter",
           "x": [
            1148.40380859375,
            1171.8867187500002
           ],
           "y": [
            518.4822998046875,
            648.0645751953125
           ]
          },
          {
           "name": "LCalf",
           "type": "scatter",
           "x": [
            1171.8867187500002,
            1254.3482666015625
           ],
           "y": [
            648.0645751953125,
            703.9740600585938
           ]
          },
          {
           "name": "LFoot",
           "type": "scatter",
           "x": [
            1254.3482666015625,
            1236.5880126953123
           ],
           "y": [
            703.9740600585938,
            753.939758300781
           ]
          }
         ]
        },
        {
         "data": [
          {
           "name": "Neck",
           "type": "scatter",
           "x": [
            1015.8829345703124,
            1030.6383056640623
           ],
           "y": [
            677.4113159179688,
            621.416748046875
           ]
          },
          {
           "name": "REye",
           "type": "scatter",
           "x": [
            1015.9229125976561,
            1015.8829345703124
           ],
           "y": [
            674.6282348632812,
            677.4113159179688
           ]
          },
          {
           "name": "LEye",
           "type": "scatter",
           "x": [
            1004.1295166015624,
            1015.8829345703124
           ],
           "y": [
            674.4879150390625,
            677.4113159179688
           ]
          },
          {
           "name": "Spine",
           "type": "scatter",
           "x": [
            1030.6383056640623,
            1118.9976806640623
           ],
           "y": [
            621.416748046875,
            536.1314086914064
           ]
          },
          {
           "name": "RShoulder",
           "type": "scatter",
           "x": [
            1030.6383056640623,
            989.3949584960936
           ],
           "y": [
            621.416748046875,
            609.7112426757812
           ]
          },
          {
           "name": "RArm",
           "type": "scatter",
           "x": [
            989.3949584960936,
            951.0218505859377
           ],
           "y": [
            609.7112426757812,
            662.7230224609374
           ]
          },
          {
           "name": "LShoulder",
           "type": "scatter",
           "x": [
            1030.6383056640623,
            1071.9364013671875
           ],
           "y": [
            621.416748046875,
            621.6101684570312
           ]
          },
          {
           "name": "LArm",
           "type": "scatter",
           "x": [
            1071.9364013671875,
            1183.7152099609375
           ],
           "y": [
            621.6101684570312,
            586.244873046875
           ]
          },
          {
           "name": "LForearm",
           "type": "scatter",
           "x": [
            1183.7152099609375,
            1186.63720703125
           ],
           "y": [
            586.244873046875,
            665.6184692382812
           ]
          },
          {
           "name": "RHip",
           "type": "scatter",
           "x": [
            1118.9976806640623,
            1089.4649658203123
           ],
           "y": [
            536.1314086914064,
            536.2020263671876
           ]
          },
          {
           "name": "RThigh",
           "type": "scatter",
           "x": [
            1089.4649658203123,
            1142.43603515625
           ],
           "y": [
            536.2020263671876,
            671.5762939453125
           ]
          },
          {
           "name": "RCalf",
           "type": "scatter",
           "x": [
            1142.43603515625,
            1216.0169677734377
           ],
           "y": [
            671.5762939453125,
            721.6464843750001
           ]
          },
          {
           "name": "RFoot",
           "type": "scatter",
           "x": [
            1216.0169677734377,
            1201.318603515625
           ],
           "y": [
            721.6464843750001,
            768.6906738281249
           ]
          },
          {
           "name": "LHip",
           "type": "scatter",
           "x": [
            1118.9976806640623,
            1157.1336669921873
           ],
           "y": [
            536.1314086914064,
            530.3275756835938
           ]
          },
          {
           "name": "LThigh",
           "type": "scatter",
           "x": [
            1157.1336669921873,
            1186.53369140625
           ],
           "y": [
            530.3275756835938,
            671.665283203125
           ]
          },
          {
           "name": "LCalf",
           "type": "scatter",
           "x": [
            1186.53369140625,
            1242.6165771484375
           ],
           "y": [
            671.665283203125,
            759.8135986328125
           ]
          },
          {
           "name": "LFoot",
           "type": "scatter",
           "x": [
            1242.6165771484375,
            1216.1231689453123
           ],
           "y": [
            759.8135986328125,
            798.099853515625
           ]
          }
         ]
        },
        {
         "data": [
          {
           "name": "Neck",
           "type": "scatter",
           "x": [
            1001.2093505859376,
            1030.652587890625
           ],
           "y": [
            680.4365844726562,
            624.428466796875
           ]
          },
          {
           "name": "LEye",
           "type": "scatter",
           "x": [
            998.3156738281249,
            1001.2093505859376
           ],
           "y": [
            671.7142333984375,
            680.4365844726562
           ]
          },
          {
           "name": "Spine",
           "type": "scatter",
           "x": [
            1030.652587890625,
            1121.8291015625
           ],
           "y": [
            624.428466796875,
            556.8609619140624
           ]
          },
          {
           "name": "RShoulder",
           "type": "scatter",
           "x": [
            1030.652587890625,
            983.6051025390625
           ],
           "y": [
            624.428466796875,
            618.5476684570312
           ]
          },
          {
           "name": "RArm",
           "type": "scatter",
           "x": [
            983.6051025390625,
            948.1604003906251
           ],
           "y": [
            618.5476684570312,
            648.0659790039062
           ]
          },
          {
           "name": "LShoulder",
           "type": "scatter",
           "x": [
            1030.652587890625,
            1074.77734375
           ],
           "y": [
            624.428466796875,
            624.558837890625
           ]
          },
          {
           "name": "LArm",
           "type": "scatter",
           "x": [
            1074.77734375,
            1186.459716796875
           ],
           "y": [
            624.558837890625,
            600.9639892578125
           ]
          },
          {
           "name": "LForearm",
           "type": "scatter",
           "x": [
            1186.459716796875,
            1183.644287109375
           ],
           "y": [
            600.9639892578125,
            671.5745849609375
           ]
          },
          {
           "name": "RHip",
           "type": "scatter",
           "x": [
            1121.8291015625,
            1092.3819580078125
           ],
           "y": [
            556.8609619140624,
            568.54296875
           ]
          },
          {
           "name": "RThigh",
           "type": "scatter",
           "x": [
            1092.3819580078125,
            1142.6153564453123
           ],
           "y": [
            568.54296875,
            695.1398925781249
           ]
          },
          {
           "name": "RCalf",
           "type": "scatter",
           "x": [
            1142.6153564453123,
            1192.6339111328125
           ],
           "y": [
            695.1398925781249,
            777.4798583984374
           ]
          },
          {
           "name": "RFoot",
           "type": "scatter",
           "x": [
            1192.6339111328125,
            1169.02587890625
           ],
           "y": [
            777.4798583984374,
            812.8324584960938
           ]
          },
          {
           "name": "LHip",
           "type": "scatter",
           "x": [
            1121.8291015625,
            1160.143798828125
           ],
           "y": [
            556.8609619140624,
            550.9961547851562
           ]
          },
          {
           "name": "LThigh",
           "type": "scatter",
           "x": [
            1160.143798828125,
            1186.4899902343752
           ],
           "y": [
            550.9961547851562,
            700.9603881835938
           ]
          },
          {
           "name": "LCalf",
           "type": "scatter",
           "x": [
            1186.4899902343752,
            1224.8398437500002
           ],
           "y": [
            700.9603881835938,
            806.8652954101561
           ]
          },
          {
           "name": "LFoot",
           "type": "scatter",
           "x": [
            1224.8398437500002,
            1189.5598144531248
           ],
           "y": [
            806.8652954101561,
            836.283447265625
           ]
          }
         ]
        },
        {
         "data": [
          {
           "name": "Neck",
           "type": "scatter",
           "x": [
            989.397705078125,
            1030.608642578125
           ],
           "y": [
            683.3601684570312,
            630.3201293945314
           ]
          },
          {
           "name": "LEye",
           "type": "scatter",
           "x": [
            986.5087890624999,
            989.397705078125
           ],
           "y": [
            671.6239624023439,
            683.3601684570312
           ]
          },
          {
           "name": "Spine",
           "type": "scatter",
           "x": [
            1030.608642578125,
            1136.5643310546877
           ],
           "y": [
            630.3201293945314,
            580.3078613281249
           ]
          },
          {
           "name": "RShoulder",
           "type": "scatter",
           "x": [
            1030.608642578125,
            986.5180664062501
           ],
           "y": [
            630.3201293945314,
            624.3718261718751
           ]
          },
          {
           "name": "RArm",
           "type": "scatter",
           "x": [
            986.5180664062501,
            1068.9888916015623
           ],
           "y": [
            624.3718261718751,
            659.8503417968751
           ]
          },
          {
           "name": "RForearm",
           "type": "scatter",
           "x": [
            1068.9888916015623,
            1104.1988525390623
           ],
           "y": [
            659.8503417968751,
            689.2088012695312
           ]
          },
          {
           "name": "LShoulder",
           "type": "scatter",
           "x": [
            1030.608642578125,
            1071.9375
           ],
           "y": [
            630.3201293945314,
            630.3564453124999
           ]
          },
          {
           "name": "LArm",
           "type": "scatter",
           "x": [
            1071.9375,
            1186.515869140625
           ],
           "y": [
            630.3564453124999,
            624.4151000976562
           ]
          },
          {
           "name": "LForearm",
           "type": "scatter",
           "x": [
            1186.515869140625,
            1180.69384765625
           ],
           "y": [
            624.4151000976562,
            695.2039184570312
           ]
          },
          {
           "name": "RHip",
           "type": "scatter",
           "x": [
            1136.5643310546877,
            1104.2421875
           ],
           "y": [
            580.3078613281249,
            600.9224853515625
           ]
          },
          {
           "name": "RThigh",
           "type": "scatter",
           "x": [
            1104.2421875,
            1142.4814453125
           ],
           "y": [
            600.9224853515625,
            721.6035766601562
           ]
          },
          {
           "name": "RCalf",
           "type": "scatter",
           "x": [
            1142.4814453125,
            1180.796142578125
           ],
           "y": [
            721.6035766601562,
            812.9380493164062
           ]
          },
          {
           "name": "RFoot",
           "type": "scatter",
           "x": [
            1180.796142578125,
            1157.1979980468752
           ],
           "y": [
            812.9380493164062,
            856.8673095703124
           ]
          },
          {
           "name": "LHip",
           "type": "scatter",
           "x": [
            1136.5643310546877,
            1165.910400390625
           ],
           "y": [
            580.3078613281249,
            571.4851684570312
           ]
          },
          {
           "name": "LThigh",
           "type": "scatter",
           "x": [
            1165.910400390625,
            1186.509033203125
           ],
           "y": [
            571.4851684570312,
            724.503662109375
           ]
          },
          {
           "name": "LCalf",
           "type": "scatter",
           "x": [
            1186.509033203125,
            1210.2581787109375
           ],
           "y": [
            724.503662109375,
            833.5208129882814
           ]
          },
          {
           "name": "LFoot",
           "type": "scatter",
           "x": [
            1210.2581787109375,
            1180.740234375
           ],
           "y": [
            833.5208129882814,
            868.7374267578124
           ]
          }
         ]
        },
        {
         "data": [
          {
           "name": "Neck",
           "type": "scatter",
           "x": [
            983.5684204101562,
            1027.7745361328125
           ],
           "y": [
            674.5488281249999,
            636.2596435546875
           ]
          },
          {
           "name": "REye",
           "type": "scatter",
           "x": [
            977.5593261718751,
            983.5684204101562
           ],
           "y": [
            671.5125732421876,
            674.5488281249999
           ]
          },
          {
           "name": "LEye",
           "type": "scatter",
           "x": [
            983.5690917968751,
            983.5684204101562
           ],
           "y": [
            668.612060546875,
            674.5488281249999
           ]
          },
          {
           "name": "Spine",
           "type": "scatter",
           "x": [
            1027.7745361328125,
            1139.6441650390625
           ],
           "y": [
            636.2596435546875,
            615.6435546875001
           ]
          },
          {
           "name": "RShoulder",
           "type": "scatter",
           "x": [
            1027.7745361328125,
            995.2511596679689
           ],
           "y": [
            636.2596435546875,
            633.3325195312501
           ]
          },
          {
           "name": "RArm",
           "type": "scatter",
           "x": [
            995.2511596679689,
            1068.828125
           ],
           "y": [
            633.3325195312501,
            668.7075195312501
           ]
          },
          {
           "name": "RForearm",
           "type": "scatter",
           "x": [
            1068.828125,
            1095.5157470703123
           ],
           "y": [
            668.7075195312501,
            698.1328735351562
           ]
          },
          {
           "name": "LShoulder",
           "type": "scatter",
           "x": [
            1027.7745361328125,
            1071.8651123046877
           ],
           "y": [
            636.2596435546875,
            636.2171630859376
           ]
          },
          {
           "name": "LArm",
           "type": "scatter",
           "x": [
            1071.8651123046877,
            1183.658203125
           ],
           "y": [
            636.2171630859376,
            630.3828125
           ]
          },
          {
           "name": "LForearm",
           "type": "scatter",
           "x": [
            1183.658203125,
            1166.0323486328125
           ],
           "y": [
            630.3828125,
            698.1187133789064
           ]
          },
          {
           "name": "RHip",
           "type": "scatter",
           "x": [
            1139.6441650390625,
            1115.9354248046877
           ],
           "y": [
            615.6435546875001,
            636.2180786132812
           ]
          },
          {
           "name": "RThigh",
           "type": "scatter",
           "x": [
            1115.9354248046877,
            1136.5020751953123
           ],
           "y": [
            636.2180786132812,
            745.1128540039064
           ]
          },
          {
           "name": "RCalf",
           "type": "scatter",
           "x": [
            1136.5020751953123,
            1163.0826416015625
           ],
           "y": [
            745.1128540039064,
            856.9475097656249
           ]
          },
          {
           "name": "RFoot",
           "type": "scatter",
           "x": [
            1163.0826416015625,
            1133.68115234375
           ],
           "y": [
            856.9475097656249,
            898.1812744140626
           ]
          },
          {
           "name": "LHip",
           "type": "scatter",
           "x": [
            1139.6441650390625,
            1166.0966796875
           ],
           "y": [
            615.6435546875001,
            600.9462890624999
           ]
          },
          {
           "name": "LThigh",
           "type": "scatter",
           "x": [
            1166.0966796875,
            1171.9183349609375
           ],
           "y": [
            600.9462890624999,
            751.030029296875
           ]
          },
          {
           "name": "LCalf",
           "type": "scatter",
           "x": [
            1171.9183349609375,
            1192.5877685546877
           ],
           "y": [
            751.030029296875,
            874.6078491210938
           ]
          },
          {
           "name": "LFoot",
           "type": "scatter",
           "x": [
            1192.5877685546877,
            1163.01708984375
           ],
           "y": [
            874.6078491210938,
            906.9898071289062
           ]
          }
         ]
        },
        {
         "data": [
          {
           "name": "Neck",
           "type": "scatter",
           "x": [
            986.518798828125,
            1039.512939453125
           ],
           "y": [
            671.6837768554689,
            633.2988891601562
           ]
          },
          {
           "name": "REye",
           "type": "scatter",
           "x": [
            977.5507812500001,
            986.518798828125
           ],
           "y": [
            671.4482421875,
            671.6837768554689
           ]
          },
          {
           "name": "LEye",
           "type": "scatter",
           "x": [
            983.6193847656249,
            986.518798828125
           ],
           "y": [
            665.7162475585938,
            671.6837768554689
           ]
          },
          {
           "name": "Spine",
           "type": "scatter",
           "x": [
            1039.512939453125,
            1145.400634765625
           ],
           "y": [
            633.2988891601562,
            647.9672241210938
           ]
          },
          {
           "name": "RShoulder",
           "type": "scatter",
           "x": [
            1039.512939453125,
            1012.9686279296876
           ],
           "y": [
            633.2988891601562,
            642.0491943359375
           ]
          },
          {
           "name": "RArm",
           "type": "scatter",
           "x": [
            1012.9686279296876,
            1068.8822021484377
           ],
           "y": [
            642.0491943359375,
            674.4695434570312
           ]
          },
          {
           "name": "RForearm",
           "type": "scatter",
           "x": [
            1068.8822021484377,
            1095.420654296875
           ],
           "y": [
            674.4695434570312,
            721.5721435546875
           ]
          },
          {
           "name": "LShoulder",
           "type": "scatter",
           "x": [
            1039.512939453125,
            1071.7904052734377
           ],
           "y": [
            633.2988891601562,
            630.3463745117189
           ]
          },
          {
           "name": "LArm",
           "type": "scatter",
           "x": [
            1071.7904052734377,
            1177.83154296875
           ],
           "y": [
            630.3463745117189,
            659.8107299804688
           ]
          },
          {
           "name": "LForearm",
           "type": "scatter",
           "x": [
            1177.83154296875,
            1177.7469482421875
           ],
           "y": [
            659.8107299804688,
            739.27392578125
           ]
          },
          {
           "name": "RHip",
           "type": "scatter",
           "x": [
            1145.400634765625,
            1121.8833007812498
           ],
           "y": [
            647.9672241210938,
            659.8219604492188
           ]
          },
          {
           "name": "RThigh",
           "type": "scatter",
           "x": [
            1121.8833007812498,
            1119.03125
           ],
           "y": [
            659.8219604492188,
            765.658935546875
           ]
          },
          {
           "name": "RCalf",
           "type": "scatter",
           "x": [
            1119.03125,
            1142.525634765625
           ],
           "y": [
            765.658935546875,
            883.4370117187501
           ]
          },
          {
           "name": "RFoot",
           "type": "scatter",
           "x": [
            1142.525634765625,
            1113.0600585937502
           ],
           "y": [
            883.4370117187501,
            918.7299804687501
           ]
          },
          {
           "name": "LHip",
           "type": "scatter",
           "x": [
            1145.400634765625,
            1169.0347900390625
           ],
           "y": [
            647.9672241210938,
            639.1260375976561
           ]
          },
          {
           "name": "LThigh",
           "type": "scatter",
           "x": [
            1169.0347900390625,
            1166.054443359375
           ],
           "y": [
            639.1260375976561,
            777.4617919921875
           ]
          },
          {
           "name": "LCalf",
           "type": "scatter",
           "x": [
            1166.054443359375,
            1186.4678955078123
           ],
           "y": [
            777.4617919921875,
            904.1534423828124
           ]
          },
          {
           "name": "LFoot",
           "type": "scatter",
           "x": [
            1186.4678955078123,
            1142.48876953125
           ],
           "y": [
            904.1534423828124,
            930.6584472656249
           ]
          }
         ]
        }
       ],
       "layout": {
        "template": {
         "data": {
          "bar": [
           {
            "error_x": {
             "color": "#2a3f5f"
            },
            "error_y": {
             "color": "#2a3f5f"
            },
            "marker": {
             "line": {
              "color": "#E5ECF6",
              "width": 0.5
             }
            },
            "type": "bar"
           }
          ],
          "barpolar": [
           {
            "marker": {
             "line": {
              "color": "#E5ECF6",
              "width": 0.5
             }
            },
            "type": "barpolar"
           }
          ],
          "carpet": [
           {
            "aaxis": {
             "endlinecolor": "#2a3f5f",
             "gridcolor": "white",
             "linecolor": "white",
             "minorgridcolor": "white",
             "startlinecolor": "#2a3f5f"
            },
            "baxis": {
             "endlinecolor": "#2a3f5f",
             "gridcolor": "white",
             "linecolor": "white",
             "minorgridcolor": "white",
             "startlinecolor": "#2a3f5f"
            },
            "type": "carpet"
           }
          ],
          "choropleth": [
           {
            "colorbar": {
             "outlinewidth": 0,
             "ticks": ""
            },
            "type": "choropleth"
           }
          ],
          "contour": [
           {
            "colorbar": {
             "outlinewidth": 0,
             "ticks": ""
            },
            "colorscale": [
             [
              0,
              "#0d0887"
             ],
             [
              0.1111111111111111,
              "#46039f"
             ],
             [
              0.2222222222222222,
              "#7201a8"
             ],
             [
              0.3333333333333333,
              "#9c179e"
             ],
             [
              0.4444444444444444,
              "#bd3786"
             ],
             [
              0.5555555555555556,
              "#d8576b"
             ],
             [
              0.6666666666666666,
              "#ed7953"
             ],
             [
              0.7777777777777778,
              "#fb9f3a"
             ],
             [
              0.8888888888888888,
              "#fdca26"
             ],
             [
              1,
              "#f0f921"
             ]
            ],
            "type": "contour"
           }
          ],
          "contourcarpet": [
           {
            "colorbar": {
             "outlinewidth": 0,
             "ticks": ""
            },
            "type": "contourcarpet"
           }
          ],
          "heatmap": [
           {
            "colorbar": {
             "outlinewidth": 0,
             "ticks": ""
            },
            "colorscale": [
             [
              0,
              "#0d0887"
             ],
             [
              0.1111111111111111,
              "#46039f"
             ],
             [
              0.2222222222222222,
              "#7201a8"
             ],
             [
              0.3333333333333333,
              "#9c179e"
             ],
             [
              0.4444444444444444,
              "#bd3786"
             ],
             [
              0.5555555555555556,
              "#d8576b"
             ],
             [
              0.6666666666666666,
              "#ed7953"
             ],
             [
              0.7777777777777778,
              "#fb9f3a"
             ],
             [
              0.8888888888888888,
              "#fdca26"
             ],
             [
              1,
              "#f0f921"
             ]
            ],
            "type": "heatmap"
           }
          ],
          "heatmapgl": [
           {
            "colorbar": {
             "outlinewidth": 0,
             "ticks": ""
            },
            "colorscale": [
             [
              0,
              "#0d0887"
             ],
             [
              0.1111111111111111,
              "#46039f"
             ],
             [
              0.2222222222222222,
              "#7201a8"
             ],
             [
              0.3333333333333333,
              "#9c179e"
             ],
             [
              0.4444444444444444,
              "#bd3786"
             ],
             [
              0.5555555555555556,
              "#d8576b"
             ],
             [
              0.6666666666666666,
              "#ed7953"
             ],
             [
              0.7777777777777778,
              "#fb9f3a"
             ],
             [
              0.8888888888888888,
              "#fdca26"
             ],
             [
              1,
              "#f0f921"
             ]
            ],
            "type": "heatmapgl"
           }
          ],
          "histogram": [
           {
            "marker": {
             "colorbar": {
              "outlinewidth": 0,
              "ticks": ""
             }
            },
            "type": "histogram"
           }
          ],
          "histogram2d": [
           {
            "colorbar": {
             "outlinewidth": 0,
             "ticks": ""
            },
            "colorscale": [
             [
              0,
              "#0d0887"
             ],
             [
              0.1111111111111111,
              "#46039f"
             ],
             [
              0.2222222222222222,
              "#7201a8"
             ],
             [
              0.3333333333333333,
              "#9c179e"
             ],
             [
              0.4444444444444444,
              "#bd3786"
             ],
             [
              0.5555555555555556,
              "#d8576b"
             ],
             [
              0.6666666666666666,
              "#ed7953"
             ],
             [
              0.7777777777777778,
              "#fb9f3a"
             ],
             [
              0.8888888888888888,
              "#fdca26"
             ],
             [
              1,
              "#f0f921"
             ]
            ],
            "type": "histogram2d"
           }
          ],
          "histogram2dcontour": [
           {
            "colorbar": {
             "outlinewidth": 0,
             "ticks": ""
            },
            "colorscale": [
             [
              0,
              "#0d0887"
             ],
             [
              0.1111111111111111,
              "#46039f"
             ],
             [
              0.2222222222222222,
              "#7201a8"
             ],
             [
              0.3333333333333333,
              "#9c179e"
             ],
             [
              0.4444444444444444,
              "#bd3786"
             ],
             [
              0.5555555555555556,
              "#d8576b"
             ],
             [
              0.6666666666666666,
              "#ed7953"
             ],
             [
              0.7777777777777778,
              "#fb9f3a"
             ],
             [
              0.8888888888888888,
              "#fdca26"
             ],
             [
              1,
              "#f0f921"
             ]
            ],
            "type": "histogram2dcontour"
           }
          ],
          "mesh3d": [
           {
            "colorbar": {
             "outlinewidth": 0,
             "ticks": ""
            },
            "type": "mesh3d"
           }
          ],
          "parcoords": [
           {
            "line": {
             "colorbar": {
              "outlinewidth": 0,
              "ticks": ""
             }
            },
            "type": "parcoords"
           }
          ],
          "pie": [
           {
            "automargin": true,
            "type": "pie"
           }
          ],
          "scatter": [
           {
            "marker": {
             "colorbar": {
              "outlinewidth": 0,
              "ticks": ""
             }
            },
            "type": "scatter"
           }
          ],
          "scatter3d": [
           {
            "line": {
             "colorbar": {
              "outlinewidth": 0,
              "ticks": ""
             }
            },
            "marker": {
             "colorbar": {
              "outlinewidth": 0,
              "ticks": ""
             }
            },
            "type": "scatter3d"
           }
          ],
          "scattercarpet": [
           {
            "marker": {
             "colorbar": {
              "outlinewidth": 0,
              "ticks": ""
             }
            },
            "type": "scattercarpet"
           }
          ],
          "scattergeo": [
           {
            "marker": {
             "colorbar": {
              "outlinewidth": 0,
              "ticks": ""
             }
            },
            "type": "scattergeo"
           }
          ],
          "scattergl": [
           {
            "marker": {
             "colorbar": {
              "outlinewidth": 0,
              "ticks": ""
             }
            },
            "type": "scattergl"
           }
          ],
          "scattermapbox": [
           {
            "marker": {
             "colorbar": {
              "outlinewidth": 0,
              "ticks": ""
             }
            },
            "type": "scattermapbox"
           }
          ],
          "scatterpolar": [
           {
            "marker": {
             "colorbar": {
              "outlinewidth": 0,
              "ticks": ""
             }
            },
            "type": "scatterpolar"
           }
          ],
          "scatterpolargl": [
           {
            "marker": {
             "colorbar": {
              "outlinewidth": 0,
              "ticks": ""
             }
            },
            "type": "scatterpolargl"
           }
          ],
          "scatterternary": [
           {
            "marker": {
             "colorbar": {
              "outlinewidth": 0,
              "ticks": ""
             }
            },
            "type": "scatterternary"
           }
          ],
          "surface": [
           {
            "colorbar": {
             "outlinewidth": 0,
             "ticks": ""
            },
            "colorscale": [
             [
              0,
              "#0d0887"
             ],
             [
              0.1111111111111111,
              "#46039f"
             ],
             [
              0.2222222222222222,
              "#7201a8"
             ],
             [
              0.3333333333333333,
              "#9c179e"
             ],
             [
              0.4444444444444444,
              "#bd3786"
             ],
             [
              0.5555555555555556,
              "#d8576b"
             ],
             [
              0.6666666666666666,
              "#ed7953"
             ],
             [
              0.7777777777777778,
              "#fb9f3a"
             ],
             [
              0.8888888888888888,
              "#fdca26"
             ],
             [
              1,
              "#f0f921"
             ]
            ],
            "type": "surface"
           }
          ],
          "table": [
           {
            "cells": {
             "fill": {
              "color": "#EBF0F8"
             },
             "line": {
              "color": "white"
             }
            },
            "header": {
             "fill": {
              "color": "#C8D4E3"
             },
             "line": {
              "color": "white"
             }
            },
            "type": "table"
           }
          ]
         },
         "layout": {
          "annotationdefaults": {
           "arrowcolor": "#2a3f5f",
           "arrowhead": 0,
           "arrowwidth": 1
          },
          "coloraxis": {
           "colorbar": {
            "outlinewidth": 0,
            "ticks": ""
           }
          },
          "colorscale": {
           "diverging": [
            [
             0,
             "#8e0152"
            ],
            [
             0.1,
             "#c51b7d"
            ],
            [
             0.2,
             "#de77ae"
            ],
            [
             0.3,
             "#f1b6da"
            ],
            [
             0.4,
             "#fde0ef"
            ],
            [
             0.5,
             "#f7f7f7"
            ],
            [
             0.6,
             "#e6f5d0"
            ],
            [
             0.7,
             "#b8e186"
            ],
            [
             0.8,
             "#7fbc41"
            ],
            [
             0.9,
             "#4d9221"
            ],
            [
             1,
             "#276419"
            ]
           ],
           "sequential": [
            [
             0,
             "#0d0887"
            ],
            [
             0.1111111111111111,
             "#46039f"
            ],
            [
             0.2222222222222222,
             "#7201a8"
            ],
            [
             0.3333333333333333,
             "#9c179e"
            ],
            [
             0.4444444444444444,
             "#bd3786"
            ],
            [
             0.5555555555555556,
             "#d8576b"
            ],
            [
             0.6666666666666666,
             "#ed7953"
            ],
            [
             0.7777777777777778,
             "#fb9f3a"
            ],
            [
             0.8888888888888888,
             "#fdca26"
            ],
            [
             1,
             "#f0f921"
            ]
           ],
           "sequentialminus": [
            [
             0,
             "#0d0887"
            ],
            [
             0.1111111111111111,
             "#46039f"
            ],
            [
             0.2222222222222222,
             "#7201a8"
            ],
            [
             0.3333333333333333,
             "#9c179e"
            ],
            [
             0.4444444444444444,
             "#bd3786"
            ],
            [
             0.5555555555555556,
             "#d8576b"
            ],
            [
             0.6666666666666666,
             "#ed7953"
            ],
            [
             0.7777777777777778,
             "#fb9f3a"
            ],
            [
             0.8888888888888888,
             "#fdca26"
            ],
            [
             1,
             "#f0f921"
            ]
           ]
          },
          "colorway": [
           "#636efa",
           "#EF553B",
           "#00cc96",
           "#ab63fa",
           "#FFA15A",
           "#19d3f3",
           "#FF6692",
           "#B6E880",
           "#FF97FF",
           "#FECB52"
          ],
          "font": {
           "color": "#2a3f5f"
          },
          "geo": {
           "bgcolor": "white",
           "lakecolor": "white",
           "landcolor": "#E5ECF6",
           "showlakes": true,
           "showland": true,
           "subunitcolor": "white"
          },
          "hoverlabel": {
           "align": "left"
          },
          "hovermode": "closest",
          "mapbox": {
           "style": "light"
          },
          "paper_bgcolor": "white",
          "plot_bgcolor": "#E5ECF6",
          "polar": {
           "angularaxis": {
            "gridcolor": "white",
            "linecolor": "white",
            "ticks": ""
           },
           "bgcolor": "#E5ECF6",
           "radialaxis": {
            "gridcolor": "white",
            "linecolor": "white",
            "ticks": ""
           }
          },
          "scene": {
           "xaxis": {
            "backgroundcolor": "#E5ECF6",
            "gridcolor": "white",
            "gridwidth": 2,
            "linecolor": "white",
            "showbackground": true,
            "ticks": "",
            "zerolinecolor": "white"
           },
           "yaxis": {
            "backgroundcolor": "#E5ECF6",
            "gridcolor": "white",
            "gridwidth": 2,
            "linecolor": "white",
            "showbackground": true,
            "ticks": "",
            "zerolinecolor": "white"
           },
           "zaxis": {
            "backgroundcolor": "#E5ECF6",
            "gridcolor": "white",
            "gridwidth": 2,
            "linecolor": "white",
            "showbackground": true,
            "ticks": "",
            "zerolinecolor": "white"
           }
          },
          "shapedefaults": {
           "line": {
            "color": "#2a3f5f"
           }
          },
          "ternary": {
           "aaxis": {
            "gridcolor": "white",
            "linecolor": "white",
            "ticks": ""
           },
           "baxis": {
            "gridcolor": "white",
            "linecolor": "white",
            "ticks": ""
           },
           "bgcolor": "#E5ECF6",
           "caxis": {
            "gridcolor": "white",
            "linecolor": "white",
            "ticks": ""
           }
          },
          "title": {
           "x": 0.05
          },
          "xaxis": {
           "automargin": true,
           "gridcolor": "white",
           "linecolor": "white",
           "ticks": "",
           "title": {
            "standoff": 15
           },
           "zerolinecolor": "white",
           "zerolinewidth": 2
          },
          "yaxis": {
           "automargin": true,
           "gridcolor": "white",
           "linecolor": "white",
           "ticks": "",
           "title": {
            "standoff": 15
           },
           "zerolinecolor": "white",
           "zerolinewidth": 2
          }
         }
        },
        "updatemenus": [
         {
          "buttons": [
           {
            "args": [
             null,
             {
              "frame": {
               "duration": 50
              },
              "fromcurrent": true,
              "mode": "immediate",
              "transition": {
               "duration": 50,
               "easing": "linear"
              }
             }
            ],
            "label": "Play",
            "method": "animate"
           },
           {
            "args": [
             [
              null
             ],
             {
              "frame": {
               "duration": 0
              },
              "fromcurrent": true,
              "mode": "immediate",
              "transition": {
               "duration": 0,
               "easing": "linear"
              }
             }
            ],
            "label": "Pause",
            "method": "animate"
           }
          ],
          "type": "buttons"
         }
        ],
        "xaxis": {
         "autorange": false,
         "range": [
          0,
          1498.431640625
         ]
        },
        "yaxis": {
         "autorange": false,
         "range": [
          0,
          1171.708740234375
         ]
        }
       }
      },
      "text/html": [
       "<div>\n",
       "        \n",
       "        \n",
       "            <div id=\"080a14f3-472c-49ba-adc5-bf7e884af01e\" class=\"plotly-graph-div\" style=\"height:525px; width:100%;\"></div>\n",
       "            <script type=\"text/javascript\">\n",
       "                require([\"plotly\"], function(Plotly) {\n",
       "                    window.PLOTLYENV=window.PLOTLYENV || {};\n",
       "                    \n",
       "                if (document.getElementById(\"080a14f3-472c-49ba-adc5-bf7e884af01e\")) {\n",
       "                    Plotly.newPlot(\n",
       "                        '080a14f3-472c-49ba-adc5-bf7e884af01e',\n",
       "                        [{\"name\": \"Neck\", \"type\": \"scatter\", \"x\": [1027.771728515625, 1068.8178710937502], \"y\": [382.9988403320313, 433.0218811035156]}, {\"name\": \"REye\", \"type\": \"scatter\", \"x\": [1027.7314453125, 1027.771728515625], \"y\": [365.5891723632813, 382.9988403320313]}, {\"name\": \"LEye\", \"type\": \"scatter\", \"x\": [1045.3306884765623, 1027.771728515625], \"y\": [365.57348632812494, 382.9988403320313]}, {\"name\": \"Spine\", \"type\": \"scatter\", \"x\": [1068.8178710937502, 1074.7918701171875], \"y\": [433.0218811035156, 603.8844604492188]}, {\"name\": \"RShoulder\", \"type\": \"scatter\", \"x\": [1068.8178710937502, 1027.6505126953123], \"y\": [433.0218811035156, 433.0853576660156]}, {\"name\": \"RArm\", \"type\": \"scatter\", \"x\": [1027.6505126953123, 954.1491088867186], \"y\": [433.0853576660156, 433.1887512207031]}, {\"name\": \"RForearm\", \"type\": \"scatter\", \"x\": [954.1491088867186, 877.5587158203125], \"y\": [433.1887512207031, 436.0546875]}, {\"name\": \"LShoulder\", \"type\": \"scatter\", \"x\": [1068.8178710937502, 1098.4100341796877], \"y\": [433.0218811035156, 430.12710571289057]}, {\"name\": \"LArm\", \"type\": \"scatter\", \"x\": [1098.4100341796877, 1045.3663330078125], \"y\": [430.12710571289057, 433.06695556640636]}, {\"name\": \"LForearm\", \"type\": \"scatter\", \"x\": [1045.3663330078125, 880.5125732421876], \"y\": [433.06695556640636, 436.23257446289057]}, {\"name\": \"RHip\", \"type\": \"scatter\", \"x\": [1074.7918701171875, 1048.4140625], \"y\": [603.8844604492188, 603.9331054687499]}, {\"name\": \"RThigh\", \"type\": \"scatter\", \"x\": [1048.4140625, 1051.2818603515623], \"y\": [603.9331054687499, 739.1134033203124]}, {\"name\": \"RCalf\", \"type\": \"scatter\", \"x\": [1051.2818603515623, 1080.6949462890623], \"y\": [739.1134033203124, 868.8168334960938]}, {\"name\": \"RFoot\", \"type\": \"scatter\", \"x\": [1080.6949462890623, 1065.9375], \"y\": [868.8168334960938, 927.5068969726562]}, {\"name\": \"LHip\", \"type\": \"scatter\", \"x\": [1074.7918701171875, 1101.263671875], \"y\": [603.8844604492188, 603.8485107421875]}, {\"name\": \"LThigh\", \"type\": \"scatter\", \"x\": [1101.263671875, 1095.3507080078125], \"y\": [603.8485107421875, 742.2551879882814]}, {\"name\": \"LCalf\", \"type\": \"scatter\", \"x\": [1095.3507080078125, 1115.928955078125], \"y\": [742.2551879882814, 880.6378173828125]}, {\"name\": \"LFoot\", \"type\": \"scatter\", \"x\": [1115.928955078125, 1092.3720703125], \"y\": [880.6378173828125, 930.703369140625]}],\n",
       "                        {\"template\": {\"data\": {\"bar\": [{\"error_x\": {\"color\": \"#2a3f5f\"}, \"error_y\": {\"color\": \"#2a3f5f\"}, \"marker\": {\"line\": {\"color\": \"#E5ECF6\", \"width\": 0.5}}, \"type\": \"bar\"}], \"barpolar\": [{\"marker\": {\"line\": {\"color\": \"#E5ECF6\", \"width\": 0.5}}, \"type\": \"barpolar\"}], \"carpet\": [{\"aaxis\": {\"endlinecolor\": \"#2a3f5f\", \"gridcolor\": \"white\", \"linecolor\": \"white\", \"minorgridcolor\": \"white\", \"startlinecolor\": \"#2a3f5f\"}, \"baxis\": {\"endlinecolor\": \"#2a3f5f\", \"gridcolor\": \"white\", \"linecolor\": \"white\", \"minorgridcolor\": \"white\", \"startlinecolor\": \"#2a3f5f\"}, \"type\": \"carpet\"}], \"choropleth\": [{\"colorbar\": {\"outlinewidth\": 0, \"ticks\": \"\"}, \"type\": \"choropleth\"}], \"contour\": [{\"colorbar\": {\"outlinewidth\": 0, \"ticks\": \"\"}, \"colorscale\": [[0.0, \"#0d0887\"], [0.1111111111111111, \"#46039f\"], [0.2222222222222222, \"#7201a8\"], [0.3333333333333333, \"#9c179e\"], [0.4444444444444444, \"#bd3786\"], [0.5555555555555556, \"#d8576b\"], [0.6666666666666666, \"#ed7953\"], [0.7777777777777778, \"#fb9f3a\"], [0.8888888888888888, \"#fdca26\"], [1.0, \"#f0f921\"]], \"type\": \"contour\"}], \"contourcarpet\": [{\"colorbar\": {\"outlinewidth\": 0, \"ticks\": \"\"}, \"type\": \"contourcarpet\"}], \"heatmap\": [{\"colorbar\": {\"outlinewidth\": 0, \"ticks\": \"\"}, \"colorscale\": [[0.0, \"#0d0887\"], [0.1111111111111111, \"#46039f\"], [0.2222222222222222, \"#7201a8\"], [0.3333333333333333, \"#9c179e\"], [0.4444444444444444, \"#bd3786\"], [0.5555555555555556, \"#d8576b\"], [0.6666666666666666, \"#ed7953\"], [0.7777777777777778, \"#fb9f3a\"], [0.8888888888888888, \"#fdca26\"], [1.0, \"#f0f921\"]], \"type\": \"heatmap\"}], \"heatmapgl\": [{\"colorbar\": {\"outlinewidth\": 0, \"ticks\": \"\"}, \"colorscale\": [[0.0, \"#0d0887\"], [0.1111111111111111, \"#46039f\"], [0.2222222222222222, \"#7201a8\"], [0.3333333333333333, \"#9c179e\"], [0.4444444444444444, \"#bd3786\"], [0.5555555555555556, \"#d8576b\"], [0.6666666666666666, \"#ed7953\"], [0.7777777777777778, \"#fb9f3a\"], [0.8888888888888888, \"#fdca26\"], [1.0, \"#f0f921\"]], \"type\": \"heatmapgl\"}], \"histogram\": [{\"marker\": {\"colorbar\": {\"outlinewidth\": 0, \"ticks\": \"\"}}, \"type\": \"histogram\"}], \"histogram2d\": [{\"colorbar\": {\"outlinewidth\": 0, \"ticks\": \"\"}, \"colorscale\": [[0.0, \"#0d0887\"], [0.1111111111111111, \"#46039f\"], [0.2222222222222222, \"#7201a8\"], [0.3333333333333333, \"#9c179e\"], [0.4444444444444444, \"#bd3786\"], [0.5555555555555556, \"#d8576b\"], [0.6666666666666666, \"#ed7953\"], [0.7777777777777778, \"#fb9f3a\"], [0.8888888888888888, \"#fdca26\"], [1.0, \"#f0f921\"]], \"type\": \"histogram2d\"}], \"histogram2dcontour\": [{\"colorbar\": {\"outlinewidth\": 0, \"ticks\": \"\"}, \"colorscale\": [[0.0, \"#0d0887\"], [0.1111111111111111, \"#46039f\"], [0.2222222222222222, \"#7201a8\"], [0.3333333333333333, \"#9c179e\"], [0.4444444444444444, \"#bd3786\"], [0.5555555555555556, \"#d8576b\"], [0.6666666666666666, \"#ed7953\"], [0.7777777777777778, \"#fb9f3a\"], [0.8888888888888888, \"#fdca26\"], [1.0, \"#f0f921\"]], \"type\": \"histogram2dcontour\"}], \"mesh3d\": [{\"colorbar\": {\"outlinewidth\": 0, \"ticks\": \"\"}, \"type\": \"mesh3d\"}], \"parcoords\": [{\"line\": {\"colorbar\": {\"outlinewidth\": 0, \"ticks\": \"\"}}, \"type\": \"parcoords\"}], \"pie\": [{\"automargin\": true, \"type\": \"pie\"}], \"scatter\": [{\"marker\": {\"colorbar\": {\"outlinewidth\": 0, \"ticks\": \"\"}}, \"type\": \"scatter\"}], \"scatter3d\": [{\"line\": {\"colorbar\": {\"outlinewidth\": 0, \"ticks\": \"\"}}, \"marker\": {\"colorbar\": {\"outlinewidth\": 0, \"ticks\": \"\"}}, \"type\": \"scatter3d\"}], \"scattercarpet\": [{\"marker\": {\"colorbar\": {\"outlinewidth\": 0, \"ticks\": \"\"}}, \"type\": \"scattercarpet\"}], \"scattergeo\": [{\"marker\": {\"colorbar\": {\"outlinewidth\": 0, \"ticks\": \"\"}}, \"type\": \"scattergeo\"}], \"scattergl\": [{\"marker\": {\"colorbar\": {\"outlinewidth\": 0, \"ticks\": \"\"}}, \"type\": \"scattergl\"}], \"scattermapbox\": [{\"marker\": {\"colorbar\": {\"outlinewidth\": 0, \"ticks\": \"\"}}, \"type\": \"scattermapbox\"}], \"scatterpolar\": [{\"marker\": {\"colorbar\": {\"outlinewidth\": 0, \"ticks\": \"\"}}, \"type\": \"scatterpolar\"}], \"scatterpolargl\": [{\"marker\": {\"colorbar\": {\"outlinewidth\": 0, \"ticks\": \"\"}}, \"type\": \"scatterpolargl\"}], \"scatterternary\": [{\"marker\": {\"colorbar\": {\"outlinewidth\": 0, \"ticks\": \"\"}}, \"type\": \"scatterternary\"}], \"surface\": [{\"colorbar\": {\"outlinewidth\": 0, \"ticks\": \"\"}, \"colorscale\": [[0.0, \"#0d0887\"], [0.1111111111111111, \"#46039f\"], [0.2222222222222222, \"#7201a8\"], [0.3333333333333333, \"#9c179e\"], [0.4444444444444444, \"#bd3786\"], [0.5555555555555556, \"#d8576b\"], [0.6666666666666666, \"#ed7953\"], [0.7777777777777778, \"#fb9f3a\"], [0.8888888888888888, \"#fdca26\"], [1.0, \"#f0f921\"]], \"type\": \"surface\"}], \"table\": [{\"cells\": {\"fill\": {\"color\": \"#EBF0F8\"}, \"line\": {\"color\": \"white\"}}, \"header\": {\"fill\": {\"color\": \"#C8D4E3\"}, \"line\": {\"color\": \"white\"}}, \"type\": \"table\"}]}, \"layout\": {\"annotationdefaults\": {\"arrowcolor\": \"#2a3f5f\", \"arrowhead\": 0, \"arrowwidth\": 1}, \"coloraxis\": {\"colorbar\": {\"outlinewidth\": 0, \"ticks\": \"\"}}, \"colorscale\": {\"diverging\": [[0, \"#8e0152\"], [0.1, \"#c51b7d\"], [0.2, \"#de77ae\"], [0.3, \"#f1b6da\"], [0.4, \"#fde0ef\"], [0.5, \"#f7f7f7\"], [0.6, \"#e6f5d0\"], [0.7, \"#b8e186\"], [0.8, \"#7fbc41\"], [0.9, \"#4d9221\"], [1, \"#276419\"]], \"sequential\": [[0.0, \"#0d0887\"], [0.1111111111111111, \"#46039f\"], [0.2222222222222222, \"#7201a8\"], [0.3333333333333333, \"#9c179e\"], [0.4444444444444444, \"#bd3786\"], [0.5555555555555556, \"#d8576b\"], [0.6666666666666666, \"#ed7953\"], [0.7777777777777778, \"#fb9f3a\"], [0.8888888888888888, \"#fdca26\"], [1.0, \"#f0f921\"]], \"sequentialminus\": [[0.0, \"#0d0887\"], [0.1111111111111111, \"#46039f\"], [0.2222222222222222, \"#7201a8\"], [0.3333333333333333, \"#9c179e\"], [0.4444444444444444, \"#bd3786\"], [0.5555555555555556, \"#d8576b\"], [0.6666666666666666, \"#ed7953\"], [0.7777777777777778, \"#fb9f3a\"], [0.8888888888888888, \"#fdca26\"], [1.0, \"#f0f921\"]]}, \"colorway\": [\"#636efa\", \"#EF553B\", \"#00cc96\", \"#ab63fa\", \"#FFA15A\", \"#19d3f3\", \"#FF6692\", \"#B6E880\", \"#FF97FF\", \"#FECB52\"], \"font\": {\"color\": \"#2a3f5f\"}, \"geo\": {\"bgcolor\": \"white\", \"lakecolor\": \"white\", \"landcolor\": \"#E5ECF6\", \"showlakes\": true, \"showland\": true, \"subunitcolor\": \"white\"}, \"hoverlabel\": {\"align\": \"left\"}, \"hovermode\": \"closest\", \"mapbox\": {\"style\": \"light\"}, \"paper_bgcolor\": \"white\", \"plot_bgcolor\": \"#E5ECF6\", \"polar\": {\"angularaxis\": {\"gridcolor\": \"white\", \"linecolor\": \"white\", \"ticks\": \"\"}, \"bgcolor\": \"#E5ECF6\", \"radialaxis\": {\"gridcolor\": \"white\", \"linecolor\": \"white\", \"ticks\": \"\"}}, \"scene\": {\"xaxis\": {\"backgroundcolor\": \"#E5ECF6\", \"gridcolor\": \"white\", \"gridwidth\": 2, \"linecolor\": \"white\", \"showbackground\": true, \"ticks\": \"\", \"zerolinecolor\": \"white\"}, \"yaxis\": {\"backgroundcolor\": \"#E5ECF6\", \"gridcolor\": \"white\", \"gridwidth\": 2, \"linecolor\": \"white\", \"showbackground\": true, \"ticks\": \"\", \"zerolinecolor\": \"white\"}, \"zaxis\": {\"backgroundcolor\": \"#E5ECF6\", \"gridcolor\": \"white\", \"gridwidth\": 2, \"linecolor\": \"white\", \"showbackground\": true, \"ticks\": \"\", \"zerolinecolor\": \"white\"}}, \"shapedefaults\": {\"line\": {\"color\": \"#2a3f5f\"}}, \"ternary\": {\"aaxis\": {\"gridcolor\": \"white\", \"linecolor\": \"white\", \"ticks\": \"\"}, \"baxis\": {\"gridcolor\": \"white\", \"linecolor\": \"white\", \"ticks\": \"\"}, \"bgcolor\": \"#E5ECF6\", \"caxis\": {\"gridcolor\": \"white\", \"linecolor\": \"white\", \"ticks\": \"\"}}, \"title\": {\"x\": 0.05}, \"xaxis\": {\"automargin\": true, \"gridcolor\": \"white\", \"linecolor\": \"white\", \"ticks\": \"\", \"title\": {\"standoff\": 15}, \"zerolinecolor\": \"white\", \"zerolinewidth\": 2}, \"yaxis\": {\"automargin\": true, \"gridcolor\": \"white\", \"linecolor\": \"white\", \"ticks\": \"\", \"title\": {\"standoff\": 15}, \"zerolinecolor\": \"white\", \"zerolinewidth\": 2}}}, \"updatemenus\": [{\"buttons\": [{\"args\": [null, {\"frame\": {\"duration\": 50}, \"fromcurrent\": true, \"mode\": \"immediate\", \"transition\": {\"duration\": 50, \"easing\": \"linear\"}}], \"label\": \"Play\", \"method\": \"animate\"}, {\"args\": [[null], {\"frame\": {\"duration\": 0}, \"fromcurrent\": true, \"mode\": \"immediate\", \"transition\": {\"duration\": 0, \"easing\": \"linear\"}}], \"label\": \"Pause\", \"method\": \"animate\"}], \"type\": \"buttons\"}], \"xaxis\": {\"autorange\": false, \"range\": [0, 1498.431640625]}, \"yaxis\": {\"autorange\": false, \"range\": [0, 1171.708740234375]}},\n",
       "                        {\"responsive\": true}\n",
       "                    ).then(function(){\n",
       "                            Plotly.addFrames('080a14f3-472c-49ba-adc5-bf7e884af01e', [{\"data\": [{\"name\": \"Neck\", \"x\": [1024.8677978515623, 1068.7691650390623], \"y\": [380.16903686523443, 430.2613525390625], \"type\": \"scatter\"}, {\"name\": \"REye\", \"x\": [1024.8299560546877, 1024.8677978515623], \"y\": [365.5021362304688, 380.16903686523443], \"type\": \"scatter\"}, {\"name\": \"LEye\", \"x\": [1045.2003173828125, 1024.8677978515623], \"y\": [365.4921875, 380.16903686523443], \"type\": \"scatter\"}, {\"name\": \"Spine\", \"x\": [1068.7691650390623, 1074.8812255859377], \"y\": [430.2613525390625, 601.0540771484375], \"type\": \"scatter\"}, {\"name\": \"RShoulder\", \"x\": [1068.7691650390623, 1027.6937255859377], \"y\": [430.2613525390625, 433.2719116210938], \"type\": \"scatter\"}, {\"name\": \"RArm\", \"x\": [1027.6937255859377, 957.1539306640626], \"y\": [433.2719116210938, 459.54925537109375], \"type\": \"scatter\"}, {\"name\": \"RForearm\", \"x\": [957.1539306640626, 880.4491577148436], \"y\": [459.54925537109375, 474.38870239257807], \"type\": \"scatter\"}, {\"name\": \"LShoulder\", \"x\": [1068.7691650390623, 1098.3687744140623], \"y\": [430.2613525390625, 424.2957458496093], \"type\": \"scatter\"}, {\"name\": \"LArm\", \"x\": [1098.3687744140623, 1048.3043212890623], \"y\": [424.2957458496093, 456.56961059570307], \"type\": \"scatter\"}, {\"name\": \"LForearm\", \"x\": [1048.3043212890623, 962.986633300781], \"y\": [456.56961059570307, 462.56695556640636], \"type\": \"scatter\"}, {\"name\": \"RHip\", \"x\": [1074.8812255859377, 1051.1925048828125], \"y\": [601.0540771484375, 603.8734741210938], \"type\": \"scatter\"}, {\"name\": \"RThigh\", \"x\": [1051.1925048828125, 1048.4327392578125], \"y\": [603.8734741210938, 736.1974487304685], \"type\": \"scatter\"}, {\"name\": \"RCalf\", \"x\": [1048.4327392578125, 1077.705810546875], \"y\": [736.1974487304685, 865.8524780273436], \"type\": \"scatter\"}, {\"name\": \"RFoot\", \"x\": [1077.705810546875, 1062.9536132812498], \"y\": [865.8524780273436, 924.6813354492189], \"type\": \"scatter\"}, {\"name\": \"LHip\", \"x\": [1074.8812255859377, 1104.2125244140623], \"y\": [601.0540771484375, 600.9931030273438], \"type\": \"scatter\"}, {\"name\": \"LThigh\", \"x\": [1104.2125244140623, 1092.5487060546877], \"y\": [600.9931030273438, 739.2994995117188], \"type\": \"scatter\"}, {\"name\": \"LCalf\", \"x\": [1092.5487060546877, 1115.850341796875], \"y\": [739.2994995117188, 880.5611572265626], \"type\": \"scatter\"}, {\"name\": \"LFoot\", \"x\": [1115.850341796875, 1089.4197998046877], \"y\": [880.5611572265626, 930.7266235351562], \"type\": \"scatter\"}]}, {\"data\": [{\"name\": \"Neck\", \"x\": [1024.6590576171875, 1062.956787109375], \"y\": [380.1050415039063, 433.0430908203125], \"type\": \"scatter\"}, {\"name\": \"REye\", \"x\": [1024.65625, 1024.6590576171875], \"y\": [365.4372253417969, 380.1050415039063], \"type\": \"scatter\"}, {\"name\": \"LEye\", \"x\": [1039.454345703125, 1024.6590576171875], \"y\": [365.4927368164063, 380.1050415039063], \"type\": \"scatter\"}, {\"name\": \"Spine\", \"x\": [1062.956787109375, 1077.7802734375], \"y\": [433.0430908203125, 603.9141845703125], \"type\": \"scatter\"}, {\"name\": \"RShoulder\", \"x\": [1062.956787109375, 1021.9220581054688], \"y\": [433.0430908203125, 433.27383422851557], \"type\": \"scatter\"}, {\"name\": \"RArm\", \"x\": [1021.9220581054688, 954.2180786132811], \"y\": [433.27383422851557, 474.30157470703125], \"type\": \"scatter\"}, {\"name\": \"RForearm\", \"x\": [954.2180786132811, 883.4501953124999], \"y\": [474.30157470703125, 506.69555664062494], \"type\": \"scatter\"}, {\"name\": \"LShoulder\", \"x\": [1062.956787109375, 1095.4897460937502], \"y\": [433.0430908203125, 427.2452087402343], \"type\": \"scatter\"}, {\"name\": \"LArm\", \"x\": [1095.4897460937502, 1048.443115234375], \"y\": [427.2452087402343, 471.4651184082032], \"type\": \"scatter\"}, {\"name\": \"LForearm\", \"x\": [1048.443115234375, 974.7488403320311], \"y\": [471.4651184082032, 503.8768920898438], \"type\": \"scatter\"}, {\"name\": \"RHip\", \"x\": [1077.7802734375, 1051.3372802734377], \"y\": [603.9141845703125, 606.7731933593751], \"type\": \"scatter\"}, {\"name\": \"RThigh\", \"x\": [1051.3372802734377, 1048.3388671875], \"y\": [606.7731933593751, 733.3886718750001], \"type\": \"scatter\"}, {\"name\": \"RCalf\", \"x\": [1048.3388671875, 1074.8204345703123], \"y\": [733.3886718750001, 865.8436889648436], \"type\": \"scatter\"}, {\"name\": \"RFoot\", \"x\": [1074.8204345703123, 1051.274169921875], \"y\": [865.8436889648436, 924.6018066406249], \"type\": \"scatter\"}, {\"name\": \"LHip\", \"x\": [1077.7802734375, 1107.166748046875], \"y\": [603.9141845703125, 603.8523559570314], \"type\": \"scatter\"}, {\"name\": \"LThigh\", \"x\": [1107.166748046875, 1092.4916992187502], \"y\": [603.8523559570314, 739.2820434570311], \"type\": \"scatter\"}, {\"name\": \"LCalf\", \"x\": [1092.4916992187502, 1112.993896484375], \"y\": [739.2820434570311, 880.5003662109375], \"type\": \"scatter\"}, {\"name\": \"LFoot\", \"x\": [1112.993896484375, 1077.7618408203123], \"y\": [880.5003662109375, 933.4889526367188], \"type\": \"scatter\"}]}, {\"data\": [{\"name\": \"Neck\", \"x\": [1021.7625122070312, 1057.0828857421875], \"y\": [380.13162231445307, 433.2411804199219], \"type\": \"scatter\"}, {\"name\": \"REye\", \"x\": [1021.7573242187501, 1021.7625122070312], \"y\": [365.472412109375, 380.13162231445307], \"type\": \"scatter\"}, {\"name\": \"LEye\", \"x\": [1030.6104736328125, 1021.7625122070312], \"y\": [365.5051879882813, 380.13162231445307], \"type\": \"scatter\"}, {\"name\": \"Spine\", \"x\": [1057.0828857421875, 1080.695068359375], \"y\": [433.2411804199219, 603.9473266601564], \"type\": \"scatter\"}, {\"name\": \"RShoulder\", \"x\": [1057.0828857421875, 1021.8002319335936], \"y\": [433.2411804199219, 436.12780761718756], \"type\": \"scatter\"}, {\"name\": \"RArm\", \"x\": [1021.8002319335936, 953.989990234375], \"y\": [436.12780761718756, 486.1667785644532], \"type\": \"scatter\"}, {\"name\": \"RForearm\", \"x\": [953.989990234375, 895.3002319335938], \"y\": [486.1667785644532, 544.9921875], \"type\": \"scatter\"}, {\"name\": \"LShoulder\", \"x\": [1057.0828857421875, 1092.553955078125], \"y\": [433.2411804199219, 430.2369079589844], \"type\": \"scatter\"}, {\"name\": \"LArm\", \"x\": [1092.553955078125, 1057.179931640625], \"y\": [430.2369079589844, 489.05496215820307], \"type\": \"scatter\"}, {\"name\": \"LForearm\", \"x\": [1057.179931640625, 992.3306274414061], \"y\": [489.05496215820307, 547.9075927734375], \"type\": \"scatter\"}, {\"name\": \"RHip\", \"x\": [1080.695068359375, 1054.1893310546877], \"y\": [603.9473266601564, 603.9654541015625], \"type\": \"scatter\"}, {\"name\": \"RThigh\", \"x\": [1054.1893310546877, 1048.293701171875], \"y\": [603.9654541015625, 733.3327636718751], \"type\": \"scatter\"}, {\"name\": \"RCalf\", \"x\": [1048.293701171875, 1071.867431640625], \"y\": [733.3327636718751, 868.7094726562499], \"type\": \"scatter\"}, {\"name\": \"RFoot\", \"x\": [1071.867431640625, 1045.250732421875], \"y\": [868.7094726562499, 921.6738281249999], \"type\": \"scatter\"}, {\"name\": \"LHip\", \"x\": [1080.695068359375, 1110.1492919921875], \"y\": [603.9473266601564, 603.9378051757812], \"type\": \"scatter\"}, {\"name\": \"LThigh\", \"x\": [1110.1492919921875, 1092.4281005859377], \"y\": [603.9378051757812, 739.2514038085939], \"type\": \"scatter\"}, {\"name\": \"LCalf\", \"x\": [1092.4281005859377, 1107.1424560546877], \"y\": [739.2514038085939, 883.3909912109375], \"type\": \"scatter\"}, {\"name\": \"LFoot\", \"x\": [1107.1424560546877, 1071.969482421875], \"y\": [883.3909912109375, 933.6123657226561], \"type\": \"scatter\"}]}, {\"data\": [{\"name\": \"Neck\", \"x\": [1018.8753051757811, 1051.3090820312498], \"y\": [380.1937255859375, 436.1882324218751], \"type\": \"scatter\"}, {\"name\": \"REye\", \"x\": [1018.8065185546876, 1018.8753051757811], \"y\": [365.5845947265625, 380.1937255859375], \"type\": \"scatter\"}, {\"name\": \"LEye\", \"x\": [1027.6605224609377, 1018.8753051757811], \"y\": [365.5924682617188, 380.1937255859375], \"type\": \"scatter\"}, {\"name\": \"Spine\", \"x\": [1051.3090820312498, 1077.6888427734377], \"y\": [436.1882324218751, 606.7997436523439], \"type\": \"scatter\"}, {\"name\": \"RShoulder\", \"x\": [1051.3090820312498, 1018.8676147460936], \"y\": [436.1882324218751, 439.0583190917969], \"type\": \"scatter\"}, {\"name\": \"RArm\", \"x\": [1018.8676147460936, 957.1787109375001], \"y\": [439.0583190917969, 503.8519592285155], \"type\": \"scatter\"}, {\"name\": \"RForearm\", \"x\": [957.1787109375001, 907.0802612304689], \"y\": [503.8519592285155, 574.5001831054689], \"type\": \"scatter\"}, {\"name\": \"LShoulder\", \"x\": [1051.3090820312498, 1092.452880859375], \"y\": [436.1882324218751, 436.013427734375], \"type\": \"scatter\"}, {\"name\": \"LArm\", \"x\": [1092.452880859375, 1068.9317626953123], \"y\": [436.013427734375, 509.7375793457031], \"type\": \"scatter\"}, {\"name\": \"LForearm\", \"x\": [1068.9317626953123, 1009.9862060546876], \"y\": [509.7375793457031, 589.1036376953125], \"type\": \"scatter\"}, {\"name\": \"RHip\", \"x\": [1077.6888427734377, 1051.2294921875], \"y\": [606.7997436523439, 603.96826171875], \"type\": \"scatter\"}, {\"name\": \"RThigh\", \"x\": [1051.2294921875, 1048.2729492187502], \"y\": [603.96826171875, 730.4204101562499], \"type\": \"scatter\"}, {\"name\": \"RCalf\", \"x\": [1048.2729492187502, 1068.9715576171875], \"y\": [730.4204101562499, 865.8683471679686], \"type\": \"scatter\"}, {\"name\": \"RFoot\", \"x\": [1068.9715576171875, 1036.540283203125], \"y\": [865.8683471679686, 915.8650512695311], \"type\": \"scatter\"}, {\"name\": \"LHip\", \"x\": [1077.6888427734377, 1107.1727294921875], \"y\": [606.7997436523439, 606.8305053710939], \"type\": \"scatter\"}, {\"name\": \"LThigh\", \"x\": [1107.1727294921875, 1092.4321289062498], \"y\": [606.8305053710939, 739.2661743164062], \"type\": \"scatter\"}, {\"name\": \"LCalf\", \"x\": [1092.4321289062498, 1098.3875732421875], \"y\": [739.2661743164062, 883.5078735351562], \"type\": \"scatter\"}, {\"name\": \"LFoot\", \"x\": [1098.3875732421875, 1071.7608642578125], \"y\": [883.5078735351562, 936.4813232421876], \"type\": \"scatter\"}]}, {\"data\": [{\"name\": \"Neck\", \"x\": [1007.168701171875, 1048.4222412109377], \"y\": [383.1523742675781, 439.1155700683594], \"type\": \"scatter\"}, {\"name\": \"REye\", \"x\": [1007.128662109375, 1007.168701171875], \"y\": [368.4278259277344, 383.1523742675781], \"type\": \"scatter\"}, {\"name\": \"LEye\", \"x\": [1021.9454345703124, 1007.168701171875], \"y\": [368.4522399902344, 383.1523742675781], \"type\": \"scatter\"}, {\"name\": \"Spine\", \"x\": [1048.4222412109377, 1077.8013916015623], \"y\": [439.1155700683594, 603.8176879882814], \"type\": \"scatter\"}, {\"name\": \"RShoulder\", \"x\": [1048.4222412109377, 1012.9616088867188], \"y\": [439.1155700683594, 447.88577270507807], \"type\": \"scatter\"}, {\"name\": \"RArm\", \"x\": [1012.9616088867188, 971.6794433593751], \"y\": [447.88577270507807, 521.4581298828125], \"type\": \"scatter\"}, {\"name\": \"RForearm\", \"x\": [971.6794433593751, 930.4712524414062], \"y\": [521.4581298828125, 600.8497924804688], \"type\": \"scatter\"}, {\"name\": \"LShoulder\", \"x\": [1048.4222412109377, 1092.361083984375], \"y\": [439.1155700683594, 436.1707153320313], \"type\": \"scatter\"}, {\"name\": \"LArm\", \"x\": [1092.361083984375, 1080.7075195312498], \"y\": [436.1707153320313, 527.2837524414064], \"type\": \"scatter\"}, {\"name\": \"LForearm\", \"x\": [1080.7075195312498, 1039.520751953125], \"y\": [527.2837524414064, 618.630126953125], \"type\": \"scatter\"}, {\"name\": \"RHip\", \"x\": [1077.8013916015623, 1051.2406005859377], \"y\": [603.8176879882814, 603.8235473632812], \"type\": \"scatter\"}, {\"name\": \"RThigh\", \"x\": [1051.2406005859377, 1048.2684326171875], \"y\": [603.8235473632812, 733.4186401367188], \"type\": \"scatter\"}, {\"name\": \"RCalf\", \"x\": [1048.2684326171875, 1065.8580322265623], \"y\": [733.4186401367188, 874.6739501953125], \"type\": \"scatter\"}, {\"name\": \"RFoot\", \"x\": [1065.8580322265623, 1024.830322265625], \"y\": [874.6739501953125, 915.9186401367188], \"type\": \"scatter\"}, {\"name\": \"LHip\", \"x\": [1077.8013916015623, 1110.1058349609377], \"y\": [603.8176879882814, 603.82080078125], \"type\": \"scatter\"}, {\"name\": \"LThigh\", \"x\": [1110.1058349609377, 1092.4520263671875], \"y\": [603.82080078125, 739.34912109375], \"type\": \"scatter\"}, {\"name\": \"LCalf\", \"x\": [1092.4520263671875, 1095.4427490234377], \"y\": [739.34912109375, 886.43017578125], \"type\": \"scatter\"}, {\"name\": \"LFoot\", \"x\": [1095.4427490234377, 1068.8826904296877], \"y\": [886.43017578125, 939.4197387695311], \"type\": \"scatter\"}]}, {\"data\": [{\"name\": \"Neck\", \"x\": [1001.3807983398434, 1048.2349853515623], \"y\": [388.8705749511719, 450.8630676269531], \"type\": \"scatter\"}, {\"name\": \"REye\", \"x\": [1001.2828369140624, 1001.3807983398434], \"y\": [377.25677490234375, 388.8705749511719], \"type\": \"scatter\"}, {\"name\": \"LEye\", \"x\": [1021.6783447265624, 1001.3807983398434], \"y\": [377.2853393554688, 388.8705749511719], \"type\": \"scatter\"}, {\"name\": \"Spine\", \"x\": [1048.2349853515623, 1089.4760742187502], \"y\": [450.8630676269531, 609.7084960937501], \"type\": \"scatter\"}, {\"name\": \"RShoulder\", \"x\": [1048.2349853515623, 1007.1385498046876], \"y\": [450.8630676269531, 456.63299560546875], \"type\": \"scatter\"}, {\"name\": \"RArm\", \"x\": [1007.1385498046876, 974.8179931640625], \"y\": [456.63299560546875, 530.44970703125], \"type\": \"scatter\"}, {\"name\": \"RForearm\", \"x\": [974.8179931640625, 951.1047973632812], \"y\": [530.44970703125, 621.3959960937501], \"type\": \"scatter\"}, {\"name\": \"LShoulder\", \"x\": [1048.2349853515623, 1089.476318359375], \"y\": [450.8630676269531, 447.84356689453125], \"type\": \"scatter\"}, {\"name\": \"LArm\", \"x\": [1089.476318359375, 1092.5263671875], \"y\": [447.84356689453125, 542.0855712890625], \"type\": \"scatter\"}, {\"name\": \"LForearm\", \"x\": [1092.5263671875, 1068.7899169921875], \"y\": [542.0855712890625, 636.2974243164062], \"type\": \"scatter\"}, {\"name\": \"RHip\", \"x\": [1089.4760742187502, 1065.9415283203123], \"y\": [609.7084960937501, 606.7933959960936], \"type\": \"scatter\"}, {\"name\": \"RThigh\", \"x\": [1065.9415283203123, 1048.205322265625], \"y\": [606.7933959960936, 736.216796875], \"type\": \"scatter\"}, {\"name\": \"RCalf\", \"x\": [1048.205322265625, 1054.203369140625], \"y\": [736.216796875, 877.509521484375], \"type\": \"scatter\"}, {\"name\": \"RFoot\", \"x\": [1054.203369140625, 1018.901123046875], \"y\": [877.509521484375, 918.7979736328125], \"type\": \"scatter\"}, {\"name\": \"LHip\", \"x\": [1089.4760742187502, 1112.9964599609377], \"y\": [609.7084960937501, 609.7399291992188], \"type\": \"scatter\"}, {\"name\": \"LThigh\", \"x\": [1112.9964599609377, 1092.4073486328125], \"y\": [609.7399291992188, 742.2497558593751], \"type\": \"scatter\"}, {\"name\": \"LCalf\", \"x\": [1092.4073486328125, 1095.2622070312498], \"y\": [742.2497558593751, 889.4316406249999], \"type\": \"scatter\"}, {\"name\": \"LFoot\", \"x\": [1095.2622070312498, 1063.009521484375], \"y\": [889.4316406249999, 945.2219238281249], \"type\": \"scatter\"}]}, {\"data\": [{\"name\": \"Neck\", \"x\": [998.3489990234376, 1045.4364013671875], \"y\": [392.0622253417969, 459.5248107910156], \"type\": \"scatter\"}, {\"name\": \"REye\", \"x\": [998.334716796875, 998.3489990234376], \"y\": [386.07080078125, 392.0622253417969], \"type\": \"scatter\"}, {\"name\": \"LEye\", \"x\": [1010.0633544921875, 998.3489990234376], \"y\": [386.1334533691406, 392.0622253417969], \"type\": \"scatter\"}, {\"name\": \"Spine\", \"x\": [1045.4364013671875, 1083.583984375], \"y\": [459.5248107910156, 621.4892578125], \"type\": \"scatter\"}, {\"name\": \"RShoulder\", \"x\": [1045.4364013671875, 1007.0374755859376], \"y\": [459.5248107910156, 459.77780151367193], \"type\": \"scatter\"}, {\"name\": \"RArm\", \"x\": [1007.0374755859376, 980.5565795898434], \"y\": [459.77780151367193, 550.7332153320312], \"type\": \"scatter\"}, {\"name\": \"RForearm\", \"x\": [980.5565795898434, 974.700866699219], \"y\": [550.7332153320312, 627.5023803710938], \"type\": \"scatter\"}, {\"name\": \"LShoulder\", \"x\": [1045.4364013671875, 1086.5867919921875], \"y\": [459.5248107910156, 456.66397094726557], \"type\": \"scatter\"}, {\"name\": \"LArm\", \"x\": [1086.5867919921875, 1101.302490234375], \"y\": [456.66397094726557, 550.9953002929689], \"type\": \"scatter\"}, {\"name\": \"LForearm\", \"x\": [1101.302490234375, 1095.266845703125], \"y\": [550.9953002929689, 648.1185913085938], \"type\": \"scatter\"}, {\"name\": \"RHip\", \"x\": [1083.583984375, 1054.2410888671875], \"y\": [621.4892578125, 621.4343872070312], \"type\": \"scatter\"}, {\"name\": \"RThigh\", \"x\": [1054.2410888671875, 1045.478759765625], \"y\": [621.4343872070312, 739.0984497070311], \"type\": \"scatter\"}, {\"name\": \"RCalf\", \"x\": [1045.478759765625, 1048.419677734375], \"y\": [739.0984497070311, 880.3727416992186], \"type\": \"scatter\"}, {\"name\": \"RFoot\", \"x\": [1048.419677734375, 1007.1527099609376], \"y\": [880.3727416992186, 921.7002563476561], \"type\": \"scatter\"}, {\"name\": \"LHip\", \"x\": [1083.583984375, 1110.1136474609377], \"y\": [621.4892578125, 621.5238647460938], \"type\": \"scatter\"}, {\"name\": \"LThigh\", \"x\": [1110.1136474609377, 1092.448486328125], \"y\": [621.5238647460938, 745.1041870117186], \"type\": \"scatter\"}, {\"name\": \"LCalf\", \"x\": [1092.448486328125, 1092.4276123046877], \"y\": [745.1041870117186, 901.0586547851561], \"type\": \"scatter\"}, {\"name\": \"LFoot\", \"x\": [1092.4276123046877, 1051.3233642578125], \"y\": [901.0586547851561, 951.070068359375], \"type\": \"scatter\"}]}, {\"data\": [{\"name\": \"Neck\", \"x\": [995.2512817382811, 1045.2164306640623], \"y\": [406.55572509765625, 468.4962158203125], \"type\": \"scatter\"}, {\"name\": \"REye\", \"x\": [995.3322143554688, 995.2512817382811], \"y\": [389.09811401367193, 406.55572509765625], \"type\": \"scatter\"}, {\"name\": \"LEye\", \"x\": [1001.380615234375, 995.2512817382811], \"y\": [389.1777038574218, 406.55572509765625], \"type\": \"scatter\"}, {\"name\": \"Spine\", \"x\": [1045.2164306640623, 1071.8128662109377], \"y\": [468.4962158203125, 624.4295043945314], \"type\": \"scatter\"}, {\"name\": \"RShoulder\", \"x\": [1045.2164306640623, 1001.1616821289062], \"y\": [468.4962158203125, 477.21307373046875], \"type\": \"scatter\"}, {\"name\": \"RArm\", \"x\": [1001.1616821289062, 998.1080932617188], \"y\": [477.21307373046875, 559.7235717773436], \"type\": \"scatter\"}, {\"name\": \"RForearm\", \"x\": [998.1080932617188, 998.1694335937499], \"y\": [559.7235717773436, 642.1140747070312], \"type\": \"scatter\"}, {\"name\": \"LShoulder\", \"x\": [1045.2164306640623, 1080.6441650390623], \"y\": [468.4962158203125, 462.6515808105469], \"type\": \"scatter\"}, {\"name\": \"LArm\", \"x\": [1080.6441650390623, 1116.0267333984377], \"y\": [462.6515808105469, 559.70654296875], \"type\": \"scatter\"}, {\"name\": \"LForearm\", \"x\": [1116.0267333984377, 1118.8900146484377], \"y\": [559.70654296875, 665.64404296875], \"type\": \"scatter\"}, {\"name\": \"RHip\", \"x\": [1071.8128662109377, 1045.4063720703123], \"y\": [624.4295043945314, 624.5323486328125], \"type\": \"scatter\"}, {\"name\": \"RThigh\", \"x\": [1045.4063720703123, 1045.342529296875], \"y\": [624.5323486328125, 742.0897827148436], \"type\": \"scatter\"}, {\"name\": \"RCalf\", \"x\": [1045.342529296875, 1048.1673583984377], \"y\": [742.0897827148436, 883.35693359375], \"type\": \"scatter\"}, {\"name\": \"RFoot\", \"x\": [1048.1673583984377, 1004.1567993164062], \"y\": [883.35693359375, 927.5008544921875], \"type\": \"scatter\"}, {\"name\": \"LHip\", \"x\": [1071.8128662109377, 1098.2846679687502], \"y\": [624.4295043945314, 621.6287231445314], \"type\": \"scatter\"}, {\"name\": \"LThigh\", \"x\": [1098.2846679687502, 1092.3920898437502], \"y\": [621.6287231445314, 753.9788208007811], \"type\": \"scatter\"}, {\"name\": \"LCalf\", \"x\": [1092.3920898437502, 1089.514892578125], \"y\": [753.9788208007811, 904.1295776367188], \"type\": \"scatter\"}, {\"name\": \"LFoot\", \"x\": [1089.514892578125, 1048.2647705078125], \"y\": [904.1295776367188, 951.2197265625], \"type\": \"scatter\"}]}, {\"data\": [{\"name\": \"Neck\", \"x\": [986.5435791015625, 1039.3989257812498], \"y\": [412.6163330078125, 480.232666015625], \"type\": \"scatter\"}, {\"name\": \"REye\", \"x\": [986.5219116210936, 986.5435791015625], \"y\": [406.6796569824218, 412.6163330078125], \"type\": \"scatter\"}, {\"name\": \"LEye\", \"x\": [1001.1173095703124, 986.5435791015625], \"y\": [406.717529296875, 412.6163330078125], \"type\": \"scatter\"}, {\"name\": \"Spine\", \"x\": [1039.3989257812498, 1083.5537109375], \"y\": [480.232666015625, 624.6092529296875], \"type\": \"scatter\"}, {\"name\": \"RShoulder\", \"x\": [1039.3989257812498, 998.3217163085936], \"y\": [480.232666015625, 483.1632080078125], \"type\": \"scatter\"}, {\"name\": \"RArm\", \"x\": [998.3217163085936, 1001.0947265625], \"y\": [483.1632080078125, 571.5247192382814], \"type\": \"scatter\"}, {\"name\": \"RForearm\", \"x\": [1001.0947265625, 1012.928466796875], \"y\": [571.5247192382814, 644.9487915039062], \"type\": \"scatter\"}, {\"name\": \"LShoulder\", \"x\": [1039.3989257812498, 1074.7758789062498], \"y\": [480.232666015625, 474.41006469726557], \"type\": \"scatter\"}, {\"name\": \"LArm\", \"x\": [1074.7758789062498, 1124.78125], \"y\": [474.41006469726557, 571.4553833007812], \"type\": \"scatter\"}, {\"name\": \"LForearm\", \"x\": [1124.78125, 1142.58935546875], \"y\": [571.4553833007812, 668.6278076171876], \"type\": \"scatter\"}, {\"name\": \"RHip\", \"x\": [1083.5537109375, 1054.22265625], \"y\": [624.6092529296875, 627.4354248046875], \"type\": \"scatter\"}, {\"name\": \"RThigh\", \"x\": [1054.22265625, 1045.2236328125], \"y\": [627.4354248046875, 742.2714233398436], \"type\": \"scatter\"}, {\"name\": \"RCalf\", \"x\": [1045.2236328125, 1045.373291015625], \"y\": [742.2714233398436, 883.62939453125], \"type\": \"scatter\"}, {\"name\": \"RFoot\", \"x\": [1045.373291015625, 1001.2221679687501], \"y\": [883.62939453125, 930.4873046875001], \"type\": \"scatter\"}, {\"name\": \"LHip\", \"x\": [1083.5537109375, 1110.0941162109377], \"y\": [624.6092529296875, 624.57177734375], \"type\": \"scatter\"}, {\"name\": \"LThigh\", \"x\": [1110.0941162109377, 1092.3074951171875], \"y\": [624.57177734375, 759.747314453125], \"type\": \"scatter\"}, {\"name\": \"LCalf\", \"x\": [1092.3074951171875, 1089.541015625], \"y\": [759.747314453125, 907.0354614257811], \"type\": \"scatter\"}, {\"name\": \"LFoot\", \"x\": [1089.541015625, 1048.3354492187502], \"y\": [907.0354614257811, 954.2052612304689], \"type\": \"scatter\"}]}, {\"data\": [{\"name\": \"Neck\", \"x\": [980.5720825195314, 1036.469970703125], \"y\": [427.24978637695307, 489.1044616699219], \"type\": \"scatter\"}, {\"name\": \"REye\", \"x\": [980.5819091796877, 980.5720825195314], \"y\": [412.6212768554688, 427.24978637695307], \"type\": \"scatter\"}, {\"name\": \"LEye\", \"x\": [998.2095947265624, 980.5720825195314], \"y\": [412.6554870605469, 427.24978637695307], \"type\": \"scatter\"}, {\"name\": \"Spine\", \"x\": [1036.469970703125, 1086.5341796875], \"y\": [489.1044616699219, 633.3380737304689], \"type\": \"scatter\"}, {\"name\": \"RShoulder\", \"x\": [1036.469970703125, 998.1973876953125], \"y\": [489.1044616699219, 497.8875427246093], \"type\": \"scatter\"}, {\"name\": \"RArm\", \"x\": [998.1973876953125, 1012.9458007812499], \"y\": [497.8875427246093, 574.3027954101562], \"type\": \"scatter\"}, {\"name\": \"RForearm\", \"x\": [1012.9458007812499, 1024.9085693359377], \"y\": [574.3027954101562, 636.2430419921875], \"type\": \"scatter\"}, {\"name\": \"LShoulder\", \"x\": [1036.469970703125, 1071.9835205078125], \"y\": [489.1044616699219, 486.0972595214844], \"type\": \"scatter\"}, {\"name\": \"LArm\", \"x\": [1071.9835205078125, 1136.5400390625], \"y\": [486.0972595214844, 574.4728393554688], \"type\": \"scatter\"}, {\"name\": \"LForearm\", \"x\": [1136.5400390625, 1165.891357421875], \"y\": [574.4728393554688, 662.7573852539064], \"type\": \"scatter\"}, {\"name\": \"RHip\", \"x\": [1086.5341796875, 1057.1401367187502], \"y\": [633.3380737304689, 636.2570190429688], \"type\": \"scatter\"}, {\"name\": \"RThigh\", \"x\": [1057.1401367187502, 1039.4125976562498], \"y\": [636.2570190429688, 750.9782104492186], \"type\": \"scatter\"}, {\"name\": \"RCalf\", \"x\": [1039.4125976562498, 1045.298583984375], \"y\": [750.9782104492186, 889.3922119140626], \"type\": \"scatter\"}, {\"name\": \"RFoot\", \"x\": [1045.298583984375, 1001.2628784179688], \"y\": [889.3922119140626, 933.5718994140623], \"type\": \"scatter\"}, {\"name\": \"LHip\", \"x\": [1086.5341796875, 1113.0684814453123], \"y\": [633.3380737304689, 633.3196411132814], \"type\": \"scatter\"}, {\"name\": \"LThigh\", \"x\": [1113.0684814453123, 1089.5102539062498], \"y\": [633.3196411132814, 762.7675170898438], \"type\": \"scatter\"}, {\"name\": \"LCalf\", \"x\": [1089.5102539062498, 1092.318603515625], \"y\": [762.7675170898438, 912.9363403320311], \"type\": \"scatter\"}, {\"name\": \"LFoot\", \"x\": [1092.318603515625, 1048.1922607421875], \"y\": [912.9363403320311, 957.1734008789061], \"type\": \"scatter\"}]}, {\"data\": [{\"name\": \"Neck\", \"x\": [974.8317260742189, 1030.6147460937502], \"y\": [439.14736938476557, 503.8494567871094], \"type\": \"scatter\"}, {\"name\": \"REye\", \"x\": [977.5228881835935, 974.8317260742189], \"y\": [433.1276245117188, 439.14736938476557], \"type\": \"scatter\"}, {\"name\": \"LEye\", \"x\": [989.4738769531251, 974.8317260742189], \"y\": [433.21667480468744, 439.14736938476557], \"type\": \"scatter\"}, {\"name\": \"Spine\", \"x\": [1030.6147460937502, 1089.3995361328125], \"y\": [503.8494567871094, 642.1179809570314], \"type\": \"scatter\"}, {\"name\": \"RShoulder\", \"x\": [1030.6147460937502, 995.2113647460935], \"y\": [503.8494567871094, 506.6977233886719], \"type\": \"scatter\"}, {\"name\": \"RArm\", \"x\": [995.2113647460935, 1015.8906860351561], \"y\": [506.6977233886719, 568.5223388671875], \"type\": \"scatter\"}, {\"name\": \"RForearm\", \"x\": [1015.8906860351561, 1036.5385742187502], \"y\": [568.5223388671875, 621.4413452148438], \"type\": \"scatter\"}, {\"name\": \"LShoulder\", \"x\": [1030.6147460937502, 1071.9105224609377], \"y\": [503.8494567871094, 503.69122314453125], \"type\": \"scatter\"}, {\"name\": \"LArm\", \"x\": [1071.9105224609377, 1142.4813232421875], \"y\": [503.69122314453125, 577.40478515625], \"type\": \"scatter\"}, {\"name\": \"LForearm\", \"x\": [1142.4813232421875, 1186.4703369140625], \"y\": [577.40478515625, 651.0585327148438], \"type\": \"scatter\"}, {\"name\": \"RHip\", \"x\": [1089.3995361328125, 1060.093017578125], \"y\": [642.1179809570314, 642.1282348632812], \"type\": \"scatter\"}, {\"name\": \"RThigh\", \"x\": [1060.093017578125, 1033.541259765625], \"y\": [642.1282348632812, 759.757568359375], \"type\": \"scatter\"}, {\"name\": \"RCalf\", \"x\": [1033.541259765625, 1045.33203125], \"y\": [759.757568359375, 895.2852783203124], \"type\": \"scatter\"}, {\"name\": \"RFoot\", \"x\": [1045.33203125, 1001.3529663085936], \"y\": [895.2852783203124, 933.5792236328124], \"type\": \"scatter\"}, {\"name\": \"LHip\", \"x\": [1089.3995361328125, 1115.8629150390623], \"y\": [642.1179809570314, 642.1270751953125], \"type\": \"scatter\"}, {\"name\": \"LThigh\", \"x\": [1115.8629150390623, 1077.7884521484377], \"y\": [642.1270751953125, 765.7788696289062], \"type\": \"scatter\"}, {\"name\": \"LCalf\", \"x\": [1077.7884521484377, 1092.4609375], \"y\": [765.7788696289062, 921.6937866210936], \"type\": \"scatter\"}, {\"name\": \"LFoot\", \"x\": [1092.4609375, 1048.3267822265623], \"y\": [921.6937866210936, 959.9985961914062], \"type\": \"scatter\"}]}, {\"data\": [{\"name\": \"Neck\", \"x\": [974.570007324219, 1027.7396240234377], \"y\": [456.73730468750006, 512.6290283203124], \"type\": \"scatter\"}, {\"name\": \"REye\", \"x\": [974.5654296875, 974.570007324219], \"y\": [444.9156799316406, 456.73730468750006], \"type\": \"scatter\"}, {\"name\": \"LEye\", \"x\": [980.65673828125, 974.570007324219], \"y\": [444.9588317871094, 456.73730468750006], \"type\": \"scatter\"}, {\"name\": \"Spine\", \"x\": [1027.7396240234377, 1089.4246826171875], \"y\": [512.6290283203124, 647.9287109375001], \"type\": \"scatter\"}, {\"name\": \"RShoulder\", \"x\": [1027.7396240234377, 992.3507690429688], \"y\": [512.6290283203124, 521.4247436523438], \"type\": \"scatter\"}, {\"name\": \"RArm\", \"x\": [992.3507690429688, 1030.638427734375], \"y\": [521.4247436523438, 577.3523559570314], \"type\": \"scatter\"}, {\"name\": \"RForearm\", \"x\": [1030.638427734375, 1027.7542724609377], \"y\": [577.3523559570314, 642.0435180664062], \"type\": \"scatter\"}, {\"name\": \"LShoulder\", \"x\": [1027.7396240234377, 1071.765380859375], \"y\": [512.6290283203124, 509.6841430664063], \"type\": \"scatter\"}, {\"name\": \"LArm\", \"x\": [1071.765380859375, 1145.5294189453123], \"y\": [509.6841430664063, 577.3644409179688], \"type\": \"scatter\"}, {\"name\": \"LForearm\", \"x\": [1145.5294189453123, 1198.3789062499998], \"y\": [577.3644409179688, 645.1793212890625], \"type\": \"scatter\"}, {\"name\": \"RHip\", \"x\": [1089.4246826171875, 1060.0528564453123], \"y\": [647.9287109375001, 647.9129028320312], \"type\": \"scatter\"}, {\"name\": \"RThigh\", \"x\": [1060.0528564453123, 1027.6939697265623], \"y\": [647.9129028320312, 762.8191528320312], \"type\": \"scatter\"}, {\"name\": \"RCalf\", \"x\": [1027.6939697265623, 1045.3831787109377], \"y\": [762.8191528320312, 901.1184692382812], \"type\": \"scatter\"}, {\"name\": \"RFoot\", \"x\": [1045.3831787109377, 1001.3216552734376], \"y\": [901.1184692382812, 933.5673828125], \"type\": \"scatter\"}, {\"name\": \"LHip\", \"x\": [1089.4246826171875, 1115.943603515625], \"y\": [647.9287109375001, 647.9680175781249], \"type\": \"scatter\"}, {\"name\": \"LThigh\", \"x\": [1115.943603515625, 1072.0112304687502], \"y\": [647.9680175781249, 774.6378784179686], \"type\": \"scatter\"}, {\"name\": \"LCalf\", \"x\": [1072.0112304687502, 1095.291015625], \"y\": [774.6378784179686, 927.4996948242189], \"type\": \"scatter\"}, {\"name\": \"LFoot\", \"x\": [1095.291015625, 1048.2548828125], \"y\": [927.4996948242189, 957.1515502929689], \"type\": \"scatter\"}]}, {\"data\": [{\"name\": \"Neck\", \"x\": [968.81005859375, 1024.6875], \"y\": [477.18792724609375, 527.3638305664064], \"type\": \"scatter\"}, {\"name\": \"REye\", \"x\": [968.8160400390623, 968.81005859375], \"y\": [459.7361755371094, 477.18792724609375], \"type\": \"scatter\"}, {\"name\": \"LEye\", \"x\": [977.6802368164064, 968.81005859375], \"y\": [462.53454589843756, 477.18792724609375], \"type\": \"scatter\"}, {\"name\": \"Spine\", \"x\": [1024.6875, 1089.3980712890623], \"y\": [527.3638305664064, 651.0137939453125], \"type\": \"scatter\"}, {\"name\": \"RShoulder\", \"x\": [1024.6875, 986.4766845703123], \"y\": [527.3638305664064, 530.2456665039062], \"type\": \"scatter\"}, {\"name\": \"RArm\", \"x\": [986.4766845703123, 1027.6534423828125], \"y\": [530.2456665039062, 586.2236938476562], \"type\": \"scatter\"}, {\"name\": \"RForearm\", \"x\": [1027.6534423828125, 1024.6939697265623], \"y\": [586.2236938476562, 645.1012573242188], \"type\": \"scatter\"}, {\"name\": \"LShoulder\", \"x\": [1024.6875, 1065.84765625], \"y\": [527.3638305664064, 527.23388671875], \"type\": \"scatter\"}, {\"name\": \"LArm\", \"x\": [1065.84765625, 1145.42431640625], \"y\": [527.23388671875, 574.3008422851562], \"type\": \"scatter\"}, {\"name\": \"LForearm\", \"x\": [1145.42431640625, 1201.4023437500002], \"y\": [574.3008422851562, 624.5814819335938], \"type\": \"scatter\"}, {\"name\": \"RHip\", \"x\": [1089.3980712890623, 1060.027099609375], \"y\": [651.0137939453125, 651.0194091796875], \"type\": \"scatter\"}, {\"name\": \"RThigh\", \"x\": [1060.027099609375, 1024.7554931640623], \"y\": [651.0194091796875, 765.8617553710939], \"type\": \"scatter\"}, {\"name\": \"RCalf\", \"x\": [1024.7554931640623, 1045.4466552734377], \"y\": [765.8617553710939, 904.0095825195314], \"type\": \"scatter\"}, {\"name\": \"RFoot\", \"x\": [1045.4466552734377, 1001.3549804687501], \"y\": [904.0095825195314, 933.5593872070312], \"type\": \"scatter\"}, {\"name\": \"LHip\", \"x\": [1089.3980712890623, 1115.8979492187502], \"y\": [651.0137939453125, 651.0566406249999], \"type\": \"scatter\"}, {\"name\": \"LThigh\", \"x\": [1115.8979492187502, 1071.826904296875], \"y\": [651.0566406249999, 783.374084472656], \"type\": \"scatter\"}, {\"name\": \"LCalf\", \"x\": [1071.826904296875, 1095.295166015625], \"y\": [783.374084472656, 927.6238403320311], \"type\": \"scatter\"}, {\"name\": \"LFoot\", \"x\": [1095.295166015625, 1048.2646484375], \"y\": [927.6238403320311, 957.1219482421875], \"type\": \"scatter\"}]}, {\"data\": [{\"name\": \"Neck\", \"x\": [962.9345703125, 1021.9122924804688], \"y\": [489.0708618164063, 544.9916381835938], \"type\": \"scatter\"}, {\"name\": \"REye\", \"x\": [962.9672241210938, 962.9345703125], \"y\": [480.28085327148443, 489.0708618164063], \"type\": \"scatter\"}, {\"name\": \"LEye\", \"x\": [974.8352661132812, 962.9345703125], \"y\": [483.0568542480468, 489.0708618164063], \"type\": \"scatter\"}, {\"name\": \"Spine\", \"x\": [1021.9122924804688, 1089.4649658203123], \"y\": [544.9916381835938, 665.6271362304689], \"type\": \"scatter\"}, {\"name\": \"RShoulder\", \"x\": [1021.9122924804688, 983.6180419921875], \"y\": [544.9916381835938, 547.9660034179688], \"type\": \"scatter\"}, {\"name\": \"RArm\", \"x\": [983.6180419921875, 1027.6583251953123], \"y\": [547.9660034179688, 598.0709228515625], \"type\": \"scatter\"}, {\"name\": \"RForearm\", \"x\": [1027.6583251953123, 1021.7462158203124], \"y\": [598.0709228515625, 642.1415405273438], \"type\": \"scatter\"}, {\"name\": \"LShoulder\", \"x\": [1021.9122924804688, 1060.0360107421875], \"y\": [544.9916381835938, 539.091064453125], \"type\": \"scatter\"}, {\"name\": \"LArm\", \"x\": [1060.0360107421875, 1145.501953125], \"y\": [539.091064453125, 574.3786621093751], \"type\": \"scatter\"}, {\"name\": \"LForearm\", \"x\": [1145.501953125, 1207.146484375], \"y\": [574.3786621093751, 618.516845703125], \"type\": \"scatter\"}, {\"name\": \"RHip\", \"x\": [1089.4649658203123, 1062.950927734375], \"y\": [665.6271362304689, 665.5996704101562], \"type\": \"scatter\"}, {\"name\": \"RThigh\", \"x\": [1062.950927734375, 1021.8450927734376], \"y\": [665.5996704101562, 774.6313476562499], \"type\": \"scatter\"}, {\"name\": \"RCalf\", \"x\": [1021.8450927734376, 1045.483642578125], \"y\": [774.6313476562499, 906.9749755859376], \"type\": \"scatter\"}, {\"name\": \"RFoot\", \"x\": [1045.483642578125, 1001.268798828125], \"y\": [906.9749755859376, 933.5415039062499], \"type\": \"scatter\"}, {\"name\": \"LHip\", \"x\": [1089.4649658203123, 1115.896484375], \"y\": [665.6271362304689, 665.6810302734376], \"type\": \"scatter\"}, {\"name\": \"LThigh\", \"x\": [1115.896484375, 1068.8992919921875], \"y\": [665.6810302734376, 786.3414916992186], \"type\": \"scatter\"}, {\"name\": \"LCalf\", \"x\": [1068.8992919921875, 1095.263671875], \"y\": [786.3414916992186, 927.7318725585936], \"type\": \"scatter\"}, {\"name\": \"LFoot\", \"x\": [1095.263671875, 1048.2032470703123], \"y\": [927.7318725585936, 957.1520385742189], \"type\": \"scatter\"}]}, {\"data\": [{\"name\": \"Neck\", \"x\": [959.9989013671875, 1021.757568359375], \"y\": [506.6941833496094, 553.7529907226562], \"type\": \"scatter\"}, {\"name\": \"REye\", \"x\": [957.1697387695311, 959.9989013671875], \"y\": [497.9044494628906, 506.6941833496094], \"type\": \"scatter\"}, {\"name\": \"LEye\", \"x\": [974.7090454101561, 959.9989013671875], \"y\": [497.9582824707031, 506.6941833496094], \"type\": \"scatter\"}, {\"name\": \"Spine\", \"x\": [1021.757568359375, 1092.3121337890623], \"y\": [553.7529907226562, 671.4536743164062], \"type\": \"scatter\"}, {\"name\": \"RShoulder\", \"x\": [1021.757568359375, 980.65966796875], \"y\": [553.7529907226562, 553.9685668945312], \"type\": \"scatter\"}, {\"name\": \"RArm\", \"x\": [980.65966796875, 1024.8211669921875], \"y\": [553.9685668945312, 615.6669311523439], \"type\": \"scatter\"}, {\"name\": \"RForearm\", \"x\": [1024.8211669921875, 1018.8160400390624], \"y\": [615.6669311523439, 645.0297241210938], \"type\": \"scatter\"}, {\"name\": \"LShoulder\", \"x\": [1021.757568359375, 1054.1729736328125], \"y\": [553.7529907226562, 550.9024658203125], \"type\": \"scatter\"}, {\"name\": \"LArm\", \"x\": [1054.1729736328125, 1130.7236328125], \"y\": [550.9024658203125, 571.3778686523438], \"type\": \"scatter\"}, {\"name\": \"LForearm\", \"x\": [1130.7236328125, 1207.2382812499998], \"y\": [571.3778686523438, 600.8444824218751], \"type\": \"scatter\"}, {\"name\": \"RHip\", \"x\": [1092.3121337890623, 1065.8629150390623], \"y\": [671.4536743164062, 671.4803466796876], \"type\": \"scatter\"}, {\"name\": \"RThigh\", \"x\": [1065.8629150390623, 1015.9646606445312], \"y\": [671.4803466796876, 783.3363647460938], \"type\": \"scatter\"}, {\"name\": \"RCalf\", \"x\": [1015.9646606445312, 1048.1811523437502], \"y\": [783.3363647460938, 906.9772338867188], \"type\": \"scatter\"}, {\"name\": \"RFoot\", \"x\": [1048.1811523437502, 1001.2535400390624], \"y\": [906.9772338867188, 933.5656127929688], \"type\": \"scatter\"}, {\"name\": \"LHip\", \"x\": [1092.3121337890623, 1116.0050048828125], \"y\": [671.4536743164062, 671.4815673828125], \"type\": \"scatter\"}, {\"name\": \"LThigh\", \"x\": [1116.0050048828125, 1065.9790039062498], \"y\": [671.4815673828125, 789.2595825195314], \"type\": \"scatter\"}, {\"name\": \"LCalf\", \"x\": [1065.9790039062498, 1092.5770263671875], \"y\": [789.2595825195314, 930.4570922851561], \"type\": \"scatter\"}, {\"name\": \"LFoot\", \"x\": [1092.5770263671875, 1048.2252197265623], \"y\": [930.4570922851561, 959.9625854492189], \"type\": \"scatter\"}]}, {\"data\": [{\"name\": \"Neck\", \"x\": [959.9664916992189, 1021.7365112304688], \"y\": [524.4343872070312, 571.3919677734375], \"type\": \"scatter\"}, {\"name\": \"REye\", \"x\": [957.1793823242189, 959.9664916992189], \"y\": [509.6754760742188, 524.4343872070312], \"type\": \"scatter\"}, {\"name\": \"LEye\", \"x\": [974.6897583007809, 959.9664916992189], \"y\": [509.66845703125, 524.4343872070312], \"type\": \"scatter\"}, {\"name\": \"Spine\", \"x\": [1021.7365112304688, 1092.333740234375], \"y\": [571.3919677734375, 674.616455078125], \"type\": \"scatter\"}, {\"name\": \"RShoulder\", \"x\": [1021.7365112304688, 980.6847534179689], \"y\": [571.3919677734375, 571.5300903320312], \"type\": \"scatter\"}, {\"name\": \"RArm\", \"x\": [980.6847534179689, 1042.3228759765623], \"y\": [571.5300903320312, 618.5449829101562], \"type\": \"scatter\"}, {\"name\": \"RForearm\", \"x\": [1042.3228759765623, 1018.8359985351561], \"y\": [618.5449829101562, 645.1347045898436], \"type\": \"scatter\"}, {\"name\": \"LShoulder\", \"x\": [1021.7365112304688, 1051.2626953125], \"y\": [571.3919677734375, 562.6979370117188], \"type\": \"scatter\"}, {\"name\": \"LArm\", \"x\": [1051.2626953125, 1139.41357421875], \"y\": [562.6979370117188, 574.3291625976562], \"type\": \"scatter\"}, {\"name\": \"LForearm\", \"x\": [1139.41357421875, 1210.1767578125], \"y\": [574.3291625976562, 595.0499877929688], \"type\": \"scatter\"}, {\"name\": \"RHip\", \"x\": [1092.333740234375, 1065.9315185546877], \"y\": [674.616455078125, 677.4030151367189], \"type\": \"scatter\"}, {\"name\": \"RThigh\", \"x\": [1065.9315185546877, 1010.0787353515624], \"y\": [677.4030151367189, 783.459228515625], \"type\": \"scatter\"}, {\"name\": \"RCalf\", \"x\": [1010.0787353515624, 1048.174560546875], \"y\": [783.459228515625, 907.00732421875], \"type\": \"scatter\"}, {\"name\": \"RFoot\", \"x\": [1048.174560546875, 1001.2879638671875], \"y\": [907.00732421875, 936.4301757812499], \"type\": \"scatter\"}, {\"name\": \"LHip\", \"x\": [1092.333740234375, 1116.0064697265623], \"y\": [674.616455078125, 677.427001953125], \"type\": \"scatter\"}, {\"name\": \"LThigh\", \"x\": [1116.0064697265623, 1060.0814208984377], \"y\": [677.427001953125, 792.3591918945311], \"type\": \"scatter\"}, {\"name\": \"LCalf\", \"x\": [1060.0814208984377, 1092.5766601562498], \"y\": [792.3591918945311, 930.5152587890625], \"type\": \"scatter\"}, {\"name\": \"LFoot\", \"x\": [1092.5766601562498, 1045.4581298828125], \"y\": [930.5152587890625, 959.9686889648435], \"type\": \"scatter\"}]}, {\"data\": [{\"name\": \"Neck\", \"x\": [959.9606323242189, 1018.8941040039062], \"y\": [536.1233520507812, 577.5028076171876], \"type\": \"scatter\"}, {\"name\": \"REye\", \"x\": [957.1644287109376, 959.9606323242189], \"y\": [527.3267822265625, 536.1233520507812], \"type\": \"scatter\"}, {\"name\": \"LEye\", \"x\": [974.7080688476561, 959.9606323242189], \"y\": [527.4194946289062, 536.1233520507812], \"type\": \"scatter\"}, {\"name\": \"Spine\", \"x\": [1018.8941040039062, 1092.5262451171875], \"y\": [577.5028076171876, 686.2830200195312], \"type\": \"scatter\"}, {\"name\": \"RShoulder\", \"x\": [1018.8941040039062, 980.5762939453123], \"y\": [577.5028076171876, 580.2828979492189], \"type\": \"scatter\"}, {\"name\": \"RArm\", \"x\": [980.5762939453123, 1004.2112426757811], \"y\": [580.2828979492189, 624.4955444335938], \"type\": \"scatter\"}, {\"name\": \"RForearm\", \"x\": [1004.2112426757811, 998.1862792968749], \"y\": [624.4955444335938, 627.4459228515625], \"type\": \"scatter\"}, {\"name\": \"LShoulder\", \"x\": [1018.8941040039062, 1051.3018798828125], \"y\": [577.5028076171876, 577.4703369140624], \"type\": \"scatter\"}, {\"name\": \"LArm\", \"x\": [1051.3018798828125, 1139.5225830078125], \"y\": [577.4703369140624, 577.2831420898438], \"type\": \"scatter\"}, {\"name\": \"LForearm\", \"x\": [1139.5225830078125, 1219.0321044921877], \"y\": [577.2831420898438, 577.5134887695312], \"type\": \"scatter\"}, {\"name\": \"RHip\", \"x\": [1092.5262451171875, 1068.819091796875], \"y\": [686.2830200195312, 686.2694091796875], \"type\": \"scatter\"}, {\"name\": \"RThigh\", \"x\": [1068.819091796875, 1004.2042236328125], \"y\": [686.2694091796875, 786.3173217773436], \"type\": \"scatter\"}, {\"name\": \"RCalf\", \"x\": [1004.2042236328125, 1045.4833984375], \"y\": [786.3173217773436, 907.0474243164062], \"type\": \"scatter\"}, {\"name\": \"RFoot\", \"x\": [1045.4833984375, 1001.2111206054688], \"y\": [907.0474243164062, 936.4091186523438], \"type\": \"scatter\"}, {\"name\": \"LHip\", \"x\": [1092.5262451171875, 1118.917724609375], \"y\": [686.2830200195312, 689.1571044921875], \"type\": \"scatter\"}, {\"name\": \"LThigh\", \"x\": [1118.917724609375, 1051.274658203125], \"y\": [689.1571044921875, 798.1724243164062], \"type\": \"scatter\"}, {\"name\": \"LCalf\", \"x\": [1051.274658203125, 1092.554931640625], \"y\": [798.1724243164062, 930.6165771484377], \"type\": \"scatter\"}, {\"name\": \"LFoot\", \"x\": [1092.554931640625, 1045.4046630859377], \"y\": [930.6165771484377, 960.0166625976561], \"type\": \"scatter\"}]}, {\"data\": [{\"name\": \"Neck\", \"x\": [957.1636962890625, 1021.7460327148434], \"y\": [550.8551635742189, 594.9678955078125], \"type\": \"scatter\"}, {\"name\": \"REye\", \"x\": [957.0787963867188, 957.1636962890625], \"y\": [539.0780029296875, 550.8551635742189], \"type\": \"scatter\"}, {\"name\": \"LEye\", \"x\": [974.6644897460936, 957.1636962890625], \"y\": [536.2023925781249, 550.8551635742189], \"type\": \"scatter\"}, {\"name\": \"Spine\", \"x\": [1021.7460327148434, 1095.2686767578125], \"y\": [594.9678955078125, 694.9891967773438], \"type\": \"scatter\"}, {\"name\": \"RShoulder\", \"x\": [1021.7460327148434, 980.69189453125], \"y\": [594.9678955078125, 595.0885620117188], \"type\": \"scatter\"}, {\"name\": \"LShoulder\", \"x\": [1021.7460327148434, 1051.253662109375], \"y\": [594.9678955078125, 592.0260620117188], \"type\": \"scatter\"}, {\"name\": \"LArm\", \"x\": [1051.253662109375, 1136.5428466796877], \"y\": [592.0260620117188, 577.4287109375001], \"type\": \"scatter\"}, {\"name\": \"LForearm\", \"x\": [1136.5428466796877, 1213.0910644531248], \"y\": [577.4287109375001, 574.5580444335938], \"type\": \"scatter\"}, {\"name\": \"RHip\", \"x\": [1095.2686767578125, 1068.859619140625], \"y\": [694.9891967773438, 692.2434082031249], \"type\": \"scatter\"}, {\"name\": \"RThigh\", \"x\": [1068.859619140625, 1001.3319702148434], \"y\": [692.2434082031249, 786.4371337890625], \"type\": \"scatter\"}, {\"name\": \"RCalf\", \"x\": [1001.3319702148434, 1045.442626953125], \"y\": [786.4371337890625, 907.0369873046876], \"type\": \"scatter\"}, {\"name\": \"RFoot\", \"x\": [1045.442626953125, 1001.2741088867188], \"y\": [907.0369873046876, 936.413818359375], \"type\": \"scatter\"}, {\"name\": \"LHip\", \"x\": [1095.2686767578125, 1118.9581298828125], \"y\": [694.9891967773438, 695.1226806640625], \"type\": \"scatter\"}, {\"name\": \"LThigh\", \"x\": [1118.9581298828125, 1048.417724609375], \"y\": [695.1226806640625, 804.0050048828124], \"type\": \"scatter\"}, {\"name\": \"LCalf\", \"x\": [1048.417724609375, 1092.5740966796877], \"y\": [804.0050048828124, 930.6419067382812], \"type\": \"scatter\"}, {\"name\": \"LFoot\", \"x\": [1092.5740966796877, 1045.4552001953123], \"y\": [930.6419067382812, 959.9627685546877], \"type\": \"scatter\"}]}, {\"data\": [{\"name\": \"Neck\", \"x\": [957.1797485351564, 1021.790283203125], \"y\": [559.7152099609376, 598.0837402343751], \"type\": \"scatter\"}, {\"name\": \"REye\", \"x\": [957.1313476562498, 957.1797485351564], \"y\": [550.900146484375, 559.7152099609376], \"type\": \"scatter\"}, {\"name\": \"LEye\", \"x\": [974.6768188476561, 957.1797485351564], \"y\": [550.9909057617188, 559.7152099609376], \"type\": \"scatter\"}, {\"name\": \"Spine\", \"x\": [1021.790283203125, 1095.380615234375], \"y\": [598.0837402343751, 698.0507202148438], \"type\": \"scatter\"}, {\"name\": \"RShoulder\", \"x\": [1021.790283203125, 983.5243530273435], \"y\": [598.0837402343751, 600.9878540039064], \"type\": \"scatter\"}, {\"name\": \"LShoulder\", \"x\": [1021.790283203125, 1054.166015625], \"y\": [598.0837402343751, 597.9444580078125], \"type\": \"scatter\"}, {\"name\": \"LArm\", \"x\": [1054.166015625, 1142.3902587890625], \"y\": [597.9444580078125, 577.4967651367189], \"type\": \"scatter\"}, {\"name\": \"LForearm\", \"x\": [1142.3902587890625, 1210.2689208984375], \"y\": [577.4967651367189, 577.260498046875], \"type\": \"scatter\"}, {\"name\": \"RHip\", \"x\": [1095.380615234375, 1068.9838867187502], \"y\": [698.0507202148438, 695.2567138671874], \"type\": \"scatter\"}, {\"name\": \"RThigh\", \"x\": [1068.9838867187502, 1001.1863403320312], \"y\": [695.2567138671874, 789.1847534179686], \"type\": \"scatter\"}, {\"name\": \"RCalf\", \"x\": [1001.1863403320312, 1045.4503173828125], \"y\": [789.1847534179686, 907.0276489257811], \"type\": \"scatter\"}, {\"name\": \"RFoot\", \"x\": [1045.4503173828125, 1001.2973632812499], \"y\": [907.0276489257811, 936.4210205078125], \"type\": \"scatter\"}, {\"name\": \"LHip\", \"x\": [1095.380615234375, 1119.0660400390623], \"y\": [698.0507202148438, 700.9695434570312], \"type\": \"scatter\"}, {\"name\": \"LThigh\", \"x\": [1119.0660400390623, 1048.235595703125], \"y\": [700.9695434570312, 806.9119873046875], \"type\": \"scatter\"}, {\"name\": \"LCalf\", \"x\": [1048.235595703125, 1092.5723876953123], \"y\": [806.9119873046875, 930.6817016601561], \"type\": \"scatter\"}, {\"name\": \"LFoot\", \"x\": [1092.5723876953123, 1048.1954345703123], \"y\": [930.6817016601561, 960.0496215820312], \"type\": \"scatter\"}]}, {\"data\": [{\"name\": \"Neck\", \"x\": [960.0548706054689, 1021.741455078125], \"y\": [571.512939453125, 609.7092895507814], \"type\": \"scatter\"}, {\"name\": \"REye\", \"x\": [957.1649780273436, 960.0548706054689], \"y\": [556.7766723632812, 571.512939453125], \"type\": \"scatter\"}, {\"name\": \"LEye\", \"x\": [974.7341918945312, 960.0548706054689], \"y\": [556.7683715820312, 571.512939453125], \"type\": \"scatter\"}, {\"name\": \"Spine\", \"x\": [1021.741455078125, 1095.337646484375], \"y\": [609.7092895507814, 706.9243774414064], \"type\": \"scatter\"}, {\"name\": \"RShoulder\", \"x\": [1021.741455078125, 983.5643310546878], \"y\": [609.7092895507814, 615.5764770507812], \"type\": \"scatter\"}, {\"name\": \"LShoulder\", \"x\": [1021.741455078125, 1051.2864990234377], \"y\": [609.7092895507814, 603.9188842773438], \"type\": \"scatter\"}, {\"name\": \"LArm\", \"x\": [1051.2864990234377, 1142.5936279296877], \"y\": [603.9188842773438, 594.9899902343751], \"type\": \"scatter\"}, {\"name\": \"LForearm\", \"x\": [1142.5936279296877, 1213.1251220703125], \"y\": [594.9899902343751, 577.4108886718751], \"type\": \"scatter\"}, {\"name\": \"RHip\", \"x\": [1095.337646484375, 1068.9239501953123], \"y\": [706.9243774414064, 706.8553466796876], \"type\": \"scatter\"}, {\"name\": \"RThigh\", \"x\": [1068.9239501953123, 1001.1224975585936], \"y\": [706.8553466796876, 789.2546997070311], \"type\": \"scatter\"}, {\"name\": \"RCalf\", \"x\": [1001.1224975585936, 1045.4830322265623], \"y\": [789.2546997070311, 907.0175781249999], \"type\": \"scatter\"}, {\"name\": \"RFoot\", \"x\": [1045.4830322265623, 1001.3162231445312], \"y\": [907.0175781249999, 936.4279174804686], \"type\": \"scatter\"}, {\"name\": \"LHip\", \"x\": [1095.337646484375, 1119.031982421875], \"y\": [706.9243774414064, 709.8703613281249], \"type\": \"scatter\"}, {\"name\": \"LThigh\", \"x\": [1119.031982421875, 1045.3940429687502], \"y\": [709.8703613281249, 806.9963989257811], \"type\": \"scatter\"}, {\"name\": \"LCalf\", \"x\": [1045.3940429687502, 1092.562255859375], \"y\": [806.9963989257811, 930.6971435546878], \"type\": \"scatter\"}, {\"name\": \"LFoot\", \"x\": [1092.562255859375, 1048.192626953125], \"y\": [930.6971435546878, 960.0568237304689], \"type\": \"scatter\"}]}, {\"data\": [{\"name\": \"Neck\", \"x\": [960.0084838867188, 1018.8471069335936], \"y\": [577.25341796875, 621.351318359375], \"type\": \"scatter\"}, {\"name\": \"REye\", \"x\": [957.1343994140623, 960.0084838867188], \"y\": [568.4779663085938, 577.25341796875], \"type\": \"scatter\"}, {\"name\": \"LEye\", \"x\": [974.6961669921876, 960.0084838867188], \"y\": [568.5577392578125, 577.25341796875], \"type\": \"scatter\"}, {\"name\": \"Spine\", \"x\": [1018.8471069335936, 1095.3675537109377], \"y\": [621.351318359375, 712.737060546875], \"type\": \"scatter\"}, {\"name\": \"RShoulder\", \"x\": [1018.8471069335936, 977.5831298828124], \"y\": [621.351318359375, 621.4287719726562], \"type\": \"scatter\"}, {\"name\": \"RArm\", \"x\": [977.5831298828124, 909.9447631835935], \"y\": [621.4287719726562, 648.0246582031249], \"type\": \"scatter\"}, {\"name\": \"LShoulder\", \"x\": [1018.8471069335936, 1051.248779296875], \"y\": [621.351318359375, 618.4635620117188], \"type\": \"scatter\"}, {\"name\": \"LArm\", \"x\": [1051.248779296875, 1136.5164794921875], \"y\": [618.4635620117188, 600.9840087890625], \"type\": \"scatter\"}, {\"name\": \"LForearm\", \"x\": [1136.5164794921875, 1204.3328857421875], \"y\": [600.9840087890625, 598.0458374023439], \"type\": \"scatter\"}, {\"name\": \"RHip\", \"x\": [1095.3675537109377, 1068.958740234375], \"y\": [712.737060546875, 712.727294921875], \"type\": \"scatter\"}, {\"name\": \"RThigh\", \"x\": [1068.958740234375, 1001.0899047851561], \"y\": [712.727294921875, 792.1876220703125], \"type\": \"scatter\"}, {\"name\": \"RCalf\", \"x\": [1001.0899047851561, 1048.1749267578125], \"y\": [792.1876220703125, 907.03857421875], \"type\": \"scatter\"}, {\"name\": \"RFoot\", \"x\": [1048.1749267578125, 1001.3400268554688], \"y\": [907.03857421875, 936.4532470703123], \"type\": \"scatter\"}, {\"name\": \"LHip\", \"x\": [1095.3675537109377, 1119.0211181640623], \"y\": [712.737060546875, 712.8123779296875], \"type\": \"scatter\"}, {\"name\": \"LThigh\", \"x\": [1119.0211181640623, 1045.267822265625], \"y\": [712.8123779296875, 809.8660888671875], \"type\": \"scatter\"}, {\"name\": \"LCalf\", \"x\": [1045.267822265625, 1092.5355224609377], \"y\": [809.8660888671875, 930.6868286132814], \"type\": \"scatter\"}, {\"name\": \"LFoot\", \"x\": [1092.5355224609377, 1048.1967773437502], \"y\": [930.6868286132814, 960.0465087890625], \"type\": \"scatter\"}]}, {\"data\": [{\"name\": \"Neck\", \"x\": [962.8948974609375, 1021.7510375976561], \"y\": [580.3235473632812, 621.54345703125], \"type\": \"scatter\"}, {\"name\": \"REye\", \"x\": [960.0223388671875, 962.8948974609375], \"y\": [574.3257446289062, 580.3235473632812], \"type\": \"scatter\"}, {\"name\": \"LEye\", \"x\": [974.7615966796877, 962.8948974609375], \"y\": [574.453125, 580.3235473632812], \"type\": \"scatter\"}, {\"name\": \"Spine\", \"x\": [1021.7510375976561, 1095.4149169921875], \"y\": [621.54345703125, 718.5847778320312], \"type\": \"scatter\"}, {\"name\": \"RShoulder\", \"x\": [1021.7510375976561, 980.6055908203123], \"y\": [621.54345703125, 624.4038696289064], \"type\": \"scatter\"}, {\"name\": \"LShoulder\", \"x\": [1021.7510375976561, 1054.180419921875], \"y\": [621.54345703125, 621.4512329101562], \"type\": \"scatter\"}, {\"name\": \"LArm\", \"x\": [1054.180419921875, 1139.6024169921875], \"y\": [621.4512329101562, 612.68505859375], \"type\": \"scatter\"}, {\"name\": \"LForearm\", \"x\": [1139.6024169921875, 1213.1253662109375], \"y\": [612.68505859375, 603.9227294921875], \"type\": \"scatter\"}, {\"name\": \"RHip\", \"x\": [1095.4149169921875, 1068.9844970703123], \"y\": [718.5847778320312, 715.825927734375], \"type\": \"scatter\"}, {\"name\": \"RThigh\", \"x\": [1068.9844970703123, 998.2173461914062], \"y\": [715.825927734375, 795.1386108398438], \"type\": \"scatter\"}, {\"name\": \"RCalf\", \"x\": [998.2173461914062, 1045.435791015625], \"y\": [795.1386108398438, 907.0429077148435], \"type\": \"scatter\"}, {\"name\": \"RFoot\", \"x\": [1045.435791015625, 1001.3323974609376], \"y\": [907.0429077148435, 936.4110107421876], \"type\": \"scatter\"}, {\"name\": \"LHip\", \"x\": [1095.4149169921875, 1121.8232421875], \"y\": [718.5847778320312, 718.7138061523438], \"type\": \"scatter\"}, {\"name\": \"LThigh\", \"x\": [1121.8232421875, 1042.4251708984377], \"y\": [718.7138061523438, 810.0037841796875], \"type\": \"scatter\"}, {\"name\": \"LCalf\", \"x\": [1042.4251708984377, 1092.5366210937502], \"y\": [810.0037841796875, 933.4698486328125], \"type\": \"scatter\"}, {\"name\": \"LFoot\", \"x\": [1092.5366210937502, 1045.4581298828125], \"y\": [933.4698486328125, 960.0628662109376], \"type\": \"scatter\"}]}, {\"data\": [{\"name\": \"Neck\", \"x\": [962.9776000976562, 1021.8471679687501], \"y\": [583.3461303710938, 624.4677734375], \"type\": \"scatter\"}, {\"name\": \"REye\", \"x\": [962.9015502929689, 962.9776000976562], \"y\": [574.5287475585938, 583.3461303710938], \"type\": \"scatter\"}, {\"name\": \"LEye\", \"x\": [974.8187866210936, 962.9776000976562], \"y\": [577.2975463867189, 583.3461303710938], \"type\": \"scatter\"}, {\"name\": \"Spine\", \"x\": [1021.8471679687501, 1095.462158203125], \"y\": [624.4677734375, 718.7700805664062], \"type\": \"scatter\"}, {\"name\": \"RShoulder\", \"x\": [1021.8471679687501, 983.5485229492188], \"y\": [624.4677734375, 624.4782104492188], \"type\": \"scatter\"}, {\"name\": \"LShoulder\", \"x\": [1021.8471679687501, 1057.184814453125], \"y\": [624.4677734375, 624.5835571289064], \"type\": \"scatter\"}, {\"name\": \"LArm\", \"x\": [1057.184814453125, 1142.519775390625], \"y\": [624.5835571289064, 621.5889892578125], \"type\": \"scatter\"}, {\"name\": \"LForearm\", \"x\": [1142.519775390625, 1213.246826171875], \"y\": [621.5889892578125, 624.5320434570312], \"type\": \"scatter\"}, {\"name\": \"RHip\", \"x\": [1095.462158203125, 1071.7475585937502], \"y\": [718.7700805664062, 718.7059936523439], \"type\": \"scatter\"}, {\"name\": \"RThigh\", \"x\": [1071.7475585937502, 998.1574096679689], \"y\": [718.7059936523439, 795.21630859375], \"type\": \"scatter\"}, {\"name\": \"RCalf\", \"x\": [998.1574096679689, 1045.3687744140623], \"y\": [795.21630859375, 907.079833984375], \"type\": \"scatter\"}, {\"name\": \"RFoot\", \"x\": [1045.3687744140623, 1001.2843627929688], \"y\": [907.079833984375, 936.4426269531251], \"type\": \"scatter\"}, {\"name\": \"LHip\", \"x\": [1095.462158203125, 1121.8829345703123], \"y\": [718.7700805664062, 721.6242065429686], \"type\": \"scatter\"}, {\"name\": \"LThigh\", \"x\": [1121.8829345703123, 1039.512939453125], \"y\": [721.6242065429686, 812.7041625976561], \"type\": \"scatter\"}, {\"name\": \"LCalf\", \"x\": [1039.512939453125, 1092.533935546875], \"y\": [812.7041625976561, 930.728698730469], \"type\": \"scatter\"}, {\"name\": \"LFoot\", \"x\": [1092.533935546875, 1048.2075195312498], \"y\": [930.728698730469, 960.0640258789062], \"type\": \"scatter\"}]}, {\"data\": [{\"name\": \"Neck\", \"x\": [965.8834838867188, 1021.6986083984376], \"y\": [589.1851806640625, 627.4897460937501], \"type\": \"scatter\"}, {\"name\": \"REye\", \"x\": [965.8212890624999, 965.8834838867188], \"y\": [577.3321533203124, 589.1851806640625], \"type\": \"scatter\"}, {\"name\": \"LEye\", \"x\": [977.521240234375, 965.8834838867188], \"y\": [577.4179077148438, 589.1851806640625], \"type\": \"scatter\"}, {\"name\": \"Spine\", \"x\": [1021.6986083984376, 1095.2847900390623], \"y\": [627.4897460937501, 724.5475463867188], \"type\": \"scatter\"}, {\"name\": \"RShoulder\", \"x\": [1021.6986083984376, 980.6674804687501], \"y\": [627.4897460937501, 627.4985961914062], \"type\": \"scatter\"}, {\"name\": \"LShoulder\", \"x\": [1021.6986083984376, 1051.2260742187502], \"y\": [627.4897460937501, 627.4963989257812], \"type\": \"scatter\"}, {\"name\": \"LArm\", \"x\": [1051.2260742187502, 1142.5450439453123], \"y\": [627.4963989257812, 642.1322021484375], \"type\": \"scatter\"}, {\"name\": \"LForearm\", \"x\": [1142.5450439453123, 1233.6058349609375], \"y\": [642.1322021484375, 644.9362182617189], \"type\": \"scatter\"}, {\"name\": \"RHip\", \"x\": [1095.2847900390623, 1068.8372802734377], \"y\": [724.5475463867188, 721.6524658203125], \"type\": \"scatter\"}, {\"name\": \"RThigh\", \"x\": [1068.8372802734377, 995.3296508789061], \"y\": [721.6524658203125, 798.1579589843751], \"type\": \"scatter\"}, {\"name\": \"RCalf\", \"x\": [995.3296508789061, 1045.3428955078125], \"y\": [798.1579589843751, 907.0922851562498], \"type\": \"scatter\"}, {\"name\": \"RFoot\", \"x\": [1045.3428955078125, 1001.2965698242189], \"y\": [907.0922851562498, 936.4747314453123], \"type\": \"scatter\"}, {\"name\": \"LHip\", \"x\": [1095.2847900390623, 1119.0145263671875], \"y\": [724.5475463867188, 727.5347290039062], \"type\": \"scatter\"}, {\"name\": \"LThigh\", \"x\": [1119.0145263671875, 1039.4339599609377], \"y\": [727.5347290039062, 812.78125], \"type\": \"scatter\"}, {\"name\": \"LCalf\", \"x\": [1039.4339599609377, 1092.5356445312498], \"y\": [812.78125, 933.4797363281248], \"type\": \"scatter\"}, {\"name\": \"LFoot\", \"x\": [1092.5356445312498, 1048.2137451171875], \"y\": [933.4797363281248, 960.0610351562498], \"type\": \"scatter\"}]}, {\"data\": [{\"name\": \"Neck\", \"x\": [968.8302001953124, 1018.9202270507811], \"y\": [589.1920166015625, 633.2437744140625], \"type\": \"scatter\"}, {\"name\": \"REye\", \"x\": [968.8256835937501, 968.8302001953124], \"y\": [577.3325195312501, 589.1920166015625], \"type\": \"scatter\"}, {\"name\": \"LEye\", \"x\": [977.6342163085936, 968.8302001953124], \"y\": [577.4451293945314, 589.1920166015625], \"type\": \"scatter\"}, {\"name\": \"Spine\", \"x\": [1018.9202270507811, 1095.3255615234377], \"y\": [633.2437744140625, 721.6997680664062], \"type\": \"scatter\"}, {\"name\": \"RShoulder\", \"x\": [1018.9202270507811, 977.7120361328126], \"y\": [633.2437744140625, 630.43896484375], \"type\": \"scatter\"}, {\"name\": \"RArm\", \"x\": [977.7120361328126, 907.061584472656], \"y\": [630.43896484375, 647.9114379882814], \"type\": \"scatter\"}, {\"name\": \"RForearm\", \"x\": [907.061584472656, 862.8462524414062], \"y\": [647.9114379882814, 648.0940551757812], \"type\": \"scatter\"}, {\"name\": \"LShoulder\", \"x\": [1018.9202270507811, 1051.2493896484377], \"y\": [633.2437744140625, 630.356201171875], \"type\": \"scatter\"}, {\"name\": \"LArm\", \"x\": [1051.2493896484377, 1151.3074951171875], \"y\": [630.356201171875, 648.183837890625], \"type\": \"scatter\"}, {\"name\": \"LForearm\", \"x\": [1151.3074951171875, 1213.2288818359375], \"y\": [648.183837890625, 671.6053466796876], \"type\": \"scatter\"}, {\"name\": \"RHip\", \"x\": [1095.3255615234377, 1068.8905029296877], \"y\": [721.6997680664062, 721.6275024414062], \"type\": \"scatter\"}, {\"name\": \"RThigh\", \"x\": [1068.8905029296877, 995.2794799804686], \"y\": [721.6275024414062, 801.0816040039064], \"type\": \"scatter\"}, {\"name\": \"RCalf\", \"x\": [995.2794799804686, 1045.3116455078125], \"y\": [801.0816040039064, 907.0676879882814], \"type\": \"scatter\"}, {\"name\": \"RFoot\", \"x\": [1045.3116455078125, 1001.2903442382812], \"y\": [907.0676879882814, 936.4884643554689], \"type\": \"scatter\"}, {\"name\": \"LHip\", \"x\": [1095.3255615234377, 1119.0311279296877], \"y\": [721.6997680664062, 724.5911865234375], \"type\": \"scatter\"}, {\"name\": \"LThigh\", \"x\": [1119.0311279296877, 1036.4814453125], \"y\": [724.5911865234375, 812.7747192382812], \"type\": \"scatter\"}, {\"name\": \"LCalf\", \"x\": [1036.4814453125, 1092.5133056640623], \"y\": [812.7747192382812, 933.4881591796877], \"type\": \"scatter\"}, {\"name\": \"LFoot\", \"x\": [1092.5133056640623, 1048.2457275390623], \"y\": [933.4881591796877, 962.9144897460936], \"type\": \"scatter\"}]}, {\"data\": [{\"name\": \"Neck\", \"x\": [971.762451171875, 1024.627197265625], \"y\": [586.178466796875, 633.3142700195312], \"type\": \"scatter\"}, {\"name\": \"REye\", \"x\": [971.7770996093749, 971.762451171875], \"y\": [574.5576171875, 586.178466796875], \"type\": \"scatter\"}, {\"name\": \"LEye\", \"x\": [977.8156738281249, 971.762451171875], \"y\": [577.3307495117189, 586.178466796875], \"type\": \"scatter\"}, {\"name\": \"Spine\", \"x\": [1024.627197265625, 1095.3226318359377], \"y\": [633.3142700195312, 730.4274291992186], \"type\": \"scatter\"}, {\"name\": \"RShoulder\", \"x\": [1024.627197265625, 992.3399658203124], \"y\": [633.3142700195312, 636.2212524414064], \"type\": \"scatter\"}, {\"name\": \"LShoulder\", \"x\": [1024.627197265625, 1057.1810302734377], \"y\": [633.3142700195312, 633.3355712890625], \"type\": \"scatter\"}, {\"name\": \"LArm\", \"x\": [1057.1810302734377, 1139.612060546875], \"y\": [633.3355712890625, 662.7684936523439], \"type\": \"scatter\"}, {\"name\": \"LForearm\", \"x\": [1139.612060546875, 1210.0460205078123], \"y\": [662.7684936523439, 695.0626220703125], \"type\": \"scatter\"}, {\"name\": \"RHip\", \"x\": [1095.3226318359377, 1068.8817138671875], \"y\": [730.4274291992186, 724.6138305664062], \"type\": \"scatter\"}, {\"name\": \"RThigh\", \"x\": [1068.8817138671875, 995.2610473632812], \"y\": [724.6138305664062, 801.1126098632812], \"type\": \"scatter\"}, {\"name\": \"RCalf\", \"x\": [995.2610473632812, 1045.3309326171875], \"y\": [801.1126098632812, 907.1072998046876], \"type\": \"scatter\"}, {\"name\": \"RFoot\", \"x\": [1045.3309326171875, 1001.3070068359376], \"y\": [907.1072998046876, 939.3551025390625], \"type\": \"scatter\"}, {\"name\": \"LHip\", \"x\": [1095.3226318359377, 1119.0177001953123], \"y\": [730.4274291992186, 736.2091674804686], \"type\": \"scatter\"}, {\"name\": \"LThigh\", \"x\": [1119.0177001953123, 1033.5592041015623], \"y\": [736.2091674804686, 812.8695678710938], \"type\": \"scatter\"}, {\"name\": \"LCalf\", \"x\": [1033.5592041015623, 1092.5190429687502], \"y\": [812.8695678710938, 933.4746704101562], \"type\": \"scatter\"}, {\"name\": \"LFoot\", \"x\": [1092.5190429687502, 1048.249755859375], \"y\": [933.4746704101562, 960.0654296875], \"type\": \"scatter\"}]}, {\"data\": [{\"name\": \"Neck\", \"x\": [974.6334838867188, 1024.812255859375], \"y\": [580.3797607421875, 630.3911132812501], \"type\": \"scatter\"}, {\"name\": \"REye\", \"x\": [974.6995849609376, 974.6334838867188], \"y\": [574.3786621093751, 580.3797607421875], \"type\": \"scatter\"}, {\"name\": \"LEye\", \"x\": [983.5266723632812, 974.6334838867188], \"y\": [574.5128173828125, 580.3797607421875], \"type\": \"scatter\"}, {\"name\": \"Spine\", \"x\": [1024.812255859375, 1095.308349609375], \"y\": [630.3911132812501, 733.3499755859374], \"type\": \"scatter\"}, {\"name\": \"RShoulder\", \"x\": [1024.812255859375, 995.2390747070312], \"y\": [630.3911132812501, 630.3587036132812], \"type\": \"scatter\"}, {\"name\": \"RArm\", \"x\": [995.2390747070312, 1024.8009033203123], \"y\": [630.3587036132812, 692.0547485351562], \"type\": \"scatter\"}, {\"name\": \"LShoulder\", \"x\": [1024.812255859375, 1065.9300537109377], \"y\": [630.3911132812501, 639.1220703125], \"type\": \"scatter\"}, {\"name\": \"LArm\", \"x\": [1065.9300537109377, 1151.2738037109375], \"y\": [639.1220703125, 686.2389526367189], \"type\": \"scatter\"}, {\"name\": \"LForearm\", \"x\": [1151.2738037109375, 1210.1011962890625], \"y\": [686.2389526367189, 727.4985351562498], \"type\": \"scatter\"}, {\"name\": \"RHip\", \"x\": [1095.308349609375, 1068.828369140625], \"y\": [733.3499755859374, 727.482666015625], \"type\": \"scatter\"}, {\"name\": \"RThigh\", \"x\": [1068.828369140625, 995.203369140625], \"y\": [727.482666015625, 804.0046386718751], \"type\": \"scatter\"}, {\"name\": \"RCalf\", \"x\": [995.203369140625, 1045.2901611328125], \"y\": [804.0046386718751, 907.1183471679688], \"type\": \"scatter\"}, {\"name\": \"RFoot\", \"x\": [1045.2901611328125, 1001.2720336914062], \"y\": [907.1183471679688, 936.5225830078124], \"type\": \"scatter\"}, {\"name\": \"LHip\", \"x\": [1095.308349609375, 1119.060302734375], \"y\": [733.3499755859374, 736.3582153320312], \"type\": \"scatter\"}, {\"name\": \"LThigh\", \"x\": [1119.060302734375, 1030.5987548828125], \"y\": [736.3582153320312, 812.9711303710938], \"type\": \"scatter\"}, {\"name\": \"LCalf\", \"x\": [1030.5987548828125, 1092.4874267578125], \"y\": [812.9711303710938, 930.6925659179688], \"type\": \"scatter\"}, {\"name\": \"LFoot\", \"x\": [1092.4874267578125, 1048.266845703125], \"y\": [930.6925659179688, 960.0661621093749], \"type\": \"scatter\"}]}, {\"data\": [{\"name\": \"Neck\", \"x\": [977.6025390624999, 1030.683349609375], \"y\": [577.2807006835938, 630.3129272460939], \"type\": \"scatter\"}, {\"name\": \"REye\", \"x\": [977.6527709960935, 977.6025390624999], \"y\": [565.6370849609376, 577.2807006835938], \"type\": \"scatter\"}, {\"name\": \"LEye\", \"x\": [995.2086791992189, 977.6025390624999], \"y\": [571.4158935546875, 577.2807006835938], \"type\": \"scatter\"}, {\"name\": \"Spine\", \"x\": [1030.683349609375, 1095.2841796875], \"y\": [630.3129272460939, 736.3179931640626], \"type\": \"scatter\"}, {\"name\": \"RShoulder\", \"x\": [1030.683349609375, 998.2146606445312], \"y\": [630.3129272460939, 627.3707275390626], \"type\": \"scatter\"}, {\"name\": \"LShoulder\", \"x\": [1030.683349609375, 1071.8951416015623], \"y\": [630.3129272460939, 639.1582641601562], \"type\": \"scatter\"}, {\"name\": \"LArm\", \"x\": [1071.8951416015623, 1148.3798828125], \"y\": [639.1582641601562, 703.9981689453126], \"type\": \"scatter\"}, {\"name\": \"LForearm\", \"x\": [1148.3798828125, 1204.30029296875], \"y\": [703.9981689453126, 762.8447875976561], \"type\": \"scatter\"}, {\"name\": \"RHip\", \"x\": [1095.2841796875, 1068.812255859375], \"y\": [736.3179931640626, 730.4352416992186], \"type\": \"scatter\"}, {\"name\": \"RThigh\", \"x\": [1068.812255859375, 992.3792114257811], \"y\": [730.4352416992186, 806.8274536132812], \"type\": \"scatter\"}, {\"name\": \"RCalf\", \"x\": [992.3792114257811, 1045.3099365234377], \"y\": [806.8274536132812, 907.1729736328125], \"type\": \"scatter\"}, {\"name\": \"RFoot\", \"x\": [1045.3099365234377, 1001.3211059570312], \"y\": [907.1729736328125, 939.3499755859376], \"type\": \"scatter\"}, {\"name\": \"LHip\", \"x\": [1095.2841796875, 1119.0250244140623], \"y\": [736.3179931640626, 739.3173828125], \"type\": \"scatter\"}, {\"name\": \"LThigh\", \"x\": [1119.0250244140623, 1027.803955078125], \"y\": [739.3173828125, 815.7318725585939], \"type\": \"scatter\"}, {\"name\": \"LCalf\", \"x\": [1027.803955078125, 1092.4774169921875], \"y\": [815.7318725585939, 933.4784545898434], \"type\": \"scatter\"}, {\"name\": \"LFoot\", \"x\": [1092.4774169921875, 1048.2557373046877], \"y\": [933.4784545898434, 960.0625], \"type\": \"scatter\"}]}, {\"data\": [{\"name\": \"Neck\", \"x\": [980.6312866210936, 1033.5965576171875], \"y\": [571.48779296875, 624.5556030273438], \"type\": \"scatter\"}, {\"name\": \"REye\", \"x\": [980.6402587890625, 980.6312866210936], \"y\": [554.0016479492189, 571.48779296875], \"type\": \"scatter\"}, {\"name\": \"LEye\", \"x\": [998.2453613281249, 980.6312866210936], \"y\": [556.8409423828125, 571.48779296875], \"type\": \"scatter\"}, {\"name\": \"Spine\", \"x\": [1033.5965576171875, 1092.475341796875], \"y\": [624.5556030273438, 736.322998046875], \"type\": \"scatter\"}, {\"name\": \"RShoulder\", \"x\": [1033.5965576171875, 998.1876831054689], \"y\": [624.5556030273438, 621.5239868164064], \"type\": \"scatter\"}, {\"name\": \"RArm\", \"x\": [998.1876831054689, 924.700866699219], \"y\": [621.5239868164064, 645.1541748046875], \"type\": \"scatter\"}, {\"name\": \"RForearm\", \"x\": [924.700866699219, 880.6060791015627], \"y\": [645.1541748046875, 645.1282348632812], \"type\": \"scatter\"}, {\"name\": \"LShoulder\", \"x\": [1033.5965576171875, 1071.9935302734377], \"y\": [624.5556030273438, 633.2864379882814], \"type\": \"scatter\"}, {\"name\": \"LArm\", \"x\": [1071.9935302734377, 1142.3798828125], \"y\": [633.2864379882814, 715.7536010742188], \"type\": \"scatter\"}, {\"name\": \"LForearm\", \"x\": [1142.3798828125, 1183.7354736328125], \"y\": [715.7536010742188, 792.204345703125], \"type\": \"scatter\"}, {\"name\": \"RHip\", \"x\": [1092.475341796875, 1068.7742919921875], \"y\": [736.322998046875, 727.4763793945312], \"type\": \"scatter\"}, {\"name\": \"RThigh\", \"x\": [1068.7742919921875, 992.3372192382812], \"y\": [727.4763793945312, 806.8651733398436], \"type\": \"scatter\"}, {\"name\": \"RCalf\", \"x\": [992.3372192382812, 1045.3221435546877], \"y\": [806.8651733398436, 907.1480712890624], \"type\": \"scatter\"}, {\"name\": \"RFoot\", \"x\": [1045.3221435546877, 1001.3435668945312], \"y\": [907.1480712890624, 936.4313964843749], \"type\": \"scatter\"}, {\"name\": \"LHip\", \"x\": [1092.475341796875, 1118.8583984375], \"y\": [736.322998046875, 742.1153564453125], \"type\": \"scatter\"}, {\"name\": \"LThigh\", \"x\": [1118.8583984375, 1027.6976318359377], \"y\": [742.1153564453125, 815.8709106445312], \"type\": \"scatter\"}, {\"name\": \"LCalf\", \"x\": [1027.6976318359377, 1092.5122070312498], \"y\": [815.8709106445312, 933.4929809570312], \"type\": \"scatter\"}, {\"name\": \"LFoot\", \"x\": [1092.5122070312498, 1048.3387451171875], \"y\": [933.4929809570312, 962.9586791992189], \"type\": \"scatter\"}]}, {\"data\": [{\"name\": \"Neck\", \"x\": [992.3770141601562, 1045.3842773437502], \"y\": [556.859619140625, 624.5081176757812], \"type\": \"scatter\"}, {\"name\": \"REye\", \"x\": [995.2647094726561, 992.3770141601562], \"y\": [550.8671264648438, 556.859619140625], \"type\": \"scatter\"}, {\"name\": \"LEye\", \"x\": [1001.2738647460936, 992.3770141601562], \"y\": [551.008056640625, 556.859619140625], \"type\": \"scatter\"}, {\"name\": \"Spine\", \"x\": [1045.3842773437502, 1092.435546875], \"y\": [624.5081176757812, 736.331298828125], \"type\": \"scatter\"}, {\"name\": \"RShoulder\", \"x\": [1045.3842773437502, 1004.2711791992189], \"y\": [624.5081176757812, 621.625], \"type\": \"scatter\"}, {\"name\": \"RArm\", \"x\": [1004.2711791992189, 1024.8099365234377], \"y\": [621.625, 695.1011962890625], \"type\": \"scatter\"}, {\"name\": \"RForearm\", \"x\": [1024.8099365234377, 1030.6264648437502], \"y\": [695.1011962890625, 751.0198364257811], \"type\": \"scatter\"}, {\"name\": \"LShoulder\", \"x\": [1045.3842773437502, 1083.6508789062498], \"y\": [624.5081176757812, 627.439453125], \"type\": \"scatter\"}, {\"name\": \"LArm\", \"x\": [1083.6508789062498, 1124.8380126953123], \"y\": [627.439453125, 721.6202392578125], \"type\": \"scatter\"}, {\"name\": \"LForearm\", \"x\": [1124.8380126953123, 1160.0272216796877], \"y\": [721.6202392578125, 815.8853759765626], \"type\": \"scatter\"}, {\"name\": \"RHip\", \"x\": [1092.435546875, 1068.8121337890623], \"y\": [736.331298828125, 733.2991943359374], \"type\": \"scatter\"}, {\"name\": \"RThigh\", \"x\": [1068.8121337890623, 992.3037719726561], \"y\": [733.2991943359374, 806.8721313476561], \"type\": \"scatter\"}, {\"name\": \"RCalf\", \"x\": [992.3037719726561, 1045.3204345703123], \"y\": [806.8721313476561, 907.1719970703124], \"type\": \"scatter\"}, {\"name\": \"RFoot\", \"x\": [1045.3204345703123, 1004.1144409179688], \"y\": [907.1719970703124, 936.4675903320311], \"type\": \"scatter\"}, {\"name\": \"LHip\", \"x\": [1092.435546875, 1116.072509765625], \"y\": [736.331298828125, 739.34814453125], \"type\": \"scatter\"}, {\"name\": \"LThigh\", \"x\": [1116.072509765625, 1027.6871337890623], \"y\": [739.34814453125, 815.8486328125], \"type\": \"scatter\"}, {\"name\": \"LCalf\", \"x\": [1027.6871337890623, 1092.487548828125], \"y\": [815.8486328125, 933.4552001953124], \"type\": \"scatter\"}, {\"name\": \"LFoot\", \"x\": [1092.487548828125, 1048.3800048828125], \"y\": [933.4552001953124, 962.9120483398435], \"type\": \"scatter\"}]}, {\"data\": [{\"name\": \"Neck\", \"x\": [998.2986450195312, 1048.201904296875], \"y\": [550.8058471679688, 621.4139404296876], \"type\": \"scatter\"}, {\"name\": \"REye\", \"x\": [1001.0963745117188, 998.2986450195312], \"y\": [536.1624145507814, 550.8058471679688], \"type\": \"scatter\"}, {\"name\": \"LEye\", \"x\": [1012.9397583007811, 998.2986450195312], \"y\": [539.1423950195312, 550.8058471679688], \"type\": \"scatter\"}, {\"name\": \"Spine\", \"x\": [1048.201904296875, 1095.2877197265623], \"y\": [621.4139404296876, 739.1669311523436], \"type\": \"scatter\"}, {\"name\": \"RShoulder\", \"x\": [1048.201904296875, 1010.0787353515624], \"y\": [621.4139404296876, 621.3800659179688], \"type\": \"scatter\"}, {\"name\": \"RArm\", \"x\": [1010.0787353515624, 1007.138427734375], \"y\": [621.3800659179688, 695.0693359375001], \"type\": \"scatter\"}, {\"name\": \"RForearm\", \"x\": [1007.138427734375, 1001.2737426757811], \"y\": [695.0693359375001, 762.8363037109375], \"type\": \"scatter\"}, {\"name\": \"LShoulder\", \"x\": [1048.201904296875, 1089.4145507812498], \"y\": [621.4139404296876, 621.4490356445312], \"type\": \"scatter\"}, {\"name\": \"LArm\", \"x\": [1089.4145507812498, 1115.8876953125], \"y\": [621.4490356445312, 724.5296630859375], \"type\": \"scatter\"}, {\"name\": \"LForearm\", \"x\": [1115.8876953125, 1115.976318359375], \"y\": [724.5296630859375, 821.7084350585938], \"type\": \"scatter\"}, {\"name\": \"RHip\", \"x\": [1095.2877197265623, 1068.896728515625], \"y\": [739.1669311523436, 730.441467285156], \"type\": \"scatter\"}, {\"name\": \"RThigh\", \"x\": [1068.896728515625, 992.3045043945312], \"y\": [730.441467285156, 804.0145263671875], \"type\": \"scatter\"}, {\"name\": \"RCalf\", \"x\": [992.3045043945312, 1045.355224609375], \"y\": [804.0145263671875, 909.9853515625], \"type\": \"scatter\"}, {\"name\": \"RFoot\", \"x\": [1045.355224609375, 1004.1856689453124], \"y\": [909.9853515625, 939.3755493164062], \"type\": \"scatter\"}, {\"name\": \"LHip\", \"x\": [1095.2877197265623, 1118.9697265625], \"y\": [739.1669311523436, 742.2056274414061], \"type\": \"scatter\"}, {\"name\": \"LThigh\", \"x\": [1118.9697265625, 1024.8833007812498], \"y\": [742.2056274414061, 815.8684692382812], \"type\": \"scatter\"}, {\"name\": \"LCalf\", \"x\": [1024.8833007812498, 1092.478515625], \"y\": [815.8684692382812, 933.4644165039062], \"type\": \"scatter\"}, {\"name\": \"LFoot\", \"x\": [1092.478515625, 1048.422607421875], \"y\": [933.4644165039062, 960.0448608398436], \"type\": \"scatter\"}]}, {\"data\": [{\"name\": \"Neck\", \"x\": [1004.237060546875, 1051.208984375], \"y\": [544.96044921875, 615.6357421875], \"type\": \"scatter\"}, {\"name\": \"REye\", \"x\": [1004.2525634765624, 1004.237060546875], \"y\": [530.3506469726562, 544.96044921875], \"type\": \"scatter\"}, {\"name\": \"LEye\", \"x\": [1021.8563842773436, 1004.237060546875], \"y\": [530.367919921875, 544.96044921875], \"type\": \"scatter\"}, {\"name\": \"Spine\", \"x\": [1051.208984375, 1095.2880859375], \"y\": [615.6357421875, 733.3647460937501], \"type\": \"scatter\"}, {\"name\": \"RShoulder\", \"x\": [1051.208984375, 1018.7571411132812], \"y\": [615.6357421875, 618.5622558593751], \"type\": \"scatter\"}, {\"name\": \"RArm\", \"x\": [1018.7571411132812, 998.1459960937501], \"y\": [618.5622558593751, 695.2380981445314], \"type\": \"scatter\"}, {\"name\": \"RForearm\", \"x\": [998.1459960937501, 971.8226318359376], \"y\": [695.2380981445314, 777.5029907226561], \"type\": \"scatter\"}, {\"name\": \"LShoulder\", \"x\": [1051.208984375, 1092.4696044921875], \"y\": [615.6357421875, 615.5790405273438], \"type\": \"scatter\"}, {\"name\": \"LArm\", \"x\": [1092.4696044921875, 1095.4228515625], \"y\": [615.5790405273438, 718.5631103515625], \"type\": \"scatter\"}, {\"name\": \"LForearm\", \"x\": [1095.4228515625, 1086.489013671875], \"y\": [718.5631103515625, 789.1865234375], \"type\": \"scatter\"}, {\"name\": \"RHip\", \"x\": [1095.2880859375, 1068.7742919921875], \"y\": [733.3647460937501, 721.6877441406249], \"type\": \"scatter\"}, {\"name\": \"RThigh\", \"x\": [1068.7742919921875, 986.5262451171877], \"y\": [721.6877441406249, 806.8579101562499], \"type\": \"scatter\"}, {\"name\": \"RCalf\", \"x\": [986.5262451171877, 1045.3336181640623], \"y\": [806.8579101562499, 909.9189453124999], \"type\": \"scatter\"}, {\"name\": \"RFoot\", \"x\": [1045.3336181640623, 1004.1735229492189], \"y\": [909.9189453124999, 939.4223632812499], \"type\": \"scatter\"}, {\"name\": \"LHip\", \"x\": [1095.2880859375, 1121.8282470703123], \"y\": [733.3647460937501, 739.1937866210938], \"type\": \"scatter\"}, {\"name\": \"LThigh\", \"x\": [1121.8282470703123, 1033.5972900390623], \"y\": [739.1937866210938, 812.9197387695311], \"type\": \"scatter\"}, {\"name\": \"LCalf\", \"x\": [1033.5972900390623, 1092.5122070312498], \"y\": [812.9197387695311, 930.7329711914061], \"type\": \"scatter\"}, {\"name\": \"LFoot\", \"x\": [1092.5122070312498, 1048.392822265625], \"y\": [930.7329711914061, 962.9274291992189], \"type\": \"scatter\"}]}, {\"data\": [{\"name\": \"Neck\", \"x\": [1021.692626953125, 1057.1407470703123], \"y\": [530.4325561523438, 601.0777587890625], \"type\": \"scatter\"}, {\"name\": \"REye\", \"x\": [1021.8109741210936, 1021.692626953125], \"y\": [527.2589111328125, 530.4325561523438], \"type\": \"scatter\"}, {\"name\": \"LEye\", \"x\": [1027.8081054687502, 1021.692626953125], \"y\": [527.3206787109375, 530.4325561523438], \"type\": \"scatter\"}, {\"name\": \"Spine\", \"x\": [1057.1407470703123, 1095.4869384765623], \"y\": [601.0777587890625, 733.3004150390625], \"type\": \"scatter\"}, {\"name\": \"RShoulder\", \"x\": [1057.1407470703123, 1021.7960205078125], \"y\": [601.0777587890625, 603.8838500976562], \"type\": \"scatter\"}, {\"name\": \"RArm\", \"x\": [1021.7960205078125, 980.6397094726561], \"y\": [603.8838500976562, 686.2145385742188], \"type\": \"scatter\"}, {\"name\": \"RForearm\", \"x\": [980.6397094726561, 939.3811035156251], \"y\": [686.2145385742188, 756.8647460937501], \"type\": \"scatter\"}, {\"name\": \"LShoulder\", \"x\": [1057.1407470703123, 1095.4506835937502], \"y\": [601.0777587890625, 601.0764770507812], \"type\": \"scatter\"}, {\"name\": \"LArm\", \"x\": [1095.4506835937502, 1086.5415039062498], \"y\": [601.0764770507812, 706.9083862304689], \"type\": \"scatter\"}, {\"name\": \"LForearm\", \"x\": [1086.5415039062498, 1039.4791259765623], \"y\": [706.9083862304689, 768.7565307617188], \"type\": \"scatter\"}, {\"name\": \"RHip\", \"x\": [1095.4869384765623, 1071.9056396484377], \"y\": [733.3004150390625, 721.665771484375], \"type\": \"scatter\"}, {\"name\": \"RThigh\", \"x\": [1071.9056396484377, 998.1044311523436], \"y\": [721.665771484375, 806.9877929687501], \"type\": \"scatter\"}, {\"name\": \"RCalf\", \"x\": [998.1044311523436, 1045.4161376953123], \"y\": [806.9877929687501, 910.013916015625], \"type\": \"scatter\"}, {\"name\": \"RFoot\", \"x\": [1045.4161376953123, 1004.2105102539062], \"y\": [910.013916015625, 939.4461669921876], \"type\": \"scatter\"}, {\"name\": \"LHip\", \"x\": [1095.4869384765623, 1119.079345703125], \"y\": [733.3004150390625, 739.1218872070312], \"type\": \"scatter\"}, {\"name\": \"LThigh\", \"x\": [1119.079345703125, 1021.8533325195312], \"y\": [739.1218872070312, 812.9823608398438], \"type\": \"scatter\"}, {\"name\": \"LCalf\", \"x\": [1021.8533325195312, 1092.4498291015623], \"y\": [812.9823608398438, 933.4622192382812], \"type\": \"scatter\"}, {\"name\": \"LFoot\", \"x\": [1092.4498291015623, 1048.3392333984377], \"y\": [933.4622192382812, 962.919616699219], \"type\": \"scatter\"}]}, {\"data\": [{\"name\": \"Neck\", \"x\": [1027.6724853515623, 1066.0064697265623], \"y\": [527.1669311523438, 597.95166015625], \"type\": \"scatter\"}, {\"name\": \"REye\", \"x\": [1027.789794921875, 1027.6724853515623], \"y\": [509.7591857910156, 527.1669311523438], \"type\": \"scatter\"}, {\"name\": \"LEye\", \"x\": [1045.3588867187502, 1027.6724853515623], \"y\": [512.6771240234375, 527.1669311523438], \"type\": \"scatter\"}, {\"name\": \"Spine\", \"x\": [1066.0064697265623, 1095.3909912109377], \"y\": [597.95166015625, 721.6602783203124], \"type\": \"scatter\"}, {\"name\": \"RShoulder\", \"x\": [1066.0064697265623, 1024.8055419921875], \"y\": [597.95166015625, 597.9332275390626], \"type\": \"scatter\"}, {\"name\": \"RArm\", \"x\": [1024.8055419921875, 974.6623535156249], \"y\": [597.9332275390626, 651.0797729492189], \"type\": \"scatter\"}, {\"name\": \"RForearm\", \"x\": [974.6623535156249, 912.86767578125], \"y\": [651.0797729492189, 712.7701416015625], \"type\": \"scatter\"}, {\"name\": \"LShoulder\", \"x\": [1066.0064697265623, 1098.4007568359377], \"y\": [597.95166015625, 598.0404052734376], \"type\": \"scatter\"}, {\"name\": \"LArm\", \"x\": [1098.4007568359377, 1068.8032226562498], \"y\": [598.0404052734376, 689.1171875], \"type\": \"scatter\"}, {\"name\": \"LForearm\", \"x\": [1068.8032226562498, 992.4075927734376], \"y\": [689.1171875, 721.6383056640626], \"type\": \"scatter\"}, {\"name\": \"RHip\", \"x\": [1095.3909912109377, 1071.8494873046877], \"y\": [721.6602783203124, 718.6575317382811], \"type\": \"scatter\"}, {\"name\": \"RThigh\", \"x\": [1071.8494873046877, 992.365478515625], \"y\": [718.6575317382811, 806.9735107421875], \"type\": \"scatter\"}, {\"name\": \"RCalf\", \"x\": [992.365478515625, 1045.3841552734377], \"y\": [806.9735107421875, 909.9269409179688], \"type\": \"scatter\"}, {\"name\": \"RFoot\", \"x\": [1045.3841552734377, 1004.2554321289062], \"y\": [909.9269409179688, 936.507568359375], \"type\": \"scatter\"}, {\"name\": \"LHip\", \"x\": [1095.3909912109377, 1118.9813232421875], \"y\": [721.6602783203124, 733.3424072265626], \"type\": \"scatter\"}, {\"name\": \"LThigh\", \"x\": [1118.9813232421875, 1024.8548583984377], \"y\": [733.3424072265626, 818.6768188476561], \"type\": \"scatter\"}, {\"name\": \"LCalf\", \"x\": [1024.8548583984377, 1092.4593505859377], \"y\": [818.6768188476561, 933.4610595703124], \"type\": \"scatter\"}, {\"name\": \"LFoot\", \"x\": [1092.4593505859377, 1048.4154052734377], \"y\": [933.4610595703124, 962.9366455078125], \"type\": \"scatter\"}]}, {\"data\": [{\"name\": \"Neck\", \"x\": [1042.3541259765623, 1068.8211669921875], \"y\": [512.6159057617188, 586.2556152343751], \"type\": \"scatter\"}, {\"name\": \"REye\", \"x\": [1042.4591064453123, 1042.3541259765623], \"y\": [506.60571289062494, 512.6159057617188], \"type\": \"scatter\"}, {\"name\": \"LEye\", \"x\": [1051.2418212890623, 1042.3541259765623], \"y\": [506.71594238281244, 512.6159057617188], \"type\": \"scatter\"}, {\"name\": \"Spine\", \"x\": [1068.8211669921875, 1095.433349609375], \"y\": [586.2556152343751, 724.4929809570312], \"type\": \"scatter\"}, {\"name\": \"RShoulder\", \"x\": [1068.8211669921875, 1024.843994140625], \"y\": [586.2556152343751, 592.086669921875], \"type\": \"scatter\"}, {\"name\": \"RArm\", \"x\": [1024.843994140625, 957.1301269531251], \"y\": [592.086669921875, 633.25732421875], \"type\": \"scatter\"}, {\"name\": \"RForearm\", \"x\": [957.1301269531251, 889.3337402343751], \"y\": [633.25732421875, 659.7847900390625], \"type\": \"scatter\"}, {\"name\": \"LShoulder\", \"x\": [1068.8211669921875, 1101.3182373046877], \"y\": [586.2556152343751, 586.1929931640625], \"type\": \"scatter\"}, {\"name\": \"LArm\", \"x\": [1101.3182373046877, 1060.1046142578125], \"y\": [586.1929931640625, 650.95556640625], \"type\": \"scatter\"}, {\"name\": \"LForearm\", \"x\": [1060.1046142578125, 974.7540283203123], \"y\": [650.95556640625, 665.73046875], \"type\": \"scatter\"}, {\"name\": \"RHip\", \"x\": [1095.433349609375, 1071.8399658203123], \"y\": [724.4929809570312, 718.6300659179688], \"type\": \"scatter\"}, {\"name\": \"RThigh\", \"x\": [1071.8399658203123, 989.4608764648435], \"y\": [718.6300659179688, 809.7901000976562], \"type\": \"scatter\"}, {\"name\": \"RCalf\", \"x\": [989.4608764648435, 1045.4013671875], \"y\": [809.7901000976562, 909.9719848632812], \"type\": \"scatter\"}, {\"name\": \"RFoot\", \"x\": [1045.4013671875, 1007.0587768554688], \"y\": [909.9719848632812, 936.533264160156], \"type\": \"scatter\"}, {\"name\": \"LHip\", \"x\": [1095.433349609375, 1119.0316162109377], \"y\": [724.4929809570312, 736.200927734375], \"type\": \"scatter\"}, {\"name\": \"LThigh\", \"x\": [1119.0316162109377, 1024.8291015625], \"y\": [736.200927734375, 818.7294311523436], \"type\": \"scatter\"}, {\"name\": \"LCalf\", \"x\": [1024.8291015625, 1092.4344482421875], \"y\": [818.7294311523436, 930.7329101562499], \"type\": \"scatter\"}, {\"name\": \"LFoot\", \"x\": [1092.4344482421875, 1051.239990234375], \"y\": [930.7329101562499, 965.8600463867188], \"type\": \"scatter\"}]}, {\"data\": [{\"name\": \"Neck\", \"x\": [1048.3104248046877, 1071.919677734375], \"y\": [506.7068786621094, 574.4456176757812], \"type\": \"scatter\"}, {\"name\": \"REye\", \"x\": [1048.3983154296877, 1048.3104248046877], \"y\": [500.78854370117193, 506.7068786621094], \"type\": \"scatter\"}, {\"name\": \"LEye\", \"x\": [1065.977294921875, 1048.3104248046877], \"y\": [503.7392883300781, 506.7068786621094], \"type\": \"scatter\"}, {\"name\": \"Spine\", \"x\": [1071.919677734375, 1095.3955078125], \"y\": [574.4456176757812, 721.6941528320312], \"type\": \"scatter\"}, {\"name\": \"RShoulder\", \"x\": [1071.919677734375, 1042.3994140625], \"y\": [574.4456176757812, 574.42138671875], \"type\": \"scatter\"}, {\"name\": \"RArm\", \"x\": [1042.3994140625, 977.7229614257811], \"y\": [574.42138671875, 589.1933593750001], \"type\": \"scatter\"}, {\"name\": \"RForearm\", \"x\": [977.7229614257811, 892.3219604492186], \"y\": [589.1933593750001, 598.0948486328125], \"type\": \"scatter\"}, {\"name\": \"LShoulder\", \"x\": [1071.919677734375, 1110.0501708984377], \"y\": [574.4456176757812, 574.4762573242188], \"type\": \"scatter\"}, {\"name\": \"LArm\", \"x\": [1110.0501708984377, 1063.0394287109377], \"y\": [574.4762573242188, 618.4960327148438], \"type\": \"scatter\"}, {\"name\": \"LForearm\", \"x\": [1063.0394287109377, 962.9500732421876], \"y\": [618.4960327148438, 597.8493041992188], \"type\": \"scatter\"}, {\"name\": \"RHip\", \"x\": [1095.3955078125, 1071.8387451171875], \"y\": [721.6941528320312, 718.6798095703124], \"type\": \"scatter\"}, {\"name\": \"RThigh\", \"x\": [1071.8387451171875, 989.4690551757811], \"y\": [718.6798095703124, 809.828125], \"type\": \"scatter\"}, {\"name\": \"RCalf\", \"x\": [989.4690551757811, 1045.3609619140623], \"y\": [809.828125, 909.948974609375], \"type\": \"scatter\"}, {\"name\": \"RFoot\", \"x\": [1045.3609619140623, 1007.0474243164062], \"y\": [909.948974609375, 939.3472900390623], \"type\": \"scatter\"}, {\"name\": \"LHip\", \"x\": [1095.3955078125, 1118.9617919921875], \"y\": [721.6941528320312, 733.356201171875], \"type\": \"scatter\"}, {\"name\": \"LThigh\", \"x\": [1118.9617919921875, 1024.806396484375], \"y\": [733.356201171875, 818.7095336914062], \"type\": \"scatter\"}, {\"name\": \"LCalf\", \"x\": [1024.806396484375, 1092.374755859375], \"y\": [818.7095336914062, 933.4659423828124], \"type\": \"scatter\"}, {\"name\": \"LFoot\", \"x\": [1092.374755859375, 1048.323974609375], \"y\": [933.4659423828124, 965.8705444335935], \"type\": \"scatter\"}]}, {\"data\": [{\"name\": \"Neck\", \"x\": [1062.984375, 1074.8387451171875], \"y\": [497.9384460449219, 556.7826538085939], \"type\": \"scatter\"}, {\"name\": \"REye\", \"x\": [1065.895263671875, 1062.984375], \"y\": [486.1021118164063, 497.9384460449219], \"type\": \"scatter\"}, {\"name\": \"LEye\", \"x\": [1071.9744873046877, 1062.984375], \"y\": [489.05535888671875, 497.9384460449219], \"type\": \"scatter\"}, {\"name\": \"Spine\", \"x\": [1074.8387451171875, 1095.2774658203123], \"y\": [556.7826538085939, 718.6723022460939], \"type\": \"scatter\"}, {\"name\": \"RShoulder\", \"x\": [1074.8387451171875, 1042.373046875], \"y\": [556.7826538085939, 553.7594604492188], \"type\": \"scatter\"}, {\"name\": \"RArm\", \"x\": [1042.373046875, 965.8392944335935], \"y\": [553.7594604492188, 553.9658203125], \"type\": \"scatter\"}, {\"name\": \"RForearm\", \"x\": [965.8392944335935, 898.1607055664062], \"y\": [553.9658203125, 533.3333740234375], \"type\": \"scatter\"}, {\"name\": \"LShoulder\", \"x\": [1074.8387451171875, 1115.9854736328125], \"y\": [556.7826538085939, 559.750244140625], \"type\": \"scatter\"}, {\"name\": \"LArm\", \"x\": [1115.9854736328125, 1077.7630615234377], \"y\": [559.750244140625, 580.3655395507814], \"type\": \"scatter\"}, {\"name\": \"LForearm\", \"x\": [1077.7630615234377, 974.6126708984377], \"y\": [580.3655395507814, 515.5608520507812], \"type\": \"scatter\"}, {\"name\": \"RHip\", \"x\": [1095.2774658203123, 1071.7338867187502], \"y\": [718.6723022460939, 715.7125244140625], \"type\": \"scatter\"}, {\"name\": \"RThigh\", \"x\": [1071.7338867187502, 989.4432373046876], \"y\": [715.7125244140625, 809.7418823242188], \"type\": \"scatter\"}, {\"name\": \"RCalf\", \"x\": [989.4432373046876, 1045.389404296875], \"y\": [809.7418823242188, 910.0214843750001], \"type\": \"scatter\"}, {\"name\": \"RFoot\", \"x\": [1045.389404296875, 1004.2561645507811], \"y\": [910.0214843750001, 936.5147705078125], \"type\": \"scatter\"}, {\"name\": \"LHip\", \"x\": [1095.2774658203123, 1118.8316650390623], \"y\": [718.6723022460939, 724.557373046875], \"type\": \"scatter\"}, {\"name\": \"LThigh\", \"x\": [1118.8316650390623, 1024.8193359375], \"y\": [724.557373046875, 818.7068481445312], \"type\": \"scatter\"}, {\"name\": \"LCalf\", \"x\": [1024.8193359375, 1092.4285888671875], \"y\": [818.7068481445312, 933.4627685546877], \"type\": \"scatter\"}, {\"name\": \"LFoot\", \"x\": [1092.4285888671875, 1048.393798828125], \"y\": [933.4627685546877, 963.0008544921875], \"type\": \"scatter\"}]}, {\"data\": [{\"name\": \"Neck\", \"x\": [1068.953125, 1074.7979736328125], \"y\": [483.29919433593756, 550.7388305664064], \"type\": \"scatter\"}, {\"name\": \"REye\", \"x\": [1071.780029296875, 1068.953125], \"y\": [480.22781372070307, 483.29919433593756], \"type\": \"scatter\"}, {\"name\": \"LEye\", \"x\": [1083.6534423828125, 1068.953125], \"y\": [483.1177673339844, 483.29919433593756], \"type\": \"scatter\"}, {\"name\": \"Spine\", \"x\": [1074.7979736328125, 1092.447265625], \"y\": [550.7388305664064, 715.6314697265624], \"type\": \"scatter\"}, {\"name\": \"RShoulder\", \"x\": [1074.7979736328125, 1042.343505859375], \"y\": [550.7388305664064, 545.0266113281249], \"type\": \"scatter\"}, {\"name\": \"RArm\", \"x\": [1042.343505859375, 971.7801513671875], \"y\": [545.0266113281249, 527.174560546875], \"type\": \"scatter\"}, {\"name\": \"RForearm\", \"x\": [971.7801513671875, 909.9672851562498], \"y\": [527.174560546875, 477.3360900878905], \"type\": \"scatter\"}, {\"name\": \"LShoulder\", \"x\": [1074.7979736328125, 1115.9731445312498], \"y\": [550.7388305664064, 553.7222290039062], \"type\": \"scatter\"}, {\"name\": \"LArm\", \"x\": [1115.9731445312498, 1071.7567138671875], \"y\": [553.7222290039062, 530.4065551757812], \"type\": \"scatter\"}, {\"name\": \"LForearm\", \"x\": [1071.7567138671875, 995.3684692382812], \"y\": [530.4065551757812, 456.5981750488281], \"type\": \"scatter\"}, {\"name\": \"RHip\", \"x\": [1092.447265625, 1068.8793945312498], \"y\": [715.6314697265624, 709.7628173828125], \"type\": \"scatter\"}, {\"name\": \"RThigh\", \"x\": [1068.8793945312498, 989.4155273437501], \"y\": [709.7628173828125, 809.7818603515625], \"type\": \"scatter\"}, {\"name\": \"RCalf\", \"x\": [989.4155273437501, 1045.344970703125], \"y\": [809.7818603515625, 910.0202636718751], \"type\": \"scatter\"}, {\"name\": \"RFoot\", \"x\": [1045.344970703125, 1004.2588500976561], \"y\": [910.0202636718751, 939.3978271484377], \"type\": \"scatter\"}, {\"name\": \"LHip\", \"x\": [1092.447265625, 1116.003173828125], \"y\": [715.6314697265624, 718.71142578125], \"type\": \"scatter\"}, {\"name\": \"LThigh\", \"x\": [1116.003173828125, 1024.8056640625], \"y\": [718.71142578125, 815.8348999023436], \"type\": \"scatter\"}, {\"name\": \"LCalf\", \"x\": [1024.8056640625, 1092.3699951171875], \"y\": [815.8348999023436, 930.7295532226562], \"type\": \"scatter\"}, {\"name\": \"LFoot\", \"x\": [1092.3699951171875, 1048.392578125], \"y\": [930.7295532226562, 962.9472656249999], \"type\": \"scatter\"}]}, {\"data\": [{\"name\": \"Neck\", \"x\": [1077.7758789062498, 1083.6016845703123], \"y\": [480.13183593750006, 536.1770629882812], \"type\": \"scatter\"}, {\"name\": \"LEye\", \"x\": [1095.282958984375, 1077.7758789062498], \"y\": [474.3542785644532, 480.13183593750006], \"type\": \"scatter\"}, {\"name\": \"Spine\", \"x\": [1083.6016845703123, 1089.418701171875], \"y\": [536.1770629882812, 712.7095947265624], \"type\": \"scatter\"}, {\"name\": \"RShoulder\", \"x\": [1083.6016845703123, 1048.2056884765623], \"y\": [536.1770629882812, 530.3623657226562], \"type\": \"scatter\"}, {\"name\": \"RArm\", \"x\": [1048.2056884765623, 977.6162719726561], \"y\": [530.3623657226562, 486.1489868164063], \"type\": \"scatter\"}, {\"name\": \"RForearm\", \"x\": [977.6162719726561, 930.6782226562499], \"y\": [486.1489868164063, 412.5862121582031], \"type\": \"scatter\"}, {\"name\": \"LShoulder\", \"x\": [1083.6016845703123, 1116.0590820312498], \"y\": [536.1770629882812, 545.01123046875], \"type\": \"scatter\"}, {\"name\": \"LArm\", \"x\": [1116.0590820312498, 1077.6982421875], \"y\": [545.01123046875, 480.2587585449218], \"type\": \"scatter\"}, {\"name\": \"LForearm\", \"x\": [1077.6982421875, 1024.7553710937502], \"y\": [480.2587585449218, 394.85260009765625], \"type\": \"scatter\"}, {\"name\": \"RHip\", \"x\": [1089.418701171875, 1063.009033203125], \"y\": [712.7095947265624, 701.0309448242188], \"type\": \"scatter\"}, {\"name\": \"RThigh\", \"x\": [1063.009033203125, 986.5376586914062], \"y\": [701.0309448242188, 809.7294921875], \"type\": \"scatter\"}, {\"name\": \"RCalf\", \"x\": [986.5376586914062, 1045.3334960937502], \"y\": [809.7294921875, 910.0105590820312], \"type\": \"scatter\"}, {\"name\": \"RFoot\", \"x\": [1045.3334960937502, 1004.19921875], \"y\": [910.0105590820312, 939.4008178710935], \"type\": \"scatter\"}, {\"name\": \"LHip\", \"x\": [1089.418701171875, 1113.0483398437502], \"y\": [712.7095947265624, 715.7969970703125], \"type\": \"scatter\"}, {\"name\": \"LThigh\", \"x\": [1113.0483398437502, 1024.7874755859377], \"y\": [715.7969970703125, 815.759521484375], \"type\": \"scatter\"}, {\"name\": \"LCalf\", \"x\": [1024.7874755859377, 1092.381591796875], \"y\": [815.759521484375, 930.7205810546876], \"type\": \"scatter\"}, {\"name\": \"LFoot\", \"x\": [1092.381591796875, 1048.4334716796877], \"y\": [930.7205810546876, 965.865478515625], \"type\": \"scatter\"}]}, {\"data\": [{\"name\": \"Neck\", \"x\": [1086.527587890625, 1092.3177490234377], \"y\": [462.57415771484375, 527.24951171875], \"type\": \"scatter\"}, {\"name\": \"REye\", \"x\": [1092.2690429687502, 1086.527587890625], \"y\": [459.64819335937506, 462.57415771484375], \"type\": \"scatter\"}, {\"name\": \"LEye\", \"x\": [1095.4674072265623, 1086.527587890625], \"y\": [459.5814819335937, 462.57415771484375], \"type\": \"scatter\"}, {\"name\": \"Spine\", \"x\": [1092.3177490234377, 1083.6221923828125], \"y\": [527.24951171875, 698.046875], \"type\": \"scatter\"}, {\"name\": \"RShoulder\", \"x\": [1092.3177490234377, 1054.1837158203123], \"y\": [527.24951171875, 524.3323364257812], \"type\": \"scatter\"}, {\"name\": \"RArm\", \"x\": [1054.1837158203123, 998.1608276367188], \"y\": [524.3323364257812, 456.658935546875], \"type\": \"scatter\"}, {\"name\": \"RForearm\", \"x\": [998.1608276367188, 971.7584838867188], \"y\": [456.658935546875, 383.09140014648443], \"type\": \"scatter\"}, {\"name\": \"LShoulder\", \"x\": [1092.3177490234377, 1118.8912353515623], \"y\": [527.24951171875, 527.4034423828125], \"type\": \"scatter\"}, {\"name\": \"LArm\", \"x\": [1118.8912353515623, 1095.5142822265623], \"y\": [527.4034423828125, 433.0657653808594], \"type\": \"scatter\"}, {\"name\": \"LForearm\", \"x\": [1095.5142822265623, 1054.1612548828125], \"y\": [433.0657653808594, 356.5765075683594], \"type\": \"scatter\"}, {\"name\": \"RHip\", \"x\": [1083.6221923828125, 1057.1593017578125], \"y\": [698.046875, 695.1071166992189], \"type\": \"scatter\"}, {\"name\": \"RThigh\", \"x\": [1057.1593017578125, 983.6074829101561], \"y\": [695.1071166992189, 804.025695800781], \"type\": \"scatter\"}, {\"name\": \"RCalf\", \"x\": [983.6074829101561, 1045.2861328125], \"y\": [804.025695800781, 907.1402587890625], \"type\": \"scatter\"}, {\"name\": \"RFoot\", \"x\": [1045.2861328125, 1004.1719970703124], \"y\": [907.1402587890625, 939.419677734375], \"type\": \"scatter\"}, {\"name\": \"LHip\", \"x\": [1083.6221923828125, 1110.0927734375], \"y\": [698.046875, 703.9935913085938], \"type\": \"scatter\"}, {\"name\": \"LThigh\", \"x\": [1110.0927734375, 1024.8175048828125], \"y\": [703.9935913085938, 812.9393310546874], \"type\": \"scatter\"}, {\"name\": \"LCalf\", \"x\": [1024.8175048828125, 1092.3597412109377], \"y\": [812.9393310546874, 930.685546875], \"type\": \"scatter\"}, {\"name\": \"LFoot\", \"x\": [1092.3597412109377, 1048.341796875], \"y\": [930.685546875, 965.8862915039064], \"type\": \"scatter\"}]}, {\"data\": [{\"name\": \"Neck\", \"x\": [1092.518798828125, 1095.2802734375], \"y\": [450.85952758789057, 503.90576171875], \"type\": \"scatter\"}, {\"name\": \"REye\", \"x\": [1092.4544677734377, 1092.518798828125], \"y\": [447.87786865234375, 450.85952758789057], \"type\": \"scatter\"}, {\"name\": \"LEye\", \"x\": [1107.1544189453123, 1092.518798828125], \"y\": [442.0529479980468, 450.85952758789057], \"type\": \"scatter\"}, {\"name\": \"Spine\", \"x\": [1095.2802734375, 1074.8060302734377], \"y\": [503.90576171875, 692.0960693359375], \"type\": \"scatter\"}, {\"name\": \"RShoulder\", \"x\": [1095.2802734375, 1063.033203125], \"y\": [503.90576171875, 503.6833190917969], \"type\": \"scatter\"}, {\"name\": \"RArm\", \"x\": [1063.033203125, 1015.8583984375], \"y\": [503.6833190917969, 421.3815002441406], \"type\": \"scatter\"}, {\"name\": \"RForearm\", \"x\": [1015.8583984375, 998.3654174804686], \"y\": [421.3815002441406, 341.97161865234375], \"type\": \"scatter\"}, {\"name\": \"LShoulder\", \"x\": [1095.2802734375, 1124.8380126953123], \"y\": [503.90576171875, 506.8528442382813], \"type\": \"scatter\"}, {\"name\": \"LArm\", \"x\": [1124.8380126953123, 1121.924560546875], \"y\": [506.8528442382813, 412.6282043457031], \"type\": \"scatter\"}, {\"name\": \"LForearm\", \"x\": [1121.924560546875, 1092.4844970703123], \"y\": [412.6282043457031, 321.40954589843756], \"type\": \"scatter\"}, {\"name\": \"RHip\", \"x\": [1074.8060302734377, 1051.205078125], \"y\": [692.0960693359375, 689.1304931640625], \"type\": \"scatter\"}, {\"name\": \"RThigh\", \"x\": [1051.205078125, 983.498046875], \"y\": [689.1304931640625, 798.1050415039062], \"type\": \"scatter\"}, {\"name\": \"RCalf\", \"x\": [983.498046875, 1045.180419921875], \"y\": [798.1050415039062, 906.94482421875], \"type\": \"scatter\"}, {\"name\": \"RFoot\", \"x\": [1045.180419921875, 1001.3526000976561], \"y\": [906.94482421875, 939.4185791015625], \"type\": \"scatter\"}, {\"name\": \"LHip\", \"x\": [1074.8060302734377, 1098.3961181640623], \"y\": [692.0960693359375, 695.0711059570314], \"type\": \"scatter\"}, {\"name\": \"LThigh\", \"x\": [1098.3961181640623, 1024.7423095703123], \"y\": [695.0711059570314, 812.7473754882814], \"type\": \"scatter\"}, {\"name\": \"LCalf\", \"x\": [1024.7423095703123, 1092.3374023437502], \"y\": [812.7473754882814, 930.5974731445311], \"type\": \"scatter\"}, {\"name\": \"LFoot\", \"x\": [1092.3374023437502, 1048.4428710937502], \"y\": [930.5974731445311, 968.8068847656249], \"type\": \"scatter\"}]}, {\"data\": [{\"name\": \"Neck\", \"x\": [1107.2091064453123, 1101.3233642578125], \"y\": [436.2345581054688, 486.08880615234375], \"type\": \"scatter\"}, {\"name\": \"REye\", \"x\": [1107.1173095703123, 1107.2091064453123], \"y\": [433.2524719238281, 436.2345581054688], \"type\": \"scatter\"}, {\"name\": \"LEye\", \"x\": [1118.8422851562498, 1107.2091064453123], \"y\": [436.0500793457031, 436.2345581054688], \"type\": \"scatter\"}, {\"name\": \"Spine\", \"x\": [1101.3233642578125, 1071.7205810546877], \"y\": [486.08880615234375, 671.5408935546875], \"type\": \"scatter\"}, {\"name\": \"RShoulder\", \"x\": [1101.3233642578125, 1069.01171875], \"y\": [486.08880615234375, 480.2774047851562], \"type\": \"scatter\"}, {\"name\": \"RArm\", \"x\": [1069.01171875, 1039.4244384765623], \"y\": [480.2774047851562, 409.6419982910156], \"type\": \"scatter\"}, {\"name\": \"RForearm\", \"x\": [1039.4244384765623, 1024.8134765625], \"y\": [409.6419982910156, 321.376953125], \"type\": \"scatter\"}, {\"name\": \"LShoulder\", \"x\": [1101.3233642578125, 1139.442626953125], \"y\": [486.08880615234375, 494.96682739257807], \"type\": \"scatter\"}, {\"name\": \"LArm\", \"x\": [1139.442626953125, 1145.40966796875], \"y\": [494.96682739257807, 391.98425292968756], \"type\": \"scatter\"}, {\"name\": \"LForearm\", \"x\": [1145.40966796875, 1121.875244140625], \"y\": [391.98425292968756, 309.51797485351557], \"type\": \"scatter\"}, {\"name\": \"RHip\", \"x\": [1071.7205810546877, 1045.4295654296877], \"y\": [671.5408935546875, 668.6103515625], \"type\": \"scatter\"}, {\"name\": \"RThigh\", \"x\": [1045.4295654296877, 980.6867065429689], \"y\": [668.6103515625, 789.1831665039062], \"type\": \"scatter\"}, {\"name\": \"RCalf\", \"x\": [980.6867065429689, 1045.197021484375], \"y\": [789.1831665039062, 904.0560913085936], \"type\": \"scatter\"}, {\"name\": \"RFoot\", \"x\": [1045.197021484375, 1001.3489990234376], \"y\": [904.0560913085936, 939.3856811523436], \"type\": \"scatter\"}, {\"name\": \"LHip\", \"x\": [1071.7205810546877, 1095.350830078125], \"y\": [671.5408935546875, 674.5846557617188], \"type\": \"scatter\"}, {\"name\": \"LThigh\", \"x\": [1095.350830078125, 1024.900390625], \"y\": [674.5846557617188, 806.9797973632812], \"type\": \"scatter\"}, {\"name\": \"LCalf\", \"x\": [1024.900390625, 1089.5225830078125], \"y\": [806.9797973632812, 927.7039794921875], \"type\": \"scatter\"}, {\"name\": \"LFoot\", \"x\": [1089.5225830078125, 1051.2606201171875], \"y\": [927.7039794921875, 968.8162231445311], \"type\": \"scatter\"}]}, {\"data\": [{\"name\": \"Neck\", \"x\": [1116.0390625, 1116.0115966796877], \"y\": [427.28787231445307, 468.50372314453125], \"type\": \"scatter\"}, {\"name\": \"REye\", \"x\": [1113.0648193359377, 1116.0390625], \"y\": [415.5841979980468, 427.28787231445307], \"type\": \"scatter\"}, {\"name\": \"LEye\", \"x\": [1133.59228515625, 1116.0390625], \"y\": [421.35897827148443, 427.28787231445307], \"type\": \"scatter\"}, {\"name\": \"Spine\", \"x\": [1116.0115966796877, 1068.7725830078125], \"y\": [468.50372314453125, 650.9999389648438], \"type\": \"scatter\"}, {\"name\": \"RShoulder\", \"x\": [1116.0115966796877, 1080.712890625], \"y\": [468.50372314453125, 459.77883911132807], \"type\": \"scatter\"}, {\"name\": \"RArm\", \"x\": [1080.712890625, 1048.4594726562498], \"y\": [459.77883911132807, 397.7887573242188], \"type\": \"scatter\"}, {\"name\": \"RForearm\", \"x\": [1048.4594726562498, 1048.394287109375], \"y\": [397.7887573242188, 318.3099365234375], \"type\": \"scatter\"}, {\"name\": \"LShoulder\", \"x\": [1116.0115966796877, 1142.634521484375], \"y\": [468.50372314453125, 480.1144714355468], \"type\": \"scatter\"}, {\"name\": \"LArm\", \"x\": [1142.634521484375, 1168.9932861328125], \"y\": [480.1144714355468, 368.486572265625], \"type\": \"scatter\"}, {\"name\": \"LForearm\", \"x\": [1168.9932861328125, 1157.2227783203123], \"y\": [368.486572265625, 294.74417114257807], \"type\": \"scatter\"}, {\"name\": \"RHip\", \"x\": [1068.7725830078125, 1042.3707275390623], \"y\": [650.9999389648438, 647.9549560546875], \"type\": \"scatter\"}, {\"name\": \"RThigh\", \"x\": [1042.3707275390623, 983.5711059570311], \"y\": [647.9549560546875, 780.4439086914062], \"type\": \"scatter\"}, {\"name\": \"RCalf\", \"x\": [983.5711059570311, 1042.341796875], \"y\": [780.4439086914062, 901.032470703125], \"type\": \"scatter\"}, {\"name\": \"RFoot\", \"x\": [1042.341796875, 1007.067626953125], \"y\": [901.032470703125, 942.2960205078125], \"type\": \"scatter\"}, {\"name\": \"LHip\", \"x\": [1068.7725830078125, 1092.3797607421875], \"y\": [650.9999389648438, 662.6815185546875], \"type\": \"scatter\"}, {\"name\": \"LThigh\", \"x\": [1092.3797607421875, 1027.7926025390623], \"y\": [662.6815185546875, 792.2509765625], \"type\": \"scatter\"}, {\"name\": \"LCalf\", \"x\": [1027.7926025390623, 1089.419189453125], \"y\": [792.2509765625, 924.6276855468751], \"type\": \"scatter\"}, {\"name\": \"LFoot\", \"x\": [1089.419189453125, 1048.3917236328125], \"y\": [924.6276855468751, 968.8369140625], \"type\": \"scatter\"}]}, {\"data\": [{\"name\": \"Neck\", \"x\": [1139.54248046875, 1124.7886962890623], \"y\": [412.5661315917968, 459.6583862304688], \"type\": \"scatter\"}, {\"name\": \"REye\", \"x\": [1139.5355224609375, 1139.54248046875], \"y\": [409.56494140625, 412.5661315917968], \"type\": \"scatter\"}, {\"name\": \"LEye\", \"x\": [1151.3043212890625, 1139.54248046875], \"y\": [412.5130920410156, 412.5661315917968], \"type\": \"scatter\"}, {\"name\": \"Spine\", \"x\": [1124.7886962890623, 1051.3392333984377], \"y\": [459.6583862304688, 633.3323364257812], \"type\": \"scatter\"}, {\"name\": \"RShoulder\", \"x\": [1124.7886962890623, 1095.2730712890623], \"y\": [459.6583862304688, 453.769775390625], \"type\": \"scatter\"}, {\"name\": \"RArm\", \"x\": [1095.2730712890623, 1068.8969726562498], \"y\": [453.769775390625, 386.1584167480469], \"type\": \"scatter\"}, {\"name\": \"RForearm\", \"x\": [1068.8969726562498, 1071.8125], \"y\": [386.1584167480469, 315.32958984375], \"type\": \"scatter\"}, {\"name\": \"LShoulder\", \"x\": [1124.7886962890623, 1160.1435546875], \"y\": [459.6583862304688, 471.39797973632807], \"type\": \"scatter\"}, {\"name\": \"LArm\", \"x\": [1160.1435546875, 1192.475341796875], \"y\": [471.39797973632807, 365.4665832519531], \"type\": \"scatter\"}, {\"name\": \"LForearm\", \"x\": [1192.475341796875, 1186.4853515625002], \"y\": [365.4665832519531, 291.9963073730469], \"type\": \"scatter\"}, {\"name\": \"RHip\", \"x\": [1051.3392333984377, 1027.713134765625], \"y\": [633.3323364257812, 624.5477905273438], \"type\": \"scatter\"}, {\"name\": \"RThigh\", \"x\": [1027.713134765625, 983.6236572265624], \"y\": [624.5477905273438, 762.8802490234374], \"type\": \"scatter\"}, {\"name\": \"RCalf\", \"x\": [983.6236572265624, 1030.6987304687502], \"y\": [762.8802490234374, 886.4027709960938], \"type\": \"scatter\"}, {\"name\": \"RFoot\", \"x\": [1030.6987304687502, 1007.0521850585936], \"y\": [886.4027709960938, 939.39794921875], \"type\": \"scatter\"}, {\"name\": \"LHip\", \"x\": [1051.3392333984377, 1077.7646484375], \"y\": [633.3323364257812, 644.97509765625], \"type\": \"scatter\"}, {\"name\": \"LThigh\", \"x\": [1077.7646484375, 1033.5389404296877], \"y\": [644.97509765625, 777.5283203125], \"type\": \"scatter\"}, {\"name\": \"LCalf\", \"x\": [1033.5389404296877, 1077.7347412109377], \"y\": [777.5283203125, 907.069580078125], \"type\": \"scatter\"}, {\"name\": \"LFoot\", \"x\": [1077.7347412109377, 1051.2540283203123], \"y\": [907.069580078125, 960.0372314453123], \"type\": \"scatter\"}]}, {\"data\": [{\"name\": \"Neck\", \"x\": [1154.24072265625, 1136.6175537109375], \"y\": [409.47216796875006, 456.61834716796875], \"type\": \"scatter\"}, {\"name\": \"REye\", \"x\": [1154.2607421875, 1154.24072265625], \"y\": [400.7573852539063, 409.47216796875006], \"type\": \"scatter\"}, {\"name\": \"LEye\", \"x\": [1166.0125732421875, 1154.24072265625], \"y\": [409.48828125, 409.47216796875006], \"type\": \"scatter\"}, {\"name\": \"Spine\", \"x\": [1136.6175537109375, 1048.3992919921875], \"y\": [456.61834716796875, 612.6487426757812], \"type\": \"scatter\"}, {\"name\": \"RShoulder\", \"x\": [1136.6175537109375, 1098.334716796875], \"y\": [456.61834716796875, 439.0623474121094], \"type\": \"scatter\"}, {\"name\": \"RArm\", \"x\": [1098.334716796875, 1077.6968994140623], \"y\": [439.0623474121094, 383.0926513671875], \"type\": \"scatter\"}, {\"name\": \"RForearm\", \"x\": [1077.6968994140623, 1089.5430908203123], \"y\": [383.0926513671875, 309.52569580078125], \"type\": \"scatter\"}, {\"name\": \"LShoulder\", \"x\": [1136.6175537109375, 1166.1065673828125], \"y\": [456.61834716796875, 462.59960937499994], \"type\": \"scatter\"}, {\"name\": \"LArm\", \"x\": [1166.1065673828125, 1213.0681152343752], \"y\": [462.59960937499994, 362.607421875], \"type\": \"scatter\"}, {\"name\": \"LForearm\", \"x\": [1213.0681152343752, 1210.021728515625], \"y\": [362.607421875, 294.783935546875], \"type\": \"scatter\"}, {\"name\": \"RHip\", \"x\": [1048.3992919921875, 1024.8800048828125], \"y\": [612.6487426757812, 601.0372314453125], \"type\": \"scatter\"}, {\"name\": \"RThigh\", \"x\": [1024.8800048828125, 980.6733398437501], \"y\": [601.0372314453125, 745.2371215820312], \"type\": \"scatter\"}, {\"name\": \"RCalf\", \"x\": [980.6733398437501, 1024.7495117187502], \"y\": [745.2371215820312, 880.5094604492186], \"type\": \"scatter\"}, {\"name\": \"RFoot\", \"x\": [1024.7495117187502, 1004.2036132812499], \"y\": [880.5094604492186, 939.4044189453124], \"type\": \"scatter\"}, {\"name\": \"LHip\", \"x\": [1048.3992919921875, 1071.968017578125], \"y\": [612.6487426757812, 621.4624633789064], \"type\": \"scatter\"}, {\"name\": \"LThigh\", \"x\": [1071.968017578125, 1027.6827392578125], \"y\": [621.4624633789064, 759.7669677734374], \"type\": \"scatter\"}, {\"name\": \"LCalf\", \"x\": [1027.6827392578125, 1071.734619140625], \"y\": [759.7669677734374, 898.2365112304686], \"type\": \"scatter\"}, {\"name\": \"LFoot\", \"x\": [1071.734619140625, 1048.296630859375], \"y\": [898.2365112304686, 957.0162963867188], \"type\": \"scatter\"}]}, {\"data\": [{\"name\": \"Neck\", \"x\": [1163.08447265625, 1139.5587158203123], \"y\": [406.68807983398443, 450.7921447753906], \"type\": \"scatter\"}, {\"name\": \"REye\", \"x\": [1163.028076171875, 1163.08447265625], \"y\": [394.95333862304693, 406.68807983398443], \"type\": \"scatter\"}, {\"name\": \"LEye\", \"x\": [1174.894287109375, 1163.08447265625], \"y\": [406.69772338867193, 406.68807983398443], \"type\": \"scatter\"}, {\"name\": \"Spine\", \"x\": [1139.5587158203123, 1048.219482421875], \"y\": [450.7921447753906, 592.0664672851562], \"type\": \"scatter\"}, {\"name\": \"RShoulder\", \"x\": [1139.5587158203123, 1101.2977294921875], \"y\": [450.7921447753906, 436.13827514648443], \"type\": \"scatter\"}, {\"name\": \"RArm\", \"x\": [1101.2977294921875, 1089.430908203125], \"y\": [436.13827514648443, 380.1357116699218], \"type\": \"scatter\"}, {\"name\": \"RForearm\", \"x\": [1089.430908203125, 1095.5289306640623], \"y\": [380.1357116699218, 309.54275512695307], \"type\": \"scatter\"}, {\"name\": \"LShoulder\", \"x\": [1139.5587158203123, 1171.8887939453123], \"y\": [450.7921447753906, 459.6266174316406], \"type\": \"scatter\"}, {\"name\": \"LArm\", \"x\": [1171.8887939453123, 1230.6695556640625], \"y\": [459.6266174316406, 362.42041015625], \"type\": \"scatter\"}, {\"name\": \"LForearm\", \"x\": [1230.6695556640625, 1230.6632080078127], \"y\": [362.42041015625, 294.8039245605469], \"type\": \"scatter\"}, {\"name\": \"RHip\", \"x\": [1048.219482421875, 1024.783935546875], \"y\": [592.0664672851562, 580.4093017578125], \"type\": \"scatter\"}, {\"name\": \"RThigh\", \"x\": [1024.783935546875, 977.7810058593751], \"y\": [580.4093017578125, 727.431396484375], \"type\": \"scatter\"}, {\"name\": \"RCalf\", \"x\": [977.7810058593751, 1018.8963623046876], \"y\": [727.431396484375, 859.9522094726561], \"type\": \"scatter\"}, {\"name\": \"RFoot\", \"x\": [1018.8963623046876, 1007.0955200195312], \"y\": [859.9522094726561, 924.6864013671875], \"type\": \"scatter\"}, {\"name\": \"LHip\", \"x\": [1048.219482421875, 1071.7403564453123], \"y\": [592.0664672851562, 598.0066528320312], \"type\": \"scatter\"}, {\"name\": \"LThigh\", \"x\": [1071.7403564453123, 1021.8546142578125], \"y\": [598.0066528320312, 736.2764892578125], \"type\": \"scatter\"}, {\"name\": \"LCalf\", \"x\": [1021.8546142578125, 1065.9975585937502], \"y\": [736.2764892578125, 877.6400146484375], \"type\": \"scatter\"}, {\"name\": \"LFoot\", \"x\": [1065.9975585937502, 1045.4013671875], \"y\": [877.6400146484375, 933.5194091796877], \"type\": \"scatter\"}]}, {\"data\": [{\"name\": \"Neck\", \"x\": [1168.9530029296875, 1151.2945556640625], \"y\": [400.7989196777344, 436.2638549804688], \"type\": \"scatter\"}, {\"name\": \"REye\", \"x\": [1163.0130615234375, 1168.9530029296875], \"y\": [389.08020019531256, 400.7989196777344], \"type\": \"scatter\"}, {\"name\": \"LEye\", \"x\": [1186.5111083984375, 1168.9530029296875], \"y\": [394.8943176269531, 400.7989196777344], \"type\": \"scatter\"}, {\"name\": \"Spine\", \"x\": [1151.2945556640625, 1048.2210693359377], \"y\": [436.2638549804688, 574.4755249023438], \"type\": \"scatter\"}, {\"name\": \"RShoulder\", \"x\": [1151.2945556640625, 1115.9068603515623], \"y\": [436.2638549804688, 433.2187805175781], \"type\": \"scatter\"}, {\"name\": \"RArm\", \"x\": [1115.9068603515623, 1092.322021484375], \"y\": [433.2187805175781, 380.0964660644531], \"type\": \"scatter\"}, {\"name\": \"RForearm\", \"x\": [1092.322021484375, 1107.114990234375], \"y\": [380.0964660644531, 309.4617919921875], \"type\": \"scatter\"}, {\"name\": \"LShoulder\", \"x\": [1151.2945556640625, 1189.5145263671875], \"y\": [436.2638549804688, 450.76678466796875], \"type\": \"scatter\"}, {\"name\": \"LArm\", \"x\": [1189.5145263671875, 1236.679931640625], \"y\": [450.76678466796875, 362.4504699707031], \"type\": \"scatter\"}, {\"name\": \"LForearm\", \"x\": [1236.679931640625, 1242.589599609375], \"y\": [362.4504699707031, 294.79913330078125], \"type\": \"scatter\"}, {\"name\": \"RHip\", \"x\": [1048.2210693359377, 1024.793212890625], \"y\": [574.4755249023438, 571.3914184570312], \"type\": \"scatter\"}, {\"name\": \"RThigh\", \"x\": [1024.793212890625, 971.7527465820311], \"y\": [571.3914184570312, 706.88134765625], \"type\": \"scatter\"}, {\"name\": \"RCalf\", \"x\": [971.7527465820311, 1015.9505615234376], \"y\": [706.88134765625, 836.3017578125], \"type\": \"scatter\"}, {\"name\": \"RFoot\", \"x\": [1015.9505615234376, 1007.0604858398434], \"y\": [836.3017578125, 901.066162109375], \"type\": \"scatter\"}, {\"name\": \"LHip\", \"x\": [1048.2210693359377, 1068.9576416015623], \"y\": [574.4755249023438, 580.3466186523439], \"type\": \"scatter\"}, {\"name\": \"LThigh\", \"x\": [1068.9576416015623, 1004.1577148437501], \"y\": [580.3466186523439, 712.6803588867189], \"type\": \"scatter\"}, {\"name\": \"LCalf\", \"x\": [1004.1577148437501, 1051.2821044921875], \"y\": [712.6803588867189, 851.141845703125], \"type\": \"scatter\"}, {\"name\": \"LFoot\", \"x\": [1051.2821044921875, 1036.5589599609377], \"y\": [851.141845703125, 907.0838623046876], \"type\": \"scatter\"}]}, {\"data\": [{\"name\": \"Neck\", \"x\": [1174.9012451171875, 1154.2115478515625], \"y\": [403.7304382324218, 436.27841186523443], \"type\": \"scatter\"}, {\"name\": \"REye\", \"x\": [1169.02490234375, 1174.9012451171875], \"y\": [400.733917236328, 403.7304382324218], \"type\": \"scatter\"}, {\"name\": \"LEye\", \"x\": [1186.6796875, 1174.9012451171875], \"y\": [403.7315979003905, 403.7304382324218], \"type\": \"scatter\"}, {\"name\": \"Spine\", \"x\": [1154.2115478515625, 1045.4483642578125], \"y\": [436.27841186523443, 562.6871948242189], \"type\": \"scatter\"}, {\"name\": \"RShoulder\", \"x\": [1154.2115478515625, 1116.1196289062498], \"y\": [436.27841186523443, 433.11108398437506], \"type\": \"scatter\"}, {\"name\": \"RArm\", \"x\": [1116.1196289062498, 1092.4144287109377], \"y\": [433.11108398437506, 380.19772338867193], \"type\": \"scatter\"}, {\"name\": \"RForearm\", \"x\": [1092.4144287109377, 1107.1206054687502], \"y\": [380.19772338867193, 306.6311340332031], \"type\": \"scatter\"}, {\"name\": \"LShoulder\", \"x\": [1154.2115478515625, 1189.5417480468752], \"y\": [436.27841186523443, 453.6701965332031], \"type\": \"scatter\"}, {\"name\": \"LArm\", \"x\": [1189.5417480468752, 1248.4691162109375], \"y\": [453.6701965332031, 359.5971069335937], \"type\": \"scatter\"}, {\"name\": \"LForearm\", \"x\": [1248.4691162109375, 1257.2027587890625], \"y\": [359.5971069335937, 294.91778564453125], \"type\": \"scatter\"}, {\"name\": \"RHip\", \"x\": [1045.4483642578125, 1024.8358154296877], \"y\": [562.6871948242189, 553.9287719726562], \"type\": \"scatter\"}, {\"name\": \"RThigh\", \"x\": [1024.8358154296877, 954.2304077148434], \"y\": [553.9287719726562, 683.2942504882812], \"type\": \"scatter\"}, {\"name\": \"RCalf\", \"x\": [954.2304077148434, 1010.0321655273436], \"y\": [683.2942504882812, 812.7694702148436], \"type\": \"scatter\"}, {\"name\": \"RFoot\", \"x\": [1010.0321655273436, 1004.1302490234376], \"y\": [812.7694702148436, 877.5316162109375], \"type\": \"scatter\"}, {\"name\": \"LHip\", \"x\": [1045.4483642578125, 1065.9959716796877], \"y\": [562.6871948242189, 574.3408203125], \"type\": \"scatter\"}, {\"name\": \"LThigh\", \"x\": [1065.9959716796877, 992.4035644531249], \"y\": [574.3408203125, 689.1658325195314], \"type\": \"scatter\"}, {\"name\": \"LCalf\", \"x\": [992.4035644531249, 1045.3319091796877], \"y\": [689.1658325195314, 821.7133178710938], \"type\": \"scatter\"}, {\"name\": \"LFoot\", \"x\": [1045.3319091796877, 1024.8135986328125], \"y\": [821.7133178710938, 880.632568359375], \"type\": \"scatter\"}]}, {\"data\": [{\"name\": \"Neck\", \"x\": [1183.7131347656248, 1162.98095703125], \"y\": [409.55969238281244, 436.20642089843756], \"type\": \"scatter\"}, {\"name\": \"REye\", \"x\": [1183.6741943359375, 1183.7131347656248], \"y\": [409.68737792968756, 409.55969238281244], \"type\": \"scatter\"}, {\"name\": \"LEye\", \"x\": [1192.4918212890625, 1183.7131347656248], \"y\": [409.67922973632807, 409.55969238281244], \"type\": \"scatter\"}, {\"name\": \"Spine\", \"x\": [1162.98095703125, 1048.3870849609377], \"y\": [436.20642089843756, 550.8016967773438], \"type\": \"scatter\"}, {\"name\": \"RShoulder\", \"x\": [1162.98095703125, 1121.8334960937502], \"y\": [436.20642089843756, 433.0177612304688], \"type\": \"scatter\"}, {\"name\": \"RArm\", \"x\": [1121.8334960937502, 1092.3740234375], \"y\": [433.0177612304688, 383.00744628906244], \"type\": \"scatter\"}, {\"name\": \"RForearm\", \"x\": [1092.3740234375, 1098.3520507812498], \"y\": [383.00744628906244, 312.46981811523443], \"type\": \"scatter\"}, {\"name\": \"LShoulder\", \"x\": [1162.98095703125, 1195.4798583984375], \"y\": [436.20642089843756, 453.6624755859375], \"type\": \"scatter\"}, {\"name\": \"LArm\", \"x\": [1195.4798583984375, 1257.20556640625], \"y\": [453.6624755859375, 359.6072692871094], \"type\": \"scatter\"}, {\"name\": \"LForearm\", \"x\": [1257.20556640625, 1260.3006591796877], \"y\": [359.6072692871094, 291.91299438476557], \"type\": \"scatter\"}, {\"name\": \"RHip\", \"x\": [1048.3870849609377, 1030.6910400390623], \"y\": [550.8016967773438, 539.0731811523438], \"type\": \"scatter\"}, {\"name\": \"RThigh\", \"x\": [1030.6910400390623, 948.2580566406249], \"y\": [539.0731811523438, 659.735595703125], \"type\": \"scatter\"}, {\"name\": \"RCalf\", \"x\": [948.2580566406249, 1018.7761840820312], \"y\": [659.735595703125, 786.4107055664062], \"type\": \"scatter\"}, {\"name\": \"RFoot\", \"x\": [1018.7761840820312, 1004.1414794921875], \"y\": [786.4107055664062, 839.3975830078125], \"type\": \"scatter\"}, {\"name\": \"LHip\", \"x\": [1048.3870849609377, 1069.007080078125], \"y\": [550.8016967773438, 553.96728515625], \"type\": \"scatter\"}, {\"name\": \"LThigh\", \"x\": [1069.007080078125, 974.80712890625], \"y\": [553.96728515625, 656.8963623046875], \"type\": \"scatter\"}, {\"name\": \"LCalf\", \"x\": [974.80712890625, 1024.8138427734377], \"y\": [656.8963623046875, 795.1973876953125], \"type\": \"scatter\"}, {\"name\": \"LFoot\", \"x\": [1024.8138427734377, 1004.1419067382812], \"y\": [795.1973876953125, 854.0042114257811], \"type\": \"scatter\"}]}, {\"data\": [{\"name\": \"Spine\", \"x\": [1166.1429443359375, 1057.1102294921875], \"y\": [433.29055786132807, 530.3536987304688], \"type\": \"scatter\"}, {\"name\": \"RShoulder\", \"x\": [1166.1429443359375, 1124.8022460937502], \"y\": [433.29055786132807, 430.14501953124994], \"type\": \"scatter\"}, {\"name\": \"RArm\", \"x\": [1124.8022460937502, 1089.476318359375], \"y\": [430.14501953124994, 380.1443176269531], \"type\": \"scatter\"}, {\"name\": \"RForearm\", \"x\": [1089.476318359375, 1095.271484375], \"y\": [380.1443176269531, 303.6901245117188], \"type\": \"scatter\"}, {\"name\": \"LShoulder\", \"x\": [1166.1429443359375, 1210.1158447265623], \"y\": [433.29055786132807, 438.99929809570307], \"type\": \"scatter\"}, {\"name\": \"LArm\", \"x\": [1210.1158447265623, 1260.15185546875], \"y\": [438.99929809570307, 356.6784057617188], \"type\": \"scatter\"}, {\"name\": \"LForearm\", \"x\": [1260.15185546875, 1266.1092529296875], \"y\": [356.6784057617188, 288.9550170898437], \"type\": \"scatter\"}, {\"name\": \"RHip\", \"x\": [1057.1102294921875, 1045.2280273437502], \"y\": [530.3536987304688, 527.2536010742188], \"type\": \"scatter\"}, {\"name\": \"RThigh\", \"x\": [1045.2280273437502, 930.6487426757812], \"y\": [527.2536010742188, 621.6172485351562], \"type\": \"scatter\"}, {\"name\": \"RCalf\", \"x\": [930.6487426757812, 1004.1163940429688], \"y\": [621.6172485351562, 742.3022460937501], \"type\": \"scatter\"}, {\"name\": \"RFoot\", \"x\": [1004.1163940429688, 1010.0062255859376], \"y\": [742.3022460937501, 801.016845703125], \"type\": \"scatter\"}, {\"name\": \"LHip\", \"x\": [1057.1102294921875, 1071.8502197265623], \"y\": [530.3536987304688, 542.0489501953125], \"type\": \"scatter\"}, {\"name\": \"LThigh\", \"x\": [1071.8502197265623, 962.9808349609376], \"y\": [542.0489501953125, 624.5298461914062], \"type\": \"scatter\"}, {\"name\": \"LCalf\", \"x\": [962.9808349609376, 1021.649169921875], \"y\": [624.5298461914062, 759.8558959960936], \"type\": \"scatter\"}, {\"name\": \"LFoot\", \"x\": [1021.649169921875, 1001.3377075195312], \"y\": [759.8558959960936, 812.9601440429685], \"type\": \"scatter\"}]}, {\"data\": [{\"name\": \"Neck\", \"x\": [1233.5881347656248, 1183.5985107421875], \"y\": [471.4513244628906, 436.0482788085938], \"type\": \"scatter\"}, {\"name\": \"Spine\", \"x\": [1183.5985107421875, 1065.9057617187502], \"y\": [436.0482788085938, 524.3081665039062], \"type\": \"scatter\"}, {\"name\": \"RShoulder\", \"x\": [1183.5985107421875, 1139.507080078125], \"y\": [436.0482788085938, 433.15908813476557], \"type\": \"scatter\"}, {\"name\": \"RArm\", \"x\": [1139.507080078125, 1083.6551513671875], \"y\": [433.15908813476557, 383.06549072265625], \"type\": \"scatter\"}, {\"name\": \"RForearm\", \"x\": [1083.6551513671875, 1086.5303955078125], \"y\": [383.06549072265625, 309.55566406249994], \"type\": \"scatter\"}, {\"name\": \"LShoulder\", \"x\": [1183.5985107421875, 1216.037353515625], \"y\": [436.0482788085938, 436.1871948242188], \"type\": \"scatter\"}, {\"name\": \"LArm\", \"x\": [1216.037353515625, 1260.1243896484375], \"y\": [436.1871948242188, 362.36819458007807], \"type\": \"scatter\"}, {\"name\": \"LForearm\", \"x\": [1260.1243896484375, 1263.27001953125], \"y\": [362.36819458007807, 285.98687744140625], \"type\": \"scatter\"}, {\"name\": \"RHip\", \"x\": [1065.9057617187502, 1048.2437744140623], \"y\": [524.3081665039062, 509.71923828125], \"type\": \"scatter\"}, {\"name\": \"RThigh\", \"x\": [1048.2437744140623, 927.5897827148435], \"y\": [509.71923828125, 594.91845703125], \"type\": \"scatter\"}, {\"name\": \"RCalf\", \"x\": [927.5897827148435, 992.3137817382811], \"y\": [594.91845703125, 712.6920776367188], \"type\": \"scatter\"}, {\"name\": \"RFoot\", \"x\": [992.3137817382811, 995.2824096679689], \"y\": [712.6920776367188, 765.6493530273435], \"type\": \"scatter\"}, {\"name\": \"LHip\", \"x\": [1065.9057617187502, 1074.8717041015623], \"y\": [524.3081665039062, 530.2363891601562], \"type\": \"scatter\"}, {\"name\": \"LThigh\", \"x\": [1074.8717041015623, 954.1391601562499], \"y\": [530.2363891601562, 586.2180175781249], \"type\": \"scatter\"}, {\"name\": \"LCalf\", \"x\": [954.1391601562499, 1004.1663208007811], \"y\": [586.2180175781249, 721.6067504882812], \"type\": \"scatter\"}, {\"name\": \"LFoot\", \"x\": [1004.1663208007811, 992.3703613281249], \"y\": [721.6067504882812, 777.5625610351562], \"type\": \"scatter\"}]}, {\"data\": [{\"name\": \"Neck\", \"x\": [1218.9683837890625, 1183.6671142578125], \"y\": [486.2469787597656, 442.01116943359375], \"type\": \"scatter\"}, {\"name\": \"REye\", \"x\": [1230.7399902343752, 1218.9683837890625], \"y\": [483.25463867187506, 486.2469787597656], \"type\": \"scatter\"}, {\"name\": \"Spine\", \"x\": [1183.6671142578125, 1068.8833007812498], \"y\": [442.01116943359375, 527.2905883789064], \"type\": \"scatter\"}, {\"name\": \"RShoulder\", \"x\": [1183.6671142578125, 1204.22900390625], \"y\": [442.01116943359375, 450.7928161621094], \"type\": \"scatter\"}, {\"name\": \"RArm\", \"x\": [1204.22900390625, 1257.125], \"y\": [450.7928161621094, 359.5296936035156], \"type\": \"scatter\"}, {\"name\": \"RForearm\", \"x\": [1257.125, 1260.150146484375], \"y\": [359.5296936035156, 280.11715698242193], \"type\": \"scatter\"}, {\"name\": \"RHip\", \"x\": [1068.8833007812498, 1068.8707275390623], \"y\": [527.2905883789064, 530.2477416992189], \"type\": \"scatter\"}, {\"name\": \"RThigh\", \"x\": [1068.8707275390623, 921.742431640625], \"y\": [530.2477416992189, 553.7052612304689], \"type\": \"scatter\"}, {\"name\": \"RCalf\", \"x\": [921.742431640625, 974.7865600585935], \"y\": [553.7052612304689, 674.5474853515625], \"type\": \"scatter\"}, {\"name\": \"RFoot\", \"x\": [974.7865600585935, 959.989013671875], \"y\": [674.5474853515625, 718.6629638671874], \"type\": \"scatter\"}, {\"name\": \"LHip\", \"x\": [1068.8833007812498, 1068.8969726562498], \"y\": [527.2905883789064, 524.3226318359376], \"type\": \"scatter\"}, {\"name\": \"LThigh\", \"x\": [1068.8969726562498, 945.2177124023438], \"y\": [524.3226318359376, 553.7611694335938], \"type\": \"scatter\"}, {\"name\": \"LCalf\", \"x\": [945.2177124023438, 995.299560546875], \"y\": [553.7611694335938, 692.1308593750001], \"type\": \"scatter\"}, {\"name\": \"LFoot\", \"x\": [995.299560546875, 965.9283447265624], \"y\": [692.1308593750001, 742.0891113281249], \"type\": \"scatter\"}]}, {\"data\": [{\"name\": \"Neck\", \"x\": [1216.1624755859375, 1180.6947021484375], \"y\": [500.79833984375, 444.9889221191406], \"type\": \"scatter\"}, {\"name\": \"REye\", \"x\": [1233.617431640625, 1216.1624755859375], \"y\": [491.99951171875, 500.79833984375], \"type\": \"scatter\"}, {\"name\": \"LEye\", \"x\": [1233.5989990234375, 1216.1624755859375], \"y\": [500.7750244140625, 500.79833984375], \"type\": \"scatter\"}, {\"name\": \"Spine\", \"x\": [1180.6947021484375, 1068.8385009765623], \"y\": [444.9889221191406, 518.5028686523438], \"type\": \"scatter\"}, {\"name\": \"RShoulder\", \"x\": [1180.6947021484375, 1145.430419921875], \"y\": [444.9889221191406, 438.99670410156244], \"type\": \"scatter\"}, {\"name\": \"RArm\", \"x\": [1145.430419921875, 1071.9227294921875], \"y\": [438.99670410156244, 388.9310607910156], \"type\": \"scatter\"}, {\"name\": \"RForearm\", \"x\": [1071.9227294921875, 1065.981201171875], \"y\": [388.9310607910156, 315.4542541503907], \"type\": \"scatter\"}, {\"name\": \"LShoulder\", \"x\": [1180.6947021484375, 1210.1021728515625], \"y\": [444.9889221191406, 442.0502319335937], \"type\": \"scatter\"}, {\"name\": \"LArm\", \"x\": [1210.1021728515625, 1248.4787597656248], \"y\": [442.0502319335937, 371.30908203124994], \"type\": \"scatter\"}, {\"name\": \"LForearm\", \"x\": [1248.4787597656248, 1251.4195556640625], \"y\": [371.30908203124994, 288.85794067382807], \"type\": \"scatter\"}, {\"name\": \"RHip\", \"x\": [1068.8385009765623, 1051.23046875], \"y\": [518.5028686523438, 521.446044921875], \"type\": \"scatter\"}, {\"name\": \"RThigh\", \"x\": [1051.23046875, 924.634033203125], \"y\": [521.446044921875, 509.74261474609375], \"type\": \"scatter\"}, {\"name\": \"RCalf\", \"x\": [924.634033203125, 977.6939697265625], \"y\": [509.74261474609375, 653.9603881835938], \"type\": \"scatter\"}, {\"name\": \"RFoot\", \"x\": [977.6939697265625, 948.2704467773438], \"y\": [653.9603881835938, 692.1917724609374], \"type\": \"scatter\"}, {\"name\": \"LHip\", \"x\": [1068.8385009765623, 1077.693115234375], \"y\": [518.5028686523438, 512.6450805664064], \"type\": \"scatter\"}, {\"name\": \"LThigh\", \"x\": [1077.693115234375, 968.75830078125], \"y\": [512.6450805664064, 506.76513671875], \"type\": \"scatter\"}, {\"name\": \"LCalf\", \"x\": [968.75830078125, 977.6027221679688], \"y\": [506.76513671875, 659.8405761718751], \"type\": \"scatter\"}, {\"name\": \"LFoot\", \"x\": [977.6027221679688, 936.5068359375], \"y\": [659.8405761718751, 692.2482299804688], \"type\": \"scatter\"}]}, {\"data\": [{\"name\": \"Neck\", \"x\": [1230.718994140625, 1171.9371337890625], \"y\": [503.92962646484375, 444.9237060546875], \"type\": \"scatter\"}, {\"name\": \"REye\", \"x\": [1233.7335205078123, 1230.718994140625], \"y\": [500.8637084960938, 503.92962646484375], \"type\": \"scatter\"}, {\"name\": \"LEye\", \"x\": [1230.8287353515625, 1230.718994140625], \"y\": [497.92916870117193, 503.92962646484375], \"type\": \"scatter\"}, {\"name\": \"Spine\", \"x\": [1171.9371337890625, 1062.978515625], \"y\": [444.9237060546875, 512.6766357421875], \"type\": \"scatter\"}, {\"name\": \"RShoulder\", \"x\": [1171.9371337890625, 1136.600830078125], \"y\": [444.9237060546875, 436.1517639160156], \"type\": \"scatter\"}, {\"name\": \"RArm\", \"x\": [1136.600830078125, 1071.7602539062498], \"y\": [436.1517639160156, 389.1209411621094], \"type\": \"scatter\"}, {\"name\": \"RForearm\", \"x\": [1071.7602539062498, 1054.1729736328125], \"y\": [389.1209411621094, 318.34445190429693], \"type\": \"scatter\"}, {\"name\": \"LShoulder\", \"x\": [1171.9371337890625, 1210.11767578125], \"y\": [444.9237060546875, 453.75085449218756], \"type\": \"scatter\"}, {\"name\": \"LArm\", \"x\": [1210.11767578125, 1239.645263671875], \"y\": [453.75085449218756, 371.36373901367193], \"type\": \"scatter\"}, {\"name\": \"LForearm\", \"x\": [1239.645263671875, 1236.6439208984375], \"y\": [371.36373901367193, 291.8450317382812], \"type\": \"scatter\"}, {\"name\": \"RHip\", \"x\": [1062.978515625, 1042.3995361328125], \"y\": [512.6766357421875, 503.8108825683593], \"type\": \"scatter\"}, {\"name\": \"RThigh\", \"x\": [1042.3995361328125, 927.6853637695311], \"y\": [503.8108825683593, 480.09533691406244], \"type\": \"scatter\"}, {\"name\": \"RCalf\", \"x\": [927.6853637695311, 965.8701171875], \"y\": [480.09533691406244, 624.54833984375], \"type\": \"scatter\"}, {\"name\": \"RFoot\", \"x\": [965.8701171875, 915.8154296875], \"y\": [624.54833984375, 642.1688232421876], \"type\": \"scatter\"}, {\"name\": \"LHip\", \"x\": [1062.978515625, 1077.770751953125], \"y\": [512.6766357421875, 527.3365478515625], \"type\": \"scatter\"}, {\"name\": \"LThigh\", \"x\": [1077.770751953125, 977.7794799804686], \"y\": [527.3365478515625, 456.82312011718756], \"type\": \"scatter\"}, {\"name\": \"LCalf\", \"x\": [977.7794799804686, 951.2415161132812], \"y\": [456.82312011718756, 627.3965454101564], \"type\": \"scatter\"}, {\"name\": \"LFoot\", \"x\": [951.2415161132812, 886.382568359375], \"y\": [627.3965454101564, 642.1464233398436], \"type\": \"scatter\"}]}, {\"data\": [{\"name\": \"Neck\", \"x\": [1233.796875, 1186.5364990234375], \"y\": [506.78164672851557, 456.67874145507807], \"type\": \"scatter\"}, {\"name\": \"REye\", \"x\": [1236.653076171875, 1233.796875], \"y\": [503.8207092285155, 506.78164672851557], \"type\": \"scatter\"}, {\"name\": \"Spine\", \"x\": [1186.5364990234375, 1057.1280517578125], \"y\": [456.67874145507807, 509.6302490234375], \"type\": \"scatter\"}, {\"name\": \"RShoulder\", \"x\": [1186.5364990234375, 1148.385498046875], \"y\": [456.67874145507807, 439.12319946289057], \"type\": \"scatter\"}, {\"name\": \"RArm\", \"x\": [1148.385498046875, 1071.7177734375], \"y\": [439.12319946289057, 403.72644042968756], \"type\": \"scatter\"}, {\"name\": \"RForearm\", \"x\": [1071.7177734375, 1048.4075927734377], \"y\": [403.72644042968756, 324.2745361328125], \"type\": \"scatter\"}, {\"name\": \"LShoulder\", \"x\": [1186.5364990234375, 1210.2027587890625], \"y\": [456.67874145507807, 459.7745666503905], \"type\": \"scatter\"}, {\"name\": \"LArm\", \"x\": [1210.2027587890625, 1233.782958984375], \"y\": [459.7745666503905, 383.15161132812494], \"type\": \"scatter\"}, {\"name\": \"LForearm\", \"x\": [1233.782958984375, 1216.0545654296877], \"y\": [383.15161132812494, 294.8472900390625], \"type\": \"scatter\"}, {\"name\": \"RHip\", \"x\": [1057.1280517578125, 1045.3402099609377], \"y\": [509.6302490234375, 494.9677429199219], \"type\": \"scatter\"}, {\"name\": \"RThigh\", \"x\": [1045.3402099609377, 936.4856567382812], \"y\": [494.9677429199219, 439.1269226074219], \"type\": \"scatter\"}, {\"name\": \"RCalf\", \"x\": [936.4856567382812, 951.296142578125], \"y\": [439.1269226074219, 603.8416748046875], \"type\": \"scatter\"}, {\"name\": \"RFoot\", \"x\": [951.296142578125, 904.0537719726561], \"y\": [603.8416748046875, 577.3340454101564], \"type\": \"scatter\"}, {\"name\": \"LHip\", \"x\": [1057.1280517578125, 1071.7982177734377], \"y\": [509.6302490234375, 527.3822021484375], \"type\": \"scatter\"}, {\"name\": \"LThigh\", \"x\": [1071.7982177734377, 998.1010131835936], \"y\": [527.3822021484375, 427.2468566894531], \"type\": \"scatter\"}, {\"name\": \"LCalf\", \"x\": [998.1010131835936, 933.521240234375], \"y\": [427.2468566894531, 600.8875732421876], \"type\": \"scatter\"}, {\"name\": \"LFoot\", \"x\": [933.521240234375, 859.9100341796875], \"y\": [600.8875732421876, 645.0477905273438], \"type\": \"scatter\"}]}, {\"data\": [{\"name\": \"Neck\", \"x\": [1224.9091796875, 1195.4591064453123], \"y\": [506.7608642578125, 468.46023559570307], \"type\": \"scatter\"}, {\"name\": \"REye\", \"x\": [1233.7254638671875, 1224.9091796875], \"y\": [503.82705688476557, 506.7608642578125], \"type\": \"scatter\"}, {\"name\": \"LEye\", \"x\": [1230.811767578125, 1224.9091796875], \"y\": [506.73388671875, 506.7608642578125], \"type\": \"scatter\"}, {\"name\": \"Spine\", \"x\": [1195.4591064453123, 1065.917724609375], \"y\": [468.46023559570307, 506.8021545410157], \"type\": \"scatter\"}, {\"name\": \"RShoulder\", \"x\": [1195.4591064453123, 1207.1787109374998], \"y\": [468.46023559570307, 456.7427368164063], \"type\": \"scatter\"}, {\"name\": \"RArm\", \"x\": [1207.1787109374998, 1227.7744140625002], \"y\": [456.7427368164063, 388.9365844726563], \"type\": \"scatter\"}, {\"name\": \"RForearm\", \"x\": [1227.7744140625002, 1204.22705078125], \"y\": [388.9365844726563, 294.9583740234375], \"type\": \"scatter\"}, {\"name\": \"RHip\", \"x\": [1065.917724609375, 1051.3155517578125], \"y\": [506.8021545410157, 497.9025573730469], \"type\": \"scatter\"}, {\"name\": \"RThigh\", \"x\": [1051.3155517578125, 957.0641479492189], \"y\": [497.9025573730469, 412.48736572265625], \"type\": \"scatter\"}, {\"name\": \"RCalf\", \"x\": [957.0641479492189, 927.732177734375], \"y\": [412.48736572265625, 571.4503173828125], \"type\": \"scatter\"}, {\"name\": \"RFoot\", \"x\": [927.732177734375, 880.5552368164064], \"y\": [571.4503173828125, 533.2444458007814], \"type\": \"scatter\"}, {\"name\": \"LHip\", \"x\": [1065.917724609375, 1071.7586669921875], \"y\": [506.8021545410157, 524.3408813476562], \"type\": \"scatter\"}, {\"name\": \"LThigh\", \"x\": [1071.7586669921875, 1018.8212280273436], \"y\": [524.3408813476562, 391.96853637695307], \"type\": \"scatter\"}, {\"name\": \"LCalf\", \"x\": [1018.8212280273436, 924.59716796875], \"y\": [391.96853637695307, 553.9619750976562], \"type\": \"scatter\"}, {\"name\": \"LFoot\", \"x\": [924.59716796875, 856.8939208984373], \"y\": [553.9619750976562, 550.8897094726562], \"type\": \"scatter\"}]}, {\"data\": [{\"name\": \"Neck\", \"x\": [1224.8480224609377, 1201.3850097656248], \"y\": [506.84893798828125, 480.23400878906244], \"type\": \"scatter\"}, {\"name\": \"REye\", \"x\": [1233.6707763671875, 1224.8480224609377], \"y\": [503.85452270507807, 506.84893798828125], \"type\": \"scatter\"}, {\"name\": \"LEye\", \"x\": [1230.8018798828125, 1224.8480224609377], \"y\": [512.6439819335938, 506.84893798828125], \"type\": \"scatter\"}, {\"name\": \"Spine\", \"x\": [1201.3850097656248, 1065.9501953125], \"y\": [480.23400878906244, 503.8059692382813], \"type\": \"scatter\"}, {\"name\": \"RShoulder\", \"x\": [1201.3850097656248, 1213.0772705078123], \"y\": [480.23400878906244, 456.6703186035156], \"type\": \"scatter\"}, {\"name\": \"RArm\", \"x\": [1213.0772705078123, 1213.0616455078123], \"y\": [456.6703186035156, 394.9461975097656], \"type\": \"scatter\"}, {\"name\": \"RForearm\", \"x\": [1213.0616455078123, 1186.7491455078123], \"y\": [394.9461975097656, 306.57806396484375], \"type\": \"scatter\"}, {\"name\": \"LShoulder\", \"x\": [1201.3850097656248, 1189.595703125], \"y\": [480.23400878906244, 500.85083007812494], \"type\": \"scatter\"}, {\"name\": \"RHip\", \"x\": [1065.9501953125, 1051.2729492187502], \"y\": [503.8059692382813, 486.1917419433594], \"type\": \"scatter\"}, {\"name\": \"RThigh\", \"x\": [1051.2729492187502, 974.7171020507811], \"y\": [486.1917419433594, 386.15155029296886], \"type\": \"scatter\"}, {\"name\": \"RCalf\", \"x\": [974.7171020507811, 924.6886596679689], \"y\": [386.15155029296886, 486.2059936523437], \"type\": \"scatter\"}, {\"name\": \"RFoot\", \"x\": [924.6886596679689, 883.4550170898438], \"y\": [486.2059936523437, 439.0098876953125], \"type\": \"scatter\"}, {\"name\": \"LHip\", \"x\": [1065.9501953125, 1071.857666015625], \"y\": [503.8059692382813, 521.4210815429689], \"type\": \"scatter\"}, {\"name\": \"LThigh\", \"x\": [1071.857666015625, 1042.3480224609377], \"y\": [521.4210815429689, 368.4395446777344], \"type\": \"scatter\"}, {\"name\": \"LCalf\", \"x\": [1042.3480224609377, 910.0135498046876], \"y\": [368.4395446777344, 509.7201538085938], \"type\": \"scatter\"}, {\"name\": \"LFoot\", \"x\": [910.0135498046876, 854.0137329101561], \"y\": [509.7201538085938, 480.22305297851557], \"type\": \"scatter\"}]}, {\"data\": [{\"name\": \"Neck\", \"x\": [1216.1253662109375, 1195.4854736328125], \"y\": [518.5037841796875, 497.8768920898438], \"type\": \"scatter\"}, {\"name\": \"REye\", \"x\": [1227.815673828125, 1216.1253662109375], \"y\": [515.5220336914064, 518.5037841796875], \"type\": \"scatter\"}, {\"name\": \"LEye\", \"x\": [1224.9503173828125, 1216.1253662109375], \"y\": [527.2606811523438, 518.5037841796875], \"type\": \"scatter\"}, {\"name\": \"Spine\", \"x\": [1195.4854736328125, 1068.8560791015623], \"y\": [497.8768920898438, 509.6711120605469], \"type\": \"scatter\"}, {\"name\": \"RShoulder\", \"x\": [1195.4854736328125, 1210.243408203125], \"y\": [497.8768920898438, 471.45178222656244], \"type\": \"scatter\"}, {\"name\": \"RArm\", \"x\": [1210.243408203125, 1210.206298828125], \"y\": [471.45178222656244, 412.54479980468744], \"type\": \"scatter\"}, {\"name\": \"RForearm\", \"x\": [1210.206298828125, 1169.0579833984375], \"y\": [412.54479980468744, 315.5096130371094], \"type\": \"scatter\"}, {\"name\": \"LShoulder\", \"x\": [1195.4854736328125, 1189.5723876953123], \"y\": [497.8768920898438, 506.7060852050781], \"type\": \"scatter\"}, {\"name\": \"RHip\", \"x\": [1068.8560791015623, 1065.894287109375], \"y\": [509.6711120605469, 500.8302612304688], \"type\": \"scatter\"}, {\"name\": \"RThigh\", \"x\": [1065.894287109375, 998.116455078125], \"y\": [500.8302612304688, 365.4771423339844], \"type\": \"scatter\"}, {\"name\": \"RCalf\", \"x\": [998.116455078125, 927.5047607421874], \"y\": [365.4771423339844, 430.2080383300781], \"type\": \"scatter\"}, {\"name\": \"RFoot\", \"x\": [927.5047607421874, 901.0891113281249], \"y\": [430.2080383300781, 368.4761352539063], \"type\": \"scatter\"}, {\"name\": \"LHip\", \"x\": [1068.8560791015623, 1071.852294921875], \"y\": [509.6711120605469, 527.2525634765625], \"type\": \"scatter\"}, {\"name\": \"LThigh\", \"x\": [1071.852294921875, 1065.8634033203123], \"y\": [527.2525634765625, 359.5292053222656], \"type\": \"scatter\"}, {\"name\": \"LCalf\", \"x\": [1065.8634033203123, 907.0848388671875], \"y\": [359.5292053222656, 459.71981811523443], \"type\": \"scatter\"}, {\"name\": \"LFoot\", \"x\": [907.0848388671875, 865.8532104492186], \"y\": [459.71981811523443, 415.50588989257807], \"type\": \"scatter\"}]}, {\"data\": [{\"name\": \"Neck\", \"x\": [1221.915283203125, 1192.6165771484375], \"y\": [524.3895874023438, 503.8321228027344], \"type\": \"scatter\"}, {\"name\": \"REye\", \"x\": [1227.8162841796877, 1221.915283203125], \"y\": [524.3371582031249, 524.3895874023438], \"type\": \"scatter\"}, {\"name\": \"LEye\", \"x\": [1227.814697265625, 1221.915283203125], \"y\": [518.5546875, 524.3895874023438], \"type\": \"scatter\"}, {\"name\": \"Spine\", \"x\": [1192.6165771484375, 1071.788818359375], \"y\": [503.8321228027344, 506.7583923339844], \"type\": \"scatter\"}, {\"name\": \"RShoulder\", \"x\": [1192.6165771484375, 1210.0457763671875], \"y\": [503.8321228027344, 483.1591186523437], \"type\": \"scatter\"}, {\"name\": \"RArm\", \"x\": [1210.0457763671875, 1198.448486328125], \"y\": [483.1591186523437, 415.5599060058593], \"type\": \"scatter\"}, {\"name\": \"RForearm\", \"x\": [1198.448486328125, 1163.1964111328125], \"y\": [415.5599060058593, 333.03692626953125], \"type\": \"scatter\"}, {\"name\": \"RHip\", \"x\": [1071.788818359375, 1068.8579101562498], \"y\": [506.7583923339844, 500.8861389160156], \"type\": \"scatter\"}, {\"name\": \"RThigh\", \"x\": [1068.8579101562498, 1068.9569091796877], \"y\": [500.8861389160156, 353.63400268554693], \"type\": \"scatter\"}, {\"name\": \"RCalf\", \"x\": [1068.9569091796877, 930.5517578125001], \"y\": [353.63400268554693, 400.78134155273443], \"type\": \"scatter\"}, {\"name\": \"LHip\", \"x\": [1071.788818359375, 1074.7784423828125], \"y\": [506.7583923339844, 521.4818115234375], \"type\": \"scatter\"}, {\"name\": \"LThigh\", \"x\": [1074.7784423828125, 1071.9965820312498], \"y\": [521.4818115234375, 344.93957519531256], \"type\": \"scatter\"}, {\"name\": \"LCalf\", \"x\": [1071.9965820312498, 921.7172241210936], \"y\": [344.93957519531256, 406.5680236816406], \"type\": \"scatter\"}, {\"name\": \"LFoot\", \"x\": [921.7172241210936, 880.4986572265626], \"y\": [406.5680236816406, 347.7956237792969], \"type\": \"scatter\"}]}, {\"data\": [{\"name\": \"Neck\", \"x\": [1224.8804931640625, 1201.3320312499998], \"y\": [539.124755859375, 524.3373413085938], \"type\": \"scatter\"}, {\"name\": \"REye\", \"x\": [1230.6937255859375, 1224.8804931640625], \"y\": [536.1444702148438, 539.124755859375], \"type\": \"scatter\"}, {\"name\": \"Spine\", \"x\": [1201.3320312499998, 1065.9552001953123], \"y\": [524.3373413085938, 503.82794189453125], \"type\": \"scatter\"}, {\"name\": \"RShoulder\", \"x\": [1201.3320312499998, 1207.169921875], \"y\": [524.3373413085938, 506.67266845703125], \"type\": \"scatter\"}, {\"name\": \"RArm\", \"x\": [1207.169921875, 1189.509765625], \"y\": [506.67266845703125, 424.31640625], \"type\": \"scatter\"}, {\"name\": \"RForearm\", \"x\": [1189.509765625, 1160.113037109375], \"y\": [424.31640625, 341.9965209960937], \"type\": \"scatter\"}, {\"name\": \"LShoulder\", \"x\": [1201.3320312499998, 1210.09716796875], \"y\": [524.3373413085938, 521.4462280273438], \"type\": \"scatter\"}, {\"name\": \"LArm\", \"x\": [1210.09716796875, 1189.58447265625], \"y\": [521.4462280273438, 421.4344177246093], \"type\": \"scatter\"}, {\"name\": \"LForearm\", \"x\": [1189.58447265625, 1160.0399169921873], \"y\": [421.4344177246093, 341.8612976074219], \"type\": \"scatter\"}, {\"name\": \"RHip\", \"x\": [1065.9552001953123, 1068.934814453125], \"y\": [503.82794189453125, 486.1131591796875], \"type\": \"scatter\"}, {\"name\": \"RThigh\", \"x\": [1068.934814453125, 1074.797607421875], \"y\": [486.1131591796875, 359.5433044433593], \"type\": \"scatter\"}, {\"name\": \"RCalf\", \"x\": [1074.797607421875, 959.97705078125], \"y\": [359.5433044433593, 339.02374267578125], \"type\": \"scatter\"}, {\"name\": \"LHip\", \"x\": [1065.9552001953123, 1065.9965820312498], \"y\": [503.82794189453125, 524.4298095703124], \"type\": \"scatter\"}, {\"name\": \"LThigh\", \"x\": [1065.9965820312498, 1095.2896728515623], \"y\": [524.4298095703124, 341.93692016601557], \"type\": \"scatter\"}, {\"name\": \"LCalf\", \"x\": [1095.2896728515623, 915.8533325195314], \"y\": [341.93692016601557, 365.54754638671875], \"type\": \"scatter\"}, {\"name\": \"LFoot\", \"x\": [915.8533325195314, 901.1190185546877], \"y\": [365.54754638671875, 312.4015197753907], \"type\": \"scatter\"}]}, {\"data\": [{\"name\": \"Neck\", \"x\": [1210.2071533203123, 1183.7257080078127], \"y\": [547.9646606445312, 527.2621459960938], \"type\": \"scatter\"}, {\"name\": \"REye\", \"x\": [1213.2148437500002, 1210.2071533203123], \"y\": [544.99609375, 547.9646606445312], \"type\": \"scatter\"}, {\"name\": \"LEye\", \"x\": [1213.044921875, 1210.2071533203123], \"y\": [547.9406127929688, 547.9646606445312], \"type\": \"scatter\"}, {\"name\": \"Spine\", \"x\": [1183.7257080078127, 1063.019775390625], \"y\": [527.2621459960938, 503.720703125], \"type\": \"scatter\"}, {\"name\": \"RShoulder\", \"x\": [1183.7257080078127, 1192.6077880859375], \"y\": [527.2621459960938, 503.8446960449219], \"type\": \"scatter\"}, {\"name\": \"RArm\", \"x\": [1192.6077880859375, 1186.524658203125], \"y\": [503.8446960449219, 433.1219482421875], \"type\": \"scatter\"}, {\"name\": \"RForearm\", \"x\": [1186.524658203125, 1139.619873046875], \"y\": [433.1219482421875, 341.9931335449219], \"type\": \"scatter\"}, {\"name\": \"LHip\", \"x\": [1063.019775390625, 1060.1005859375], \"y\": [503.720703125, 521.401123046875], \"type\": \"scatter\"}, {\"name\": \"LThigh\", \"x\": [1060.1005859375, 1101.3045654296877], \"y\": [521.401123046875, 344.9132080078125], \"type\": \"scatter\"}, {\"name\": \"LCalf\", \"x\": [1101.3045654296877, 939.4402465820311], \"y\": [344.9132080078125, 333.116455078125], \"type\": \"scatter\"}, {\"name\": \"LFoot\", \"x\": [939.4402465820311, 912.8794555664062], \"y\": [333.116455078125, 338.9028015136719], \"type\": \"scatter\"}]}, {\"data\": [{\"name\": \"Neck\", \"x\": [1207.2606201171875, 1168.9379882812498], \"y\": [571.473876953125, 530.4220581054689], \"type\": \"scatter\"}, {\"name\": \"REye\", \"x\": [1210.240234375, 1207.2606201171875], \"y\": [562.7084960937501, 571.473876953125], \"type\": \"scatter\"}, {\"name\": \"LEye\", \"x\": [1207.2764892578125, 1207.2606201171875], \"y\": [565.6549682617189, 571.473876953125], \"type\": \"scatter\"}, {\"name\": \"Spine\", \"x\": [1168.9379882812498, 1057.108642578125], \"y\": [530.4220581054689, 497.92105102539057], \"type\": \"scatter\"}, {\"name\": \"RShoulder\", \"x\": [1168.9379882812498, 1189.66552734375], \"y\": [530.4220581054689, 506.8341674804688], \"type\": \"scatter\"}, {\"name\": \"RArm\", \"x\": [1189.66552734375, 1180.688720703125], \"y\": [506.8341674804688, 447.91128540039057], \"type\": \"scatter\"}, {\"name\": \"LShoulder\", \"x\": [1168.9379882812498, 1174.8341064453123], \"y\": [530.4220581054689, 553.8203125], \"type\": \"scatter\"}, {\"name\": \"LHip\", \"x\": [1057.108642578125, 1057.1031494140623], \"y\": [497.92105102539057, 521.4552001953125], \"type\": \"scatter\"}, {\"name\": \"LThigh\", \"x\": [1057.1031494140623, 1136.6083984375], \"y\": [521.4552001953125, 347.7936401367188], \"type\": \"scatter\"}, {\"name\": \"LCalf\", \"x\": [1136.6083984375, 977.6749267578124], \"y\": [347.7936401367188, 312.4703674316406], \"type\": \"scatter\"}, {\"name\": \"LFoot\", \"x\": [977.6749267578124, 933.586181640625], \"y\": [312.4703674316406, 291.93008422851557], \"type\": \"scatter\"}]}, {\"data\": [{\"name\": \"Neck\", \"x\": [1192.5582275390623, 1163.1651611328125], \"y\": [577.4805297851562, 533.1956787109375], \"type\": \"scatter\"}, {\"name\": \"REye\", \"x\": [1198.4526367187502, 1192.5582275390623], \"y\": [577.4421386718751, 577.4805297851562], \"type\": \"scatter\"}, {\"name\": \"LEye\", \"x\": [1189.561767578125, 1192.5582275390623], \"y\": [589.1651000976562, 577.4805297851562], \"type\": \"scatter\"}, {\"name\": \"Spine\", \"x\": [1163.1651611328125, 1045.308349609375], \"y\": [533.1956787109375, 477.25634765624994], \"type\": \"scatter\"}, {\"name\": \"RShoulder\", \"x\": [1163.1651611328125, 1186.6973876953123], \"y\": [533.1956787109375, 515.5551147460938], \"type\": \"scatter\"}, {\"name\": \"RArm\", \"x\": [1186.6973876953123, 1166.124755859375], \"y\": [515.5551147460938, 450.82870483398443], \"type\": \"scatter\"}, {\"name\": \"RForearm\", \"x\": [1166.124755859375, 1163.044677734375], \"y\": [450.82870483398443, 368.3543090820313], \"type\": \"scatter\"}, {\"name\": \"LShoulder\", \"x\": [1163.1651611328125, 1160.1748046875], \"y\": [533.1956787109375, 559.7098999023438], \"type\": \"scatter\"}, {\"name\": \"LHip\", \"x\": [1045.308349609375, 1042.353759765625], \"y\": [477.25634765624994, 500.812042236328], \"type\": \"scatter\"}, {\"name\": \"LThigh\", \"x\": [1042.353759765625, 1124.7823486328125], \"y\": [500.812042236328, 368.44815063476557], \"type\": \"scatter\"}, {\"name\": \"LCalf\", \"x\": [1124.7823486328125, 998.3055419921875], \"y\": [368.44815063476557, 291.9823303222656], \"type\": \"scatter\"}, {\"name\": \"LFoot\", \"x\": [998.3055419921875, 998.3030395507812], \"y\": [291.9823303222656, 227.17900085449216], \"type\": \"scatter\"}]}, {\"data\": [{\"name\": \"Neck\", \"x\": [1180.7117919921873, 1163.0108642578125], \"y\": [597.9512939453125, 547.9140014648438], \"type\": \"scatter\"}, {\"name\": \"REye\", \"x\": [1186.593994140625, 1180.7117919921873], \"y\": [595.06787109375, 597.9512939453125], \"type\": \"scatter\"}, {\"name\": \"LEye\", \"x\": [1166.0887451171875, 1180.7117919921873], \"y\": [606.7776489257812, 597.9512939453125], \"type\": \"scatter\"}, {\"name\": \"Spine\", \"x\": [1163.0108642578125, 1045.273681640625], \"y\": [547.9140014648438, 468.454132080078], \"type\": \"scatter\"}, {\"name\": \"RShoulder\", \"x\": [1163.0108642578125, 1186.5030517578125], \"y\": [547.9140014648438, 527.3726806640625], \"type\": \"scatter\"}, {\"name\": \"RArm\", \"x\": [1186.5030517578125, 1166.0419921875], \"y\": [527.3726806640625, 456.61218261718756], \"type\": \"scatter\"}, {\"name\": \"LShoulder\", \"x\": [1163.0108642578125, 1168.9713134765625], \"y\": [547.9140014648438, 571.4730224609375], \"type\": \"scatter\"}, {\"name\": \"RHip\", \"x\": [1045.273681640625, 1062.9898681640623], \"y\": [468.454132080078, 447.86538696289057], \"type\": \"scatter\"}, {\"name\": \"RThigh\", \"x\": [1062.9898681640623, 1157.160400390625], \"y\": [447.86538696289057, 368.3965759277344], \"type\": \"scatter\"}, {\"name\": \"RCalf\", \"x\": [1157.160400390625, 1074.853759765625], \"y\": [368.3965759277344, 268.36679077148443], \"type\": \"scatter\"}, {\"name\": \"RFoot\", \"x\": [1074.853759765625, 1024.7176513671875], \"y\": [268.36679077148443, 230.07984924316412], \"type\": \"scatter\"}, {\"name\": \"LHip\", \"x\": [1045.273681640625, 1027.800537109375], \"y\": [468.454132080078, 489.07351684570307], \"type\": \"scatter\"}, {\"name\": \"LThigh\", \"x\": [1027.800537109375, 1121.894775390625], \"y\": [489.07351684570307, 380.1353454589844], \"type\": \"scatter\"}, {\"name\": \"LCalf\", \"x\": [1121.894775390625, 1071.858154296875], \"y\": [380.1353454589844, 250.650390625], \"type\": \"scatter\"}]}, {\"data\": [{\"name\": \"Neck\", \"x\": [1157.1992187500002, 1145.3985595703123], \"y\": [600.9515380859376, 556.8297119140624], \"type\": \"scatter\"}, {\"name\": \"REye\", \"x\": [1166.0069580078127, 1157.1992187500002], \"y\": [603.9151611328125, 600.9515380859376], \"type\": \"scatter\"}, {\"name\": \"LEye\", \"x\": [1157.203857421875, 1157.1992187500002], \"y\": [624.5087890624999, 600.9515380859376], \"type\": \"scatter\"}, {\"name\": \"Spine\", \"x\": [1145.3985595703123, 1051.276123046875], \"y\": [556.8297119140624, 447.89663696289057], \"type\": \"scatter\"}, {\"name\": \"RShoulder\", \"x\": [1145.3985595703123, 1168.9305419921873], \"y\": [556.8297119140624, 542.018798828125], \"type\": \"scatter\"}, {\"name\": \"RArm\", \"x\": [1168.9305419921873, 1166.1354980468752], \"y\": [542.018798828125, 453.7553100585938], \"type\": \"scatter\"}, {\"name\": \"RForearm\", \"x\": [1166.1354980468752, 1183.7275390625002], \"y\": [453.7553100585938, 389.13513183593756], \"type\": \"scatter\"}, {\"name\": \"LShoulder\", \"x\": [1145.3985595703123, 1118.8785400390623], \"y\": [556.8297119140624, 583.2494506835938], \"type\": \"scatter\"}]}, {\"data\": [{\"name\": \"Spine\", \"x\": [1154.2867431640625, 1042.3721923828125], \"y\": [436.01544189453125, 456.68466186523443], \"type\": \"scatter\"}, {\"name\": \"RHip\", \"x\": [1042.3721923828125, 1045.3256835937502], \"y\": [456.68466186523443, 436.0748596191406], \"type\": \"scatter\"}, {\"name\": \"RThigh\", \"x\": [1045.3256835937502, 1165.9947509765625], \"y\": [436.0748596191406, 397.8360900878905], \"type\": \"scatter\"}, {\"name\": \"RCalf\", \"x\": [1165.9947509765625, 1115.9329833984377], \"y\": [397.8360900878905, 271.38513183593756], \"type\": \"scatter\"}, {\"name\": \"RFoot\", \"x\": [1115.9329833984377, 1071.895751953125], \"y\": [271.38513183593756, 224.18251037597656], \"type\": \"scatter\"}, {\"name\": \"LHip\", \"x\": [1042.3721923828125, 1027.780029296875], \"y\": [456.68466186523443, 483.188995361328], \"type\": \"scatter\"}]}, {\"data\": [{\"name\": \"Spine\", \"x\": [1157.2060546875, 1048.3393554687502], \"y\": [550.8209228515625, 450.80853271484375], \"type\": \"scatter\"}, {\"name\": \"RShoulder\", \"x\": [1157.2060546875, 1171.9100341796877], \"y\": [550.8209228515625, 545.0076904296876], \"type\": \"scatter\"}, {\"name\": \"RArm\", \"x\": [1171.9100341796877, 1189.642333984375], \"y\": [545.0076904296876, 412.5128479003905], \"type\": \"scatter\"}, {\"name\": \"LShoulder\", \"x\": [1157.2060546875, 1139.5084228515625], \"y\": [550.8209228515625, 571.4287109375001], \"type\": \"scatter\"}, {\"name\": \"LArm\", \"x\": [1139.5084228515625, 1148.392822265625], \"y\": [571.4287109375001, 627.4109497070314], \"type\": \"scatter\"}, {\"name\": \"LForearm\", \"x\": [1148.392822265625, 1145.4461669921875], \"y\": [627.4109497070314, 642.1002197265624], \"type\": \"scatter\"}, {\"name\": \"RHip\", \"x\": [1048.3393554687502, 1057.1175537109377], \"y\": [450.80853271484375, 433.13061523437506], \"type\": \"scatter\"}, {\"name\": \"RThigh\", \"x\": [1057.1175537109377, 1186.514404296875], \"y\": [433.13061523437506, 412.47729492187506], \"type\": \"scatter\"}, {\"name\": \"RCalf\", \"x\": [1186.514404296875, 1154.273681640625], \"y\": [412.47729492187506, 280.08856201171875], \"type\": \"scatter\"}, {\"name\": \"RFoot\", \"x\": [1154.273681640625, 1139.495361328125], \"y\": [280.08856201171875, 227.17141723632807], \"type\": \"scatter\"}, {\"name\": \"LHip\", \"x\": [1048.3393554687502, 1030.6697998046877], \"y\": [450.80853271484375, 477.279754638672], \"type\": \"scatter\"}, {\"name\": \"LThigh\", \"x\": [1030.6697998046877, 1189.539794921875], \"y\": [477.279754638672, 412.46881103515625], \"type\": \"scatter\"}, {\"name\": \"LCalf\", \"x\": [1189.539794921875, 1139.5030517578125], \"y\": [412.46881103515625, 283.07470703124994], \"type\": \"scatter\"}, {\"name\": \"LFoot\", \"x\": [1139.5030517578125, 1113.024169921875], \"y\": [283.07470703124994, 250.68441772460932], \"type\": \"scatter\"}]}, {\"data\": [{\"name\": \"Neck\", \"x\": [1148.364990234375, 1118.9912109375], \"y\": [662.7511596679689, 597.9309692382812], \"type\": \"scatter\"}, {\"name\": \"REye\", \"x\": [1151.331298828125, 1148.364990234375], \"y\": [656.8104858398438, 662.7511596679689], \"type\": \"scatter\"}, {\"name\": \"LEye\", \"x\": [1139.5765380859375, 1148.364990234375], \"y\": [665.6699218750001, 662.7511596679689], \"type\": \"scatter\"}, {\"name\": \"Spine\", \"x\": [1118.9912109375, 1080.671630859375], \"y\": [597.9309692382812, 450.83023071289057], \"type\": \"scatter\"}, {\"name\": \"RShoulder\", \"x\": [1118.9912109375, 1163.0706787109375], \"y\": [597.9309692382812, 574.3755493164064], \"type\": \"scatter\"}, {\"name\": \"RArm\", \"x\": [1163.0706787109375, 1163.1907958984375], \"y\": [574.3755493164064, 524.4074096679689], \"type\": \"scatter\"}, {\"name\": \"RForearm\", \"x\": [1163.1907958984375, 1171.9013671875], \"y\": [524.4074096679689, 465.55688476562494], \"type\": \"scatter\"}, {\"name\": \"LShoulder\", \"x\": [1118.9912109375, 1092.4141845703123], \"y\": [597.9309692382812, 624.49462890625], \"type\": \"scatter\"}]}, {\"data\": [{\"name\": \"RCalf\", \"x\": [1186.6290283203123, 1216.0950927734377], \"y\": [477.27297973632807, 359.54455566406244], \"type\": \"scatter\"}]}, {\"data\": [{\"name\": \"Neck\", \"x\": [1101.264404296875, 1089.502685546875], \"y\": [656.8450927734375, 597.8756713867189], \"type\": \"scatter\"}, {\"name\": \"REye\", \"x\": [1104.190673828125, 1101.264404296875], \"y\": [665.6640014648438, 656.8450927734375], \"type\": \"scatter\"}, {\"name\": \"LEye\", \"x\": [1089.4599609375, 1101.264404296875], \"y\": [668.6730346679688, 656.8450927734375], \"type\": \"scatter\"}, {\"name\": \"Spine\", \"x\": [1089.502685546875, 1071.8348388671875], \"y\": [597.8756713867189, 456.69540405273443], \"type\": \"scatter\"}, {\"name\": \"RShoulder\", \"x\": [1089.502685546875, 1119.0816650390623], \"y\": [597.8756713867189, 600.8862304687499], \"type\": \"scatter\"}, {\"name\": \"LShoulder\", \"x\": [1089.502685546875, 1116.052001953125], \"y\": [597.8756713867189, 600.892333984375], \"type\": \"scatter\"}, {\"name\": \"LArm\", \"x\": [1116.052001953125, 1192.603515625], \"y\": [600.892333984375, 506.61431884765625], \"type\": \"scatter\"}, {\"name\": \"LForearm\", \"x\": [1192.603515625, 1189.6412353515625], \"y\": [506.61431884765625, 500.80474853515625], \"type\": \"scatter\"}]}, {\"data\": [{\"name\": \"Neck\", \"x\": [1083.5980224609377, 1074.753662109375], \"y\": [668.4956665039062, 603.8513793945314], \"type\": \"scatter\"}, {\"name\": \"REye\", \"x\": [1083.5662841796877, 1083.5980224609377], \"y\": [671.6172485351562, 668.4956665039062], \"type\": \"scatter\"}, {\"name\": \"LEye\", \"x\": [1068.8653564453123, 1083.5980224609377], \"y\": [671.6138305664062, 668.4956665039062], \"type\": \"scatter\"}, {\"name\": \"Spine\", \"x\": [1074.753662109375, 1115.9669189453123], \"y\": [603.8513793945314, 527.3624267578124], \"type\": \"scatter\"}, {\"name\": \"RShoulder\", \"x\": [1074.753662109375, 1095.4217529296877], \"y\": [603.8513793945314, 609.7192993164062], \"type\": \"scatter\"}, {\"name\": \"RArm\", \"x\": [1095.4217529296877, 1177.802734375], \"y\": [609.7192993164062, 530.3796997070314], \"type\": \"scatter\"}, {\"name\": \"RForearm\", \"x\": [1177.802734375, 1180.706787109375], \"y\": [530.3796997070314, 506.74645996093756], \"type\": \"scatter\"}, {\"name\": \"LShoulder\", \"x\": [1074.753662109375, 1089.522216796875], \"y\": [603.8513793945314, 606.7730102539064], \"type\": \"scatter\"}, {\"name\": \"LArm\", \"x\": [1089.522216796875, 1186.5758056640625], \"y\": [606.7730102539064, 527.4097900390624], \"type\": \"scatter\"}, {\"name\": \"LForearm\", \"x\": [1186.5758056640625, 1189.5291748046877], \"y\": [527.4097900390624, 506.7663574218751], \"type\": \"scatter\"}, {\"name\": \"RHip\", \"x\": [1115.9669189453123, 1139.455078125], \"y\": [527.3624267578124, 553.8395385742189], \"type\": \"scatter\"}, {\"name\": \"RThigh\", \"x\": [1139.455078125, 1180.70068359375], \"y\": [553.8395385742189, 512.6787109375001], \"type\": \"scatter\"}, {\"name\": \"RCalf\", \"x\": [1180.70068359375, 1224.9150390625002], \"y\": [512.6787109375001, 427.20635986328125], \"type\": \"scatter\"}, {\"name\": \"RFoot\", \"x\": [1224.9150390625002, 1227.794677734375], \"y\": [427.20635986328125, 362.4618225097656], \"type\": \"scatter\"}, {\"name\": \"LHip\", \"x\": [1115.9669189453123, 1063.0078125], \"y\": [527.3624267578124, 477.33300781249994], \"type\": \"scatter\"}, {\"name\": \"LThigh\", \"x\": [1063.0078125, 1086.5345458984377], \"y\": [477.33300781249994, 433.0968933105469], \"type\": \"scatter\"}, {\"name\": \"LCalf\", \"x\": [1086.5345458984377, 1180.7495117187502], \"y\": [433.0968933105469, 477.2940063476563], \"type\": \"scatter\"}]}, {\"data\": [{\"name\": \"Neck\", \"x\": [1071.7891845703123, 1057.11328125], \"y\": [671.4916381835938, 600.9198608398438], \"type\": \"scatter\"}, {\"name\": \"REye\", \"x\": [1068.8787841796877, 1071.7891845703123], \"y\": [674.6057739257812, 671.4916381835938], \"type\": \"scatter\"}, {\"name\": \"LEye\", \"x\": [1054.2530517578125, 1071.7891845703123], \"y\": [674.5669555664062, 671.4916381835938], \"type\": \"scatter\"}, {\"name\": \"Spine\", \"x\": [1057.11328125, 1086.5716552734377], \"y\": [600.9198608398438, 468.4546813964844], \"type\": \"scatter\"}, {\"name\": \"RShoulder\", \"x\": [1057.11328125, 1045.34375], \"y\": [600.9198608398438, 601.0206909179688], \"type\": \"scatter\"}, {\"name\": \"LShoulder\", \"x\": [1057.11328125, 1077.7841796875], \"y\": [600.9198608398438, 603.9743652343751], \"type\": \"scatter\"}, {\"name\": \"LArm\", \"x\": [1077.7841796875, 1180.773193359375], \"y\": [603.9743652343751, 530.3688354492189], \"type\": \"scatter\"}, {\"name\": \"LForearm\", \"x\": [1180.773193359375, 1186.736328125], \"y\": [530.3688354492189, 524.3561401367188], \"type\": \"scatter\"}, {\"name\": \"RHip\", \"x\": [1086.5716552734377, 1077.733642578125], \"y\": [468.4546813964844, 465.5673217773437], \"type\": \"scatter\"}, {\"name\": \"RThigh\", \"x\": [1077.733642578125, 1186.5107421875], \"y\": [465.5673217773437, 527.4031982421875], \"type\": \"scatter\"}, {\"name\": \"RCalf\", \"x\": [1186.5107421875, 1233.648681640625], \"y\": [527.4031982421875, 441.98919677734375], \"type\": \"scatter\"}, {\"name\": \"LHip\", \"x\": [1086.5716552734377, 1098.364990234375], \"y\": [468.4546813964844, 456.76269531249994], \"type\": \"scatter\"}, {\"name\": \"LThigh\", \"x\": [1098.364990234375, 1192.490478515625], \"y\": [456.76269531249994, 550.7885131835936], \"type\": \"scatter\"}, {\"name\": \"LCalf\", \"x\": [1192.490478515625, 1257.2659912109375], \"y\": [550.7885131835936, 471.4030456542969], \"type\": \"scatter\"}, {\"name\": \"LFoot\", \"x\": [1257.2659912109375, 1298.431640625], \"y\": [471.4030456542969, 506.6838073730469], \"type\": \"scatter\"}]}, {\"data\": [{\"name\": \"Neck\", \"x\": [1068.807861328125, 1045.4361572265623], \"y\": [665.6966552734376, 598.0510864257812], \"type\": \"scatter\"}, {\"name\": \"REye\", \"x\": [1060.0552978515623, 1068.807861328125], \"y\": [665.636962890625, 665.6966552734376], \"type\": \"scatter\"}, {\"name\": \"LEye\", \"x\": [1048.3994140625, 1068.807861328125], \"y\": [683.26953125, 665.6966552734376], \"type\": \"scatter\"}, {\"name\": \"Spine\", \"x\": [1045.4361572265623, 1095.3753662109377], \"y\": [598.0510864257812, 489.05221557617193], \"type\": \"scatter\"}, {\"name\": \"RShoulder\", \"x\": [1045.4361572265623, 1033.5931396484377], \"y\": [598.0510864257812, 600.8997192382812], \"type\": \"scatter\"}, {\"name\": \"LShoulder\", \"x\": [1045.4361572265623, 1057.159912109375], \"y\": [598.0510864257812, 603.9154052734376], \"type\": \"scatter\"}, {\"name\": \"LArm\", \"x\": [1057.159912109375, 1154.2501220703125], \"y\": [603.9154052734376, 571.4596557617188], \"type\": \"scatter\"}, {\"name\": \"LForearm\", \"x\": [1154.2501220703125, 1195.462646484375], \"y\": [571.4596557617188, 536.1552124023438], \"type\": \"scatter\"}, {\"name\": \"RHip\", \"x\": [1095.3753662109377, 1113.025146484375], \"y\": [489.05221557617193, 568.5054931640625], \"type\": \"scatter\"}, {\"name\": \"LHip\", \"x\": [1095.3753662109377, 1089.460205078125], \"y\": [489.05221557617193, 480.21780395507807], \"type\": \"scatter\"}, {\"name\": \"LThigh\", \"x\": [1089.460205078125, 1180.7060546875], \"y\": [480.21780395507807, 527.3425903320312], \"type\": \"scatter\"}, {\"name\": \"LCalf\", \"x\": [1180.7060546875, 1201.35400390625], \"y\": [527.3425903320312, 506.7583923339844], \"type\": \"scatter\"}, {\"name\": \"LFoot\", \"x\": [1201.35400390625, 1216.080322265625], \"y\": [506.7583923339844, 527.3658447265625], \"type\": \"scatter\"}]}, {\"data\": [{\"name\": \"Neck\", \"x\": [1054.211181640625, 1048.2348632812498], \"y\": [674.4787597656249, 600.95947265625], \"type\": \"scatter\"}, {\"name\": \"REye\", \"x\": [1051.275634765625, 1054.211181640625], \"y\": [674.5357666015625, 674.4787597656249], \"type\": \"scatter\"}, {\"name\": \"LEye\", \"x\": [1042.420166015625, 1054.211181640625], \"y\": [680.4357299804688, 674.4787597656249], \"type\": \"scatter\"}, {\"name\": \"Spine\", \"x\": [1048.2348632812498, 1107.1268310546877], \"y\": [600.95947265625, 483.23388671875], \"type\": \"scatter\"}, {\"name\": \"RShoulder\", \"x\": [1048.2348632812498, 1021.7529907226561], \"y\": [600.95947265625, 595.0435791015625], \"type\": \"scatter\"}, {\"name\": \"LShoulder\", \"x\": [1048.2348632812498, 1074.8154296875], \"y\": [600.95947265625, 609.7400512695312], \"type\": \"scatter\"}, {\"name\": \"LArm\", \"x\": [1074.8154296875, 1183.72216796875], \"y\": [609.7400512695312, 550.7481689453126], \"type\": \"scatter\"}, {\"name\": \"LForearm\", \"x\": [1183.72216796875, 1201.3812255859375], \"y\": [550.7481689453126, 580.3348388671875], \"type\": \"scatter\"}, {\"name\": \"RHip\", \"x\": [1107.1268310546877, 1110.075439453125], \"y\": [483.23388671875, 477.24139404296886], \"type\": \"scatter\"}, {\"name\": \"RThigh\", \"x\": [1110.075439453125, 1186.61865234375], \"y\": [477.24139404296886, 553.86328125], \"type\": \"scatter\"}, {\"name\": \"LHip\", \"x\": [1107.1268310546877, 1107.17578125], \"y\": [483.23388671875, 483.22265625], \"type\": \"scatter\"}, {\"name\": \"LThigh\", \"x\": [1107.17578125, 1171.95751953125], \"y\": [483.22265625, 547.9744262695312], \"type\": \"scatter\"}, {\"name\": \"LCalf\", \"x\": [1171.95751953125, 1274.962890625], \"y\": [547.9744262695312, 556.7961425781249], \"type\": \"scatter\"}, {\"name\": \"LFoot\", \"x\": [1274.962890625, 1286.7088623046877], \"y\": [556.7961425781249, 621.3802490234376], \"type\": \"scatter\"}]}, {\"data\": [{\"name\": \"Neck\", \"x\": [1045.391357421875, 1042.4034423828125], \"y\": [674.5253906249999, 603.9299926757812], \"type\": \"scatter\"}, {\"name\": \"REye\", \"x\": [1042.3701171875, 1045.391357421875], \"y\": [680.3887939453125, 674.5253906249999], \"type\": \"scatter\"}, {\"name\": \"LEye\", \"x\": [1027.6821289062498, 1045.391357421875], \"y\": [686.2783813476561, 674.5253906249999], \"type\": \"scatter\"}, {\"name\": \"Spine\", \"x\": [1042.4034423828125, 1113.0020751953123], \"y\": [603.9299926757812, 483.2899475097656], \"type\": \"scatter\"}, {\"name\": \"RShoulder\", \"x\": [1042.4034423828125, 998.2819213867189], \"y\": [603.9299926757812, 600.9279174804686], \"type\": \"scatter\"}, {\"name\": \"LShoulder\", \"x\": [1042.4034423828125, 1077.768798828125], \"y\": [603.9299926757812, 609.7381591796875], \"type\": \"scatter\"}, {\"name\": \"LArm\", \"x\": [1077.768798828125, 1177.84716796875], \"y\": [609.7381591796875, 559.7336425781249], \"type\": \"scatter\"}, {\"name\": \"LForearm\", \"x\": [1177.84716796875, 1266.1094970703125], \"y\": [559.7336425781249, 606.8035888671875], \"type\": \"scatter\"}, {\"name\": \"RHip\", \"x\": [1113.0020751953123, 1095.3687744140623], \"y\": [483.2899475097656, 483.11724853515625], \"type\": \"scatter\"}, {\"name\": \"RThigh\", \"x\": [1095.3687744140623, 1186.689453125], \"y\": [483.11724853515625, 609.7490234375], \"type\": \"scatter\"}, {\"name\": \"LHip\", \"x\": [1113.0020751953123, 1130.673583984375], \"y\": [483.2899475097656, 483.2873840332031], \"type\": \"scatter\"}, {\"name\": \"LThigh\", \"x\": [1130.673583984375, 1177.7733154296877], \"y\": [483.2873840332031, 603.8548583984375], \"type\": \"scatter\"}, {\"name\": \"LCalf\", \"x\": [1177.7733154296877, 1280.7082519531248], \"y\": [603.8548583984375, 595.0216064453125], \"type\": \"scatter\"}, {\"name\": \"LFoot\", \"x\": [1280.7082519531248, 1280.8432617187502], \"y\": [595.0216064453125, 662.7424926757812], \"type\": \"scatter\"}]}, {\"data\": [{\"name\": \"Neck\", \"x\": [1027.7177734375, 1042.372802734375], \"y\": [689.1818847656249, 609.7341918945312], \"type\": \"scatter\"}, {\"name\": \"LEye\", \"x\": [1021.7685546875, 1027.7177734375], \"y\": [689.1209106445312, 689.1818847656249], \"type\": \"scatter\"}, {\"name\": \"Spine\", \"x\": [1042.372802734375, 1110.138671875], \"y\": [609.7341918945312, 503.77563476562494], \"type\": \"scatter\"}, {\"name\": \"RShoulder\", \"x\": [1042.372802734375, 995.3299560546877], \"y\": [609.7341918945312, 603.8809814453125], \"type\": \"scatter\"}, {\"name\": \"LShoulder\", \"x\": [1042.372802734375, 1077.781494140625], \"y\": [609.7341918945312, 615.5874633789064], \"type\": \"scatter\"}, {\"name\": \"LArm\", \"x\": [1077.781494140625, 1183.6601562499998], \"y\": [615.5874633789064, 556.833251953125], \"type\": \"scatter\"}, {\"name\": \"LForearm\", \"x\": [1183.6601562499998, 1260.1829833984375], \"y\": [556.833251953125, 648.1147460937501], \"type\": \"scatter\"}, {\"name\": \"RHip\", \"x\": [1110.138671875, 1074.7601318359377], \"y\": [503.77563476562494, 500.8937683105468], \"type\": \"scatter\"}, {\"name\": \"RThigh\", \"x\": [1074.7601318359377, 1080.6962890625], \"y\": [500.8937683105468, 651.0296630859376], \"type\": \"scatter\"}, {\"name\": \"LHip\", \"x\": [1110.138671875, 1142.4564208984375], \"y\": [503.77563476562494, 500.83798217773443], \"type\": \"scatter\"}, {\"name\": \"LThigh\", \"x\": [1142.4564208984375, 1160.0898437500002], \"y\": [500.83798217773443, 627.4562377929688], \"type\": \"scatter\"}, {\"name\": \"LCalf\", \"x\": [1160.0898437500002, 1263.2171630859375], \"y\": [627.4562377929688, 648.1206665039062], \"type\": \"scatter\"}, {\"name\": \"LFoot\", \"x\": [1263.2171630859375, 1260.2236328125], \"y\": [648.1206665039062, 718.6296386718751], \"type\": \"scatter\"}]}, {\"data\": [{\"name\": \"Neck\", \"x\": [1021.9067993164062, 1036.5140380859377], \"y\": [680.3652954101564, 612.7327270507812], \"type\": \"scatter\"}, {\"name\": \"REye\", \"x\": [1018.8987426757811, 1021.9067993164062], \"y\": [674.6315307617188, 680.3652954101564], \"type\": \"scatter\"}, {\"name\": \"LEye\", \"x\": [1013.006591796875, 1021.9067993164062], \"y\": [677.4172973632812, 680.3652954101564], \"type\": \"scatter\"}, {\"name\": \"Spine\", \"x\": [1036.5140380859377, 1118.9312744140623], \"y\": [612.7327270507812, 524.3557128906249], \"type\": \"scatter\"}, {\"name\": \"RShoulder\", \"x\": [1036.5140380859377, 995.2896118164062], \"y\": [612.7327270507812, 603.9622192382812], \"type\": \"scatter\"}, {\"name\": \"LShoulder\", \"x\": [1036.5140380859377, 1074.8006591796877], \"y\": [612.7327270507812, 615.6057739257812], \"type\": \"scatter\"}, {\"name\": \"LArm\", \"x\": [1074.8006591796877, 1186.4912109374998], \"y\": [615.6057739257812, 574.3475341796875], \"type\": \"scatter\"}, {\"name\": \"LForearm\", \"x\": [1186.4912109374998, 1195.4481201171875], \"y\": [574.3475341796875, 645.1037597656249], \"type\": \"scatter\"}, {\"name\": \"RHip\", \"x\": [1118.9312744140623, 1089.5224609375], \"y\": [524.3557128906249, 524.3578491210938], \"type\": \"scatter\"}, {\"name\": \"RThigh\", \"x\": [1089.5224609375, 1139.4605712890625], \"y\": [524.3578491210938, 662.7598876953125], \"type\": \"scatter\"}, {\"name\": \"RCalf\", \"x\": [1139.4605712890625, 1210.2681884765625], \"y\": [662.7598876953125, 668.6315917968751], \"type\": \"scatter\"}, {\"name\": \"RFoot\", \"x\": [1210.2681884765625, 1213.062255859375], \"y\": [668.6315917968751, 718.5843505859375], \"type\": \"scatter\"}, {\"name\": \"LHip\", \"x\": [1118.9312744140623, 1148.40380859375], \"y\": [524.3557128906249, 518.4822998046875], \"type\": \"scatter\"}, {\"name\": \"LThigh\", \"x\": [1148.40380859375, 1171.8867187500002], \"y\": [518.4822998046875, 648.0645751953125], \"type\": \"scatter\"}, {\"name\": \"LCalf\", \"x\": [1171.8867187500002, 1254.3482666015625], \"y\": [648.0645751953125, 703.9740600585938], \"type\": \"scatter\"}, {\"name\": \"LFoot\", \"x\": [1254.3482666015625, 1236.5880126953123], \"y\": [703.9740600585938, 753.939758300781], \"type\": \"scatter\"}]}, {\"data\": [{\"name\": \"Neck\", \"x\": [1015.8829345703124, 1030.6383056640623], \"y\": [677.4113159179688, 621.416748046875], \"type\": \"scatter\"}, {\"name\": \"REye\", \"x\": [1015.9229125976561, 1015.8829345703124], \"y\": [674.6282348632812, 677.4113159179688], \"type\": \"scatter\"}, {\"name\": \"LEye\", \"x\": [1004.1295166015624, 1015.8829345703124], \"y\": [674.4879150390625, 677.4113159179688], \"type\": \"scatter\"}, {\"name\": \"Spine\", \"x\": [1030.6383056640623, 1118.9976806640623], \"y\": [621.416748046875, 536.1314086914064], \"type\": \"scatter\"}, {\"name\": \"RShoulder\", \"x\": [1030.6383056640623, 989.3949584960936], \"y\": [621.416748046875, 609.7112426757812], \"type\": \"scatter\"}, {\"name\": \"RArm\", \"x\": [989.3949584960936, 951.0218505859377], \"y\": [609.7112426757812, 662.7230224609374], \"type\": \"scatter\"}, {\"name\": \"LShoulder\", \"x\": [1030.6383056640623, 1071.9364013671875], \"y\": [621.416748046875, 621.6101684570312], \"type\": \"scatter\"}, {\"name\": \"LArm\", \"x\": [1071.9364013671875, 1183.7152099609375], \"y\": [621.6101684570312, 586.244873046875], \"type\": \"scatter\"}, {\"name\": \"LForearm\", \"x\": [1183.7152099609375, 1186.63720703125], \"y\": [586.244873046875, 665.6184692382812], \"type\": \"scatter\"}, {\"name\": \"RHip\", \"x\": [1118.9976806640623, 1089.4649658203123], \"y\": [536.1314086914064, 536.2020263671876], \"type\": \"scatter\"}, {\"name\": \"RThigh\", \"x\": [1089.4649658203123, 1142.43603515625], \"y\": [536.2020263671876, 671.5762939453125], \"type\": \"scatter\"}, {\"name\": \"RCalf\", \"x\": [1142.43603515625, 1216.0169677734377], \"y\": [671.5762939453125, 721.6464843750001], \"type\": \"scatter\"}, {\"name\": \"RFoot\", \"x\": [1216.0169677734377, 1201.318603515625], \"y\": [721.6464843750001, 768.6906738281249], \"type\": \"scatter\"}, {\"name\": \"LHip\", \"x\": [1118.9976806640623, 1157.1336669921873], \"y\": [536.1314086914064, 530.3275756835938], \"type\": \"scatter\"}, {\"name\": \"LThigh\", \"x\": [1157.1336669921873, 1186.53369140625], \"y\": [530.3275756835938, 671.665283203125], \"type\": \"scatter\"}, {\"name\": \"LCalf\", \"x\": [1186.53369140625, 1242.6165771484375], \"y\": [671.665283203125, 759.8135986328125], \"type\": \"scatter\"}, {\"name\": \"LFoot\", \"x\": [1242.6165771484375, 1216.1231689453123], \"y\": [759.8135986328125, 798.099853515625], \"type\": \"scatter\"}]}, {\"data\": [{\"name\": \"Neck\", \"x\": [1001.2093505859376, 1030.652587890625], \"y\": [680.4365844726562, 624.428466796875], \"type\": \"scatter\"}, {\"name\": \"LEye\", \"x\": [998.3156738281249, 1001.2093505859376], \"y\": [671.7142333984375, 680.4365844726562], \"type\": \"scatter\"}, {\"name\": \"Spine\", \"x\": [1030.652587890625, 1121.8291015625], \"y\": [624.428466796875, 556.8609619140624], \"type\": \"scatter\"}, {\"name\": \"RShoulder\", \"x\": [1030.652587890625, 983.6051025390625], \"y\": [624.428466796875, 618.5476684570312], \"type\": \"scatter\"}, {\"name\": \"RArm\", \"x\": [983.6051025390625, 948.1604003906251], \"y\": [618.5476684570312, 648.0659790039062], \"type\": \"scatter\"}, {\"name\": \"LShoulder\", \"x\": [1030.652587890625, 1074.77734375], \"y\": [624.428466796875, 624.558837890625], \"type\": \"scatter\"}, {\"name\": \"LArm\", \"x\": [1074.77734375, 1186.459716796875], \"y\": [624.558837890625, 600.9639892578125], \"type\": \"scatter\"}, {\"name\": \"LForearm\", \"x\": [1186.459716796875, 1183.644287109375], \"y\": [600.9639892578125, 671.5745849609375], \"type\": \"scatter\"}, {\"name\": \"RHip\", \"x\": [1121.8291015625, 1092.3819580078125], \"y\": [556.8609619140624, 568.54296875], \"type\": \"scatter\"}, {\"name\": \"RThigh\", \"x\": [1092.3819580078125, 1142.6153564453123], \"y\": [568.54296875, 695.1398925781249], \"type\": \"scatter\"}, {\"name\": \"RCalf\", \"x\": [1142.6153564453123, 1192.6339111328125], \"y\": [695.1398925781249, 777.4798583984374], \"type\": \"scatter\"}, {\"name\": \"RFoot\", \"x\": [1192.6339111328125, 1169.02587890625], \"y\": [777.4798583984374, 812.8324584960938], \"type\": \"scatter\"}, {\"name\": \"LHip\", \"x\": [1121.8291015625, 1160.143798828125], \"y\": [556.8609619140624, 550.9961547851562], \"type\": \"scatter\"}, {\"name\": \"LThigh\", \"x\": [1160.143798828125, 1186.4899902343752], \"y\": [550.9961547851562, 700.9603881835938], \"type\": \"scatter\"}, {\"name\": \"LCalf\", \"x\": [1186.4899902343752, 1224.8398437500002], \"y\": [700.9603881835938, 806.8652954101561], \"type\": \"scatter\"}, {\"name\": \"LFoot\", \"x\": [1224.8398437500002, 1189.5598144531248], \"y\": [806.8652954101561, 836.283447265625], \"type\": \"scatter\"}]}, {\"data\": [{\"name\": \"Neck\", \"x\": [989.397705078125, 1030.608642578125], \"y\": [683.3601684570312, 630.3201293945314], \"type\": \"scatter\"}, {\"name\": \"LEye\", \"x\": [986.5087890624999, 989.397705078125], \"y\": [671.6239624023439, 683.3601684570312], \"type\": \"scatter\"}, {\"name\": \"Spine\", \"x\": [1030.608642578125, 1136.5643310546877], \"y\": [630.3201293945314, 580.3078613281249], \"type\": \"scatter\"}, {\"name\": \"RShoulder\", \"x\": [1030.608642578125, 986.5180664062501], \"y\": [630.3201293945314, 624.3718261718751], \"type\": \"scatter\"}, {\"name\": \"RArm\", \"x\": [986.5180664062501, 1068.9888916015623], \"y\": [624.3718261718751, 659.8503417968751], \"type\": \"scatter\"}, {\"name\": \"RForearm\", \"x\": [1068.9888916015623, 1104.1988525390623], \"y\": [659.8503417968751, 689.2088012695312], \"type\": \"scatter\"}, {\"name\": \"LShoulder\", \"x\": [1030.608642578125, 1071.9375], \"y\": [630.3201293945314, 630.3564453124999], \"type\": \"scatter\"}, {\"name\": \"LArm\", \"x\": [1071.9375, 1186.515869140625], \"y\": [630.3564453124999, 624.4151000976562], \"type\": \"scatter\"}, {\"name\": \"LForearm\", \"x\": [1186.515869140625, 1180.69384765625], \"y\": [624.4151000976562, 695.2039184570312], \"type\": \"scatter\"}, {\"name\": \"RHip\", \"x\": [1136.5643310546877, 1104.2421875], \"y\": [580.3078613281249, 600.9224853515625], \"type\": \"scatter\"}, {\"name\": \"RThigh\", \"x\": [1104.2421875, 1142.4814453125], \"y\": [600.9224853515625, 721.6035766601562], \"type\": \"scatter\"}, {\"name\": \"RCalf\", \"x\": [1142.4814453125, 1180.796142578125], \"y\": [721.6035766601562, 812.9380493164062], \"type\": \"scatter\"}, {\"name\": \"RFoot\", \"x\": [1180.796142578125, 1157.1979980468752], \"y\": [812.9380493164062, 856.8673095703124], \"type\": \"scatter\"}, {\"name\": \"LHip\", \"x\": [1136.5643310546877, 1165.910400390625], \"y\": [580.3078613281249, 571.4851684570312], \"type\": \"scatter\"}, {\"name\": \"LThigh\", \"x\": [1165.910400390625, 1186.509033203125], \"y\": [571.4851684570312, 724.503662109375], \"type\": \"scatter\"}, {\"name\": \"LCalf\", \"x\": [1186.509033203125, 1210.2581787109375], \"y\": [724.503662109375, 833.5208129882814], \"type\": \"scatter\"}, {\"name\": \"LFoot\", \"x\": [1210.2581787109375, 1180.740234375], \"y\": [833.5208129882814, 868.7374267578124], \"type\": \"scatter\"}]}, {\"data\": [{\"name\": \"Neck\", \"x\": [983.5684204101562, 1027.7745361328125], \"y\": [674.5488281249999, 636.2596435546875], \"type\": \"scatter\"}, {\"name\": \"REye\", \"x\": [977.5593261718751, 983.5684204101562], \"y\": [671.5125732421876, 674.5488281249999], \"type\": \"scatter\"}, {\"name\": \"LEye\", \"x\": [983.5690917968751, 983.5684204101562], \"y\": [668.612060546875, 674.5488281249999], \"type\": \"scatter\"}, {\"name\": \"Spine\", \"x\": [1027.7745361328125, 1139.6441650390625], \"y\": [636.2596435546875, 615.6435546875001], \"type\": \"scatter\"}, {\"name\": \"RShoulder\", \"x\": [1027.7745361328125, 995.2511596679689], \"y\": [636.2596435546875, 633.3325195312501], \"type\": \"scatter\"}, {\"name\": \"RArm\", \"x\": [995.2511596679689, 1068.828125], \"y\": [633.3325195312501, 668.7075195312501], \"type\": \"scatter\"}, {\"name\": \"RForearm\", \"x\": [1068.828125, 1095.5157470703123], \"y\": [668.7075195312501, 698.1328735351562], \"type\": \"scatter\"}, {\"name\": \"LShoulder\", \"x\": [1027.7745361328125, 1071.8651123046877], \"y\": [636.2596435546875, 636.2171630859376], \"type\": \"scatter\"}, {\"name\": \"LArm\", \"x\": [1071.8651123046877, 1183.658203125], \"y\": [636.2171630859376, 630.3828125], \"type\": \"scatter\"}, {\"name\": \"LForearm\", \"x\": [1183.658203125, 1166.0323486328125], \"y\": [630.3828125, 698.1187133789064], \"type\": \"scatter\"}, {\"name\": \"RHip\", \"x\": [1139.6441650390625, 1115.9354248046877], \"y\": [615.6435546875001, 636.2180786132812], \"type\": \"scatter\"}, {\"name\": \"RThigh\", \"x\": [1115.9354248046877, 1136.5020751953123], \"y\": [636.2180786132812, 745.1128540039064], \"type\": \"scatter\"}, {\"name\": \"RCalf\", \"x\": [1136.5020751953123, 1163.0826416015625], \"y\": [745.1128540039064, 856.9475097656249], \"type\": \"scatter\"}, {\"name\": \"RFoot\", \"x\": [1163.0826416015625, 1133.68115234375], \"y\": [856.9475097656249, 898.1812744140626], \"type\": \"scatter\"}, {\"name\": \"LHip\", \"x\": [1139.6441650390625, 1166.0966796875], \"y\": [615.6435546875001, 600.9462890624999], \"type\": \"scatter\"}, {\"name\": \"LThigh\", \"x\": [1166.0966796875, 1171.9183349609375], \"y\": [600.9462890624999, 751.030029296875], \"type\": \"scatter\"}, {\"name\": \"LCalf\", \"x\": [1171.9183349609375, 1192.5877685546877], \"y\": [751.030029296875, 874.6078491210938], \"type\": \"scatter\"}, {\"name\": \"LFoot\", \"x\": [1192.5877685546877, 1163.01708984375], \"y\": [874.6078491210938, 906.9898071289062], \"type\": \"scatter\"}]}, {\"data\": [{\"name\": \"Neck\", \"x\": [986.518798828125, 1039.512939453125], \"y\": [671.6837768554689, 633.2988891601562], \"type\": \"scatter\"}, {\"name\": \"REye\", \"x\": [977.5507812500001, 986.518798828125], \"y\": [671.4482421875, 671.6837768554689], \"type\": \"scatter\"}, {\"name\": \"LEye\", \"x\": [983.6193847656249, 986.518798828125], \"y\": [665.7162475585938, 671.6837768554689], \"type\": \"scatter\"}, {\"name\": \"Spine\", \"x\": [1039.512939453125, 1145.400634765625], \"y\": [633.2988891601562, 647.9672241210938], \"type\": \"scatter\"}, {\"name\": \"RShoulder\", \"x\": [1039.512939453125, 1012.9686279296876], \"y\": [633.2988891601562, 642.0491943359375], \"type\": \"scatter\"}, {\"name\": \"RArm\", \"x\": [1012.9686279296876, 1068.8822021484377], \"y\": [642.0491943359375, 674.4695434570312], \"type\": \"scatter\"}, {\"name\": \"RForearm\", \"x\": [1068.8822021484377, 1095.420654296875], \"y\": [674.4695434570312, 721.5721435546875], \"type\": \"scatter\"}, {\"name\": \"LShoulder\", \"x\": [1039.512939453125, 1071.7904052734377], \"y\": [633.2988891601562, 630.3463745117189], \"type\": \"scatter\"}, {\"name\": \"LArm\", \"x\": [1071.7904052734377, 1177.83154296875], \"y\": [630.3463745117189, 659.8107299804688], \"type\": \"scatter\"}, {\"name\": \"LForearm\", \"x\": [1177.83154296875, 1177.7469482421875], \"y\": [659.8107299804688, 739.27392578125], \"type\": \"scatter\"}, {\"name\": \"RHip\", \"x\": [1145.400634765625, 1121.8833007812498], \"y\": [647.9672241210938, 659.8219604492188], \"type\": \"scatter\"}, {\"name\": \"RThigh\", \"x\": [1121.8833007812498, 1119.03125], \"y\": [659.8219604492188, 765.658935546875], \"type\": \"scatter\"}, {\"name\": \"RCalf\", \"x\": [1119.03125, 1142.525634765625], \"y\": [765.658935546875, 883.4370117187501], \"type\": \"scatter\"}, {\"name\": \"RFoot\", \"x\": [1142.525634765625, 1113.0600585937502], \"y\": [883.4370117187501, 918.7299804687501], \"type\": \"scatter\"}, {\"name\": \"LHip\", \"x\": [1145.400634765625, 1169.0347900390625], \"y\": [647.9672241210938, 639.1260375976561], \"type\": \"scatter\"}, {\"name\": \"LThigh\", \"x\": [1169.0347900390625, 1166.054443359375], \"y\": [639.1260375976561, 777.4617919921875], \"type\": \"scatter\"}, {\"name\": \"LCalf\", \"x\": [1166.054443359375, 1186.4678955078123], \"y\": [777.4617919921875, 904.1534423828124], \"type\": \"scatter\"}, {\"name\": \"LFoot\", \"x\": [1186.4678955078123, 1142.48876953125], \"y\": [904.1534423828124, 930.6584472656249], \"type\": \"scatter\"}]}]);\n",
       "                        }).then(function(){\n",
       "                            \n",
       "var gd = document.getElementById('080a14f3-472c-49ba-adc5-bf7e884af01e');\n",
       "var x = new MutationObserver(function (mutations, observer) {{\n",
       "        var display = window.getComputedStyle(gd).display;\n",
       "        if (!display || display === 'none') {{\n",
       "            console.log([gd, 'removed!']);\n",
       "            Plotly.purge(gd);\n",
       "            observer.disconnect();\n",
       "        }}\n",
       "}});\n",
       "\n",
       "// Listen for the removal of the full notebook cells\n",
       "var notebookContainer = gd.closest('#notebook-container');\n",
       "if (notebookContainer) {{\n",
       "    x.observe(notebookContainer, {childList: true});\n",
       "}}\n",
       "\n",
       "// Listen for the clearing of the current output cell\n",
       "var outputEl = gd.closest('.output');\n",
       "if (outputEl) {{\n",
       "    x.observe(outputEl, {childList: true});\n",
       "}}\n",
       "\n",
       "                        })\n",
       "                };\n",
       "                });\n",
       "            </script>\n",
       "        </div>"
      ]
     },
     "metadata": {},
     "output_type": "display_data"
    }
   ],
   "source": [
    "def frame_args(duration):\n",
    "    return {\n",
    "            \"frame\": {\"duration\": duration},\n",
    "            \"mode\": \"immediate\",\n",
    "            \"fromcurrent\": True,\n",
    "            \"transition\": {\"duration\": duration, \"easing\": \"linear\"},\n",
    "        }\n",
    "\n",
    "def get_animated_figure(frame_data, max_x_coord, max_y_coord):\n",
    "    fig = go.Figure(\n",
    "        data = get_all_body_parts(frame_data[0]),\n",
    "        layout = go.Layout(\n",
    "            xaxis=dict(range=[0, max_x_coord + 200], autorange=False),\n",
    "            yaxis=dict(range=[0, max_y_coord + 200], autorange=False),\n",
    "            updatemenus=[dict(\n",
    "                type=\"buttons\",\n",
    "                buttons=[dict(label=\"Play\",\n",
    "                              method=\"animate\",\n",
    "                              args=[None, frame_args(50)]\n",
    "                             ),\n",
    "                         dict(label=\"Pause\",\n",
    "                              method=\"animate\",\n",
    "                              args=[[None], frame_args(0)]\n",
    "                             )\n",
    "                        ]\n",
    "            )]\n",
    "        ),\n",
    "        frames=get_frames(frame_data)\n",
    "    )\n",
    "    \n",
    "    return fig\n",
    "\n",
    "fig = get_animated_figure(frame_data, max_x_coord, max_y_coord)\n",
    "fig.show()"
   ]
  },
  {
   "cell_type": "code",
   "execution_count": null,
   "metadata": {},
   "outputs": [],
   "source": [
    "def get_body_part_y_data(frame, body_part_nr=0):\n",
    "    return float(frame.iloc[body_part_nr, 1:2])\n",
    "\n",
    "def get_body_part_x_data(frame, body_part_nr=0):\n",
    "    return float(frame.iloc[body_part_nr, 0:1])\n",
    "\n",
    "def show_body_part_trajectory(body_part_nr=0, coord=\"Y\"):\n",
    "    if coord == \"Y\":\n",
    "        body_part_data = [[idx, get_body_part_y_data(frame, body_part_nr)] for idx, frame in enumerate(frame_data)]\n",
    "    elif coord == \"X\":\n",
    "        body_part_data = [[idx, get_body_part_x_data(frame, body_part_nr)] for idx, frame in enumerate(frame_data)]\n",
    "\n",
    "    df = pd.DataFrame(body_part_data, columns = ['Frames', 'YValues']) \n",
    "\n",
    "    fig = px.line(df, x='Frames', y='YValues')\n",
    "    fig.show()\n",
    "\n",
    "# 0 = nose\n",
    "# 8 = mid hip\n",
    "show_body_part_trajectory(body_part_nr=0, coord=\"Y\")"
   ]
  },
  {
   "cell_type": "code",
   "execution_count": null,
   "metadata": {},
   "outputs": [],
   "source": [
    "fixed_frame_data = [frame.copy() for frame in frame_data]\n",
    "\n",
    "def get_new_body_part_data(body_part_data):\n",
    "    new_body_part_data = []\n",
    "    \n",
    "    for idx, body_part in enumerate(body_part_data):\n",
    "        if idx == 0:\n",
    "            new_body_part_data.append(body_part_data[0])\n",
    "            continue\n",
    "            \n",
    "        previous_body_part = body_part_data[idx - 1]\n",
    "        \n",
    "        #if abs(body_part - previous_body_part) > 100:\n",
    "        #    new_body_part_data.append(previous_body_part)\n",
    "        #else:\n",
    "        new_body_part_data.append(body_part)\n",
    "            \n",
    "    return new_body_part_data\n",
    "\n",
    "def fix_body_part_data(frame_data, body_part_nr=0):    \n",
    "    body_part_y_data = [get_body_part_y_data(frame, body_part_nr) for idx, frame in enumerate(frame_data)]\n",
    "    body_part_x_data = [get_body_part_y_data(frame, body_part_nr) for idx, frame in enumerate(frame_data)]\n",
    "    \n",
    "    new_body_part_y_data = get_new_body_part_data(body_part_y_data)\n",
    "    new_body_part_x_data = get_new_body_part_data(body_part_x_data)\n",
    "    \n",
    "    for i, _ in enumerate(body_part_x_data):\n",
    "        if body_part_x_data[i] == new_body_part_x_data[i]:\n",
    "            print(body_part_x_data[i])\n",
    "            print(new_body_part_x_data[i])\n",
    "      \n",
    "    for idx, frame in enumerate(frame_data):\n",
    "        frame.iloc[body_part_nr, 1:2] = new_body_part_y_data[idx]\n",
    "        frame.iloc[body_part_nr, 0:1] = new_body_part_x_data[idx]\n",
    "        \n",
    "        frame_data[idx] = frame\n",
    "        \n",
    "    return frame_data\n",
    "    \n",
    "fixed_frame_data = fix_body_part_data(fixed_frame_data, 0)"
   ]
  },
  {
   "cell_type": "code",
   "execution_count": null,
   "metadata": {
    "scrolled": true
   },
   "outputs": [],
   "source": [
    "fig = go.Figure(\n",
    "    data = get_all_body_parts(fixed_frame_data[0]),\n",
    "    layout = go.Layout(\n",
    "        xaxis=dict(range=[0, max_x_coord + 200], autorange=False),\n",
    "        yaxis=dict(range=[-(max_y_coord + 200), 0], autorange=False),\n",
    "        updatemenus=[dict(\n",
    "            type=\"buttons\",\n",
    "            buttons=[dict(label=\"Play\",\n",
    "                          method=\"animate\",\n",
    "                          args=[None, frame_args(50)]\n",
    "                         ),\n",
    "                     dict(label=\"Pause\",\n",
    "                          method=\"animate\",\n",
    "                          args=[[None], frame_args(0)]\n",
    "                         )\n",
    "                    ]\n",
    "        )]\n",
    "    ),\n",
    "    frames=get_frames(fixed_frame_data)\n",
    ")\n",
    "\n",
    "fig.show()"
   ]
  },
  {
   "cell_type": "code",
   "execution_count": null,
   "metadata": {},
   "outputs": [],
   "source": []
  }
 ],
 "metadata": {
  "kernelspec": {
   "display_name": "openpose-jupyter-data-exploration",
   "language": "python",
   "name": "openpose-jupyter-data-exploration"
  },
  "language_info": {
   "codemirror_mode": {
    "name": "ipython",
    "version": 3
   },
   "file_extension": ".py",
   "mimetype": "text/x-python",
   "name": "python",
   "nbconvert_exporter": "python",
   "pygments_lexer": "ipython3",
   "version": "3.7.2"
  }
 },
 "nbformat": 4,
 "nbformat_minor": 2
}
