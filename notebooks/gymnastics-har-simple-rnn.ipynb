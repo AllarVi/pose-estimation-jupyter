{
 "cells": [
  {
   "cell_type": "code",
   "execution_count": 1,
   "metadata": {},
   "outputs": [
    {
     "name": "stderr",
     "output_type": "stream",
     "text": [
      "Using TensorFlow backend.\n"
     ]
    }
   ],
   "source": [
    "import pandas as pd\n",
    "import numpy as np\n",
    "import matplotlib.pyplot as plt\n",
    "from pandas import read_csv\n",
    "from pandas import DataFrame\n",
    "\n",
    "from numpy import dstack\n",
    "\n",
    "import copy\n",
    "\n",
    "import os\n",
    "from glob import glob\n",
    "\n",
    "from path import Path\n",
    "\n",
    "from numpy import mean\n",
    "from numpy import std\n",
    "\n",
    "from keras.models import Sequential\n",
    "from keras.layers import Dense\n",
    "from keras.layers import Flatten\n",
    "from keras.layers import Dropout\n",
    "from keras.layers import LSTM\n",
    "from keras.layers import SimpleRNN\n",
    "\n",
    "from keras.layers import Bidirectional\n",
    "\n",
    "from keras.utils.vis_utils import plot_model\n",
    "\n",
    "from keras.callbacks import EarlyStopping\n",
    "\n",
    "from keras.optimizers import Adam\n",
    "\n",
    "import keras.backend as K\n",
    "\n",
    "import random\n",
    "\n",
    "from sklearn.model_selection import train_test_split\n",
    "\n",
    "from matplotlib import pyplot"
   ]
  },
  {
   "cell_type": "markdown",
   "metadata": {},
   "source": [
    "## Load Data"
   ]
  },
  {
   "cell_type": "code",
   "execution_count": 2,
   "metadata": {},
   "outputs": [],
   "source": [
    "from helpers.classes.data_loader import DataLoader"
   ]
  },
  {
   "cell_type": "code",
   "execution_count": 3,
   "metadata": {},
   "outputs": [],
   "source": [
    "root_path = \"/Users/allarviinamae/EduWorkspace/openpose-jupyter-data-exploration/centered-keypoints\"\n",
    "\n",
    "sample_dir_names = [n for n in os.listdir(root_path) if os.path.isdir(f\"{root_path}/{n}\")]\n",
    "\n",
    "samples = DataLoader.get_samples_list(sample_dir_names, root_path)\n",
    "\n",
    "y_labels = DataLoader.get_y_labels(sample_dir_names) # classifier labels, where 0 = backflip and 1 = flack"
   ]
  },
  {
   "cell_type": "code",
   "execution_count": 4,
   "metadata": {},
   "outputs": [
    {
     "name": "stdout",
     "output_type": "stream",
     "text": [
      "backflip-40-margus\n",
      "flack-31-rasmus\n",
      "flack-19-rasmus\n",
      "flack-59-martin\n",
      "backflip-66-allar\n",
      "0\n",
      "1\n",
      "1\n",
      "1\n",
      "0\n"
     ]
    }
   ],
   "source": [
    "i = 5\n",
    "\n",
    "# Print some sample dir names\n",
    "a = [print(sample_dir_name) for sdn_i, sample_dir_name in enumerate(sample_dir_names) if sdn_i < i]\n",
    "a = [print(y_label) for y_i, y_label in enumerate(y_labels) if y_i < i]"
   ]
  },
  {
   "cell_type": "markdown",
   "metadata": {},
   "source": [
    "## Data padding"
   ]
  },
  {
   "cell_type": "code",
   "execution_count": 5,
   "metadata": {},
   "outputs": [],
   "source": [
    "from helpers.classes.padder import Padder"
   ]
  },
  {
   "cell_type": "code",
   "execution_count": 6,
   "metadata": {},
   "outputs": [
    {
     "name": "stdout",
     "output_type": "stream",
     "text": [
      "y_labels_stacked shape: (1, 1, 113)\n",
      "y_labels_categorical shape: (1, 1, 113, 2)\n",
      "y_labels_squeezed shape (113, 2)\n",
      "y_label categorical: [1.0, 0.0]\n",
      "y_label categorical: [0.0, 1.0]\n",
      "y_label categorical: [0.0, 1.0]\n",
      "y_label categorical: [0.0, 1.0]\n",
      "y_label categorical: [1.0, 0.0]\n"
     ]
    }
   ],
   "source": [
    "padded_samples_list = Padder.get_padded_samples(samples)\n",
    "categorical_y_labels = DataLoader.get_categorical_y_labels(y_labels)\n",
    "\n",
    "padded_samples_ndarray = np.asarray(padded_samples_list)\n",
    "categorical_y_labels_ndarray = np.asarray(categorical_y_labels)"
   ]
  },
  {
   "cell_type": "markdown",
   "metadata": {},
   "source": [
    "## Build model"
   ]
  },
  {
   "cell_type": "code",
   "execution_count": 7,
   "metadata": {},
   "outputs": [],
   "source": [
    "def get_simple_rnn_model(lstm_units, n_outputs, n_features, n_timesteps):\n",
    "    optimizer = Adam(lr=0.001)\n",
    "    \n",
    "    input_shape = (n_timesteps, n_features)\n",
    "    print(f\"Model input shape {input_shape}\")\n",
    "        \n",
    "    model = Sequential()\n",
    "    model.add(SimpleRNN(lstm_units, \n",
    "                        return_sequences=True,\n",
    "                        input_shape=input_shape))\n",
    "    model.add(Dropout(0.5))\n",
    "    model.add(Dense(lstm_units, activation='relu'))\n",
    "    model.add(Flatten())\n",
    "    model.add(Dense(n_outputs, activation='softmax'))\n",
    "    model.compile(loss='categorical_crossentropy',\n",
    "                  optimizer=optimizer,\n",
    "                  metrics=['accuracy'])\n",
    "    \n",
    "    return model\n",
    "\n",
    "def evaluate_model(trainX, trainy, testX, testy):\n",
    "    verbose, epochs = 1, 5\n",
    "    \n",
    "    #n_steps_per_epoch = 360\n",
    "    \n",
    "    lstm_units = 2\n",
    "\n",
    "    n_timesteps, n_features, n_outputs = trainX.shape[1], trainX.shape[2], trainy.shape[1]\n",
    "    \n",
    "    model = get_simple_rnn_model(lstm_units, n_outputs, n_features, n_timesteps)\n",
    "    \n",
    "    print(model.summary())\n",
    "    \n",
    "    batch_size = 1\n",
    "    \n",
    "    es_callback = EarlyStopping(monitor='val_loss',\n",
    "                                patience=3)\n",
    "    \n",
    "    history = model.fit(trainX,\n",
    "                        trainy,\n",
    "                        epochs=epochs,\n",
    "                        batch_size=batch_size,\n",
    "                        verbose=verbose,\n",
    "                        validation_split=0.33,\n",
    "                        #callbacks=[es_callback]\n",
    "                       )\n",
    "    # evaluate model\n",
    "    _, accuracy = model.evaluate(testX, testy, batch_size=batch_size, verbose=0)\n",
    "    \n",
    "    # fit network\n",
    "    #model.fit_generator(train_generator(trainX, trainy), steps_per_epoch=n_steps_per_epoch, epochs=epochs, verbose=verbose)\n",
    "    # evaluate model\n",
    "    #_, accuracy = model.evaluate_generator(train_generator(testX, testy), steps=len(testX), verbose=0)\n",
    "    \n",
    "    return history, accuracy, model"
   ]
  },
  {
   "cell_type": "code",
   "execution_count": 8,
   "metadata": {},
   "outputs": [],
   "source": [
    "def summarize_results(scores):\n",
    "    print(scores)\n",
    "    m, s = mean(scores), std(scores)\n",
    "    print('Accuracy: %.3f%% (+/-%.3f)' % (m, s))"
   ]
  },
  {
   "cell_type": "code",
   "execution_count": 9,
   "metadata": {},
   "outputs": [],
   "source": [
    "def save_model(model, repeat):\n",
    "    # serialize model to JSON\n",
    "    model_json = model.to_json()\n",
    "    with open(f\"model-{repeat}.json\", \"w\") as json_file:\n",
    "        json_file.write(model_json)\n",
    "    # serialize weights to HDF5\n",
    "    model.save_weights(f\"model-{repeat}.h5\")\n",
    "    \n",
    "    plot_model(model, to_file=f\"model-plot-{repeat}.png\", show_shapes=True, show_layer_names=True)\n",
    "    \n",
    "    print(\"Saved model to disk\")"
   ]
  },
  {
   "cell_type": "markdown",
   "metadata": {},
   "source": [
    "## Run experiment"
   ]
  },
  {
   "cell_type": "code",
   "execution_count": 10,
   "metadata": {},
   "outputs": [
    {
     "name": "stdout",
     "output_type": "stream",
     "text": [
      "X train len: 90, y train len:90 --- X test len:23, y test len:23\n"
     ]
    }
   ],
   "source": [
    "X_train, X_test, y_train, y_test = train_test_split(padded_samples_ndarray,\n",
    "                                                    categorical_y_labels_ndarray,\n",
    "                                                    test_size=0.2,\n",
    "                                                    random_state=42)\n",
    "\n",
    "print(f\"X train len: {len(X_train)}, y train len:{len(y_train)} --- X test len:{len(X_test)}, y test len:{len(y_test)}\")\n",
    "\n",
    "train_loss_history = DataFrame()\n",
    "val_loss_history = DataFrame()\n",
    "\n",
    "train_accuracy_history = DataFrame()\n",
    "val_accuracy_history = DataFrame()\n",
    "\n",
    "model_history = []\n",
    "\n",
    "# run an experiment\n",
    "def run_experiment(repeats=5):\n",
    "    # repeat experiment\n",
    "    scores = list()\n",
    "    last_history = None\n",
    "    \n",
    "    for r in range(repeats):\n",
    "        history, score, model = evaluate_model(X_train, y_train, X_test, y_test)\n",
    "        \n",
    "        model_history.append(model)\n",
    "        save_model(model, r)\n",
    "        \n",
    "        # story history\n",
    "        train_loss_history[str(r)] = history.history['loss']\n",
    "        val_loss_history[str(r)] = history.history['val_loss']\n",
    "        train_accuracy_history[str(r)] = history.history['accuracy']\n",
    "        val_accuracy_history[str(r)] = history.history['val_accuracy']\n",
    "        \n",
    "        score = score * 100.0\n",
    "        print('>#%d validation accuracy: %.3f' % (r+1, score))\n",
    "        scores.append(score)\n",
    "        \n",
    "    # summarize results\n",
    "    summarize_results(scores)"
   ]
  },
  {
   "cell_type": "code",
   "execution_count": 11,
   "metadata": {},
   "outputs": [
    {
     "name": "stdout",
     "output_type": "stream",
     "text": [
      "Model input shape (110, 30)\n",
      "Model: \"sequential_1\"\n",
      "_________________________________________________________________\n",
      "Layer (type)                 Output Shape              Param #   \n",
      "=================================================================\n",
      "simple_rnn_1 (SimpleRNN)     (None, 110, 2)            66        \n",
      "_________________________________________________________________\n",
      "dropout_1 (Dropout)          (None, 110, 2)            0         \n",
      "_________________________________________________________________\n",
      "dense_1 (Dense)              (None, 110, 2)            6         \n",
      "_________________________________________________________________\n",
      "flatten_1 (Flatten)          (None, 220)               0         \n",
      "_________________________________________________________________\n",
      "dense_2 (Dense)              (None, 2)                 442       \n",
      "=================================================================\n",
      "Total params: 514\n",
      "Trainable params: 514\n",
      "Non-trainable params: 0\n",
      "_________________________________________________________________\n",
      "None\n",
      "Train on 60 samples, validate on 30 samples\n",
      "Epoch 1/5\n",
      "60/60 [==============================] - 2s 36ms/step - loss: 1.2172 - accuracy: 0.4000 - val_loss: 0.6595 - val_accuracy: 0.5000\n",
      "Epoch 2/5\n",
      "60/60 [==============================] - 2s 29ms/step - loss: 0.9027 - accuracy: 0.5167 - val_loss: 0.4966 - val_accuracy: 0.7667\n",
      "Epoch 3/5\n",
      "60/60 [==============================] - 1s 21ms/step - loss: 0.8301 - accuracy: 0.6000 - val_loss: 0.4082 - val_accuracy: 0.8333\n",
      "Epoch 4/5\n",
      "60/60 [==============================] - 1s 23ms/step - loss: 0.6976 - accuracy: 0.6167 - val_loss: 0.3596 - val_accuracy: 0.9333\n",
      "Epoch 5/5\n",
      "60/60 [==============================] - 1s 21ms/step - loss: 0.4203 - accuracy: 0.7833 - val_loss: 0.2498 - val_accuracy: 1.0000\n",
      "Saved model to disk\n",
      ">#1 validation accuracy: 86.957\n",
      "Model input shape (110, 30)\n",
      "Model: \"sequential_2\"\n",
      "_________________________________________________________________\n",
      "Layer (type)                 Output Shape              Param #   \n",
      "=================================================================\n",
      "simple_rnn_2 (SimpleRNN)     (None, 110, 2)            66        \n",
      "_________________________________________________________________\n",
      "dropout_2 (Dropout)          (None, 110, 2)            0         \n",
      "_________________________________________________________________\n",
      "dense_3 (Dense)              (None, 110, 2)            6         \n",
      "_________________________________________________________________\n",
      "flatten_2 (Flatten)          (None, 220)               0         \n",
      "_________________________________________________________________\n",
      "dense_4 (Dense)              (None, 2)                 442       \n",
      "=================================================================\n",
      "Total params: 514\n",
      "Trainable params: 514\n",
      "Non-trainable params: 0\n",
      "_________________________________________________________________\n",
      "None\n",
      "Train on 60 samples, validate on 30 samples\n",
      "Epoch 1/5\n",
      "60/60 [==============================] - 2s 32ms/step - loss: 0.8917 - accuracy: 0.5167 - val_loss: 0.5094 - val_accuracy: 0.8667\n",
      "Epoch 2/5\n",
      "60/60 [==============================] - 1s 22ms/step - loss: 0.5365 - accuracy: 0.7333 - val_loss: 0.2922 - val_accuracy: 0.9333\n",
      "Epoch 3/5\n",
      "60/60 [==============================] - 1s 21ms/step - loss: 0.3423 - accuracy: 0.8667 - val_loss: 0.2182 - val_accuracy: 0.9667\n",
      "Epoch 4/5\n",
      "60/60 [==============================] - 2s 29ms/step - loss: 0.3384 - accuracy: 0.8667 - val_loss: 0.1514 - val_accuracy: 1.0000\n",
      "Epoch 5/5\n",
      "60/60 [==============================] - 1s 22ms/step - loss: 0.3404 - accuracy: 0.8333 - val_loss: 0.0907 - val_accuracy: 1.0000\n",
      "Saved model to disk\n",
      ">#2 validation accuracy: 91.304\n",
      "Model input shape (110, 30)\n",
      "Model: \"sequential_3\"\n",
      "_________________________________________________________________\n",
      "Layer (type)                 Output Shape              Param #   \n",
      "=================================================================\n",
      "simple_rnn_3 (SimpleRNN)     (None, 110, 2)            66        \n",
      "_________________________________________________________________\n",
      "dropout_3 (Dropout)          (None, 110, 2)            0         \n",
      "_________________________________________________________________\n",
      "dense_5 (Dense)              (None, 110, 2)            6         \n",
      "_________________________________________________________________\n",
      "flatten_3 (Flatten)          (None, 220)               0         \n",
      "_________________________________________________________________\n",
      "dense_6 (Dense)              (None, 2)                 442       \n",
      "=================================================================\n",
      "Total params: 514\n",
      "Trainable params: 514\n",
      "Non-trainable params: 0\n",
      "_________________________________________________________________\n",
      "None\n",
      "Train on 60 samples, validate on 30 samples\n",
      "Epoch 1/5\n",
      "60/60 [==============================] - 2s 33ms/step - loss: 0.7339 - accuracy: 0.5667 - val_loss: 0.7435 - val_accuracy: 0.2667\n",
      "Epoch 2/5\n",
      "60/60 [==============================] - 2s 31ms/step - loss: 0.6855 - accuracy: 0.6000 - val_loss: 0.7093 - val_accuracy: 0.4667\n",
      "Epoch 3/5\n",
      "60/60 [==============================] - 1s 21ms/step - loss: 0.6866 - accuracy: 0.6000 - val_loss: 0.6917 - val_accuracy: 0.4333\n",
      "Epoch 4/5\n",
      "60/60 [==============================] - 1s 24ms/step - loss: 0.6437 - accuracy: 0.6333 - val_loss: 0.6518 - val_accuracy: 0.6667\n",
      "Epoch 5/5\n",
      "60/60 [==============================] - 2s 26ms/step - loss: 0.6486 - accuracy: 0.6667 - val_loss: 0.6557 - val_accuracy: 0.5667\n",
      "Saved model to disk\n",
      ">#3 validation accuracy: 73.913\n",
      "Model input shape (110, 30)\n",
      "Model: \"sequential_4\"\n",
      "_________________________________________________________________\n",
      "Layer (type)                 Output Shape              Param #   \n",
      "=================================================================\n",
      "simple_rnn_4 (SimpleRNN)     (None, 110, 2)            66        \n",
      "_________________________________________________________________\n",
      "dropout_4 (Dropout)          (None, 110, 2)            0         \n",
      "_________________________________________________________________\n",
      "dense_7 (Dense)              (None, 110, 2)            6         \n",
      "_________________________________________________________________\n",
      "flatten_4 (Flatten)          (None, 220)               0         \n",
      "_________________________________________________________________\n",
      "dense_8 (Dense)              (None, 2)                 442       \n",
      "=================================================================\n",
      "Total params: 514\n",
      "Trainable params: 514\n",
      "Non-trainable params: 0\n",
      "_________________________________________________________________\n",
      "None\n",
      "Train on 60 samples, validate on 30 samples\n",
      "Epoch 1/5\n",
      "60/60 [==============================] - 2s 37ms/step - loss: 0.9929 - accuracy: 0.4333 - val_loss: 0.6200 - val_accuracy: 0.6000\n",
      "Epoch 2/5\n",
      "60/60 [==============================] - 1s 18ms/step - loss: 0.5974 - accuracy: 0.6500 - val_loss: 0.4852 - val_accuracy: 0.7333\n",
      "Epoch 3/5\n",
      "60/60 [==============================] - 1s 18ms/step - loss: 0.5867 - accuracy: 0.6333 - val_loss: 0.4812 - val_accuracy: 0.7667\n",
      "Epoch 4/5\n",
      "60/60 [==============================] - 1s 18ms/step - loss: 0.5068 - accuracy: 0.7000 - val_loss: 0.3943 - val_accuracy: 0.9667\n",
      "Epoch 5/5\n",
      "60/60 [==============================] - 1s 18ms/step - loss: 0.3748 - accuracy: 0.8833 - val_loss: 0.3505 - val_accuracy: 0.9667\n",
      "Saved model to disk\n",
      ">#4 validation accuracy: 91.304\n",
      "Model input shape (110, 30)\n",
      "Model: \"sequential_5\"\n",
      "_________________________________________________________________\n",
      "Layer (type)                 Output Shape              Param #   \n",
      "=================================================================\n",
      "simple_rnn_5 (SimpleRNN)     (None, 110, 2)            66        \n",
      "_________________________________________________________________\n",
      "dropout_5 (Dropout)          (None, 110, 2)            0         \n",
      "_________________________________________________________________\n",
      "dense_9 (Dense)              (None, 110, 2)            6         \n",
      "_________________________________________________________________\n",
      "flatten_5 (Flatten)          (None, 220)               0         \n",
      "_________________________________________________________________\n",
      "dense_10 (Dense)             (None, 2)                 442       \n",
      "=================================================================\n",
      "Total params: 514\n",
      "Trainable params: 514\n",
      "Non-trainable params: 0\n",
      "_________________________________________________________________\n",
      "None\n"
     ]
    },
    {
     "name": "stdout",
     "output_type": "stream",
     "text": [
      "Train on 60 samples, validate on 30 samples\n",
      "Epoch 1/5\n",
      "60/60 [==============================] - 2s 35ms/step - loss: 0.8854 - accuracy: 0.5333 - val_loss: 0.5866 - val_accuracy: 0.6667\n",
      "Epoch 2/5\n",
      "60/60 [==============================] - 1s 18ms/step - loss: 0.6576 - accuracy: 0.6667 - val_loss: 0.4367 - val_accuracy: 0.9000\n",
      "Epoch 3/5\n",
      "60/60 [==============================] - 1s 21ms/step - loss: 0.5598 - accuracy: 0.7000 - val_loss: 0.3281 - val_accuracy: 0.9000\n",
      "Epoch 4/5\n",
      "60/60 [==============================] - 1s 18ms/step - loss: 0.4921 - accuracy: 0.7667 - val_loss: 0.3109 - val_accuracy: 0.9000\n",
      "Epoch 5/5\n",
      "60/60 [==============================] - 1s 19ms/step - loss: 0.3898 - accuracy: 0.8167 - val_loss: 0.2394 - val_accuracy: 0.9333\n",
      "Saved model to disk\n",
      ">#5 validation accuracy: 100.000\n",
      "[86.95651888847351, 91.30434989929199, 73.9130437374115, 91.30434989929199, 100.0]\n",
      "Accuracy: 88.696% (+/-8.520)\n"
     ]
    }
   ],
   "source": [
    "run_experiment()"
   ]
  },
  {
   "cell_type": "markdown",
   "metadata": {},
   "source": [
    "## Plots"
   ]
  },
  {
   "cell_type": "code",
   "execution_count": 19,
   "metadata": {},
   "outputs": [
    {
     "data": {
      "image/png": "[encoded data removed]",
      "text/plain": [
       "<Figure size 432x288 with 1 Axes>"
      ]
     },
     "metadata": {
      "needs_background": "light"
     },
     "output_type": "display_data"
    }
   ],
   "source": [
    "pyplot.plot(train_loss_history['3'], color='blue', label='train')\n",
    "pyplot.plot(val_loss_history['3'], color='orange', label='validation')\n",
    "pyplot.title('LSTM model train vs validation loss')\n",
    "pyplot.ylabel('loss')\n",
    "pyplot.xlabel('epoch')\n",
    "pyplot.legend(['train', 'validation'], loc='upper right')\n",
    "#pyplot.show()\n",
    "\n",
    "pyplot.savefig('model-train-vs-validation-loss.png')"
   ]
  },
  {
   "cell_type": "code",
   "execution_count": 20,
   "metadata": {},
   "outputs": [
    {
     "data": {
      "image/png": "[encoded data removed]",
      "text/plain": [
       "<Figure size 432x288 with 1 Axes>"
      ]
     },
     "metadata": {
      "needs_background": "light"
     },
     "output_type": "display_data"
    }
   ],
   "source": [
    "pyplot.plot(train_accuracy_history['3'], color='blue', label='train')\n",
    "pyplot.plot(val_accuracy_history['3'], color='orange', label='validation')\n",
    "pyplot.title('LSTM model train vs validation accuracy')\n",
    "pyplot.ylabel('accuracy')\n",
    "pyplot.xlabel('epoch')\n",
    "pyplot.legend(['train', 'validation'], loc='upper right')\n",
    "#pyplot.show()\n",
    "\n",
    "pyplot.savefig('model-train-vs-validation-accuracy.png')"
   ]
  },
  {
   "cell_type": "markdown",
   "metadata": {},
   "source": [
    "## Sample"
   ]
  },
  {
   "cell_type": "code",
   "execution_count": 203,
   "metadata": {},
   "outputs": [],
   "source": [
    "example_sample_idx = 89\n",
    "model_history_idx = 3\n",
    "\n",
    "example_sample_dir_name = sample_dir_names[example_sample_idx]\n",
    "example_sample = padded_samples_ndarray[example_sample_idx]\n",
    "example_model = model_history[model_history_idx]"
   ]
  },
  {
   "cell_type": "markdown",
   "metadata": {},
   "source": [
    "## Predictions"
   ]
  },
  {
   "cell_type": "code",
   "execution_count": 204,
   "metadata": {},
   "outputs": [
    {
     "name": "stdout",
     "output_type": "stream",
     "text": [
      "Name=backflip-40-margus, X=0, Predicted=0, Actual=0, same=True\n",
      "Name=flack-31-rasmus, X=1, Predicted=1, Actual=1, same=True\n",
      "Name=flack-19-rasmus, X=2, Predicted=1, Actual=1, same=True\n",
      "Name=flack-59-martin, X=3, Predicted=1, Actual=1, same=True\n",
      "Name=backflip-66-allar, X=4, Predicted=0, Actual=0, same=True\n",
      "Name=flack-55-martin, X=5, Predicted=1, Actual=1, same=True\n",
      "Name=flack-68-rasmus, X=6, Predicted=1, Actual=1, same=True\n",
      "Name=backflip-23-tiit, X=7, Predicted=0, Actual=0, same=True\n",
      "Name=flack-7-hendrik, X=8, Predicted=1, Actual=1, same=True\n",
      "Name=flack-4-martin, X=9, Predicted=1, Actual=1, same=True\n",
      "Name=flack-15-rasmus, X=10, Predicted=1, Actual=1, same=True\n",
      "Name=flack-36-hendrik, X=11, Predicted=1, Actual=1, same=True\n",
      "Name=backflip-64-allar, X=12, Predicted=0, Actual=0, same=True\n",
      "Name=backflip-6-rasmus, X=13, Predicted=0, Actual=0, same=True\n",
      "Name=flack-82-martin, X=14, Predicted=1, Actual=1, same=True\n",
      "Name=flack-35-margus, X=15, Predicted=1, Actual=1, same=True\n",
      "Name=backflip-38-mario, X=16, Predicted=0, Actual=0, same=True\n",
      "Name=flack-39-margus, X=17, Predicted=1, Actual=1, same=True\n",
      "Name=backflip-32-hendrik, X=18, Predicted=0, Actual=0, same=True\n",
      "Name=backflip-20-martin, X=19, Predicted=0, Actual=0, same=True\n",
      "Name=flack-25-margus, X=20, Predicted=1, Actual=1, same=True\n",
      "Name=flack-29-julia, X=21, Predicted=1, Actual=1, same=True\n",
      "Name=backflip-8-rasmus, X=22, Predicted=0, Actual=0, same=True\n",
      "Name=flack-80-martin, X=23, Predicted=1, Actual=1, same=True\n",
      "Name=backflip-4-rasmus, X=24, Predicted=0, Actual=0, same=True\n",
      "Name=backflip-54-rasmus, X=25, Predicted=0, Actual=0, same=True\n",
      "Name=backflip-48-joosep, X=26, Predicted=0, Actual=0, same=True\n",
      "Name=backflip-47-dagne, X=27, Predicted=0, Actual=0, same=True\n",
      "Name=flack-33-rasmus, X=28, Predicted=1, Actual=1, same=True\n",
      "Name=flack-61-martin, X=29, Predicted=1, Actual=1, same=True\n",
      "Name=flack-17-rasmus, X=30, Predicted=1, Actual=1, same=True\n",
      "Name=flack-57-martin, X=31, Predicted=1, Actual=1, same=True\n",
      "Name=flack-6-hendrik, X=32, Predicted=1, Actual=1, same=True\n",
      "Name=flack-37-hendrik, X=33, Predicted=1, Actual=1, same=True\n",
      "Name=flack-66-rasmus, X=34, Predicted=1, Actual=1, same=True\n",
      "Name=backflip-65-allar, X=35, Predicted=0, Actual=0, same=True\n",
      "Name=flack-84-martin, X=36, Predicted=1, Actual=1, same=True\n",
      "Name=backflip-31-hendrik, X=37, Predicted=0, Actual=0, same=True\n",
      "Name=flack-62-rasmus, X=38, Predicted=1, Actual=1, same=True\n",
      "Name=flack-50-kristiin, X=39, Predicted=1, Actual=1, same=True\n",
      "Name=flack-70-rasmus, X=40, Predicted=1, Actual=1, same=True\n",
      "Name=backflip-58-margus, X=41, Predicted=0, Actual=0, same=True\n",
      "Name=backflip-25-tiit, X=42, Predicted=0, Actual=0, same=True\n",
      "Name=backflip-24-tiit, X=43, Predicted=0, Actual=0, same=True\n",
      "Name=backflip-63-allar, X=44, Predicted=0, Actual=0, same=True\n",
      "Name=backflip-46-dagne, X=45, Predicted=0, Actual=0, same=True\n",
      "Name=backflip-56-margus, X=46, Predicted=0, Actual=0, same=True\n",
      "Name=backflip-39-margus, X=47, Predicted=0, Actual=0, same=True\n",
      "Name=flack-79-martin, X=48, Predicted=1, Actual=1, same=True\n",
      "Name=flack-47-kristiin, X=49, Predicted=0, Actual=1, same=False\n",
      "Name=flack-46-kristiin, X=50, Predicted=1, Actual=1, same=True\n",
      "Name=backflip-50-joosep, X=51, Predicted=1, Actual=0, same=False\n",
      "Name=flack-28-julia, X=52, Predicted=1, Actual=1, same=True\n",
      "Name=flack-40-margus, X=53, Predicted=1, Actual=1, same=True\n",
      "Name=backflip-30-hendrik, X=54, Predicted=0, Actual=0, same=True\n",
      "Name=backflip-52-rasmus, X=55, Predicted=1, Actual=0, same=False\n",
      "Name=flack-9-hendrik, X=56, Predicted=1, Actual=1, same=True\n",
      "Name=flack-38-hendrik, X=57, Predicted=1, Actual=1, same=True\n",
      "Name=flack-83-martin, X=58, Predicted=1, Actual=1, same=True\n",
      "Name=backflip-7-rasmus, X=59, Predicted=0, Actual=0, same=True\n",
      "Name=flack-26-margus, X=60, Predicted=1, Actual=1, same=True\n",
      "Name=flack-58-martin, X=61, Predicted=1, Actual=1, same=True\n",
      "Name=backflip-27-tiit, X=62, Predicted=0, Actual=0, same=True\n",
      "Name=flack-65-rasmus, X=63, Predicted=1, Actual=1, same=True\n",
      "Name=backflip-43-kristjan, X=64, Predicted=0, Actual=0, same=True\n",
      "Name=flack-5-martin, X=65, Predicted=1, Actual=1, same=True\n",
      "Name=flack-69-rasmus, X=66, Predicted=1, Actual=1, same=True\n",
      "Name=backflip-61-hendrik, X=67, Predicted=0, Actual=0, same=True\n",
      "Name=flack-30-rasmus, X=68, Predicted=0, Actual=1, same=False\n",
      "Name=backflip-33-mario, X=69, Predicted=0, Actual=0, same=True\n",
      "Name=flack-56-martin, X=70, Predicted=1, Actual=1, same=True\n",
      "Name=flack-16-rasmus, X=71, Predicted=1, Actual=1, same=True\n",
      "Name=backflip-37-mario, X=72, Predicted=0, Actual=0, same=True\n",
      "Name=flack-67-rasmus, X=73, Predicted=1, Actual=1, same=True\n",
      "Name=flack-20-allar, X=74, Predicted=1, Actual=1, same=True\n",
      "Name=flack-32-rasmus, X=75, Predicted=1, Actual=1, same=True\n",
      "Name=backflip-60-hendrik, X=76, Predicted=0, Actual=0, same=True\n",
      "Name=flack-60-martin, X=77, Predicted=1, Actual=1, same=True\n",
      "Name=backflip-2-allar, X=78, Predicted=0, Actual=0, same=True\n",
      "Name=backflip-26-tiit, X=79, Predicted=0, Actual=0, same=True\n",
      "Name=flack-49-kristiin, X=80, Predicted=0, Actual=1, same=False\n",
      "Name=flack-48-kristiin, X=81, Predicted=0, Actual=1, same=False\n",
      "Name=backflip-49-joosep, X=82, Predicted=0, Actual=0, same=True\n",
      "Name=backflip-19-martin, X=83, Predicted=0, Actual=0, same=True\n",
      "Name=backflip-35-mario, X=84, Predicted=0, Actual=0, same=True\n",
      "Name=backflip-55-rasmus, X=85, Predicted=1, Actual=0, same=False\n",
      "Name=backflip-5-rasmus, X=86, Predicted=0, Actual=0, same=True\n",
      "Name=flack-81-martin, X=87, Predicted=1, Actual=1, same=True\n",
      "Name=flack-27-julia, X=88, Predicted=1, Actual=1, same=True\n",
      "Name=flack-44-kristiin, X=89, Predicted=0, Actual=1, same=False\n",
      "Name=flack-45-kristiin, X=90, Predicted=0, Actual=1, same=False\n",
      "Name=backflip-59-margus, X=91, Predicted=0, Actual=0, same=True\n",
      "Name=flack-63-rasmus, X=92, Predicted=1, Actual=1, same=True\n",
      "Name=backflip-10-hendrik, X=93, Predicted=0, Actual=0, same=True\n",
      "Name=flack-71-rasmus, X=94, Predicted=1, Actual=1, same=True\n",
      "Name=flack-3-martin, X=95, Predicted=1, Actual=1, same=True\n",
      "Name=flack-24-belinda, X=96, Predicted=1, Actual=1, same=True\n",
      "Name=flack-12-rasmus, X=97, Predicted=1, Actual=1, same=True\n",
      "Name=backflip-51-rasmus, X=98, Predicted=0, Actual=0, same=True\n",
      "Name=backflip-1-allar, X=99, Predicted=0, Actual=0, same=True\n",
      "Name=backflip-53-rasmus, X=100, Predicted=0, Actual=0, same=True\n",
      "Name=backflip-34-mario, X=101, Predicted=0, Actual=0, same=True\n",
      "Name=flack-34-rasmus, X=102, Predicted=1, Actual=1, same=True\n",
      "Name=flack-21-allar, X=103, Predicted=1, Actual=1, same=True\n",
      "Name=backflip-36-mario, X=104, Predicted=0, Actual=0, same=True\n",
      "Name=backflip-57-margus, X=105, Predicted=0, Actual=0, same=True\n",
      "Name=flack-78-martin, X=106, Predicted=1, Actual=1, same=True\n",
      "Name=backflip-44-kristjan, X=107, Predicted=0, Actual=0, same=True\n",
      "Name=backflip-45-kristjan, X=108, Predicted=0, Actual=0, same=True\n",
      "Name=flack-1-martin, X=109, Predicted=1, Actual=1, same=True\n",
      "Name=flack-10-rasmus, X=110, Predicted=1, Actual=1, same=True\n",
      "Name=backflip-3-allar, X=111, Predicted=0, Actual=0, same=True\n",
      "Name=backflip-9-hendrik, X=112, Predicted=0, Actual=0, same=True\n"
     ]
    }
   ],
   "source": [
    "def predictions(loaded_model, samples, sample_dir_names, y_labels):\n",
    "    ynew = loaded_model.predict_classes(samples)\n",
    "    # show the inputs and predicted outputs\n",
    "    for i in range(len(samples)):\n",
    "        pred_y = ynew[i]\n",
    "        actual_y = y_labels[i]\n",
    "    \n",
    "        same = False\n",
    "        if pred_y == actual_y:\n",
    "            same = True\n",
    "    \n",
    "        print(\"Name=%s, X=%s, Predicted=%s, Actual=%s, same=%s\" % (sample_dir_names[i], i, pred_y, actual_y, same))\n",
    "    \n",
    "predictions(example_model, padded_samples_ndarray, sample_dir_names, y_labels)"
   ]
  },
  {
   "cell_type": "markdown",
   "metadata": {},
   "source": [
    "## Activation"
   ]
  },
  {
   "cell_type": "code",
   "execution_count": 205,
   "metadata": {},
   "outputs": [
    {
     "name": "stdout",
     "output_type": "stream",
     "text": [
      "flack-44-kristiin\n",
      "(110, 30)\n",
      "['simple_rnn_4', 'dropout_4', 'dense_7', 'flatten_4', 'dense_8']\n",
      "n_timesteps: 110, n_features: 30\n",
      "[[ 1.         -1.        ]\n",
      " [ 1.         -1.        ]\n",
      " [ 1.         -1.        ]\n",
      " [ 1.         -1.        ]\n",
      " [ 1.         -1.        ]\n",
      " [ 1.         -1.        ]\n",
      " [ 1.         -1.        ]\n",
      " [ 1.         -1.        ]\n",
      " [ 1.         -1.        ]\n",
      " [ 1.         -1.        ]\n",
      " [ 1.          1.        ]\n",
      " [ 0.9999999   1.        ]\n",
      " [ 0.99723554  1.        ]\n",
      " [-0.99999994  1.        ]\n",
      " [-1.          1.        ]\n",
      " [-1.          1.        ]\n",
      " [-0.986947    1.        ]\n",
      " [ 1.          1.        ]\n",
      " [ 1.          1.        ]\n",
      " [ 1.          1.        ]\n",
      " [ 0.9999999   1.        ]\n",
      " [-0.81593996  1.        ]\n",
      " [-0.9999243   1.        ]\n",
      " [-1.          1.        ]\n",
      " [-1.          1.        ]\n",
      " [-1.          1.        ]\n",
      " [-1.          1.        ]\n",
      " [-1.          1.        ]\n",
      " [-1.          1.        ]\n",
      " [-1.         -0.99988794]\n",
      " [-1.         -1.        ]\n",
      " [-1.         -1.        ]\n",
      " [-1.         -1.        ]\n",
      " [-1.         -1.        ]\n",
      " [-1.         -1.        ]\n",
      " [-1.         -1.        ]\n",
      " [-1.         -1.        ]\n",
      " [-1.         -1.        ]\n",
      " [-1.         -1.        ]\n",
      " [-1.         -1.        ]\n",
      " [-1.         -1.        ]\n",
      " [-1.         -1.        ]\n",
      " [-1.         -1.        ]\n",
      " [-1.         -1.        ]\n",
      " [-1.          1.        ]\n",
      " [-1.          1.        ]\n",
      " [-1.         -1.        ]\n",
      " [-1.         -1.        ]\n",
      " [-1.         -1.        ]\n",
      " [-1.         -1.        ]\n",
      " [-1.         -1.        ]\n",
      " [-1.         -1.        ]\n",
      " [-1.         -1.        ]\n",
      " [-1.         -1.        ]\n",
      " [-1.         -1.        ]\n",
      " [-1.         -1.        ]\n",
      " [-1.         -1.        ]\n",
      " [-1.         -1.        ]\n",
      " [-1.         -1.        ]\n",
      " [-1.         -1.        ]\n",
      " [-1.         -1.        ]\n",
      " [-1.         -1.        ]\n",
      " [-1.         -1.        ]\n",
      " [-1.         -1.        ]\n",
      " [-1.         -1.        ]\n",
      " [-1.          1.        ]\n",
      " [-1.          1.        ]\n",
      " [-1.          1.        ]\n",
      " [-1.          1.        ]\n",
      " [-1.         -0.9999995 ]\n",
      " [-1.         -1.        ]\n",
      " [-1.         -1.        ]\n",
      " [-1.         -1.        ]\n",
      " [-1.         -1.        ]\n",
      " [-1.         -1.        ]\n",
      " [-1.         -1.        ]\n",
      " [-1.         -1.        ]\n",
      " [-1.         -1.        ]\n",
      " [-1.         -1.        ]\n",
      " [-1.         -1.        ]\n",
      " [-1.         -1.        ]\n",
      " [-1.         -1.        ]\n",
      " [-1.         -1.        ]\n",
      " [-1.         -1.        ]\n",
      " [-1.         -1.        ]\n",
      " [-1.         -1.        ]\n",
      " [-1.         -1.        ]\n",
      " [-1.         -1.        ]\n",
      " [-1.         -1.        ]\n",
      " [-1.         -1.        ]\n",
      " [ 0.8614707  -0.4885731 ]\n",
      " [-0.57534516 -0.623426  ]\n",
      " [ 0.63738185 -0.3213215 ]\n",
      " [-0.46814594 -0.45459884]\n",
      " [ 0.52838063 -0.20943566]\n",
      " [-0.41982892 -0.33176106]\n",
      " [ 0.45838556 -0.11353994]\n",
      " [-0.39525917 -0.22461417]\n",
      " [ 0.4062188  -0.02164482]\n",
      " [-0.38325307 -0.12190467]\n",
      " [ 0.36309975  0.07100874]\n",
      " [-0.37871283 -0.01910414]\n",
      " [ 0.32466137  0.16519172]\n",
      " [-0.37845293  0.08384021]\n",
      " [ 0.28878078  0.25804287]\n",
      " [-0.3798264   0.18290524]\n",
      " [ 0.25490257  0.3436528 ]\n",
      " [-0.3804483   0.2713812 ]\n",
      " [ 0.22356164  0.415429  ]\n",
      " [-0.3785945   0.34319326]]\n"
     ]
    },
    {
     "data": {
      "text/plain": [
       "(110, 2)"
      ]
     },
     "execution_count": 205,
     "metadata": {},
     "output_type": "execute_result"
    }
   ],
   "source": [
    "layer_names = [layer.name for layer in example_model.layers]\n",
    "\n",
    "print(example_sample_dir_name)\n",
    "print(example_sample.shape)\n",
    "print(layer_names)\n",
    "\n",
    "def activations(model, example_sample): \n",
    "    n_timesteps, n_features = example_sample.shape[0], example_sample.shape[1]\n",
    "    \n",
    "    print(f\"n_timesteps: {n_timesteps}, n_features: {n_features}\")\n",
    "    \n",
    "    x = np.zeros((1, n_timesteps, n_features))\n",
    "    \n",
    "    for t, timestep in enumerate(example_sample):\n",
    "        for f, feature in enumerate(timestep):\n",
    "            x[0, t, f] = example_sample[t][f]\n",
    "                \n",
    "    output = model.get_layer('simple_rnn_4').output\n",
    "    \n",
    "    f = K.function([model.input], [output])\n",
    "    \n",
    "    return f([x])[0][0]\n",
    "\n",
    "\n",
    "act = activations(model_history[model_history_idx], example_sample)\n",
    "print(act)\n",
    "act.shape"
   ]
  },
  {
   "cell_type": "code",
   "execution_count": 206,
   "metadata": {},
   "outputs": [
    {
     "data": {
      "image/png": "[encoded data removed]",
      "text/plain": [
       "<IPython.core.display.Image object>"
      ]
     },
     "metadata": {},
     "output_type": "display_data"
    },
    {
     "data": {
      "image/png": "[encoded data removed]",
      "text/plain": [
       "<IPython.core.display.Image object>"
      ]
     },
     "metadata": {},
     "output_type": "display_data"
    },
    {
     "data": {
      "image/png": "[encoded data removed]",
      "text/plain": [
       "<IPython.core.display.Image object>"
      ]
     },
     "metadata": {},
     "output_type": "display_data"
    },
    {
     "data": {
      "image/png": "[encoded data removed]",
      "text/plain": [
       "<IPython.core.display.Image object>"
      ]
     },
     "metadata": {},
     "output_type": "display_data"
    }
   ],
   "source": [
    "from io import BytesIO\n",
    "from PIL import Image as PILImage\n",
    "from PIL import ImageDraw\n",
    "from IPython.display import Image\n",
    "\n",
    "def get_image(img, n_timesteps, img_idx, cell_size=48):\n",
    "    img_width = n_timesteps * 25\n",
    "    cell_size = int(img_width / n_timesteps)\n",
    "    \n",
    "    pil_image = PILImage.fromarray(img.astype(np.uint8))\n",
    "    \n",
    "    resized_pil_image = pil_image.resize((img_width, cell_size))\n",
    "    #resized_pil_image = pil_image\n",
    "    \n",
    "    draw = ImageDraw.Draw(resized_pil_image)\n",
    "    \n",
    "    for n_timestep in range(n_timesteps):\n",
    "        text = str((img_idx * 30) + n_timestep)\n",
    "        xy = (n_timestep * cell_size, 0)\n",
    "        \n",
    "        draw.text(xy, text)\n",
    "        \n",
    "    f = BytesIO()\n",
    "    resized_pil_image.save(f, 'png')\n",
    "    return Image(data=f.getvalue())\n",
    "\n",
    "def visualize_neurons(act, cell_size=48):\n",
    "    n_neurons = act.shape[1]\n",
    "    n_timesteps = act.shape[0]\n",
    "    \n",
    "    fill_value = 128\n",
    "    \n",
    "    img = np.full((n_neurons + 1, n_timesteps, 3), fill_value)\n",
    "    \n",
    "    # add 1 to each value in matrix and then divide by 2\n",
    "    scores = (act[:, :].T + 1) / 2\n",
    "    \n",
    "    img[1:, :, 0] = 255 * (1 - scores)\n",
    "    img[1:, :, 1] = 255 * scores\n",
    "\n",
    "    first_hs_img = img[:, :30, :]\n",
    "    second_hs_img = img[:, 30:60, :]\n",
    "    third_hs_img = img[:, 60:90, :]\n",
    "    fourth_hs_img = img[:, 90:, :]\n",
    "    \n",
    "    imgs = [first_hs_img,\n",
    "            second_hs_img,\n",
    "            third_hs_img,\n",
    "            fourth_hs_img]\n",
    "    \n",
    "    actual_imgs = []\n",
    "    for i, img in enumerate(imgs):\n",
    "        n_img_timesteps = img.shape[1]\n",
    "        \n",
    "        actual_imgs.append(get_image(img, n_img_timesteps, i))\n",
    "    \n",
    "    return actual_imgs\n",
    "\n",
    "example_sample_imgs = visualize_neurons(act)\n",
    "\n",
    "for img in example_sample_imgs:\n",
    "    display(img)"
   ]
  },
  {
   "cell_type": "code",
   "execution_count": null,
   "metadata": {},
   "outputs": [],
   "source": []
  }
 ],
 "metadata": {
  "kernelspec": {
   "display_name": "openpose-jupyter-data-exploration",
   "language": "python",
   "name": "openpose-jupyter-data-exploration"
  },
  "language_info": {
   "codemirror_mode": {
    "name": "ipython",
    "version": 3
   },
   "file_extension": ".py",
   "mimetype": "text/x-python",
   "name": "python",
   "nbconvert_exporter": "python",
   "pygments_lexer": "ipython3",
   "version": "3.7.2"
  }
 },
 "nbformat": 4,
 "nbformat_minor": 2
}
