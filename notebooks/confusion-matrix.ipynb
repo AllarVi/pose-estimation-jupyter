{
 "cells": [
  {
   "cell_type": "code",
   "execution_count": 1,
   "metadata": {},
   "outputs": [
    {
     "name": "stderr",
     "output_type": "stream",
     "text": [
      "Using TensorFlow backend.\n"
     ]
    }
   ],
   "source": [
    "import pandas as pd\n",
    "import numpy as np\n",
    "import matplotlib.pyplot as plt\n",
    "from pandas import read_csv\n",
    "from pandas import DataFrame\n",
    "\n",
    "\n",
    "from numpy import dstack\n",
    "\n",
    "import copy\n",
    "\n",
    "import os\n",
    "from glob import glob\n",
    "\n",
    "from path import Path\n",
    "\n",
    "from numpy import mean\n",
    "from numpy import std\n",
    "\n",
    "from keras.models import Sequential\n",
    "from keras.layers import Dense\n",
    "from keras.layers import Flatten\n",
    "from keras.layers import Dropout\n",
    "from keras.layers import LSTM\n",
    "from keras.layers import Bidirectional\n",
    "\n",
    "from keras.models import model_from_json\n",
    "\n",
    "\n",
    "from keras.callbacks import EarlyStopping\n",
    "\n",
    "from keras.optimizers import Adam\n",
    "\n",
    "import random\n",
    "\n",
    "from keras.utils import to_categorical\n",
    "\n",
    "from sklearn.model_selection import train_test_split\n",
    "\n",
    "from matplotlib import pyplot\n"
   ]
  },
  {
   "cell_type": "markdown",
   "metadata": {},
   "source": [
    "## Load model"
   ]
  },
  {
   "cell_type": "code",
   "execution_count": 2,
   "metadata": {},
   "outputs": [
    {
     "name": "stdout",
     "output_type": "stream",
     "text": [
      "Loaded model from disk\n"
     ]
    }
   ],
   "source": [
    "# load json and create model\n",
    "json_file = open('model-output/model-0.json', 'r')\n",
    "loaded_model_json = json_file.read()\n",
    "json_file.close()\n",
    "loaded_model = model_from_json(loaded_model_json)\n",
    "# load weights into new model\n",
    "loaded_model.load_weights(\"model-output/model-0.h5\")\n",
    "print(\"Loaded model from disk\")"
   ]
  },
  {
   "cell_type": "markdown",
   "metadata": {},
   "source": [
    "## Load samples"
   ]
  },
  {
   "cell_type": "code",
   "execution_count": 3,
   "metadata": {},
   "outputs": [],
   "source": [
    "from helpers.classes.data_loader import DataLoader\n",
    "\n",
    "root_path = \"/Users/allarviinamae/EduWorkspace/openpose-jupyter-data-exploration/centered-keypoints\"\n",
    "\n",
    "sample_dir_names = [n for n in os.listdir(root_path) if os.path.isdir(f\"{root_path}/{n}\")]\n",
    "\n",
    "samples = DataLoader.get_samples_list(sample_dir_names, root_path)\n",
    "\n",
    "y_labels = DataLoader.get_y_labels(sample_dir_names) # classifier labels, where 0 = backflip and 1 = flack"
   ]
  },
  {
   "cell_type": "code",
   "execution_count": 4,
   "metadata": {},
   "outputs": [],
   "source": [
    "from helpers.classes.padder import Padder\n",
    "\n",
    "padded_samples_ndarray = np.asarray(Padder.get_padded_samples(samples))"
   ]
  },
  {
   "cell_type": "markdown",
   "metadata": {},
   "source": [
    "## Predict"
   ]
  },
  {
   "cell_type": "code",
   "execution_count": 5,
   "metadata": {},
   "outputs": [
    {
     "name": "stdout",
     "output_type": "stream",
     "text": [
      "Name=backflip-40-margus, X=0, Predicted=1, Actual=0, same=False\n",
      "Name=flack-31-rasmus, X=1, Predicted=1, Actual=1, same=True\n",
      "Name=flack-19-rasmus, X=2, Predicted=1, Actual=1, same=True\n",
      "Name=flack-59-martin, X=3, Predicted=1, Actual=1, same=True\n",
      "Name=backflip-66-allar, X=4, Predicted=0, Actual=0, same=True\n",
      "Name=flack-55-martin, X=5, Predicted=1, Actual=1, same=True\n",
      "Name=flack-68-rasmus, X=6, Predicted=1, Actual=1, same=True\n",
      "Name=backflip-23-tiit, X=7, Predicted=0, Actual=0, same=True\n",
      "Name=flack-7-hendrik, X=8, Predicted=1, Actual=1, same=True\n",
      "Name=flack-4-martin, X=9, Predicted=1, Actual=1, same=True\n",
      "Name=flack-15-rasmus, X=10, Predicted=1, Actual=1, same=True\n",
      "Name=flack-36-hendrik, X=11, Predicted=1, Actual=1, same=True\n",
      "Name=backflip-64-allar, X=12, Predicted=1, Actual=0, same=False\n",
      "Name=backflip-6-rasmus, X=13, Predicted=0, Actual=0, same=True\n",
      "Name=flack-82-martin, X=14, Predicted=1, Actual=1, same=True\n",
      "Name=flack-35-margus, X=15, Predicted=1, Actual=1, same=True\n",
      "Name=backflip-38-mario, X=16, Predicted=0, Actual=0, same=True\n",
      "Name=flack-39-margus, X=17, Predicted=1, Actual=1, same=True\n",
      "Name=backflip-32-hendrik, X=18, Predicted=0, Actual=0, same=True\n",
      "Name=backflip-20-martin, X=19, Predicted=0, Actual=0, same=True\n",
      "Name=flack-25-margus, X=20, Predicted=1, Actual=1, same=True\n",
      "Name=flack-29-julia, X=21, Predicted=1, Actual=1, same=True\n",
      "Name=backflip-8-rasmus, X=22, Predicted=0, Actual=0, same=True\n",
      "Name=flack-80-martin, X=23, Predicted=1, Actual=1, same=True\n",
      "Name=backflip-4-rasmus, X=24, Predicted=0, Actual=0, same=True\n",
      "Name=backflip-54-rasmus, X=25, Predicted=0, Actual=0, same=True\n",
      "Name=backflip-48-joosep, X=26, Predicted=0, Actual=0, same=True\n",
      "Name=backflip-47-dagne, X=27, Predicted=1, Actual=0, same=False\n",
      "Name=flack-33-rasmus, X=28, Predicted=1, Actual=1, same=True\n",
      "Name=flack-61-martin, X=29, Predicted=1, Actual=1, same=True\n",
      "Name=flack-17-rasmus, X=30, Predicted=1, Actual=1, same=True\n",
      "Name=flack-57-martin, X=31, Predicted=1, Actual=1, same=True\n",
      "Name=flack-6-hendrik, X=32, Predicted=1, Actual=1, same=True\n",
      "Name=flack-37-hendrik, X=33, Predicted=1, Actual=1, same=True\n",
      "Name=flack-66-rasmus, X=34, Predicted=1, Actual=1, same=True\n",
      "Name=backflip-65-allar, X=35, Predicted=0, Actual=0, same=True\n",
      "Name=flack-84-martin, X=36, Predicted=1, Actual=1, same=True\n",
      "Name=backflip-31-hendrik, X=37, Predicted=0, Actual=0, same=True\n",
      "Name=flack-62-rasmus, X=38, Predicted=1, Actual=1, same=True\n",
      "Name=flack-50-kristiin, X=39, Predicted=1, Actual=1, same=True\n",
      "Name=flack-70-rasmus, X=40, Predicted=1, Actual=1, same=True\n",
      "Name=backflip-58-margus, X=41, Predicted=0, Actual=0, same=True\n",
      "Name=backflip-25-tiit, X=42, Predicted=1, Actual=0, same=False\n",
      "Name=backflip-24-tiit, X=43, Predicted=0, Actual=0, same=True\n",
      "Name=backflip-63-allar, X=44, Predicted=0, Actual=0, same=True\n",
      "Name=backflip-46-dagne, X=45, Predicted=1, Actual=0, same=False\n",
      "Name=backflip-56-margus, X=46, Predicted=0, Actual=0, same=True\n",
      "Name=backflip-39-margus, X=47, Predicted=1, Actual=0, same=False\n",
      "Name=flack-79-martin, X=48, Predicted=1, Actual=1, same=True\n",
      "Name=flack-47-kristiin, X=49, Predicted=1, Actual=1, same=True\n",
      "Name=flack-46-kristiin, X=50, Predicted=1, Actual=1, same=True\n",
      "Name=backflip-50-joosep, X=51, Predicted=1, Actual=0, same=False\n",
      "Name=flack-28-julia, X=52, Predicted=1, Actual=1, same=True\n",
      "Name=flack-40-margus, X=53, Predicted=1, Actual=1, same=True\n",
      "Name=backflip-30-hendrik, X=54, Predicted=0, Actual=0, same=True\n",
      "Name=backflip-52-rasmus, X=55, Predicted=0, Actual=0, same=True\n",
      "Name=flack-9-hendrik, X=56, Predicted=1, Actual=1, same=True\n",
      "Name=flack-38-hendrik, X=57, Predicted=1, Actual=1, same=True\n",
      "Name=flack-83-martin, X=58, Predicted=1, Actual=1, same=True\n",
      "Name=backflip-7-rasmus, X=59, Predicted=0, Actual=0, same=True\n",
      "Name=flack-26-margus, X=60, Predicted=1, Actual=1, same=True\n",
      "Name=flack-58-martin, X=61, Predicted=1, Actual=1, same=True\n",
      "Name=backflip-27-tiit, X=62, Predicted=0, Actual=0, same=True\n",
      "Name=flack-65-rasmus, X=63, Predicted=1, Actual=1, same=True\n",
      "Name=backflip-43-kristjan, X=64, Predicted=0, Actual=0, same=True\n",
      "Name=flack-5-martin, X=65, Predicted=1, Actual=1, same=True\n",
      "Name=flack-69-rasmus, X=66, Predicted=1, Actual=1, same=True\n",
      "Name=backflip-61-hendrik, X=67, Predicted=0, Actual=0, same=True\n",
      "Name=flack-30-rasmus, X=68, Predicted=1, Actual=1, same=True\n",
      "Name=backflip-33-mario, X=69, Predicted=0, Actual=0, same=True\n",
      "Name=flack-56-martin, X=70, Predicted=1, Actual=1, same=True\n",
      "Name=flack-16-rasmus, X=71, Predicted=1, Actual=1, same=True\n",
      "Name=backflip-37-mario, X=72, Predicted=0, Actual=0, same=True\n",
      "Name=flack-67-rasmus, X=73, Predicted=1, Actual=1, same=True\n",
      "Name=flack-20-allar, X=74, Predicted=1, Actual=1, same=True\n",
      "Name=flack-32-rasmus, X=75, Predicted=1, Actual=1, same=True\n",
      "Name=backflip-60-hendrik, X=76, Predicted=0, Actual=0, same=True\n",
      "Name=flack-60-martin, X=77, Predicted=1, Actual=1, same=True\n",
      "Name=backflip-2-allar, X=78, Predicted=0, Actual=0, same=True\n",
      "Name=backflip-26-tiit, X=79, Predicted=0, Actual=0, same=True\n",
      "Name=flack-49-kristiin, X=80, Predicted=1, Actual=1, same=True\n",
      "Name=flack-48-kristiin, X=81, Predicted=1, Actual=1, same=True\n",
      "Name=backflip-49-joosep, X=82, Predicted=0, Actual=0, same=True\n",
      "Name=backflip-19-martin, X=83, Predicted=0, Actual=0, same=True\n",
      "Name=backflip-35-mario, X=84, Predicted=0, Actual=0, same=True\n",
      "Name=backflip-55-rasmus, X=85, Predicted=0, Actual=0, same=True\n",
      "Name=backflip-5-rasmus, X=86, Predicted=0, Actual=0, same=True\n",
      "Name=flack-81-martin, X=87, Predicted=1, Actual=1, same=True\n",
      "Name=flack-27-julia, X=88, Predicted=1, Actual=1, same=True\n",
      "Name=flack-44-kristiin, X=89, Predicted=1, Actual=1, same=True\n",
      "Name=flack-45-kristiin, X=90, Predicted=1, Actual=1, same=True\n",
      "Name=backflip-59-margus, X=91, Predicted=1, Actual=0, same=False\n",
      "Name=flack-63-rasmus, X=92, Predicted=1, Actual=1, same=True\n",
      "Name=backflip-10-hendrik, X=93, Predicted=0, Actual=0, same=True\n",
      "Name=flack-71-rasmus, X=94, Predicted=1, Actual=1, same=True\n",
      "Name=flack-3-martin, X=95, Predicted=1, Actual=1, same=True\n",
      "Name=flack-24-belinda, X=96, Predicted=1, Actual=1, same=True\n",
      "Name=flack-12-rasmus, X=97, Predicted=1, Actual=1, same=True\n",
      "Name=backflip-51-rasmus, X=98, Predicted=0, Actual=0, same=True\n",
      "Name=backflip-1-allar, X=99, Predicted=1, Actual=0, same=False\n",
      "Name=backflip-53-rasmus, X=100, Predicted=0, Actual=0, same=True\n",
      "Name=backflip-34-mario, X=101, Predicted=0, Actual=0, same=True\n",
      "Name=flack-34-rasmus, X=102, Predicted=1, Actual=1, same=True\n",
      "Name=flack-21-allar, X=103, Predicted=1, Actual=1, same=True\n",
      "Name=backflip-36-mario, X=104, Predicted=0, Actual=0, same=True\n",
      "Name=backflip-57-margus, X=105, Predicted=1, Actual=0, same=False\n",
      "Name=flack-78-martin, X=106, Predicted=1, Actual=1, same=True\n",
      "Name=backflip-44-kristjan, X=107, Predicted=0, Actual=0, same=True\n",
      "Name=backflip-45-kristjan, X=108, Predicted=0, Actual=0, same=True\n",
      "Name=flack-1-martin, X=109, Predicted=1, Actual=1, same=True\n",
      "Name=flack-10-rasmus, X=110, Predicted=1, Actual=1, same=True\n",
      "Name=backflip-3-allar, X=111, Predicted=0, Actual=0, same=True\n",
      "Name=backflip-9-hendrik, X=112, Predicted=0, Actual=0, same=True\n"
     ]
    }
   ],
   "source": [
    "ynew = loaded_model.predict_classes(padded_samples_ndarray)\n",
    "# show the inputs and predicted outputs\n",
    "for i in range(len(padded_samples_ndarray)):\n",
    "    pred_y = ynew[i]\n",
    "    actual_y = y_labels[i]\n",
    "    \n",
    "    same = False\n",
    "    if pred_y == actual_y:\n",
    "        same = True\n",
    "    \n",
    "    print(\"Name=%s, X=%s, Predicted=%s, Actual=%s, same=%s\" % (sample_dir_names[i], i, pred_y, actual_y, same))"
   ]
  },
  {
   "cell_type": "markdown",
   "metadata": {},
   "source": [
    "## Confusion Matrix"
   ]
  },
  {
   "cell_type": "code",
   "execution_count": 6,
   "metadata": {},
   "outputs": [
    {
     "name": "stdout",
     "output_type": "stream",
     "text": [
      "    0   1\n",
      "0  41  10\n",
      "1   0  62\n"
     ]
    },
    {
     "data": {
      "text/plain": [
       "<matplotlib.axes._subplots.AxesSubplot at 0x140a683c8>"
      ]
     },
     "execution_count": 6,
     "metadata": {},
     "output_type": "execute_result"
    },
    {
     "data": {
      "image/png": "[encoded data removed]",
      "text/plain": [
       "<Figure size 432x288 with 2 Axes>"
      ]
     },
     "metadata": {
      "needs_background": "light"
     },
     "output_type": "display_data"
    }
   ],
   "source": [
    "from sklearn.metrics import confusion_matrix\n",
    "\n",
    "import seaborn as sn\n",
    "import pandas as pd\n",
    "import matplotlib.pyplot as plt\n",
    "\n",
    "\n",
    "matrix = confusion_matrix(y_labels, ynew)\n",
    "\n",
    "#df_cm = pd.pivot_table(data=sns.load_dataset(\"flights\"),\n",
    "#                       index='month',\n",
    "#                       values='passengers',\n",
    "#                       columns='year')\n",
    "\n",
    "df_cm = pd.DataFrame(matrix,\n",
    "                     index = [i for i in \"01\"],\n",
    "                     columns = [i for i in \"01\"])\n",
    "\n",
    "print(df_cm.head())\n",
    "\n",
    "plt.figure()\n",
    "plt.xlabel('Actual', fontsize = 15) # x-axis label with fontsize 15\n",
    "plt.ylabel('Predicted', fontsize = 15) # y-axis label with fontsize 15\n",
    "\n",
    "sn.set(font_scale=1.4) # for label size\n",
    "sn.heatmap(\n",
    "    df_cm, \n",
    "    annot=True,\n",
    "    annot_kws={\"size\": 16}\n",
    "    )"
   ]
  },
  {
   "cell_type": "code",
   "execution_count": null,
   "metadata": {},
   "outputs": [],
   "source": []
  }
 ],
 "metadata": {
  "kernelspec": {
   "display_name": "master-thesis-environment",
   "language": "python",
   "name": "master-thesis-environment"
  },
  "language_info": {
   "codemirror_mode": {
    "name": "ipython",
    "version": 3
   },
   "file_extension": ".py",
   "mimetype": "text/x-python",
   "name": "python",
   "nbconvert_exporter": "python",
   "pygments_lexer": "ipython3",
   "version": "3.7.2"
  }
 },
 "nbformat": 4,
 "nbformat_minor": 2
}
