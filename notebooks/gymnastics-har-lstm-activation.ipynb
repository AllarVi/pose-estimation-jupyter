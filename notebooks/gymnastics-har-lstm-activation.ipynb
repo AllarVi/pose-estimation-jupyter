{
 "cells": [
  {
   "cell_type": "code",
   "execution_count": 1,
   "metadata": {},
   "outputs": [
    {
     "name": "stderr",
     "output_type": "stream",
     "text": [
      "Using TensorFlow backend.\n"
     ]
    }
   ],
   "source": [
    "import pandas as pd\n",
    "import numpy as np\n",
    "import matplotlib.pyplot as plt\n",
    "from pandas import read_csv\n",
    "from pandas import DataFrame\n",
    "\n",
    "\n",
    "from numpy import dstack\n",
    "\n",
    "import copy\n",
    "\n",
    "import os\n",
    "from glob import glob\n",
    "\n",
    "from path import Path\n",
    "\n",
    "from numpy import mean\n",
    "from numpy import std\n",
    "\n",
    "from keras.models import Sequential\n",
    "from keras.layers import Dense\n",
    "from keras.layers import Flatten\n",
    "from keras.layers import Dropout\n",
    "from keras.layers import LSTM\n",
    "from keras.layers import Bidirectional\n",
    "\n",
    "from keras.models import model_from_json\n",
    "\n",
    "\n",
    "from keras.callbacks import EarlyStopping\n",
    "\n",
    "from keras.optimizers import Adam\n",
    "\n",
    "import random\n",
    "\n",
    "from keras.utils import to_categorical\n",
    "\n",
    "from sklearn.model_selection import train_test_split\n",
    "\n",
    "from matplotlib import pyplot\n"
   ]
  },
  {
   "cell_type": "markdown",
   "metadata": {},
   "source": [
    "## Load model"
   ]
  },
  {
   "cell_type": "code",
   "execution_count": 2,
   "metadata": {},
   "outputs": [
    {
     "name": "stdout",
     "output_type": "stream",
     "text": [
      "Loaded model from disk\n"
     ]
    }
   ],
   "source": [
    "# load json and create model\n",
    "json_file = open('model-0.json', 'r')\n",
    "loaded_model_json = json_file.read()\n",
    "json_file.close()\n",
    "loaded_model = model_from_json(loaded_model_json)\n",
    "# load weights into new model\n",
    "loaded_model.load_weights(\"model-0.h5\")\n",
    "print(\"Loaded model from disk\")"
   ]
  },
  {
   "cell_type": "markdown",
   "metadata": {},
   "source": [
    "## Load samples"
   ]
  },
  {
   "cell_type": "code",
   "execution_count": 3,
   "metadata": {},
   "outputs": [
    {
     "name": "stdout",
     "output_type": "stream",
     "text": [
      "padded samples len: 113\n"
     ]
    }
   ],
   "source": [
    "def pad_with_zeros(orig_ndarray, desired_rows_count):\n",
    "    (frames, features) = orig_ndarray.shape\n",
    "\n",
    "    sample_df = pd.DataFrame(data=orig_ndarray,\n",
    "                             index=np.arange(frames),\n",
    "                             columns=np.arange(features))\n",
    "\n",
    "    zeros_df = pd.DataFrame(0,\n",
    "                            index=np.arange(desired_rows_count),\n",
    "                            columns=np.arange(features),\n",
    "                            dtype='float')\n",
    "\n",
    "    for i in range(features):\n",
    "        zeros_df[i] = sample_df[i].astype(float)\n",
    "    \n",
    "    \n",
    "    padded_df = zeros_df.fillna(0)\n",
    "\n",
    "    return padded_df.to_numpy()\n",
    "\n",
    "def filter_active_keypoints(frame_df):\n",
    "    #active_keypoints = [0, 1, 8, 2, 3, 4, 5, 6, 7] # trunk\n",
    "    \n",
    "    active_keypoints = [0, 1, 8, 2, 3, 4, 5, 6, 7, 9, 10, 11, 12, 13, 14]\n",
    "    \n",
    "    filtered_df  = frame_df[frame_df.index.isin(active_keypoints)]\n",
    "    #filtered_df = frame_df\n",
    "\n",
    "    return filtered_df\n",
    "\n",
    "def get_frame_data(filepath):\n",
    "    frame_data = pd.read_csv(filepath)\n",
    "    \n",
    "    x_data = filter_active_keypoints(frame_data.iloc[:, 0])\n",
    "    y_data = filter_active_keypoints(frame_data.iloc[:, 1])\n",
    "    \n",
    "    #print(f\"x_data shape: {x_data.shape}\")\n",
    "    #print(f\"y_data shape: {y_data.shape}\")\n",
    "        \n",
    "    h_stacked = np.hstack((x_data, y_data))\n",
    "    #h_stacked = np.hstack((y_data))\n",
    "    \n",
    "    return h_stacked\n",
    "\n",
    "def get_frame_file_path(frame_file_path_template, frame_idx):\n",
    "    frame_file_path = frame_file_path_template.replace(\"[frame_idx]\", str(frame_idx))\n",
    "    return frame_file_path\n",
    "\n",
    "def get_frames_count(root_path, sample_dir_name):\n",
    "    return len([Path(f).abspath() for f in glob(f\"{root_path}/{sample_dir_name}\" + '/*')])\n",
    "\n",
    "def get_frames(root_path, sample_dir_name):\n",
    "    frames = []\n",
    "    for frame_idx in range(0, get_frames_count(root_path, sample_dir_name)):\n",
    "        frame_file_path_template = f\"{root_path}/{sample_dir_name}/{sample_dir_name}.mov-[frame_idx]-0.csv\"\n",
    "        frame_file_path = get_frame_file_path(frame_file_path_template, frame_idx)\n",
    "        frame_data = get_frame_data(frame_file_path)\n",
    "        \n",
    "        frames.append(frame_data)\n",
    "        \n",
    "    return np.dstack(frames)\n",
    "\n",
    "def get_samples_list(sample_dir_names, root_path):\n",
    "    samples = []\n",
    "    sample_names = []\n",
    "    for sample_dir_name in sample_dir_names:\n",
    "        frames = get_frames(root_path, sample_dir_name)\n",
    "        squeezed = np.squeeze(frames)\n",
    "        axes_swapped = np.swapaxes(squeezed, 0, 1)\n",
    "        samples.append(axes_swapped)\n",
    "        \n",
    "        sample_names.append(sample_dir_name)\n",
    "        \n",
    "    return samples, sample_names\n",
    "\n",
    "root_path = \"/Users/allarviinamae/EduWorkspace/openpose-jupyter-data-exploration/centered-keypoints\"\n",
    "\n",
    "sample_dir_names = [n for n in os.listdir(root_path) if os.path.isdir(f\"{root_path}/{n}\")]\n",
    "\n",
    "samples, sample_names = get_samples_list(sample_dir_names, root_path)\n",
    "\n",
    "def get_padded_samples(samples):\n",
    "    padded_samples_list = []\n",
    "\n",
    "    for idx, sample_ndarray in enumerate(samples):\n",
    "        desired_rows_count = 110\n",
    "\n",
    "        padded_ndarray = pad_with_zeros(sample_ndarray, desired_rows_count)\n",
    "\n",
    "        padded_samples_list = padded_samples_list + [padded_ndarray]\n",
    "        \n",
    "    return padded_samples_list\n",
    "\n",
    "padded_samples_list = get_padded_samples(samples)\n",
    "\n",
    "padded_samples_beefy_list = padded_samples_list\n",
    "\n",
    "print(f\"padded samples len: {len(padded_samples_beefy_list)}\")\n",
    "padded_samples_beefy_ndarray = np.asarray(padded_samples_beefy_list)"
   ]
  },
  {
   "cell_type": "markdown",
   "metadata": {},
   "source": [
    "## Load labels"
   ]
  },
  {
   "cell_type": "code",
   "execution_count": 4,
   "metadata": {},
   "outputs": [
    {
     "name": "stdout",
     "output_type": "stream",
     "text": [
      "y_labels_stacked shape: (1, 1, 113)\n",
      "y_labels_categorical shape: (1, 1, 113, 2)\n",
      "y_labels_squeezed shape (113, 2)\n"
     ]
    }
   ],
   "source": [
    "def get_label(sample_dir_name):\n",
    "    return 0 if sample_dir_name[0] == 'b' else 1\n",
    "\n",
    "def get_y_labels(sample_dir_names):\n",
    "    return [get_label(l) for l in sample_dir_names]\n",
    "\n",
    "y_labels = get_y_labels(sample_dir_names) # classifier labels, where 0 = backflip and 1 = flack\n",
    "\n",
    "y_labels_stacked = np.dstack(y_labels)\n",
    "print(f\"y_labels_stacked shape: {y_labels_stacked.shape}\")\n",
    "\n",
    "y_labels_categorical = to_categorical(y_labels_stacked) \n",
    "print(f\"y_labels_categorical shape: {y_labels_categorical.shape}\")\n",
    "\n",
    "y_labels_squeezed = np.squeeze(y_labels_categorical)\n",
    "print(f\"y_labels_squeezed shape {y_labels_squeezed.shape}\")\n",
    "\n",
    "(y_rows, y_cols) = y_labels_squeezed.shape\n",
    "y_labels_list = [[y_labels_squeezed[i, 0], y_labels_squeezed[i, 1]] for i in range(y_rows)]\n",
    "\n",
    "y_labels_beefy_ndarray = np.asarray(y_labels_list)"
   ]
  },
  {
   "cell_type": "code",
   "execution_count": 5,
   "metadata": {},
   "outputs": [
    {
     "data": {
      "text/plain": [
       "(113, 110, 30)"
      ]
     },
     "execution_count": 5,
     "metadata": {},
     "output_type": "execute_result"
    }
   ],
   "source": [
    "padded_samples_beefy_ndarray.shape"
   ]
  },
  {
   "cell_type": "markdown",
   "metadata": {},
   "source": [
    "## Predict"
   ]
  },
  {
   "cell_type": "code",
   "execution_count": 6,
   "metadata": {},
   "outputs": [
    {
     "name": "stdout",
     "output_type": "stream",
     "text": [
      "Name=backflip-40-margus, X=0, Predicted=1, Actual=0, same=False\n",
      "Name=flack-31-rasmus, X=1, Predicted=1, Actual=1, same=True\n",
      "Name=flack-19-rasmus, X=2, Predicted=1, Actual=1, same=True\n",
      "Name=flack-59-martin, X=3, Predicted=1, Actual=1, same=True\n",
      "Name=backflip-66-allar, X=4, Predicted=0, Actual=0, same=True\n",
      "Name=flack-55-martin, X=5, Predicted=1, Actual=1, same=True\n",
      "Name=flack-68-rasmus, X=6, Predicted=1, Actual=1, same=True\n",
      "Name=backflip-23-tiit, X=7, Predicted=0, Actual=0, same=True\n",
      "Name=flack-7-hendrik, X=8, Predicted=1, Actual=1, same=True\n",
      "Name=flack-4-martin, X=9, Predicted=1, Actual=1, same=True\n",
      "Name=flack-15-rasmus, X=10, Predicted=1, Actual=1, same=True\n",
      "Name=flack-36-hendrik, X=11, Predicted=1, Actual=1, same=True\n",
      "Name=backflip-64-allar, X=12, Predicted=0, Actual=0, same=True\n",
      "Name=backflip-6-rasmus, X=13, Predicted=0, Actual=0, same=True\n",
      "Name=flack-82-martin, X=14, Predicted=1, Actual=1, same=True\n",
      "Name=flack-35-margus, X=15, Predicted=1, Actual=1, same=True\n",
      "Name=backflip-38-mario, X=16, Predicted=0, Actual=0, same=True\n",
      "Name=flack-39-margus, X=17, Predicted=1, Actual=1, same=True\n",
      "Name=backflip-32-hendrik, X=18, Predicted=0, Actual=0, same=True\n",
      "Name=backflip-20-martin, X=19, Predicted=0, Actual=0, same=True\n",
      "Name=flack-25-margus, X=20, Predicted=1, Actual=1, same=True\n",
      "Name=flack-29-julia, X=21, Predicted=1, Actual=1, same=True\n",
      "Name=backflip-8-rasmus, X=22, Predicted=0, Actual=0, same=True\n",
      "Name=flack-80-martin, X=23, Predicted=1, Actual=1, same=True\n",
      "Name=backflip-4-rasmus, X=24, Predicted=0, Actual=0, same=True\n",
      "Name=backflip-54-rasmus, X=25, Predicted=0, Actual=0, same=True\n",
      "Name=backflip-48-joosep, X=26, Predicted=0, Actual=0, same=True\n",
      "Name=backflip-47-dagne, X=27, Predicted=0, Actual=0, same=True\n",
      "Name=flack-33-rasmus, X=28, Predicted=1, Actual=1, same=True\n",
      "Name=flack-61-martin, X=29, Predicted=1, Actual=1, same=True\n",
      "Name=flack-17-rasmus, X=30, Predicted=1, Actual=1, same=True\n",
      "Name=flack-57-martin, X=31, Predicted=1, Actual=1, same=True\n",
      "Name=flack-6-hendrik, X=32, Predicted=1, Actual=1, same=True\n",
      "Name=flack-37-hendrik, X=33, Predicted=1, Actual=1, same=True\n",
      "Name=flack-66-rasmus, X=34, Predicted=1, Actual=1, same=True\n",
      "Name=backflip-65-allar, X=35, Predicted=0, Actual=0, same=True\n",
      "Name=flack-84-martin, X=36, Predicted=1, Actual=1, same=True\n",
      "Name=backflip-31-hendrik, X=37, Predicted=0, Actual=0, same=True\n",
      "Name=flack-62-rasmus, X=38, Predicted=1, Actual=1, same=True\n",
      "Name=flack-50-kristiin, X=39, Predicted=1, Actual=1, same=True\n",
      "Name=flack-70-rasmus, X=40, Predicted=1, Actual=1, same=True\n",
      "Name=backflip-58-margus, X=41, Predicted=0, Actual=0, same=True\n",
      "Name=backflip-25-tiit, X=42, Predicted=0, Actual=0, same=True\n",
      "Name=backflip-24-tiit, X=43, Predicted=0, Actual=0, same=True\n",
      "Name=backflip-63-allar, X=44, Predicted=0, Actual=0, same=True\n",
      "Name=backflip-46-dagne, X=45, Predicted=0, Actual=0, same=True\n",
      "Name=backflip-56-margus, X=46, Predicted=0, Actual=0, same=True\n",
      "Name=backflip-39-margus, X=47, Predicted=1, Actual=0, same=False\n",
      "Name=flack-79-martin, X=48, Predicted=1, Actual=1, same=True\n",
      "Name=flack-47-kristiin, X=49, Predicted=1, Actual=1, same=True\n",
      "Name=flack-46-kristiin, X=50, Predicted=1, Actual=1, same=True\n",
      "Name=backflip-50-joosep, X=51, Predicted=0, Actual=0, same=True\n",
      "Name=flack-28-julia, X=52, Predicted=1, Actual=1, same=True\n",
      "Name=flack-40-margus, X=53, Predicted=1, Actual=1, same=True\n",
      "Name=backflip-30-hendrik, X=54, Predicted=0, Actual=0, same=True\n",
      "Name=backflip-52-rasmus, X=55, Predicted=0, Actual=0, same=True\n",
      "Name=flack-9-hendrik, X=56, Predicted=1, Actual=1, same=True\n",
      "Name=flack-38-hendrik, X=57, Predicted=1, Actual=1, same=True\n",
      "Name=flack-83-martin, X=58, Predicted=1, Actual=1, same=True\n",
      "Name=backflip-7-rasmus, X=59, Predicted=0, Actual=0, same=True\n",
      "Name=flack-26-margus, X=60, Predicted=1, Actual=1, same=True\n",
      "Name=flack-58-martin, X=61, Predicted=1, Actual=1, same=True\n",
      "Name=backflip-27-tiit, X=62, Predicted=0, Actual=0, same=True\n",
      "Name=flack-65-rasmus, X=63, Predicted=1, Actual=1, same=True\n",
      "Name=backflip-43-kristjan, X=64, Predicted=0, Actual=0, same=True\n",
      "Name=flack-5-martin, X=65, Predicted=1, Actual=1, same=True\n",
      "Name=flack-69-rasmus, X=66, Predicted=1, Actual=1, same=True\n",
      "Name=backflip-61-hendrik, X=67, Predicted=0, Actual=0, same=True\n",
      "Name=flack-30-rasmus, X=68, Predicted=1, Actual=1, same=True\n",
      "Name=backflip-33-mario, X=69, Predicted=0, Actual=0, same=True\n",
      "Name=flack-56-martin, X=70, Predicted=1, Actual=1, same=True\n",
      "Name=flack-16-rasmus, X=71, Predicted=1, Actual=1, same=True\n",
      "Name=backflip-37-mario, X=72, Predicted=0, Actual=0, same=True\n",
      "Name=flack-67-rasmus, X=73, Predicted=1, Actual=1, same=True\n",
      "Name=flack-20-allar, X=74, Predicted=1, Actual=1, same=True\n",
      "Name=flack-32-rasmus, X=75, Predicted=1, Actual=1, same=True\n",
      "Name=backflip-60-hendrik, X=76, Predicted=0, Actual=0, same=True\n",
      "Name=flack-60-martin, X=77, Predicted=1, Actual=1, same=True\n",
      "Name=backflip-2-allar, X=78, Predicted=0, Actual=0, same=True\n",
      "Name=backflip-26-tiit, X=79, Predicted=0, Actual=0, same=True\n",
      "Name=flack-49-kristiin, X=80, Predicted=1, Actual=1, same=True\n",
      "Name=flack-48-kristiin, X=81, Predicted=1, Actual=1, same=True\n",
      "Name=backflip-49-joosep, X=82, Predicted=0, Actual=0, same=True\n",
      "Name=backflip-19-martin, X=83, Predicted=0, Actual=0, same=True\n",
      "Name=backflip-35-mario, X=84, Predicted=0, Actual=0, same=True\n",
      "Name=backflip-55-rasmus, X=85, Predicted=0, Actual=0, same=True\n",
      "Name=backflip-5-rasmus, X=86, Predicted=0, Actual=0, same=True\n",
      "Name=flack-81-martin, X=87, Predicted=1, Actual=1, same=True\n",
      "Name=flack-27-julia, X=88, Predicted=1, Actual=1, same=True\n",
      "Name=flack-44-kristiin, X=89, Predicted=1, Actual=1, same=True\n",
      "Name=flack-45-kristiin, X=90, Predicted=1, Actual=1, same=True\n",
      "Name=backflip-59-margus, X=91, Predicted=0, Actual=0, same=True\n",
      "Name=flack-63-rasmus, X=92, Predicted=1, Actual=1, same=True\n",
      "Name=backflip-10-hendrik, X=93, Predicted=0, Actual=0, same=True\n",
      "Name=flack-71-rasmus, X=94, Predicted=1, Actual=1, same=True\n",
      "Name=flack-3-martin, X=95, Predicted=1, Actual=1, same=True\n",
      "Name=flack-24-belinda, X=96, Predicted=1, Actual=1, same=True\n",
      "Name=flack-12-rasmus, X=97, Predicted=1, Actual=1, same=True\n",
      "Name=backflip-51-rasmus, X=98, Predicted=0, Actual=0, same=True\n",
      "Name=backflip-1-allar, X=99, Predicted=1, Actual=0, same=False\n",
      "Name=backflip-53-rasmus, X=100, Predicted=0, Actual=0, same=True\n",
      "Name=backflip-34-mario, X=101, Predicted=0, Actual=0, same=True\n",
      "Name=flack-34-rasmus, X=102, Predicted=1, Actual=1, same=True\n",
      "Name=flack-21-allar, X=103, Predicted=1, Actual=1, same=True\n",
      "Name=backflip-36-mario, X=104, Predicted=0, Actual=0, same=True\n",
      "Name=backflip-57-margus, X=105, Predicted=0, Actual=0, same=True\n",
      "Name=flack-78-martin, X=106, Predicted=1, Actual=1, same=True\n",
      "Name=backflip-44-kristjan, X=107, Predicted=0, Actual=0, same=True\n",
      "Name=backflip-45-kristjan, X=108, Predicted=0, Actual=0, same=True\n",
      "Name=flack-1-martin, X=109, Predicted=1, Actual=1, same=True\n",
      "Name=flack-10-rasmus, X=110, Predicted=1, Actual=1, same=True\n",
      "Name=backflip-3-allar, X=111, Predicted=0, Actual=0, same=True\n",
      "Name=backflip-9-hendrik, X=112, Predicted=0, Actual=0, same=True\n"
     ]
    }
   ],
   "source": [
    "ynew = loaded_model.predict_classes(padded_samples_beefy_ndarray)\n",
    "# show the inputs and predicted outputs\n",
    "for i in range(len(padded_samples_beefy_ndarray)):\n",
    "    pred_y = ynew[i]\n",
    "    actual_y = y_labels[i]\n",
    "    \n",
    "    same = False\n",
    "    if pred_y == actual_y:\n",
    "        same = True\n",
    "    \n",
    "    print(\"Name=%s, X=%s, Predicted=%s, Actual=%s, same=%s\" % (sample_names[i], i, pred_y, actual_y, same))"
   ]
  },
  {
   "cell_type": "markdown",
   "metadata": {},
   "source": [
    "## Confusion Matrix"
   ]
  },
  {
   "cell_type": "code",
   "execution_count": 28,
   "metadata": {},
   "outputs": [
    {
     "name": "stdout",
     "output_type": "stream",
     "text": [
      "    0   1\n",
      "0  48   3\n",
      "1   0  62\n"
     ]
    },
    {
     "data": {
      "text/plain": [
       "<matplotlib.axes._subplots.AxesSubplot at 0x13e053438>"
      ]
     },
     "execution_count": 28,
     "metadata": {},
     "output_type": "execute_result"
    },
    {
     "data": {
      "image/png": "[encoded data removed]",
      "text/plain": [
       "<Figure size 432x288 with 2 Axes>"
      ]
     },
     "metadata": {},
     "output_type": "display_data"
    }
   ],
   "source": [
    "from sklearn.metrics import confusion_matrix\n",
    "\n",
    "import seaborn as sn\n",
    "import pandas as pd\n",
    "import matplotlib.pyplot as plt\n",
    "\n",
    "\n",
    "matrix = confusion_matrix(y_labels, ynew)\n",
    "\n",
    "#df_cm = pd.pivot_table(data=sns.load_dataset(\"flights\"),\n",
    "#                       index='month',\n",
    "#                       values='passengers',\n",
    "#                       columns='year')\n",
    "\n",
    "df_cm = pd.DataFrame(matrix,\n",
    "                     index = [i for i in \"01\"],\n",
    "                     columns = [i for i in \"01\"])\n",
    "\n",
    "print(df_cm.head())\n",
    "\n",
    "plt.figure()\n",
    "plt.xlabel('Actual', fontsize = 15) # x-axis label with fontsize 15\n",
    "plt.ylabel('Predicted', fontsize = 15) # y-axis label with fontsize 15\n",
    "\n",
    "sn.set(font_scale=1.4) # for label size\n",
    "sn.heatmap(\n",
    "    df_cm, \n",
    "    annot=True,\n",
    "    annot_kws={\"size\": 16}\n",
    "    )"
   ]
  },
  {
   "cell_type": "code",
   "execution_count": null,
   "metadata": {},
   "outputs": [],
   "source": []
  }
 ],
 "metadata": {
  "kernelspec": {
   "display_name": "openpose-jupyter-data-exploration",
   "language": "python",
   "name": "openpose-jupyter-data-exploration"
  },
  "language_info": {
   "codemirror_mode": {
    "name": "ipython",
    "version": 3
   },
   "file_extension": ".py",
   "mimetype": "text/x-python",
   "name": "python",
   "nbconvert_exporter": "python",
   "pygments_lexer": "ipython3",
   "version": "3.7.2"
  }
 },
 "nbformat": 4,
 "nbformat_minor": 2
}
