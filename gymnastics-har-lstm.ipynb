{
 "cells": [
  {
   "cell_type": "code",
   "execution_count": 1,
   "metadata": {},
   "outputs": [
    {
     "name": "stderr",
     "output_type": "stream",
     "text": [
      "Using TensorFlow backend.\n"
     ]
    }
   ],
   "source": [
    "import pandas as pd\n",
    "import numpy as np\n",
    "import matplotlib.pyplot as plt\n",
    "from pandas import read_csv\n",
    "from numpy import dstack\n",
    "\n",
    "import copy\n",
    "\n",
    "import os\n",
    "from glob import glob\n",
    "\n",
    "from path import Path\n",
    "\n",
    "from numpy import mean\n",
    "from numpy import std\n",
    "\n",
    "from keras.models import Sequential\n",
    "from keras.layers import Dense\n",
    "from keras.layers import Flatten\n",
    "from keras.layers import Dropout\n",
    "from keras.layers import LSTM\n",
    "from keras.layers import Bidirectional\n",
    "\n",
    "from keras.callbacks import EarlyStopping\n",
    "\n",
    "from keras.optimizers import Adam\n",
    "\n",
    "import random\n",
    "\n",
    "from keras.utils import to_categorical\n",
    "\n",
    "from sklearn.model_selection import train_test_split\n",
    "\n",
    "from matplotlib import pyplot\n"
   ]
  },
  {
   "cell_type": "markdown",
   "metadata": {},
   "source": [
    "## Load UCI data"
   ]
  },
  {
   "cell_type": "code",
   "execution_count": 2,
   "metadata": {},
   "outputs": [
    {
     "name": "stdout",
     "output_type": "stream",
     "text": [
      "(7352, 128, 9) (7352, 1)\n",
      "(2947, 128, 9) (2947, 1)\n",
      "(7352, 128, 9) (7352, 6) (2947, 128, 9) (2947, 6)\n"
     ]
    }
   ],
   "source": [
    "# load a single file as a numpy array\n",
    "def load_file(filepath):\n",
    "    dataframe = read_csv(filepath, header=None, delim_whitespace=True)\n",
    "    return dataframe.values\n",
    "\n",
    "# load a list of files and return as a 3d numpy array\n",
    "def load_group(filenames, prefix=''):\n",
    "    loaded = list()\n",
    "    for name in filenames:\n",
    "        data = load_file(prefix + name)\n",
    "        loaded.append(data)\n",
    "    # stack group so that features are the 3rd dimension\n",
    "    loaded = dstack(loaded)\n",
    "    return loaded\n",
    " \n",
    "# load a dataset group, such as train or test\n",
    "def load_dataset_group(group, prefix=''):\n",
    "    filepath = prefix + group + '/Inertial Signals/'\n",
    "    # load all 9 files as a single array\n",
    "    filenames = list()\n",
    "    # total acceleration\n",
    "    filenames += ['total_acc_x_'+group+'.txt', 'total_acc_y_'+group+'.txt', 'total_acc_z_'+group+'.txt']\n",
    "    # body acceleration\n",
    "    filenames += ['body_acc_x_'+group+'.txt', 'body_acc_y_'+group+'.txt', 'body_acc_z_'+group+'.txt']\n",
    "    # body gyroscope\n",
    "    filenames += ['body_gyro_x_'+group+'.txt', 'body_gyro_y_'+group+'.txt', 'body_gyro_z_'+group+'.txt']\n",
    "    # load input data\n",
    "    X = load_group(filenames, filepath)\n",
    "    # load class output\n",
    "    y = load_file(prefix + group + '/y_'+group+'.txt')\n",
    "    return X, y\n",
    " \n",
    "# load the dataset, returns train and test X and y elements\n",
    "def load_dataset(prefix=''):\n",
    "    # load all train\n",
    "    trainX, trainy = load_dataset_group('train', prefix + 'HARDataset/')\n",
    "    print(trainX.shape, trainy.shape)\n",
    "    # load all test\n",
    "    testX, testy = load_dataset_group('test', prefix + 'HARDataset/')\n",
    "    print(testX.shape, testy.shape)\n",
    "    # zero-offset class values\n",
    "    trainy = trainy - 1\n",
    "    testy = testy - 1\n",
    "    # one hot encode y\n",
    "    trainy = to_categorical(trainy)\n",
    "    testy = to_categorical(testy)\n",
    "    print(trainX.shape, trainy.shape, testX.shape, testy.shape)\n",
    "    return trainX, trainy, testX, testy\n",
    "\n",
    "UtrainX, Utrainy, UtestX, Utesty = load_dataset()"
   ]
  },
  {
   "cell_type": "markdown",
   "metadata": {},
   "source": [
    "## Load Data"
   ]
  },
  {
   "cell_type": "code",
   "execution_count": 3,
   "metadata": {},
   "outputs": [],
   "source": [
    "def filter_active_keypoints(frame_df):\n",
    "    #active_keypoints = [0, 1, 8, 2, 3, 4, 5, 6, 7] # trunk\n",
    "    \n",
    "    active_keypoints = [0, 1, 8, 2, 3, 4, 5, 6, 7, 9, 10, 11, 12, 13, 14]\n",
    "    \n",
    "    filtered_df  = frame_df[frame_df.index.isin(active_keypoints)]\n",
    "    #filtered_df = frame_df\n",
    "\n",
    "    return filtered_df\n",
    "\n",
    "def get_frame_data(filepath):\n",
    "    frame_data = pd.read_csv(filepath)\n",
    "    \n",
    "    x_data = filter_active_keypoints(frame_data.iloc[:, 0])\n",
    "    y_data = filter_active_keypoints(frame_data.iloc[:, 1])\n",
    "    \n",
    "    #print(f\"x_data shape: {x_data.shape}\")\n",
    "    #print(f\"y_data shape: {y_data.shape}\")\n",
    "        \n",
    "    h_stacked = np.hstack((x_data, y_data))\n",
    "    #h_stacked = np.hstack((y_data))\n",
    "    \n",
    "    return h_stacked\n",
    "\n",
    "def get_frame_file_path(frame_file_path_template, frame_idx):\n",
    "    frame_file_path = frame_file_path_template.replace(\"[frame_idx]\", str(frame_idx))\n",
    "    return frame_file_path\n",
    "\n",
    "def get_label(sample_dir_name):\n",
    "    return 0 if sample_dir_name[0] == 'b' else 1\n",
    "\n",
    "def get_y_labels(sample_dir_names):\n",
    "    return [get_label(l) for l in sample_dir_names]\n",
    "\n",
    "def get_frames_count(root_path, sample_dir_name):\n",
    "    return len([Path(f).abspath() for f in glob(f\"{root_path}/{sample_dir_name}\" + '/*')])\n",
    "\n",
    "def get_frames(root_path, sample_dir_name):\n",
    "    frames = []\n",
    "    for frame_idx in range(0, get_frames_count(root_path, sample_dir_name)):\n",
    "        frame_file_path_template = f\"{root_path}/{sample_dir_name}/{sample_dir_name}.mov-[frame_idx]-0.csv\"\n",
    "        frame_file_path = get_frame_file_path(frame_file_path_template, frame_idx)\n",
    "        frame_data = get_frame_data(frame_file_path)\n",
    "        \n",
    "        frames.append(frame_data)\n",
    "        \n",
    "    return np.dstack(frames)\n",
    "\n",
    "def get_sample_idx_by_frames_count(frames_count, samples):\n",
    "    sample_idx = 0\n",
    "    \n",
    "    for sample in samples:\n",
    "        if len(sample) == frames_count:\n",
    "            return sample_idx\n",
    "        sample_idx = sample_idx + 1\n",
    "\n",
    "def get_sample_name_by_frames_count(frames_count, samples, sample_dir_names):\n",
    "    sample_idx = get_sample_idx_by_frames_count(frames_count, samples)\n",
    "    return sample_dir_names[sample_idx]\n",
    "\n",
    "def get_samples_list(sample_dir_names, root_path):\n",
    "    samples = []\n",
    "    for sample_dir_name in sample_dir_names:\n",
    "        frames = get_frames(root_path, sample_dir_name)\n",
    "        squeezed = np.squeeze(frames)\n",
    "        axes_swapped = np.swapaxes(squeezed, 0, 1)\n",
    "        samples.append(axes_swapped)\n",
    "        \n",
    "    return samples"
   ]
  },
  {
   "cell_type": "code",
   "execution_count": 4,
   "metadata": {},
   "outputs": [],
   "source": [
    "root_path = \"/Users/allarviinamae/EduWorkspace/openpose-jupyter-data-exploration/centered-keypoints\"\n",
    "\n",
    "sample_dir_names = [n for n in os.listdir(root_path) if os.path.isdir(f\"{root_path}/{n}\")]\n",
    "\n",
    "samples = get_samples_list(sample_dir_names, root_path)\n",
    "\n",
    "# ['backflip-40-margus',\n",
    "# 'flack-31-rasmus',\n",
    "# 'flack-19-rasmus',"
   ]
  },
  {
   "cell_type": "code",
   "execution_count": 5,
   "metadata": {},
   "outputs": [],
   "source": [
    "y_labels = get_y_labels(sample_dir_names) # classifier labels, where 0 = backflip and 1 = flack\n",
    "\n",
    "# [0,\n",
    "# 1,\n",
    "# 1,"
   ]
  },
  {
   "cell_type": "code",
   "execution_count": 6,
   "metadata": {},
   "outputs": [
    {
     "name": "stdout",
     "output_type": "stream",
     "text": [
      "Shortest samples 77, longest sample 110\n",
      "113 (96, 30) 113\n"
     ]
    }
   ],
   "source": [
    "shortest_sample = min([len(sample) for sample in samples])\n",
    "longest_sample = max([len(sample) for sample in samples])\n",
    "\n",
    "print(f\"Shortest samples {shortest_sample}, longest sample {longest_sample}\")\n",
    "\n",
    "print(len(samples), samples[1].shape, len(y_labels))"
   ]
  },
  {
   "cell_type": "code",
   "execution_count": 7,
   "metadata": {},
   "outputs": [
    {
     "data": {
      "text/plain": [
       "Text(0, 0.5, 'Samples')"
      ]
     },
     "execution_count": 7,
     "metadata": {},
     "output_type": "execute_result"
    },
    {
     "data": {
      "image/png": "[encoded data removed]",
      "text/plain": [
       "<Figure size 432x288 with 1 Axes>"
      ]
     },
     "metadata": {
      "needs_background": "light"
     },
     "output_type": "display_data"
    }
   ],
   "source": [
    "plt.hist([len(sample) for sample in samples], color = 'blue', edgecolor = 'black', bins = int(180/5))\n",
    "\n",
    "# Add labels\n",
    "plt.title('Histogram of Frames per Sample')\n",
    "plt.xlabel('Frames')\n",
    "plt.ylabel('Samples')"
   ]
  },
  {
   "cell_type": "code",
   "execution_count": 8,
   "metadata": {},
   "outputs": [
    {
     "data": {
      "text/plain": [
       "'backflip-50-joosep'"
      ]
     },
     "execution_count": 8,
     "metadata": {},
     "output_type": "execute_result"
    }
   ],
   "source": [
    "get_sample_name_by_frames_count(110, samples, sample_dir_names)"
   ]
  },
  {
   "cell_type": "markdown",
   "metadata": {},
   "source": [
    "## Fit and Evaluate Model"
   ]
  },
  {
   "cell_type": "code",
   "execution_count": 9,
   "metadata": {},
   "outputs": [
    {
     "name": "stdout",
     "output_type": "stream",
     "text": [
      "y_labels_stacked shape: (1, 1, 113)\n",
      "y_labels_categorical shape: (1, 1, 113, 2)\n",
      "y_labels_squeezed shape (113, 2)\n",
      "y_label categorical: [1.0, 0.0]\n",
      "y_label categorical: [0.0, 1.0]\n",
      "y_label categorical: [0.0, 1.0]\n",
      "y_label categorical: [0.0, 1.0]\n",
      "y_label categorical: [1.0, 0.0]\n"
     ]
    }
   ],
   "source": [
    "y_labels_stacked = np.dstack(y_labels)\n",
    "print(f\"y_labels_stacked shape: {y_labels_stacked.shape}\")\n",
    "\n",
    "y_labels_categorical = to_categorical(y_labels_stacked) \n",
    "print(f\"y_labels_categorical shape: {y_labels_categorical.shape}\")\n",
    "\n",
    "y_labels_squeezed = np.squeeze(y_labels_categorical)\n",
    "print(f\"y_labels_squeezed shape {y_labels_squeezed.shape}\")\n",
    "\n",
    "(y_rows, y_cols) = y_labels_squeezed.shape\n",
    "y_labels_list = [[y_labels_squeezed[i, 0], y_labels_squeezed[i, 1]] for i in range(y_rows)]\n",
    "\n",
    "for idx, y_label in enumerate(y_labels_list):\n",
    "    if idx == 5:\n",
    "        break\n",
    "    print(f\"y_label categorical: {y_label}\")"
   ]
  },
  {
   "cell_type": "code",
   "execution_count": 10,
   "metadata": {},
   "outputs": [
    {
     "name": "stdout",
     "output_type": "stream",
     "text": [
      "padded samples len: 113, y labels len: 113\n"
     ]
    }
   ],
   "source": [
    "def pad_with_zeros(orig_ndarray, desired_rows_count):\n",
    "    (frames, features) = orig_ndarray.shape\n",
    "\n",
    "    sample_df = pd.DataFrame(data=orig_ndarray,\n",
    "                             index=np.arange(frames),\n",
    "                             columns=np.arange(features))\n",
    "\n",
    "    zeros_df = pd.DataFrame(0,\n",
    "                            index=np.arange(desired_rows_count),\n",
    "                            columns=np.arange(features),\n",
    "                            dtype='float')\n",
    "\n",
    "    for i in range(features):\n",
    "        zeros_df[i] = sample_df[i].astype(float)\n",
    "    \n",
    "    \n",
    "    padded_df = zeros_df.fillna(0)\n",
    "\n",
    "    return padded_df.to_numpy()\n",
    "\n",
    "def get_padded_samples(samples):\n",
    "    padded_samples_list = []\n",
    "\n",
    "    for idx, sample_ndarray in enumerate(samples):\n",
    "        desired_rows_count = 110\n",
    "\n",
    "        padded_ndarray = pad_with_zeros(sample_ndarray, desired_rows_count)\n",
    "\n",
    "        padded_samples_list = padded_samples_list + [padded_ndarray]\n",
    "        \n",
    "    return padded_samples_list\n",
    "\n",
    "padded_samples_list = get_padded_samples(samples)\n",
    "\n",
    "def multiply_list(orig_list, times=91):\n",
    "    result = []\n",
    "    \n",
    "    for i in range(1):\n",
    "        result = result + orig_list\n",
    "        \n",
    "    return result\n",
    "        \n",
    "padded_samples_beefy_list = multiply_list(padded_samples_list)\n",
    "y_labels_beefy_list = multiply_list(y_labels_list)\n",
    "\n",
    "print(f\"padded samples len: {len(padded_samples_beefy_list)}, y labels len: {len(y_labels_beefy_list)}\")\n",
    "\n",
    "padded_samples_beefy_ndarray = np.asarray(padded_samples_beefy_list)\n",
    "y_labels_beefy_ndarray = np.asarray(y_labels_beefy_list)"
   ]
  },
  {
   "cell_type": "code",
   "execution_count": 11,
   "metadata": {},
   "outputs": [],
   "source": [
    "def train_generator(samples, y_labels):\n",
    "    while True:\n",
    "        random.shuffle(samples)\n",
    "\n",
    "        for idx, sample_ndarray in enumerate(samples):\n",
    "            #desired_rows_count = 110\n",
    "            \n",
    "            #padded_ndarray = pad_with_zeros(sample_ndarray, desired_rows_count)\n",
    "            \n",
    "            x_train = sample_ndarray\n",
    "            y_train = y_labels[idx]\n",
    "        \n",
    "            (rows_count, features_count) = sample_ndarray.shape\n",
    "            x_train = x_train.reshape(1, rows_count, features_count)\n",
    "            y_train = y_train.reshape(1, 6) \n",
    "                    \n",
    "            yield x_train, y_train"
   ]
  },
  {
   "cell_type": "code",
   "execution_count": 12,
   "metadata": {},
   "outputs": [],
   "source": [
    "def get_blstm_model(lstm_units, n_outputs, n_features, n_timesteps):\n",
    "    optimizer = Adam(lr=0.0015)\n",
    "        \n",
    "    model = Sequential()\n",
    "    model.add(Bidirectional(LSTM(lstm_units), input_shape=(n_timesteps, n_features)))\n",
    "    model.add(Dropout(0.5))\n",
    "    model.add(Dense(lstm_units, activation='relu'))\n",
    "    model.add(Dense(n_outputs, activation='softmax'))\n",
    "    model.compile(loss='categorical_crossentropy',\n",
    "                  optimizer=optimizer,\n",
    "                  metrics=['accuracy'])\n",
    "    \n",
    "    return model\n",
    "\n",
    "def get_u_blstm_model(lstm_units, n_outputs, n_features, n_timesteps):\n",
    "    optimizer = Adam(lr=0.001)\n",
    "        \n",
    "    model = Sequential()\n",
    "    model.add(LSTM(lstm_units, input_shape=(n_timesteps, n_features)))\n",
    "    model.add(Dropout(0.5))\n",
    "    model.add(Dense(lstm_units, activation='relu'))\n",
    "    model.add(Dense(n_outputs, activation='softmax'))\n",
    "    model.compile(loss='categorical_crossentropy',\n",
    "                  optimizer=optimizer,\n",
    "                  metrics=['accuracy'])\n",
    "    \n",
    "    return model\n",
    "\n",
    "def evaluate_model(trainX, trainy, testX, testy):\n",
    "    verbose, epochs = 1, 15\n",
    "    \n",
    "    #n_steps_per_epoch = 360\n",
    "    \n",
    "    lstm_units = 2\n",
    "\n",
    "    n_timesteps, n_features, n_outputs = trainX.shape[1], trainX.shape[2], trainy.shape[1]\n",
    "    model = get_u_blstm_model(lstm_units, n_outputs, n_features, n_timesteps)\n",
    "    \n",
    "    \n",
    "    print(model.summary())\n",
    "    \n",
    "    batch_size = 1\n",
    "    \n",
    "    es_callback = EarlyStopping(monitor='val_loss', patience=3)\n",
    "    \n",
    "    history = model.fit(trainX,\n",
    "                        trainy,\n",
    "                        epochs=epochs,\n",
    "                        batch_size=batch_size,\n",
    "                        verbose=verbose,\n",
    "                        validation_split=0.33,\n",
    "                        callbacks=[es_callback])\n",
    "    # evaluate model\n",
    "    _, accuracy = model.evaluate(testX, testy, batch_size=batch_size, verbose=0)\n",
    "    \n",
    "    # fit network\n",
    "    #model.fit_generator(train_generator(trainX, trainy), steps_per_epoch=n_steps_per_epoch, epochs=epochs, verbose=verbose)\n",
    "    # evaluate model\n",
    "    #_, accuracy = model.evaluate_generator(train_generator(testX, testy), steps=len(testX), verbose=0)\n",
    "    \n",
    "    return history, accuracy"
   ]
  },
  {
   "cell_type": "code",
   "execution_count": 13,
   "metadata": {},
   "outputs": [],
   "source": [
    "def summarize_results(scores):\n",
    "    print(scores)\n",
    "    m, s = mean(scores), std(scores)\n",
    "    print('Accuracy: %.3f%% (+/-%.3f)' % (m, s))"
   ]
  },
  {
   "cell_type": "code",
   "execution_count": 14,
   "metadata": {},
   "outputs": [
    {
     "name": "stdout",
     "output_type": "stream",
     "text": [
      "X train len: 90, y train len:90 --- X test len:23, y test len:23\n"
     ]
    }
   ],
   "source": [
    "X_train, X_test, y_train, y_test = train_test_split(padded_samples_beefy_ndarray,\n",
    "                                                    y_labels_beefy_ndarray,\n",
    "                                                    test_size=0.2,\n",
    "                                                    random_state=42)\n",
    "\n",
    "print(f\"X train len: {len(X_train)}, y train len:{len(y_train)} --- X test len:{len(X_test)}, y test len:{len(y_test)}\")\n",
    "\n",
    "# run an experiment\n",
    "def run_experiment(repeats=3):\n",
    "    # repeat experiment\n",
    "    scores = list()\n",
    "    last_history = None\n",
    "    \n",
    "    for r in range(repeats):\n",
    "        history, score = evaluate_model(X_train, y_train, X_test, y_test)\n",
    "        #model, score = evaluate_model(UtrainX, Utrainy, UtestX, Utesty)\n",
    "        \n",
    "        score = score * 100.0\n",
    "        print('>#%d validation accuracy: %.3f' % (r+1, score))\n",
    "        scores.append(score)\n",
    "        \n",
    "        last_history = history\n",
    "    # summarize results\n",
    "    summarize_results(scores)\n",
    "\n",
    "    return last_history"
   ]
  },
  {
   "cell_type": "code",
   "execution_count": 15,
   "metadata": {},
   "outputs": [
    {
     "name": "stdout",
     "output_type": "stream",
     "text": [
      "Model: \"sequential_1\"\n",
      "_________________________________________________________________\n",
      "Layer (type)                 Output Shape              Param #   \n",
      "=================================================================\n",
      "lstm_1 (LSTM)                (None, 2)                 264       \n",
      "_________________________________________________________________\n",
      "dropout_1 (Dropout)          (None, 2)                 0         \n",
      "_________________________________________________________________\n",
      "dense_1 (Dense)              (None, 2)                 6         \n",
      "_________________________________________________________________\n",
      "dense_2 (Dense)              (None, 2)                 6         \n",
      "=================================================================\n",
      "Total params: 276\n",
      "Trainable params: 276\n",
      "Non-trainable params: 0\n",
      "_________________________________________________________________\n",
      "None\n",
      "Train on 60 samples, validate on 30 samples\n",
      "Epoch 1/15\n",
      "60/60 [==============================] - 4s 64ms/step - loss: 0.7228 - accuracy: 0.3667 - val_loss: 0.7080 - val_accuracy: 0.7000\n",
      "Epoch 2/15\n",
      "60/60 [==============================] - 3s 45ms/step - loss: 0.6965 - accuracy: 0.6167 - val_loss: 0.6824 - val_accuracy: 0.9000\n",
      "Epoch 3/15\n",
      "60/60 [==============================] - 2s 36ms/step - loss: 0.6663 - accuracy: 0.6667 - val_loss: 0.6620 - val_accuracy: 0.9333\n",
      "Epoch 4/15\n",
      "60/60 [==============================] - 2s 35ms/step - loss: 0.6382 - accuracy: 0.7667 - val_loss: 0.6289 - val_accuracy: 0.9333\n",
      "Epoch 5/15\n",
      "60/60 [==============================] - 2s 36ms/step - loss: 0.6374 - accuracy: 0.7000 - val_loss: 0.5942 - val_accuracy: 0.9333\n",
      "Epoch 6/15\n",
      "60/60 [==============================] - 2s 36ms/step - loss: 0.5946 - accuracy: 0.7833 - val_loss: 0.5446 - val_accuracy: 0.9667\n",
      "Epoch 7/15\n",
      "60/60 [==============================] - 2s 36ms/step - loss: 0.5108 - accuracy: 0.8833 - val_loss: 0.4985 - val_accuracy: 0.9667\n",
      "Epoch 8/15\n",
      "60/60 [==============================] - 2s 40ms/step - loss: 0.5283 - accuracy: 0.8167 - val_loss: 0.4275 - val_accuracy: 1.0000\n",
      "Epoch 9/15\n",
      "60/60 [==============================] - 2s 36ms/step - loss: 0.4443 - accuracy: 0.8000 - val_loss: 0.4000 - val_accuracy: 0.9667\n",
      "Epoch 10/15\n",
      "60/60 [==============================] - 2s 36ms/step - loss: 0.4283 - accuracy: 0.8167 - val_loss: 0.3249 - val_accuracy: 1.0000\n",
      "Epoch 11/15\n",
      "60/60 [==============================] - 2s 37ms/step - loss: 0.4118 - accuracy: 0.7667 - val_loss: 0.2930 - val_accuracy: 1.0000\n",
      "Epoch 12/15\n",
      "60/60 [==============================] - 2s 37ms/step - loss: 0.3789 - accuracy: 0.8167 - val_loss: 0.2564 - val_accuracy: 1.0000\n",
      "Epoch 13/15\n",
      "60/60 [==============================] - 2s 36ms/step - loss: 0.3147 - accuracy: 0.9167 - val_loss: 0.2341 - val_accuracy: 0.9667\n",
      "Epoch 14/15\n",
      "60/60 [==============================] - 2s 36ms/step - loss: 0.2973 - accuracy: 0.8000 - val_loss: 0.1802 - val_accuracy: 1.0000\n",
      "Epoch 15/15\n",
      "60/60 [==============================] - 2s 37ms/step - loss: 0.3177 - accuracy: 0.8500 - val_loss: 0.1568 - val_accuracy: 1.0000\n",
      ">#1 validation accuracy: 95.652\n",
      "Model: \"sequential_2\"\n",
      "_________________________________________________________________\n",
      "Layer (type)                 Output Shape              Param #   \n",
      "=================================================================\n",
      "lstm_2 (LSTM)                (None, 2)                 264       \n",
      "_________________________________________________________________\n",
      "dropout_2 (Dropout)          (None, 2)                 0         \n",
      "_________________________________________________________________\n",
      "dense_3 (Dense)              (None, 2)                 6         \n",
      "_________________________________________________________________\n",
      "dense_4 (Dense)              (None, 2)                 6         \n",
      "=================================================================\n",
      "Total params: 276\n",
      "Trainable params: 276\n",
      "Non-trainable params: 0\n",
      "_________________________________________________________________\n",
      "None\n",
      "Train on 60 samples, validate on 30 samples\n",
      "Epoch 1/15\n",
      "60/60 [==============================] - 3s 56ms/step - loss: 0.6640 - accuracy: 0.6000 - val_loss: 0.6607 - val_accuracy: 0.7000\n",
      "Epoch 2/15\n",
      "60/60 [==============================] - 3s 43ms/step - loss: 0.6617 - accuracy: 0.5833 - val_loss: 0.6485 - val_accuracy: 0.7000\n",
      "Epoch 3/15\n",
      "60/60 [==============================] - 3s 46ms/step - loss: 0.6491 - accuracy: 0.5667 - val_loss: 0.6248 - val_accuracy: 0.7667\n",
      "Epoch 4/15\n",
      "60/60 [==============================] - 3s 42ms/step - loss: 0.6125 - accuracy: 0.6333 - val_loss: 0.6047 - val_accuracy: 0.8000\n",
      "Epoch 5/15\n",
      "60/60 [==============================] - 3s 51ms/step - loss: 0.5576 - accuracy: 0.6833 - val_loss: 0.5435 - val_accuracy: 0.8667\n",
      "Epoch 6/15\n",
      "60/60 [==============================] - 2s 41ms/step - loss: 0.5283 - accuracy: 0.7833 - val_loss: 0.4887 - val_accuracy: 0.8667\n",
      "Epoch 7/15\n",
      "60/60 [==============================] - 3s 42ms/step - loss: 0.5596 - accuracy: 0.7500 - val_loss: 0.4685 - val_accuracy: 0.9333\n",
      "Epoch 8/15\n",
      "60/60 [==============================] - 3s 47ms/step - loss: 0.4780 - accuracy: 0.8500 - val_loss: 0.4264 - val_accuracy: 0.9333\n",
      "Epoch 9/15\n",
      "60/60 [==============================] - 3s 44ms/step - loss: 0.4859 - accuracy: 0.8000 - val_loss: 0.4012 - val_accuracy: 0.9333\n",
      "Epoch 10/15\n",
      "60/60 [==============================] - 2s 39ms/step - loss: 0.4103 - accuracy: 0.9333 - val_loss: 0.3682 - val_accuracy: 0.9333\n",
      "Epoch 11/15\n",
      "60/60 [==============================] - 2s 36ms/step - loss: 0.4245 - accuracy: 0.8500 - val_loss: 0.3498 - val_accuracy: 0.9333\n",
      "Epoch 12/15\n",
      "60/60 [==============================] - 2s 36ms/step - loss: 0.4383 - accuracy: 0.8333 - val_loss: 0.3373 - val_accuracy: 0.9333\n",
      "Epoch 13/15\n",
      "60/60 [==============================] - 3s 47ms/step - loss: 0.4190 - accuracy: 0.8667 - val_loss: 0.3176 - val_accuracy: 0.9333\n",
      "Epoch 14/15\n",
      "60/60 [==============================] - 2s 33ms/step - loss: 0.3837 - accuracy: 0.8833 - val_loss: 0.3018 - val_accuracy: 0.9333\n",
      "Epoch 15/15\n",
      "60/60 [==============================] - 3s 46ms/step - loss: 0.4158 - accuracy: 0.8500 - val_loss: 0.2920 - val_accuracy: 0.9333\n",
      ">#2 validation accuracy: 100.000\n",
      "Model: \"sequential_3\"\n",
      "_________________________________________________________________\n",
      "Layer (type)                 Output Shape              Param #   \n",
      "=================================================================\n",
      "lstm_3 (LSTM)                (None, 2)                 264       \n",
      "_________________________________________________________________\n",
      "dropout_3 (Dropout)          (None, 2)                 0         \n",
      "_________________________________________________________________\n",
      "dense_5 (Dense)              (None, 2)                 6         \n",
      "_________________________________________________________________\n",
      "dense_6 (Dense)              (None, 2)                 6         \n",
      "=================================================================\n",
      "Total params: 276\n",
      "Trainable params: 276\n",
      "Non-trainable params: 0\n",
      "_________________________________________________________________\n",
      "None\n",
      "Train on 60 samples, validate on 30 samples\n",
      "Epoch 1/15\n",
      "60/60 [==============================] - 3s 56ms/step - loss: 0.6804 - accuracy: 0.6667 - val_loss: 0.6775 - val_accuracy: 0.7667\n",
      "Epoch 2/15\n",
      "60/60 [==============================] - 3s 45ms/step - loss: 0.6634 - accuracy: 0.7667 - val_loss: 0.6541 - val_accuracy: 0.8333\n",
      "Epoch 3/15\n",
      "60/60 [==============================] - 2s 34ms/step - loss: 0.6304 - accuracy: 0.8000 - val_loss: 0.6372 - val_accuracy: 0.8667\n",
      "Epoch 4/15\n",
      "60/60 [==============================] - 2s 33ms/step - loss: 0.6051 - accuracy: 0.7667 - val_loss: 0.6164 - val_accuracy: 0.8333\n",
      "Epoch 5/15\n",
      "60/60 [==============================] - 2s 36ms/step - loss: 0.5393 - accuracy: 0.7833 - val_loss: 0.5767 - val_accuracy: 0.8667\n",
      "Epoch 6/15\n",
      "60/60 [==============================] - 2s 34ms/step - loss: 0.5273 - accuracy: 0.8333 - val_loss: 0.5378 - val_accuracy: 0.9333\n",
      "Epoch 7/15\n",
      "60/60 [==============================] - 2s 35ms/step - loss: 0.4894 - accuracy: 0.8333 - val_loss: 0.5014 - val_accuracy: 0.9667\n",
      "Epoch 8/15\n",
      "60/60 [==============================] - 2s 34ms/step - loss: 0.4879 - accuracy: 0.8167 - val_loss: 0.4681 - val_accuracy: 0.9667\n"
     ]
    },
    {
     "name": "stdout",
     "output_type": "stream",
     "text": [
      "Epoch 9/15\n",
      "60/60 [==============================] - 2s 37ms/step - loss: 0.4172 - accuracy: 0.8833 - val_loss: 0.4275 - val_accuracy: 0.9667\n",
      "Epoch 10/15\n",
      "60/60 [==============================] - 2s 35ms/step - loss: 0.3715 - accuracy: 0.9000 - val_loss: 0.3809 - val_accuracy: 0.9667\n",
      "Epoch 11/15\n",
      "60/60 [==============================] - 2s 35ms/step - loss: 0.3676 - accuracy: 0.8833 - val_loss: 0.3386 - val_accuracy: 0.9667\n",
      "Epoch 12/15\n",
      "60/60 [==============================] - 2s 41ms/step - loss: 0.3001 - accuracy: 0.9333 - val_loss: 0.2895 - val_accuracy: 0.9667\n",
      "Epoch 13/15\n",
      "60/60 [==============================] - 3s 42ms/step - loss: 0.3439 - accuracy: 0.8833 - val_loss: 0.2550 - val_accuracy: 0.9667\n",
      "Epoch 14/15\n",
      "60/60 [==============================] - 2s 38ms/step - loss: 0.2558 - accuracy: 0.9333 - val_loss: 0.2262 - val_accuracy: 0.9667\n",
      "Epoch 15/15\n",
      "60/60 [==============================] - 2s 35ms/step - loss: 0.2275 - accuracy: 0.9333 - val_loss: 0.1963 - val_accuracy: 0.9667\n",
      ">#3 validation accuracy: 100.000\n",
      "[95.652174949646, 100.0, 100.0]\n",
      "Accuracy: 98.551% (+/-2.050)\n"
     ]
    }
   ],
   "source": [
    "last_history = run_experiment()"
   ]
  },
  {
   "cell_type": "code",
   "execution_count": 16,
   "metadata": {},
   "outputs": [
    {
     "name": "stdout",
     "output_type": "stream",
     "text": [
      "15\n",
      "15\n"
     ]
    }
   ],
   "source": [
    "print(len(last_history.history['loss']))\n",
    "print(len(last_history.history['accuracy']))"
   ]
  },
  {
   "cell_type": "code",
   "execution_count": 17,
   "metadata": {},
   "outputs": [
    {
     "data": {
      "image/png": "[encoded data removed]",
      "text/plain": [
       "<Figure size 432x288 with 1 Axes>"
      ]
     },
     "metadata": {
      "needs_background": "light"
     },
     "output_type": "display_data"
    }
   ],
   "source": [
    "pyplot.plot(last_history.history['loss'])\n",
    "pyplot.plot(last_history.history['val_loss'])\n",
    "pyplot.title('model train vs validation loss')\n",
    "pyplot.ylabel('loss')\n",
    "pyplot.xlabel('epoch')\n",
    "pyplot.legend(['train', 'validation'], loc='upper right')\n",
    "pyplot.show()"
   ]
  },
  {
   "cell_type": "code",
   "execution_count": 18,
   "metadata": {},
   "outputs": [
    {
     "data": {
      "image/png": "[encoded data removed]",
      "text/plain": [
       "<Figure size 432x288 with 1 Axes>"
      ]
     },
     "metadata": {
      "needs_background": "light"
     },
     "output_type": "display_data"
    }
   ],
   "source": [
    "pyplot.plot(last_history.history['accuracy'])\n",
    "pyplot.plot(last_history.history['val_accuracy'])\n",
    "pyplot.title('model train vs validation accuracy')\n",
    "pyplot.ylabel('accuracy')\n",
    "pyplot.xlabel('epoch')\n",
    "pyplot.legend(['train', 'validation'], loc='upper right')\n",
    "pyplot.show()"
   ]
  },
  {
   "cell_type": "code",
   "execution_count": null,
   "metadata": {},
   "outputs": [],
   "source": []
  }
 ],
 "metadata": {
  "kernelspec": {
   "display_name": "openpose-jupyter-data-exploration",
   "language": "python",
   "name": "openpose-jupyter-data-exploration"
  },
  "language_info": {
   "codemirror_mode": {
    "name": "ipython",
    "version": 3
   },
   "file_extension": ".py",
   "mimetype": "text/x-python",
   "name": "python",
   "nbconvert_exporter": "python",
   "pygments_lexer": "ipython3",
   "version": "3.7.2"
  }
 },
 "nbformat": 4,
 "nbformat_minor": 2
}
